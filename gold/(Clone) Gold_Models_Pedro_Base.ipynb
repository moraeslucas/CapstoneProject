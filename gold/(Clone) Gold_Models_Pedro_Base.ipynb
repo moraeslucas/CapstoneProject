{
 "cells": [
  {
   "cell_type": "code",
   "execution_count": 0,
   "metadata": {
    "application/vnd.databricks.v1+cell": {
     "cellMetadata": {
      "byteLimit": 2048000,
      "implicitDf": true,
      "rowLimit": 10000
     },
     "inputWidgets": {},
     "nuid": "df86d39f-a797-42c0-8263-4c3e5454cdb8",
     "showTitle": false,
     "tableResultSettingsMap": {},
     "title": ""
    }
   },
   "outputs": [],
   "source": [
    "%sql\n",
    "--To check if there are duplicates in table contactos before the join , just for security\n",
    "\n",
    "SELECT\n",
    "  id,\n",
    "  data_criacao_da_lead,\n",
    "  COUNT(*) AS cnt\n",
    "FROM sc_gold.contactos_pbs\n",
    "GROUP BY id, data_criacao_da_lead\n",
    "HAVING COUNT(*) > 1\n",
    "ORDER BY cnt DESC, id, data_criacao_da_lead;\n"
   ]
  },
  {
   "cell_type": "code",
   "execution_count": 0,
   "metadata": {
    "application/vnd.databricks.v1+cell": {
     "cellMetadata": {
      "byteLimit": 2048000,
      "implicitDf": true,
      "rowLimit": 10000
     },
     "inputWidgets": {},
     "nuid": "47d42b5d-8fb0-486f-9df7-8375592abeaa",
     "showTitle": false,
     "tableResultSettingsMap": {},
     "title": ""
    }
   },
   "outputs": [],
   "source": [
    "%sql\n",
    "DESCRIBE sc_gold.`leads_pbs`;\n",
    "-- or\n",
    "SHOW COLUMNS IN sc_gold.`leads_pbs`;\n"
   ]
  },
  {
   "cell_type": "code",
   "execution_count": 0,
   "metadata": {
    "application/vnd.databricks.v1+cell": {
     "cellMetadata": {
      "byteLimit": 2048000,
      "implicitDf": true,
      "rowLimit": 10000
     },
     "inputWidgets": {},
     "nuid": "21f35e18-59b4-4588-a1f4-00e4e75c0e9c",
     "showTitle": false,
     "tableResultSettingsMap": {},
     "title": ""
    }
   },
   "outputs": [],
   "source": [
    "%sql\n",
    "SELECT\n",
    "  created_time AS lead_created_time\n",
    "FROM sc_silver.leads_pbs\n",
    "LIMIT 50;\n"
   ]
  },
  {
   "cell_type": "code",
   "execution_count": 0,
   "metadata": {
    "application/vnd.databricks.v1+cell": {
     "cellMetadata": {
      "byteLimit": 2048000,
      "implicitDf": true,
      "rowLimit": 10000
     },
     "inputWidgets": {},
     "nuid": "e0e7d5ec-1780-42bf-8857-907dee087687",
     "showTitle": false,
     "tableResultSettingsMap": {},
     "title": ""
    }
   },
   "outputs": [],
   "source": [
    "%sql\n",
    "SELECT\n",
    "  data_criacao_da_lead\n",
    "FROM sc_silver.contactos_pbs\n",
    "LIMIT 50;"
   ]
  },
  {
   "cell_type": "code",
   "execution_count": 0,
   "metadata": {
    "application/vnd.databricks.v1+cell": {
     "cellMetadata": {
      "byteLimit": 2048000,
      "implicitDf": true,
      "rowLimit": 10000
     },
     "inputWidgets": {},
     "nuid": "722797fb-e955-4e72-a980-49e90d182f7d",
     "showTitle": false,
     "tableResultSettingsMap": {},
     "title": ""
    }
   },
   "outputs": [],
   "source": [
    "\n",
    "%sql\n",
    "\n",
    "SELECT * FROM sc_gold.campaigns             LIMIT 50;\n"
   ]
  },
  {
   "cell_type": "code",
   "execution_count": 0,
   "metadata": {
    "application/vnd.databricks.v1+cell": {
     "cellMetadata": {
      "byteLimit": 2048000,
      "implicitDf": true,
      "rowLimit": 10000
     },
     "inputWidgets": {},
     "nuid": "0a83bf42-5883-4081-bd46-59801fb7e35e",
     "showTitle": false,
     "tableResultSettingsMap": {},
     "title": ""
    }
   },
   "outputs": [],
   "source": [
    "%sql\n",
    "SELECT * FROM sc_gold.leads_pbs             LIMIT 50;\n"
   ]
  },
  {
   "cell_type": "code",
   "execution_count": 0,
   "metadata": {
    "application/vnd.databricks.v1+cell": {
     "cellMetadata": {
      "byteLimit": 2048000,
      "implicitDf": true,
      "rowLimit": 10000
     },
     "inputWidgets": {},
     "nuid": "a92a373b-c31d-4fb5-a69b-eb1ec4835b61",
     "showTitle": false,
     "tableResultSettingsMap": {},
     "title": ""
    }
   },
   "outputs": [],
   "source": [
    "%sql\n",
    "\n",
    "SELECT * FROM sc_gold.contactos_pbs         LIMIT 50;\n"
   ]
  },
  {
   "cell_type": "code",
   "execution_count": 0,
   "metadata": {
    "application/vnd.databricks.v1+cell": {
     "cellMetadata": {
      "byteLimit": 2048000,
      "implicitDf": true,
      "rowLimit": 10000
     },
     "inputWidgets": {},
     "nuid": "1eabf9ef-a305-4a84-869b-bec6ea220f71",
     "showTitle": false,
     "tableResultSettingsMap": {},
     "title": ""
    }
   },
   "outputs": [],
   "source": [
    "%sql\n",
    "SELECT * FROM sc_gold.propostas_realizadas  LIMIT 50;\n"
   ]
  },
  {
   "cell_type": "code",
   "execution_count": 0,
   "metadata": {
    "application/vnd.databricks.v1+cell": {
     "cellMetadata": {
      "byteLimit": 2048000,
      "implicitDf": true,
      "rowLimit": 10000
     },
     "inputWidgets": {},
     "nuid": "7d9a2714-e79b-4a59-9d70-fcd4575cc79e",
     "showTitle": false,
     "tableResultSettingsMap": {},
     "title": ""
    }
   },
   "outputs": [],
   "source": [
    "%sql\n",
    "SELECT * FROM sc_gold.deals                 LIMIT 50;"
   ]
  },
  {
   "cell_type": "code",
   "execution_count": 0,
   "metadata": {
    "application/vnd.databricks.v1+cell": {
     "cellMetadata": {
      "byteLimit": 2048000,
      "implicitDf": true,
      "rowLimit": 10000
     },
     "inputWidgets": {},
     "nuid": "0dfa7f30-b7b1-42b5-afff-e6b1edf03d78",
     "showTitle": false,
     "tableResultSettingsMap": {},
     "title": ""
    }
   },
   "outputs": [],
   "source": [
    "%sql\n",
    "SELECT * FROM sc_gold.contactos_pbs         LIMIT 50;"
   ]
  },
  {
   "cell_type": "code",
   "execution_count": 0,
   "metadata": {
    "application/vnd.databricks.v1+cell": {
     "cellMetadata": {
      "byteLimit": 2048000,
      "implicitDf": true,
      "rowLimit": 10000
     },
     "inputWidgets": {},
     "nuid": "7404c247-7710-45f4-8af6-8a32adb70f90",
     "showTitle": false,
     "tableResultSettingsMap": {},
     "title": ""
    }
   },
   "outputs": [],
   "source": [
    "# Build and run: CREATE OR REPLACE TABLE sc_gold.contactos_pbs_2 AS SELECT ... FROM sc_gold.contactos_pbs\n",
    "\n",
    "# 1) Read source columns in order\n",
    "cols = spark.sql(\"\"\"\n",
    "  SELECT column_name\n",
    "  FROM information_schema.columns\n",
    "  WHERE table_schema = 'sc_gold'\n",
    "    AND table_name   = 'contactos_pbs'\n",
    "  ORDER BY ordinal_position\n",
    "\"\"\").toPandas()['column_name'].tolist()\n",
    "\n",
    "# Optional: columns you do NOT want renamed (e.g., keep id as-is)\n",
    "skip = set()   # e.g., {'id'}\n",
    "\n",
    "# 2) Build the select list with aliases\n",
    "select_exprs = []\n",
    "for c in cols:\n",
    "    new = c if (c.endswith('_contactos') or c in skip) else f\"{c}_contactos\"\n",
    "    select_exprs.append(f\"`{c}` AS `{new}`\")\n",
    "\n",
    "select_sql = \", \".join(select_exprs)\n",
    "\n",
    "# 3) Build the full CREATE TABLE AS SELECT statement\n",
    "create_sql = f\"\"\"\n",
    "CREATE OR REPLACE TABLE sc_gold.contactos_pbs_2 AS\n",
    "SELECT {select_sql}\n",
    "FROM sc_gold.contactos_pbs\n",
    "\"\"\"\n",
    "\n",
    "print(create_sql)  # shows exactly what will run\n",
    "spark.sql(create_sql)\n",
    "\n",
    "# 4) Quick verification\n",
    "spark.sql(\"DESCRIBE TABLE sc_gold.contactos_pbs_2\").show(truncate=False)\n",
    "spark.sql(\"SELECT * FROM sc_gold.contactos_pbs_2 LIMIT 5\").show()\n"
   ]
  },
  {
   "cell_type": "code",
   "execution_count": 0,
   "metadata": {
    "application/vnd.databricks.v1+cell": {
     "cellMetadata": {
      "byteLimit": 2048000,
      "implicitDf": true,
      "rowLimit": 10000
     },
     "inputWidgets": {},
     "nuid": "432f8a4a-597b-4463-b7a9-53471c5de947",
     "showTitle": false,
     "tableResultSettingsMap": {},
     "title": ""
    }
   },
   "outputs": [],
   "source": [
    "%sql\n",
    "SELECT * FROM sc_gold.contactos_pbs_2"
   ]
  },
  {
   "cell_type": "code",
   "execution_count": 0,
   "metadata": {
    "application/vnd.databricks.v1+cell": {
     "cellMetadata": {
      "byteLimit": 2048000,
      "rowLimit": 10000
     },
     "inputWidgets": {},
     "nuid": "46b1cd2b-2e6a-4cef-9f08-ae524008923c",
     "showTitle": false,
     "tableResultSettingsMap": {},
     "title": ""
    }
   },
   "outputs": [],
   "source": [
    "# Source and target\n",
    "source_table = \"sc_gold.propostas_realizadas\"\n",
    "target_table = \"sc_gold.propostas_realizadas2\"\n",
    "\n",
    "# 1) Get columns\n",
    "cols = spark.sql(f\"\"\"\n",
    "  SELECT column_name\n",
    "  FROM information_schema.columns\n",
    "  WHERE table_schema = 'sc_gold'\n",
    "    AND table_name   = 'propostas_realizadas'\n",
    "  ORDER BY ordinal_position\n",
    "\"\"\").toPandas()['column_name'].tolist()\n",
    "\n",
    "# Optional: columns to keep unchanged\n",
    "skip = set()   # e.g., {'id'}\n",
    "\n",
    "# 2) Build select list with renamed aliases\n",
    "select_exprs = []\n",
    "for c in cols:\n",
    "    new = c if (c.endswith('_propostas') or c in skip) else f\"{c}_propostas\"\n",
    "    select_exprs.append(f\"`{c}` AS `{new}`\")\n",
    "\n",
    "select_sql = \", \".join(select_exprs)\n",
    "\n",
    "# 3) Build CREATE TABLE AS SELECT\n",
    "create_sql = f\"\"\"\n",
    "CREATE OR REPLACE TABLE {target_table} AS\n",
    "SELECT {select_sql}\n",
    "FROM {source_table}\n",
    "\"\"\"\n",
    "\n",
    "print(create_sql)   # Show what will run\n",
    "spark.sql(create_sql)\n",
    "\n",
    "# 4) Verify\n",
    "spark.sql(f\"DESCRIBE TABLE {target_table}\").show(truncate=False)\n",
    "spark.sql(f\"SELECT * FROM {target_table} LIMIT 5\").show()\n"
   ]
  },
  {
   "cell_type": "code",
   "execution_count": 0,
   "metadata": {
    "application/vnd.databricks.v1+cell": {
     "cellMetadata": {
      "byteLimit": 2048000,
      "implicitDf": true,
      "rowLimit": 10000
     },
     "inputWidgets": {},
     "nuid": "c7f58f63-0892-4b59-8c1c-b6829bc0c796",
     "showTitle": false,
     "tableResultSettingsMap": {
      "0": {
       "dataGridStateBlob": "{\"version\":1,\"tableState\":{\"columnPinning\":{\"left\":[\"#row_number#\"],\"right\":[]},\"columnSizing\":{\"created_time_propostas\":261,\"id_propostas\":218},\"columnVisibility\":{}},\"settings\":{\"columns\":{}},\"syncTimestamp\":1757282795618}",
       "filterBlob": null,
       "queryPlanFiltersBlob": null,
       "tableResultIndex": 0
      }
     },
     "title": ""
    }
   },
   "outputs": [],
   "source": [
    "%sql\n",
    "SELECT * FROM sc_gold.propostas_realizadas2"
   ]
  },
  {
   "cell_type": "code",
   "execution_count": 0,
   "metadata": {
    "application/vnd.databricks.v1+cell": {
     "cellMetadata": {
      "byteLimit": 2048000,
      "rowLimit": 10000
     },
     "inputWidgets": {},
     "nuid": "0ae47343-02f0-41d9-8cd3-2cab918d5090",
     "showTitle": false,
     "tableResultSettingsMap": {},
     "title": ""
    }
   },
   "outputs": [],
   "source": [
    "# Source and target\n",
    "source_table = \"sc_gold.deals\"\n",
    "target_table = \"sc_gold.deals2\"\n",
    "\n",
    "# 1) Get columns\n",
    "cols = spark.sql(f\"\"\"\n",
    "  SELECT column_name\n",
    "  FROM information_schema.columns\n",
    "  WHERE table_schema = 'sc_gold'\n",
    "    AND table_name   = 'deals'\n",
    "  ORDER BY ordinal_position\n",
    "\"\"\").toPandas()['column_name'].tolist()\n",
    "\n",
    "# Optional: columns to keep unchanged (e.g., primary keys)\n",
    "skip = set()   # Example: {'id'}\n",
    "\n",
    "# 2) Build select list with renamed aliases\n",
    "select_exprs = []\n",
    "for c in cols:\n",
    "    new = c if (c.endswith('_deals') or c in skip) else f\"{c}_deals\"\n",
    "    select_exprs.append(f\"`{c}` AS `{new}`\")\n",
    "\n",
    "select_sql = \", \".join(select_exprs)\n",
    "\n",
    "# 3) Build CREATE TABLE AS SELECT\n",
    "create_sql = f\"\"\"\n",
    "CREATE OR REPLACE TABLE {target_table} AS\n",
    "SELECT {select_sql}\n",
    "FROM {source_table}\n",
    "\"\"\"\n",
    "\n",
    "print(create_sql)   # Show generated SQL\n",
    "spark.sql(create_sql)\n",
    "\n",
    "# 4) Verify structure and sample data\n",
    "spark.sql(f\"DESCRIBE TABLE {target_table}\").show(truncate=False)\n",
    "spark.sql(f\"SELECT * FROM {target_table} LIMIT 5\").show()\n"
   ]
  },
  {
   "cell_type": "code",
   "execution_count": 0,
   "metadata": {
    "application/vnd.databricks.v1+cell": {
     "cellMetadata": {
      "byteLimit": 2048000,
      "implicitDf": true,
      "rowLimit": 10000
     },
     "inputWidgets": {},
     "nuid": "9770184b-84d8-4485-a093-1662d51c64c2",
     "showTitle": false,
     "tableResultSettingsMap": {},
     "title": ""
    }
   },
   "outputs": [],
   "source": [
    "%sql\n",
    "SELECT * FROM sc_gold.deals2"
   ]
  },
  {
   "cell_type": "code",
   "execution_count": 0,
   "metadata": {
    "application/vnd.databricks.v1+cell": {
     "cellMetadata": {},
     "inputWidgets": {},
     "nuid": "faa4c88d-917e-4a4a-bebc-1985c7aac121",
     "showTitle": false,
     "tableResultSettingsMap": {},
     "title": ""
    }
   },
   "outputs": [],
   "source": [
    "# Source and target\n",
    "source_table = \"sc_gold.campaigns\"\n",
    "target_table = \"sc_gold.campaigns2\"\n",
    "\n",
    "# 1) Get columns\n",
    "cols = spark.sql(f\"\"\"\n",
    "  SELECT column_name\n",
    "  FROM information_schema.columns\n",
    "  WHERE table_schema = 'sc_gold'\n",
    "    AND table_name   = 'campaigns'\n",
    "  ORDER BY ordinal_position\n",
    "\"\"\").toPandas()['column_name'].tolist()\n",
    "\n",
    "# Optional: columns to keep unchanged (like primary keys)\n",
    "skip = set()   # Example: {'id'}\n",
    "\n",
    "# 2) Build select list with renamed aliases\n",
    "select_exprs = []\n",
    "for c in cols:\n",
    "    new = c if (c.endswith('_campaigns') or c in skip) else f\"{c}_campaigns\"\n",
    "    select_exprs.append(f\"`{c}` AS `{new}`\")\n",
    "\n",
    "select_sql = \", \".join(select_exprs)\n",
    "\n",
    "# 3) Build CREATE TABLE AS SELECT\n",
    "create_sql = f\"\"\"\n",
    "CREATE OR REPLACE TABLE {target_table} AS\n",
    "SELECT {select_sql}\n",
    "FROM {source_table}\n",
    "\"\"\"\n",
    "\n",
    "print(create_sql)   # Preview generated SQL\n",
    "spark.sql(create_sql)\n",
    "\n",
    "# 4) Verify new table\n",
    "spark.sql(f\"DESCRIBE TABLE {target_table}\").show(truncate=False)\n",
    "spark.sql(f\"SELECT * FROM {target_table} LIMIT 5\").show()\n"
   ]
  },
  {
   "cell_type": "code",
   "execution_count": 0,
   "metadata": {
    "application/vnd.databricks.v1+cell": {
     "cellMetadata": {},
     "inputWidgets": {},
     "nuid": "425e8ffd-ca7b-4368-bbd5-8cd16ea9db54",
     "showTitle": false,
     "tableResultSettingsMap": {},
     "title": ""
    }
   },
   "outputs": [],
   "source": [
    "%sql\n",
    "SELECT * FROM sc_gold.campaigns2"
   ]
  },
  {
   "cell_type": "code",
   "execution_count": 0,
   "metadata": {
    "application/vnd.databricks.v1+cell": {
     "cellMetadata": {
      "byteLimit": 2048000,
      "implicitDf": true,
      "rowLimit": 10000
     },
     "inputWidgets": {},
     "nuid": "23a30767-95aa-4496-aac3-c4c5e6be7ed4",
     "showTitle": false,
     "tableResultSettingsMap": {},
     "title": ""
    }
   },
   "outputs": [],
   "source": [
    "%sql\n",
    "SELECT COUNT(*) AS strict_matches\n",
    "FROM sc_gold.leads_pbs l\n",
    "JOIN sc_gold.contactos_pbs_2 c\n",
    "  ON  l.converted_contact = c.id_contactos\n",
    "  AND l.created_time      = c.data_criacao_da_lead_contactos;\n"
   ]
  },
  {
   "cell_type": "code",
   "execution_count": 0,
   "metadata": {
    "application/vnd.databricks.v1+cell": {
     "cellMetadata": {
      "byteLimit": 2048000,
      "implicitDf": true,
      "rowLimit": 10000
     },
     "inputWidgets": {},
     "nuid": "e0865170-1842-497b-9696-551f854c5da7",
     "showTitle": false,
     "tableResultSettingsMap": {},
     "title": ""
    }
   },
   "outputs": [],
   "source": [
    "%sql\n",
    "WITH joined AS (\n",
    "  SELECT\n",
    "    l.*,\n",
    "    c.*\n",
    "  FROM sc_gold.leads_pbs       AS l\n",
    "  JOIN sc_gold.contactos_pbs_2 AS c\n",
    "    ON  l.converted_contact = c.id_contactos\n",
    "   AND l.created_time      = c.data_criacao_da_lead_contactos\n",
    ")\n",
    "SELECT COUNT(*) AS check_count FROM joined;   -- should be ~118329\n"
   ]
  },
  {
   "cell_type": "code",
   "execution_count": 0,
   "metadata": {
    "application/vnd.databricks.v1+cell": {
     "cellMetadata": {
      "byteLimit": 2048000,
      "implicitDf": true,
      "rowLimit": 10000
     },
     "inputWidgets": {},
     "nuid": "62ef095e-3704-4379-b4d6-0cdb1792d368",
     "showTitle": false,
     "tableResultSettingsMap": {},
     "title": ""
    }
   },
   "outputs": [],
   "source": [
    "%sql\n",
    "-- (optional) ensure you're in the right place\n",
    "-- USE CATALOG workspace;\n",
    "-- USE SCHEMA sc_gold;\n",
    "\n",
    "CREATE OR REPLACE TABLE sc_gold.Features_Table\n",
    "USING DELTA\n",
    "AS\n",
    "SELECT\n",
    "  l.*,\n",
    "  c.*\n",
    "FROM sc_gold.leads_pbs       AS l\n",
    "JOIN sc_gold.contactos_pbs_2 AS c\n",
    "  ON  l.converted_contact = c.id_contactos\n",
    "  AND l.created_time      = c.data_criacao_da_lead_contactos;\n"
   ]
  },
  {
   "cell_type": "code",
   "execution_count": 0,
   "metadata": {
    "application/vnd.databricks.v1+cell": {
     "cellMetadata": {
      "byteLimit": 2048000,
      "implicitDf": true,
      "rowLimit": 10000
     },
     "inputWidgets": {},
     "nuid": "a3d674cd-2ce7-4a87-b60e-abe1b3f6833d",
     "showTitle": false,
     "tableResultSettingsMap": {},
     "title": ""
    }
   },
   "outputs": [],
   "source": [
    "%sql\n",
    "CREATE OR REPLACE TABLE sc_gold.Features_Table AS\n",
    "SELECT\n",
    "  f.*,\n",
    "  p.*   -- assumes Propostas columns are already suffixed (e.g., *_propostas)\n",
    "FROM sc_gold.Features_Table AS f\n",
    "LEFT JOIN sc_gold.propostas_realizadas2 AS p\n",
    "  ON f.id_contactos = p.id_contacto_propostas;   -- keep all Feature rows\n"
   ]
  },
  {
   "cell_type": "code",
   "execution_count": 0,
   "metadata": {
    "application/vnd.databricks.v1+cell": {
     "cellMetadata": {
      "byteLimit": 2048000,
      "implicitDf": true,
      "rowLimit": 10000
     },
     "inputWidgets": {},
     "nuid": "a780d349-2705-42de-938f-1b41e3b5e5ce",
     "showTitle": false,
     "tableResultSettingsMap": {},
     "title": ""
    }
   },
   "outputs": [],
   "source": [
    "%sql\n",
    "CREATE OR REPLACE TABLE sc_gold.Features_Table AS\n",
    "SELECT\n",
    "  f.*,\n",
    "  d.*   -- assumes Deals columns are already suffixed (e.g., *_deals)\n",
    "FROM sc_gold.Features_Table AS f\n",
    "LEFT JOIN sc_gold.deals2 AS d\n",
    "  ON f.id_contacto_propostas = d.id_contacto_deals;   -- keep all Feature rows\n"
   ]
  },
  {
   "cell_type": "code",
   "execution_count": 0,
   "metadata": {
    "application/vnd.databricks.v1+cell": {
     "cellMetadata": {
      "byteLimit": 2048000,
      "implicitDf": true,
      "rowLimit": 10000
     },
     "inputWidgets": {},
     "nuid": "56c51127-a90a-44b0-9f0e-cd9458ef8d73",
     "showTitle": false,
     "tableResultSettingsMap": {},
     "title": ""
    }
   },
   "outputs": [],
   "source": [
    "%sql\n",
    "CREATE OR REPLACE TABLE sc_gold.Features_Table AS\n",
    "SELECT\n",
    "  f.*,\n",
    "  cp.*   -- assumes campaigns columns are already suffixed (e.g., *_campaigns)\n",
    "FROM sc_gold.Features_Table AS f\n",
    "LEFT JOIN sc_gold.campaigns2 AS cp\n",
    "  ON f.campanha_deals = cp.id_campaigns;   -- join via Features_Table.campanha_deals -> campaigns.id_campaigns\n"
   ]
  },
  {
   "cell_type": "code",
   "execution_count": 0,
   "metadata": {
    "application/vnd.databricks.v1+cell": {
     "cellMetadata": {
      "byteLimit": 2048000,
      "implicitDf": true,
      "rowLimit": 10000
     },
     "inputWidgets": {},
     "nuid": "e9870b82-3a74-412b-8165-0c3fd24a36a2",
     "showTitle": false,
     "tableResultSettingsMap": {},
     "title": ""
    }
   },
   "outputs": [],
   "source": [
    "%%sql\n",
    "CREATE OR REPLACE TABLE sc_gold.fact_table AS\n",
    "SELECT\n",
    "    l.id,\n",
    "  l.converted_contact,\n",
    "  l.created_time,\n",
    "  c.id_contactos,\n",
    "  c.data_criacao_da_lead_contactos\n",
    "FROM sc_gold.leads_pbs AS l\n",
    "JOIN sc_gold.contactos_pbs_2 AS c\n",
    "  ON l.converted_contact = c.id_contactos\n",
    " AND l.created_time = c.data_criacao_da_lead_contactos;\n"
   ]
  },
  {
   "cell_type": "code",
   "execution_count": 0,
   "metadata": {
    "application/vnd.databricks.v1+cell": {
     "cellMetadata": {
      "byteLimit": 2048000,
      "implicitDf": true,
      "rowLimit": 10000
     },
     "inputWidgets": {},
     "nuid": "363d9117-13c3-492b-a5a4-0aecac0aae2d",
     "showTitle": false,
     "tableResultSettingsMap": {},
     "title": ""
    }
   },
   "outputs": [],
   "source": [
    "%%sql\n",
    "CREATE OR REPLACE TABLE sc_gold.fact_table AS\n",
    "SELECT\n",
    "  f.*,\n",
    " \n",
    "    p.id_contacto_propostas,\n",
    "  p.id_proposta_realizada_propostas\n",
    "\n",
    "FROM sc_gold.fact_table AS f\n",
    "LEFT JOIN sc_gold.propostas_realizadas2 AS p\n",
    "  ON p.id_contacto_propostas = f.id_contactos;\n"
   ]
  },
  {
   "cell_type": "code",
   "execution_count": 0,
   "metadata": {
    "application/vnd.databricks.v1+cell": {
     "cellMetadata": {
      "byteLimit": 2048000,
      "implicitDf": true,
      "rowLimit": 10000
     },
     "inputWidgets": {},
     "nuid": "57fc58b1-56bb-4230-a034-35a3e8e45345",
     "showTitle": false,
     "tableResultSettingsMap": {},
     "title": ""
    }
   },
   "outputs": [],
   "source": [
    "%sql\n",
    "CREATE OR REPLACE TABLE sc_gold.Fact_table AS\n",
    "SELECT\n",
    "  f.*,\n",
    "  d.id_deals,\n",
    "  d.id_contacto_deals,\n",
    "  d.campanha_deals\n",
    "FROM sc_gold.Fact_table AS f\n",
    "LEFT JOIN sc_gold.deals2 AS d\n",
    "  ON f.id_contacto_propostas = d.id_contacto_deals;\n"
   ]
  },
  {
   "cell_type": "code",
   "execution_count": 0,
   "metadata": {
    "application/vnd.databricks.v1+cell": {
     "cellMetadata": {
      "byteLimit": 2048000,
      "rowLimit": 10000
     },
     "inputWidgets": {},
     "nuid": "05d63b20-c30f-429d-8a99-f0100c51c67b",
     "showTitle": false,
     "tableResultSettingsMap": {},
     "title": ""
    }
   },
   "outputs": [],
   "source": [
    "# snapshot the current table to a temp view\n",
    "spark.sql(\"CREATE OR REPLACE TEMP VIEW _src AS SELECT * FROM sc_gold.fact_table\")\n",
    "\n",
    "to_drop = {'converted_contact','data_criacao_da_lead_contactos','id_contacto_propostas','id_contacto_deals'}\n",
    "cols = [f\"`{c}`\" for c in spark.table(\"sc_gold.fact_table\").columns if c not in to_drop]\n",
    "\n",
    "spark.sql(f\"\"\"\n",
    "CREATE OR REPLACE TABLE sc_gold.fact_table\n",
    "USING DELTA AS\n",
    "SELECT {', '.join(cols)} FROM _src\n",
    "\"\"\")\n",
    "\n",
    "spark.sql(\"DROP VIEW _src\")\n"
   ]
  },
  {
   "cell_type": "code",
   "execution_count": 0,
   "metadata": {
    "application/vnd.databricks.v1+cell": {
     "cellMetadata": {
      "byteLimit": 2048000,
      "implicitDf": true,
      "rowLimit": 10000
     },
     "inputWidgets": {},
     "nuid": "e8c24d33-8dfa-4150-8e7e-5b01aa17d823",
     "showTitle": false,
     "tableResultSettingsMap": {},
     "title": ""
    }
   },
   "outputs": [],
   "source": [
    "%sql\n",
    "-- 1) Summary counts of duplicates on (id, created_time)\n",
    "WITH d AS (\n",
    "  SELECT id, created_time, COUNT(*) AS cnt\n",
    "  FROM sc_gold.leads_pbs\n",
    "  GROUP BY id, created_time\n",
    "  HAVING COUNT(*) > 1\n",
    ")\n",
    "SELECT\n",
    "  COUNT(*)                    AS duplicated_keys,          -- number of (id,created_time) combos with >1 row\n",
    "  SUM(cnt)                    AS rows_in_duplicated_keys,  -- total rows participating in duplicates\n",
    "  SUM(cnt) - COUNT(*)         AS extra_rows_to_dedup       -- rows to drop if you keep 1 per key\n",
    "FROM d;\n",
    "\n",
    "-- 2) See the duplicated keys and their sizes (top 100)\n",
    "SELECT id, created_time, COUNT(*) AS cnt\n",
    "FROM sc_gold.leads_pbs\n",
    "GROUP BY id, created_time\n",
    "HAVING COUNT(*) > 1\n",
    "ORDER BY cnt DESC, id\n",
    "LIMIT 100;\n"
   ]
  },
  {
   "cell_type": "code",
   "execution_count": 0,
   "metadata": {
    "application/vnd.databricks.v1+cell": {
     "cellMetadata": {
      "byteLimit": 2048000,
      "implicitDf": true,
      "rowLimit": 10000
     },
     "inputWidgets": {},
     "nuid": "5feabc3e-6365-4c20-bd73-9825cc33590e",
     "showTitle": false,
     "tableResultSettingsMap": {
      "0": {
       "dataGridStateBlob": "{\"version\":1,\"tableState\":{\"columnPinning\":{\"left\":[\"#row_number#\"],\"right\":[]},\"columnSizing\":{\"_fivetran_id\":153},\"columnVisibility\":{}},\"settings\":{\"columns\":{\"link_centro_consentimento_contactos\":{\"format\":{\"preset\":\"string-preset-url\"}}}},\"syncTimestamp\":1757282068950}",
       "filterBlob": null,
       "queryPlanFiltersBlob": null,
       "tableResultIndex": 0
      }
     },
     "title": ""
    }
   },
   "outputs": [],
   "source": [
    "%sql\n",
    "-- SUMMARY: how many duplicate (id, created_time) keys exist in sc_gold.features ( this is normal , can have multiple proposals)\n",
    "WITH d AS (\n",
    "  SELECT id, created_time, COUNT(*) AS cnt\n",
    "  FROM sc_gold.features_table\n",
    "  GROUP BY id, created_time\n",
    "  HAVING COUNT(*) > 1\n",
    ")\n",
    "SELECT\n",
    "  COUNT(*)            AS duplicated_keys,\n",
    "  SUM(cnt)            AS rows_in_duplicated_keys,\n",
    "  SUM(cnt) - COUNT(*) AS extra_rows_to_dedup\n",
    "FROM d;\n"
   ]
  },
  {
   "cell_type": "code",
   "execution_count": 0,
   "metadata": {
    "application/vnd.databricks.v1+cell": {
     "cellMetadata": {
      "byteLimit": 2048000,
      "implicitDf": true,
      "rowLimit": 10000
     },
     "inputWidgets": {},
     "nuid": "8df364f7-ff68-4bd4-b302-064f4f1980ba",
     "showTitle": false,
     "tableResultSettingsMap": {},
     "title": ""
    }
   },
   "outputs": [],
   "source": [
    "%sql\n",
    "-- SUMMARY: how many duplicate (id_propostas, created_time) keys exist\n",
    "WITH d AS (\n",
    "  SELECT id, created_time, COUNT(*) AS cnt\n",
    "  FROM sc_gold.propostas_realizadas\n",
    "  GROUP BY id, created_time\n",
    "  HAVING COUNT(*) > 1\n",
    ")\n",
    "SELECT\n",
    "  COUNT(*)            AS duplicated_keys,          -- number of key pairs with >1 row\n",
    "  SUM(cnt)            AS rows_in_duplicated_keys,  -- total rows across those keys\n",
    "  SUM(cnt) - COUNT(*) AS extra_rows_to_dedup       -- rows you’d remove if keeping 1 per key\n",
    "FROM d;\n",
    "\n",
    "-- DETAILS: which keys are duplicated (top 100 by size)\n",
    "SELECT id, created_time, COUNT(*) AS cnt\n",
    "FROM sc_gold.propostas_realizadas\n",
    "GROUP BY id, created_time\n",
    "HAVING COUNT(*) > 1\n",
    "ORDER BY cnt DESC, id\n",
    "LIMIT 100;\n",
    "\n",
    "-- OPTIONAL: list the actual duplicate rows\n",
    "SELECT t.*\n",
    "FROM sc_gold.propostas_realizadas t\n",
    "JOIN (\n",
    "  SELECT id, created_time\n",
    "  FROM sc_gold.propostas_realizadas\n",
    "  GROUP BY id, created_time\n",
    "  HAVING COUNT(*) > 1\n",
    ") d\n",
    "ON t.id = d.id AND t.created_time = d.created_time\n",
    "ORDER BY t.id, t.created_time;\n"
   ]
  },
  {
   "cell_type": "code",
   "execution_count": 0,
   "metadata": {
    "application/vnd.databricks.v1+cell": {
     "cellMetadata": {
      "byteLimit": 2048000,
      "implicitDf": true,
      "rowLimit": 10000
     },
     "inputWidgets": {},
     "nuid": "00ec881c-6915-4158-9219-3e9ce2f54a06",
     "showTitle": false,
     "tableResultSettingsMap": {},
     "title": ""
    }
   },
   "outputs": [],
   "source": [
    "%sql\n",
    "WITH d AS (\n",
    "  SELECT\n",
    "    `id`,\n",
    "    `id_deals`,\n",
    "    `id_proposta_realizada_propostas`,\n",
    "    COUNT(*) AS cnt\n",
    "  FROM sc_gold.features_table\n",
    "  GROUP BY `id`, `id_deals`, `id_proposta_realizada_propostas`\n",
    "  HAVING COUNT(*) > 1\n",
    ")\n",
    "SELECT\n",
    "  COUNT(*)              AS duplicated_keys,\n",
    "  SUM(d.cnt)            AS rows_in_duplicated_keys,\n",
    "  SUM(d.cnt) - COUNT(*) AS extra_rows_to_dedup\n",
    "FROM d AS d;\n"
   ]
  },
  {
   "cell_type": "code",
   "execution_count": 0,
   "metadata": {
    "application/vnd.databricks.v1+cell": {
     "cellMetadata": {
      "byteLimit": 2048000,
      "implicitDf": true,
      "rowLimit": 10000
     },
     "inputWidgets": {},
     "nuid": "cd6c2d6d-4d0c-4752-be9d-3a6dc59b7811",
     "showTitle": false,
     "tableResultSettingsMap": {},
     "title": ""
    }
   },
   "outputs": [],
   "source": [
    "%sql\n",
    "WITH d AS (\n",
    "  SELECT\n",
    "    `id`,\n",
    "    `id_deals`,\n",
    "    `id_proposta_realizada_propostas`,\n",
    "    COUNT(*) AS cnt\n",
    "  FROM sc_gold.fact_table\n",
    "  GROUP BY `id`, `id_deals`, `id_proposta_realizada_propostas`\n",
    "  HAVING COUNT(*) > 1\n",
    ")\n",
    "SELECT\n",
    "  COUNT(*)              AS duplicated_keys,\n",
    "  SUM(d.cnt)            AS rows_in_duplicated_keys,\n",
    "  SUM(d.cnt) - COUNT(*) AS extra_rows_to_dedup\n",
    "FROM d AS d;\n"
   ]
  },
  {
   "cell_type": "code",
   "execution_count": 0,
   "metadata": {
    "application/vnd.databricks.v1+cell": {
     "cellMetadata": {
      "byteLimit": 2048000,
      "implicitDf": true,
      "rowLimit": 10000
     },
     "inputWidgets": {},
     "nuid": "f41e3eb5-8f18-463f-8493-cae7ef8c27d8",
     "showTitle": false,
     "tableResultSettingsMap": {
      "0": {
       "dataGridStateBlob": "{\"version\":1,\"tableState\":{\"columnPinning\":{\"left\":[\"#row_number#\"],\"right\":[]},\"columnSizing\":{\"created_time\":206},\"columnVisibility\":{}},\"settings\":{\"columns\":{}},\"syncTimestamp\":1757287190480}",
       "filterBlob": null,
       "queryPlanFiltersBlob": null,
       "tableResultIndex": 0
      }
     },
     "title": ""
    }
   },
   "outputs": [],
   "source": [
    "%sql\n",
    "SELECT * FROM sc_gold.Fact_table"
   ]
  },
  {
   "cell_type": "code",
   "execution_count": 0,
   "metadata": {
    "application/vnd.databricks.v1+cell": {
     "cellMetadata": {
      "byteLimit": 2048000,
      "implicitDf": true,
      "rowLimit": 10000
     },
     "inputWidgets": {},
     "nuid": "c5312eeb-6ba6-45c3-a9c2-46ccd98f3d13",
     "showTitle": false,
     "tableResultSettingsMap": {},
     "title": ""
    }
   },
   "outputs": [],
   "source": [
    "%sql\n",
    "SELECT * FROM sc_gold.Features_Table"
   ]
  },
  {
   "cell_type": "code",
   "execution_count": 0,
   "metadata": {
    "application/vnd.databricks.v1+cell": {
     "cellMetadata": {
      "byteLimit": 2048000,
      "implicitDf": true,
      "rowLimit": 10000
     },
     "inputWidgets": {},
     "nuid": "6f46215a-226d-4aca-80df-1de1d1be643b",
     "showTitle": false,
     "tableResultSettingsMap": {},
     "title": ""
    }
   },
   "outputs": [],
   "source": [
    "# 1) Build keep list to Ml Models\n",
    "cols_to_delete = [  # the  names we listed\n",
    "    \"_fivetran_id\",\"id\",\"lead_owner\",\"lead_owner_name\",\"consentimento\",\n",
    "    \"id_lead\",\"chave_instalacao_bd_rede\",\"chave_concessao_bd_rede\",\"chave_contrato_concessionario_bd_rede\",\n",
    "    \"chave_agrupamento_performance_vendas\",\"chave_agrupamento_cliente\",\n",
    "    \"data_de_validade_de_consentimento_hyundai\",\"lead_response_time\",\"converted_date_time\",\n",
    "    \"_fivetran_deleted\",\"_fivetran_synced\",\"_fivetran_id_contactos\",\"id_contactos\",\n",
    "    \"contacto_owner_contactos\",\"contacto_owner_name_contactos\",\"created_time_contactos\",\n",
    "    \"id_contacto_contactos\",\"consentimento_contactos\",\"id_lead_conversao_contactos\",\n",
    "    \"data_de_recolha_de_consentimento_hyundai_contactos\",\"chave_concessao_bd_rede_contactos\",\n",
    "    \"chave_instalacao_bd_rede_contactos\",\"chave_contrato_concessionario_bd_rede_contactos\",\n",
    "    \"chave_agrupamento_performance_vendas_contactos\",\"chave_agrupamento_cliente_contactos\",\n",
    "    \"link_centro_consentimento_contactos\",\"_fivetran_deleted_contactos\",\"_fivetran_synced_contactos\",\n",
    "    \"_fivetran_id_propostas\",\"id_propostas\",\"created_time_propostas\",\n",
    "    \"proposta_realizada_owner_propostas\",\"proposta_realizada_owner_name_propostas\",\n",
    "    \"modified_time_propostas\",\"conta_name_propostas\",\"id_contacto_propostas\",\"contacto_name_propostas\",\n",
    "    \"deal_name_propostas\",\"created_by_propostas\",\"modified_by_propostas\",\"descricao_apoio_propostas\",\n",
    "    \"codigo_da_proposta_propostas\",\"descricao_pintura_propostas\",\"data_de_criacao_da_proposta_propostas\",\n",
    "    \"data_de_entrega_da_proposta_propostas\",\"id_conta_propostas\",\"id_negocio_propostas\",\n",
    "    \"id_proposta_realizada_propostas\",\"data_de_validade_da_proposta_propostas\",\"codigo_modelo_propostas\",\n",
    "    \"sufixo_modelo_propostas\",\"codigo_cor_exterior_propostas\",\"codigo_cor_interior_propostas\",\n",
    "    \"concessionario_owner_propostas\",\"data_prevista_matricula_propostas\",\"data_prevista_de_entrega_propostas\",\n",
    "    \"data_da_conclusao_propostas\",\"instalacao_propostas\",\"chave_instalacao_bd_rede_propostas\",\n",
    "    \"chave_concessao_bd_rede_propostas\",\"cod_proposta_propostas\",\"codigo_fabricante_cor_interior_propostas\",\n",
    "    \"codigo_fabricante_cor_exterior_propostas\",\"_fivetran_deleted_propostas\",\"_fivetran_synced_propostas\",\n",
    "    \"_fivetran_id_deals\",\"deal_owner_name_deals\",\"id_contacto_deals\",\n",
    "    \"closing_date_deals\",\"deal_owner_deals\",\"conta_name_deals\",\"contacto_name_deals\",\"id_negocio_deals\",\n",
    "    \"data_prevista_de_reentrada_em_negocio_deals\",\"id_conta_deals\",\"codigo_negocio_deals\",\"data_venda_deals\",\n",
    "    \"nome_contacto_deals\",\"id_deals\",\"data_decisao_negocio_deals\",\"_fivetran_deleted_deals\",\n",
    "    \"_fivetran_synced_deals\",\"_fivetran_id_campaigns\",\"id_campaigns\",\n",
    "    \"campaign_owner_name_campaigns\",\"created_time_campaigns\",\"codigo_campanha_campaigns\",\n",
    "    \"_fivetran_deleted_campaigns\",\"_fivetran_synced_campaigns\"\n",
    "]\n",
    "\n",
    "src_tbl = \"sc_gold.Features_Table\"\n",
    "\n",
    "# compute keep list from live schema\n",
    "all_cols = spark.table(src_tbl).columns\n",
    "keep_cols = [c for c in all_cols if c not in cols_to_delete]\n",
    "keep_sql = \", \".join([f\"`{c}`\" for c in keep_cols])  # quote names safely\n",
    "\n",
    "# 2) Snapshot and recreate from projection\n",
    "spark.sql(f\"CREATE OR REPLACE TEMP VIEW _src AS SELECT * FROM {src_tbl}\")\n",
    "spark.sql(f\"\"\"\n",
    "CREATE OR REPLACE TABLE {src_tbl}\n",
    "USING DELTA AS\n",
    "SELECT {keep_sql} FROM _src\n",
    "\"\"\")\n",
    "spark.sql(\"DROP VIEW _src\")\n",
    "\n",
    "#You should generally remove columns that:\n",
    "#Are unique identifiers (e.g., _fivetran_id, id, id_lead, id_contactos, id_propostas, id_deals, id_campaigns).\n",
    "#Are timestamps or sync markers from ETL (_fivetran_synced, _fivetran_deleted, etc.).\n",
    "#Contain names of people or owners (lead_owner_name, campaign_owner_name_campaigns, etc.).\n",
    "#Are free-text codes or descriptive identifiers (codigo_campanha_campaigns, codigo_da_proposta_propostas, etc.).\n",
    "#Are internal foreign keys / lookup fields (chave_instalacao_bd_rede, chave_agrupamento_cliente, etc.).\n",
    "#Are emails / links (link_centro_consentimento_contactos).\n",
    "\n",
    "\n"
   ]
  },
  {
   "cell_type": "code",
   "execution_count": 0,
   "metadata": {
    "application/vnd.databricks.v1+cell": {
     "cellMetadata": {
      "byteLimit": 2048000,
      "rowLimit": 10000
     },
     "inputWidgets": {},
     "nuid": "ed1b6949-42ec-4c6a-9daa-809e5fdb04d0",
     "showTitle": false,
     "tableResultSettingsMap": {},
     "title": ""
    }
   },
   "outputs": [],
   "source": [
    "# 1) Built the second delete list after a better analysis \n",
    "cols_to_delete = [\n",
    "    # --- timestamps / dates ---\n",
    "  \n",
    "    \"data_criacao_da_lead_contactos\",\n",
    "    \"data_prevista_de_entrega_deals\",\n",
    "    \"data_prevista_matricula_deals\",\n",
    "    \"data_criacao_da_lead_deals\",\n",
    "\n",
    "    # --- IDs / keys ---\n",
    "    \"created_by\", \"modified_by\",\n",
    "    \"id_classe_propostas\", \"id_model_group_propostas\",\n",
    "    \"id_combustivel_propostas\", \"id_modelo_propostas\",\n",
    "    \"chave_agrupamento_cliente_propostas\",\n",
    "    \"tylacode_propostas\",\n",
    "    \"chave_concessao_bd_rede_deals\", \"chave_instalacao_bd_rede_deals\",\n",
    "    \"chave_contrato_concessionario_bd_rede_deals\",\n",
    "    \"chave_agrupamento_performance_vendas_deals\", \"chave_agrupamento_cliente_deals\",\"campanha_deals\",\n",
    "\n",
    "    # --- descriptive text ---\n",
    "    \"descricao_model_group_propostas\",\n",
    "    \n",
    "\n",
    "    # --- administrative fields ---\n",
    "     \"gestor_area_propostas\",\n",
    "\n",
    "    # --- duplicated / rarely useful flags ---\n",
    "    \"hubleads__nao_comunica_com_cc_\",\n",
    "    \"converted_contact\", \"converted_deal\", \"converted_from_lead_deals\",\n",
    "    \"ccupdated_contactos\", \"myhyundai_contactos\",\n",
    "    \"f2_deals\", \"modelovendaupdate_deals\"\n",
    "]\n",
    "\n",
    "src_tbl = \"sc_gold.Features_Table\"\n",
    "\n",
    "# compute keep list dynamically from live schema\n",
    "all_cols = spark.table(src_tbl).columns\n",
    "keep_cols = [c for c in all_cols if c not in cols_to_delete]\n",
    "keep_sql = \", \".join([f\"`{c}`\" for c in keep_cols])  # safe quoting\n",
    "\n",
    "# 2) Snapshot and recreate table with only keep_cols\n",
    "spark.sql(f\"CREATE OR REPLACE TEMP VIEW _src AS SELECT * FROM {src_tbl}\")\n",
    "\n",
    "spark.sql(f\"\"\"\n",
    "CREATE OR REPLACE TABLE {src_tbl}\n",
    "USING DELTA AS\n",
    "SELECT {keep_sql} FROM _src\n",
    "\"\"\")\n",
    "\n",
    "spark.sql(\"DROP VIEW _src\")\n"
   ]
  },
  {
   "cell_type": "code",
   "execution_count": 0,
   "metadata": {
    "application/vnd.databricks.v1+cell": {
     "cellMetadata": {
      "byteLimit": 2048000,
      "implicitDf": true,
      "rowLimit": 10000
     },
     "inputWidgets": {},
     "nuid": "df06f4c0-5120-47ed-8b15-8039e685a0fd",
     "showTitle": false,
     "tableResultSettingsMap": {},
     "title": ""
    }
   },
   "outputs": [],
   "source": [
    "%sql\n",
    "CREATE OR REPLACE TABLE sc_gold.Features_Table AS\n",
    "SELECT\n",
    "  *,\n",
    "  CASE\n",
    "    WHEN month(created_time) IN (12, 1, 2) THEN 'Winter'\n",
    "    WHEN month(created_time) IN (3, 4, 5) THEN 'Spring'\n",
    "    WHEN month(created_time) IN (6, 7, 8) THEN 'Summer'\n",
    "    ELSE 'Autumn'\n",
    "  END AS Season\n",
    "FROM sc_gold.Features_Table;\n",
    "\n",
    "--I created a Season for ML Models ( thinking in the prediction already)\n"
   ]
  },
  {
   "cell_type": "code",
   "execution_count": 0,
   "metadata": {
    "application/vnd.databricks.v1+cell": {
     "cellMetadata": {
      "byteLimit": 2048000,
      "implicitDf": true,
      "rowLimit": 10000
     },
     "inputWidgets": {},
     "nuid": "ff194c0e-c764-4706-a4ea-3c5e9d0455fb",
     "showTitle": false,
     "tableResultSettingsMap": {},
     "title": ""
    }
   },
   "outputs": [],
   "source": [
    "%sql\n",
    "CREATE OR REPLACE TABLE sc_gold.Features_Table AS\n",
    "SELECT\n",
    "  *,\n",
    "  datediff(created_time_deals, created_time) AS lead_to_deal_days\n",
    "FROM sc_gold.Features_Table;\n",
    "\n",
    "-- this is deals date- leads date to give the number of days that take , for my surprise there are negatives but can be typos or retroactive data entry → A deal was created manually before the lead was officially entered in the CRM.\n"
   ]
  },
  {
   "cell_type": "code",
   "execution_count": 0,
   "metadata": {
    "application/vnd.databricks.v1+cell": {
     "cellMetadata": {
      "byteLimit": 2048000,
      "implicitDf": true,
      "rowLimit": 10000
     },
     "inputWidgets": {},
     "nuid": "b9728670-19b5-4403-8aca-93b0f1a50999",
     "showTitle": false,
     "tableResultSettingsMap": {},
     "title": ""
    }
   },
   "outputs": [],
   "source": [
    "%sql\n",
    "CREATE OR REPLACE TABLE sc_gold.Features_Table AS\n",
    "SELECT\n",
    "  *,\n",
    "  CASE\n",
    "    WHEN datediff(created_time_deals, created_time) <= 7 THEN 'Fast'\n",
    "    WHEN datediff(created_time_deals, created_time) <= 30 THEN 'Medium'\n",
    "    ELSE 'Slow'\n",
    "  END AS deal_speed_category\n",
    "FROM sc_gold.Features_Table;\n",
    "\n"
   ]
  },
  {
   "cell_type": "code",
   "execution_count": 0,
   "metadata": {
    "application/vnd.databricks.v1+cell": {
     "cellMetadata": {
      "byteLimit": 2048000,
      "implicitDf": true,
      "rowLimit": 10000
     },
     "inputWidgets": {},
     "nuid": "352a5a3f-0cb8-4345-bb8f-9fc00111959b",
     "showTitle": false,
     "tableResultSettingsMap": {},
     "title": ""
    }
   },
   "outputs": [],
   "source": [
    "%sql\n",
    "CREATE OR REPLACE TABLE sc_gold.Features_Table AS\n",
    "SELECT\n",
    "  *,\n",
    "  CASE\n",
    "    WHEN created_time_deals < created_time THEN 1\n",
    "    ELSE 0\n",
    "  END AS deal_before_lead\n",
    "FROM sc_gold.Features_Table;\n"
   ]
  },
  {
   "cell_type": "code",
   "execution_count": 0,
   "metadata": {
    "application/vnd.databricks.v1+cell": {
     "cellMetadata": {
      "byteLimit": 2048000,
      "implicitDf": true,
      "rowLimit": 10000
     },
     "inputWidgets": {},
     "nuid": "090334ba-e4a9-4955-8a5c-5a9a59b0bb3a",
     "showTitle": false,
     "tableResultSettingsMap": {},
     "title": ""
    }
   },
   "outputs": [],
   "source": [
    "%sql\n",
    "CREATE OR REPLACE TABLE sc_gold.Features_Table AS\n",
    "SELECT\n",
    "  *,\n",
    "  CASE\n",
    "    WHEN dayofweek(created_time) IN (1,7) THEN 1\n",
    "    ELSE 0\n",
    "  END AS is_weekend_lead\n",
    "FROM sc_gold.Features_Table;\n"
   ]
  },
  {
   "cell_type": "code",
   "execution_count": 0,
   "metadata": {
    "application/vnd.databricks.v1+cell": {
     "cellMetadata": {
      "byteLimit": 2048000,
      "implicitDf": true,
      "rowLimit": 10000
     },
     "inputWidgets": {},
     "nuid": "2063a1bd-e3cd-4732-805c-548510bf3251",
     "showTitle": false,
     "tableResultSettingsMap": {},
     "title": ""
    }
   },
   "outputs": [],
   "source": [
    "%sql\n",
    "CREATE OR REPLACE TABLE sc_gold.Features_Table AS\n",
    "SELECT\n",
    "  *,\n",
    "  CASE\n",
    "    WHEN day(created_time_deals) >= 25 THEN 1\n",
    "    ELSE 0\n",
    "  END AS is_month_end_deal\n",
    "FROM sc_gold.Features_Table;\n"
   ]
  },
  {
   "cell_type": "code",
   "execution_count": 0,
   "metadata": {
    "application/vnd.databricks.v1+cell": {
     "cellMetadata": {
      "byteLimit": 2048000,
      "implicitDf": true,
      "rowLimit": 10000
     },
     "inputWidgets": {},
     "nuid": "d1562696-b36d-4a96-98af-2a7c2b70a9f4",
     "showTitle": false,
     "tableResultSettingsMap": {},
     "title": ""
    }
   },
   "outputs": [],
   "source": [
    "%sql\n",
    "CREATE OR REPLACE TABLE sc_gold.Features_Table\n",
    "SELECT \n",
    "    *,\n",
    "    CASE \n",
    "        WHEN qtd_viaturas_deals = 0 OR qtd_viaturas_deals IS NULL \n",
    "        THEN 0\n",
    "        ELSE num_de_propostas_deals / qtd_viaturas_deals\n",
    "    END AS proposals_per_vehicle\n",
    "FROM sc_gold.Features_Table;\n"
   ]
  },
  {
   "cell_type": "code",
   "execution_count": 0,
   "metadata": {
    "application/vnd.databricks.v1+cell": {
     "cellMetadata": {
      "byteLimit": 2048000,
      "implicitDf": true,
      "rowLimit": 10000
     },
     "inputWidgets": {},
     "nuid": "a27b647e-2347-410a-8f97-ef06aca63641",
     "showTitle": false,
     "tableResultSettingsMap": {},
     "title": ""
    }
   },
   "outputs": [],
   "source": [
    "%sql\n",
    "CREATE OR REPLACE TABLE sc_gold.Features_Table AS\n",
    "SELECT\n",
    "  *,\n",
    "  year(created_time)  AS lead_year,\n",
    "  month(created_time) AS lead_month\n",
    "FROM sc_gold.Features_Table;\n"
   ]
  },
  {
   "cell_type": "code",
   "execution_count": 0,
   "metadata": {
    "application/vnd.databricks.v1+cell": {
     "cellMetadata": {
      "byteLimit": 2048000,
      "implicitDf": true,
      "rowLimit": 10000
     },
     "inputWidgets": {},
     "nuid": "f2c5568e-ad1f-45da-82d6-7a44c56f8825",
     "showTitle": false,
     "tableResultSettingsMap": {},
     "title": ""
    }
   },
   "outputs": [],
   "source": [
    "%sql\n",
    "SELECT * FROM sc_gold.features_table"
   ]
  },
  {
   "cell_type": "code",
   "execution_count": 0,
   "metadata": {
    "application/vnd.databricks.v1+cell": {
     "cellMetadata": {
      "byteLimit": 2048000,
      "rowLimit": 10000
     },
     "inputWidgets": {},
     "nuid": "d3a6f101-4b85-4b98-a910-55d3d117c40e",
     "showTitle": false,
     "tableResultSettingsMap": {},
     "title": ""
    }
   },
   "outputs": [],
   "source": [
    "cols_to_delete = [\n",
    "    \"created_time\",\n",
    "    \"activities_involved\",\n",
    "    \"created_time_deals\"\n",
    "]\n",
    "\n",
    "src_tbl = \"sc_gold.Features_Table\"\n",
    "\n",
    "# compute keep list dynamically\n",
    "all_cols = spark.table(src_tbl).columns\n",
    "keep_cols = [c for c in all_cols if c not in cols_to_delete]\n",
    "keep_sql = \", \".join([f\"`{c}`\" for c in keep_cols])  # safe quoting\n",
    "\n",
    "# snapshot and recreate table with only keep_cols\n",
    "spark.sql(f\"CREATE OR REPLACE TEMP VIEW _src AS SELECT * FROM {src_tbl}\")\n",
    "\n",
    "spark.sql(f\"\"\"\n",
    "CREATE OR REPLACE TABLE {src_tbl}\n",
    "USING DELTA AS\n",
    "SELECT {keep_sql} FROM _src\n",
    "\"\"\")\n",
    "\n",
    "spark.sql(\"DROP VIEW _src\")\n"
   ]
  },
  {
   "cell_type": "code",
   "execution_count": 0,
   "metadata": {
    "application/vnd.databricks.v1+cell": {
     "cellMetadata": {
      "byteLimit": 2048000,
      "implicitDf": true,
      "rowLimit": 10000
     },
     "inputWidgets": {},
     "nuid": "6075ba41-e551-469c-b104-b9db9b8c4982",
     "showTitle": false,
     "tableResultSettingsMap": {
      "0": {
       "dataGridStateBlob": "{\"version\":1,\"tableState\":{\"columnPinning\":{\"left\":[\"#row_number#\"],\"right\":[]},\"columnSizing\":{},\"columnVisibility\":{}},\"settings\":{\"columns\":{}},\"syncTimestamp\":1757799581949}",
       "filterBlob": null,
       "queryPlanFiltersBlob": null,
       "tableResultIndex": 0
      }
     },
     "title": ""
    }
   },
   "outputs": [],
   "source": [
    "%sql\n",
    "SELECT * FROM sc_gold.Features_Table"
   ]
  },
  {
   "cell_type": "code",
   "execution_count": 0,
   "metadata": {
    "application/vnd.databricks.v1+cell": {
     "cellMetadata": {
      "byteLimit": 2048000,
      "implicitDf": true,
      "rowLimit": 10000
     },
     "inputWidgets": {},
     "nuid": "2ef8019f-41b0-46bf-9b3f-b042ccc74a1a",
     "showTitle": false,
     "tableResultSettingsMap": {},
     "title": ""
    }
   },
   "outputs": [],
   "source": [
    "%sql\n",
    "SELECT\n",
    "  is_converted,\n",
    "  COUNT(*) AS total_leads\n",
    "FROM sc_gold.leads_pbs\n",
    "GROUP BY is_converted\n",
    "ORDER BY is_converted;\n",
    "\n"
   ]
  },
  {
   "cell_type": "code",
   "execution_count": 0,
   "metadata": {
    "application/vnd.databricks.v1+cell": {
     "cellMetadata": {
      "byteLimit": 2048000,
      "rowLimit": 10000
     },
     "inputWidgets": {},
     "nuid": "a406e380-36b9-41af-8319-6646bf2200d8",
     "showTitle": false,
     "tableResultSettingsMap": {},
     "title": ""
    }
   },
   "outputs": [],
   "source": [
    "# === Replace your cols_to_delete with this one (excludes columns you already removed) ===\n",
    "cols_to_delete = [\n",
    "    # ----------------------------\n",
    "    # LEAKAGE (deal/post-outcome) — info not available at lead time\n",
    "    # ----------------------------\n",
    "    \"lead_status\",                    # leakage: deal-stage info\n",
    "    \"lead_status_2\",                  # leakage: deal-stage variant\n",
    "    \"stage_deals\",                          # leakage: pipeline stage after lead\n",
    "    \"forecast_type_deals\",                  # leakage\n",
    "    \"motivo_fecho_negocio_deals\",           # leakage: reason for closing\n",
    "     \"categoria_negocio_venda_deals\",        # leakage; also mostly null in many exports\n",
    "    \"modelo_de_venda_deals\",                # leakage; often mostly null\n",
    "    \"tipo_de_negocio_deals\",                # leakage; often mostly null\n",
    "        \"tipo_de_pedido\",                 # leakage\n",
    "         \"tipo_de_pedido_contactos\",                 # leakage\n",
    "           \"categoria_proposta_propostas\",                       # leakage\n",
    "           \"activities_involved_deals\",            # leakage: totals up to close\n",
    " \n",
    "\n",
    "    # ----------------------------\n",
    "    # ID-like / keys (non-predictive & high-unique)\n",
    "    # ----------------------------\n",
    "    \"contrato_concessionario_deals\",        # ID-like (deal)\n",
    "    \"contrato_concessionario\",              # ID-like\n",
    "    \"contrato_concessionario_contactos\",    # ID-like\n",
    "    \"concessionario_escolhido\",             # ID-like / chosen dealer\n",
    "    \"estado_do_pedido_propostas\",           # often key-like / admin-ish\n",
    "\n",
    "    # ----------------------------\n",
    "    # Data quality: free text / high null / near-constant / high-cardinality\n",
    "    # ----------------------------\n",
    "    \"descricao_classe_propostas\",           # free text / mostly null\n",
    "    \"subject_propostas\",                    # free text / high-cardinality\n",
    "    \"margem_frota_eni_propostas\",           # mostly null\n",
    "    \"sub_total_com_extras_propostas\",       # mostly null\n",
    "    \"valor_aprovado_propostas\",             # mostly null\n",
    "    \"valor_extras_propostas\",               # mostly null\n",
    "    \"valor_do_apoio_pedido_propostas\",      # mostly null; also key-like in some exports\n",
    "    \"n__matriculas_associadas_deals\"        # near-constant / mostly null (deal-level)\n",
    "]\n",
    "\n",
    "src_tbl = \"sc_gold.Features_Table\"\n",
    "\n",
    "# compute keep list dynamically from live schema\n",
    "all_cols = spark.table(src_tbl).columns\n",
    "keep_cols = [c for c in all_cols if c not in cols_to_delete]\n",
    "keep_sql = \", \".join([f\"`{c}`\" for c in keep_cols])  # safe quoting\n",
    "\n",
    "# snapshot and recreate table with only keep_cols\n",
    "spark.sql(f\"CREATE OR REPLACE TEMP VIEW _src AS SELECT * FROM {src_tbl}\")\n",
    "\n",
    "spark.sql(f\"\"\"\n",
    "CREATE OR REPLACE TABLE {src_tbl}\n",
    "USING DELTA AS\n",
    "SELECT {keep_sql} FROM _src\n",
    "\"\"\")\n",
    "\n",
    "spark.sql(\"DROP VIEW _src\")\n"
   ]
  },
  {
   "cell_type": "code",
   "execution_count": 0,
   "metadata": {
    "application/vnd.databricks.v1+cell": {
     "cellMetadata": {
      "byteLimit": 2048000,
      "implicitDf": true,
      "rowLimit": 10000
     },
     "inputWidgets": {},
     "nuid": "950e162e-5e6e-4914-a4fa-16b25ea7f4cd",
     "showTitle": false,
     "tableResultSettingsMap": {
      "0": {
       "dataGridStateBlob": "{\"version\":1,\"tableState\":{\"columnPinning\":{\"left\":[\"#row_number#\"],\"right\":[]},\"columnSizing\":{},\"columnVisibility\":{}},\"settings\":{\"columns\":{}},\"syncTimestamp\":1757809256273}",
       "filterBlob": null,
       "queryPlanFiltersBlob": null,
       "tableResultIndex": 0
      }
     },
     "title": ""
    }
   },
   "outputs": [],
   "source": [
    "%sql\n",
    "SELECT * FROM sc_gold.Features_Table"
   ]
  },
  {
   "cell_type": "code",
   "execution_count": 0,
   "metadata": {
    "application/vnd.databricks.v1+cell": {
     "cellMetadata": {
      "byteLimit": 2048000,
      "rowLimit": 10000
     },
     "inputWidgets": {},
     "nuid": "c5b87046-3c3c-448e-a0dd-64049529f782",
     "showTitle": false,
     "tableResultSettingsMap": {},
     "title": ""
    }
   },
   "outputs": [],
   "source": [
    "from pyspark.sql import functions as F\n",
    "\n",
    "tbl = \"sc_gold.Features_Table\"\n",
    "cols = [\n",
    "    \"concessao\",\n",
    "    \"instalacao\",\n",
    "    \"agrupamento_performance_vendas\",\n",
    "    \"agrupamento_cliente\",\n",
    "    \"concessao_contactos\",\n",
    "    \"instalacao_contactos\",\n",
    "    \"agrupamento_performance_vendas_contactos\",\n",
    "    \"agrupamento_cliente_contactos\",\n",
    "    \"concessao_propostas\",\n",
    "    \"concessao_deals\",\n",
    "    \"instalacao_deals\",\n",
    "    \"agrupamento_performance_vendas_deals\",\n",
    "    \"agrupamento_cliente_deals\",\n",
    "]\n",
    "\n",
    "df = spark.table(tbl)\n",
    "present = [c for c in cols if c in df.columns]\n",
    "exprs = [\n",
    "    (F.sum(F.when(F.col(c).isNull(), 1).otherwise(0)).alias(c)) for c in present\n",
    "]\n",
    "res = df.agg(*exprs).collect()[0].asDict()\n",
    "total = df.count()\n",
    "\n",
    "out = [{\"column\": c, \"null_count\": int(res.get(c, 0)), \"rows_total\": total,\n",
    "        \"null_pct\": f\"{(res.get(c, 0)/total)*100:.2f}%\"} for c in present]\n",
    "for c in cols:\n",
    "    if c not in present:\n",
    "        out.append({\"column\": c, \"null_count\": \"—\", \"rows_total\": total, \"null_pct\": \"not in table\"})\n",
    "\n",
    "spark.createDataFrame(out).orderBy(\"column\").show(truncate=False)\n"
   ]
  },
  {
   "cell_type": "code",
   "execution_count": 0,
   "metadata": {
    "application/vnd.databricks.v1+cell": {
     "cellMetadata": {
      "byteLimit": 2048000,
      "rowLimit": 10000
     },
     "inputWidgets": {},
     "nuid": "2975a9a6-7462-4ab8-b4b7-a2982216f37f",
     "showTitle": false,
     "tableResultSettingsMap": {},
     "title": ""
    }
   },
   "outputs": [],
   "source": [
    "# === Replace your cols_to_delete with this one (excludes columns you already removed) ===\n",
    "cols_to_delete = [\n",
    "    # ----------------------------\n",
    "    # LEAKAGE (deal/post-outcome) — info not available at lead time\n",
    "    # ----------------------------\n",
    "    \"lead_status\",                    # leakage: deal-stage info\n",
    "    \"instalacao\",\n",
    "    \"agrupamento_performance_vendas\",\n",
    "    \"agrupamento_cliente\",\n",
    "    \"instalacao_contactos\",\n",
    "    \"agrupamento_performance_vendas_contactos\",\n",
    "    \"agrupamento_cliente_contactos\",\n",
    "    \"concessao_propostas\",\n",
    "    \"concessao_deals\",\n",
    "    \"instalacao_deals\",\n",
    "    \"agrupamento_performance_vendas_deals\",\n",
    "    \"agrupamento_cliente_deals\" ]\n",
    "\n",
    "src_tbl = \"sc_gold.Features_Table\"\n",
    "\n",
    "# compute keep list dynamically from live schema\n",
    "all_cols = spark.table(src_tbl).columns\n",
    "keep_cols = [c for c in all_cols if c not in cols_to_delete]\n",
    "keep_sql = \", \".join([f\"`{c}`\" for c in keep_cols])  # safe quoting\n",
    "\n",
    "# snapshot and recreate table with only keep_cols\n",
    "spark.sql(f\"CREATE OR REPLACE TEMP VIEW _src AS SELECT * FROM {src_tbl}\")\n",
    "\n",
    "spark.sql(f\"\"\"\n",
    "CREATE OR REPLACE TABLE {src_tbl}\n",
    "USING DELTA AS\n",
    "SELECT {keep_sql} FROM _src\n",
    "\"\"\")\n",
    "\n",
    "spark.sql(\"DROP VIEW _src\")"
   ]
  },
  {
   "cell_type": "code",
   "execution_count": 0,
   "metadata": {
    "application/vnd.databricks.v1+cell": {
     "cellMetadata": {
      "byteLimit": 2048000,
      "rowLimit": 10000
     },
     "inputWidgets": {},
     "nuid": "179b8217-86cf-44ed-bbcd-acdc09f36885",
     "showTitle": false,
     "tableResultSettingsMap": {},
     "title": ""
    }
   },
   "outputs": [],
   "source": [
    "from pyspark.sql import functions as F\n",
    "\n",
    "#since nulls are only 0.07%, filling with the mode (most frequent value) is a very good option.\n",
    "#Fill with mean/median\n",
    "#Median = more robust to skew/outliers.\n",
    "\n",
    "col_name = \"tipo_cliente_contactos\"\n",
    "\n",
    "# get mode (most frequent value)\n",
    "mode_value = (\n",
    "    df.groupBy(col_name)\n",
    "      .count()\n",
    "      .orderBy(F.desc(\"count\"))\n",
    "      .first()[0]\n",
    ")\n",
    "\n",
    "# fill nulls with mode\n",
    "df = df.na.fill({col_name: mode_value})\n",
    "\n",
    "# overwrite the existing table\n",
    "df.write.mode(\"overwrite\").saveAsTable(\"sc_gold.Features_Table\")\n"
   ]
  },
  {
   "cell_type": "code",
   "execution_count": 0,
   "metadata": {
    "application/vnd.databricks.v1+cell": {
     "cellMetadata": {
      "byteLimit": 2048000,
      "rowLimit": 10000
     },
     "inputWidgets": {},
     "nuid": "36809eaf-f4af-4d3f-bbca-f54fe3f7f9a1",
     "showTitle": false,
     "tableResultSettingsMap": {},
     "title": ""
    }
   },
   "outputs": [],
   "source": [
    "from pyspark.sql import functions as F\n",
    "\n",
    "#this one looks numeric (proposals_per_vehicle) with small percentage of nulls (2.53%). That’s easy to handle.\n",
    "\n",
    "\n",
    "col_name = \"proposals_per_vehicle\"\n",
    "\n",
    "# calculate median\n",
    "median_val = df.approxQuantile(col_name, [0.5], 0.01)[0]  # 0.5 = median, tolerance=0.01\n",
    "\n",
    "# print the median\n",
    "print(f\"Median value for {col_name}: {median_val}\")\n",
    "\n",
    "# fill nulls with median\n",
    "df = df.na.fill({col_name: median_val})\n"
   ]
  },
  {
   "cell_type": "code",
   "execution_count": 0,
   "metadata": {
    "application/vnd.databricks.v1+cell": {
     "cellMetadata": {
      "byteLimit": 2048000,
      "implicitDf": true,
      "rowLimit": 10000
     },
     "inputWidgets": {},
     "nuid": "16088a91-a52f-4cbd-a735-6a6b4a63e476",
     "showTitle": false,
     "tableResultSettingsMap": {
      "0": {
       "dataGridStateBlob": "{\"version\":1,\"tableState\":{\"columnPinning\":{\"left\":[\"#row_number#\"],\"right\":[]},\"columnSizing\":{},\"columnVisibility\":{}},\"settings\":{\"columns\":{}},\"syncTimestamp\":1757862983349}",
       "filterBlob": null,
       "queryPlanFiltersBlob": null,
       "tableResultIndex": 0
      }
     },
     "title": ""
    }
   },
   "outputs": [],
   "source": [
    "%sql\n",
    "SELECT * FROM sc_gold.Features_Table"
   ]
  },
  {
   "cell_type": "code",
   "execution_count": 0,
   "metadata": {
    "application/vnd.databricks.v1+cell": {
     "cellMetadata": {
      "byteLimit": 2048000,
      "rowLimit": 10000
     },
     "inputWidgets": {},
     "nuid": "4d2641fe-21a2-4d17-bdd3-91d556279a3d",
     "showTitle": false,
     "tableResultSettingsMap": {
      "0": {
       "dataGridStateBlob": "{\"version\":1,\"tableState\":{\"columnPinning\":{\"left\":[\"#row_number#\"],\"right\":[]},\"columnSizing\":{\"column\":239},\"columnVisibility\":{}},\"settings\":{\"columns\":{}},\"syncTimestamp\":1757857561261}",
       "filterBlob": null,
       "queryPlanFiltersBlob": null,
       "tableResultIndex": 0
      }
     },
     "title": ""
    }
   },
   "outputs": [],
   "source": [
    "from pyspark.sql import functions as F\n",
    "\n",
    "TBL = \"sc_gold.Features_Table\"\n",
    "df = spark.table(TBL)\n",
    "\n",
    "row_count = df.count()\n",
    "dtypes = dict(df.dtypes)\n",
    "\n",
    "# --- STRICT NULLS ONLY (what you asked) ---\n",
    "null_aggs = [F.sum(F.when(F.col(c).isNull(), 1).otherwise(0)).alias(c) for c in df.columns]\n",
    "null_row = df.agg(*null_aggs).collect()[0].asDict()\n",
    "\n",
    "rows = []\n",
    "for c in df.columns:\n",
    "    n_null = int(null_row.get(c, 0))\n",
    "    rows.append((c, dtypes[c], n_null, row_count, f\"{(n_null/row_count)*100:.2f}%\"))\n",
    "\n",
    "out = spark.createDataFrame(rows, [\"column\", \"dtype\", \"null_count\", \"rows_total\", \"null_pct\"])\n",
    "display(out.orderBy(F.desc(\"null_pct\")))\n"
   ]
  },
  {
   "cell_type": "code",
   "execution_count": 0,
   "metadata": {
    "application/vnd.databricks.v1+cell": {
     "cellMetadata": {
      "byteLimit": 2048000,
      "rowLimit": 10000
     },
     "inputWidgets": {},
     "nuid": "58a49f0f-339f-49c6-8c0a-b70ec7a4d02d",
     "showTitle": false,
     "tableResultSettingsMap": {},
     "title": ""
    }
   },
   "outputs": [],
   "source": [
    "# === Replace your cols_to_delete with this one (excludes columns you already removed) ===\n",
    "cols_to_delete = [\n",
    "    # ----------------------------\n",
    "    # LEAKAGE (deal/post-outcome) — info not available at lead time\n",
    "    # ----------------------------\n",
    "    \"lead_status\",  \n",
    "      \"apoio_total_propostas\",\n",
    "    \"forma_de_pagamento_propostas\",\n",
    "    \"apoio_concessionario_propostas\",\n",
    "    \"comparticipacao_retoma_concessao_propostas\",\n",
    "    \"apoio_retoma_hyundai_propostas\",\n",
    "    \"apoio_financiamento_cetelem_propostas\",\n",
    "    \"formulario_deals\",\n",
    "    \"comparticipacao_campanha_da_concessao_propostas\",\n",
    "    \"lead_conversion_time_deals\",\n",
    "    \"apoio_campanha_hyundai_propostas\",\n",
    "    \"probability_____deals\",\n",
    "    \"distrito\",\n",
    "    \"apoio_hyundai_portugal_propostas\",\n",
    "    \"valor_campanha_propostas\",\n",
    "    \"desconto_total__c__apoio_de_importador__propostas\",\n",
    "    \"categoria_negocio_deals\",\n",
    "        \"distrito_contactos\",\n",
    "    \"estado_ordering_propostas\",\n",
    "    \"tasks_involved_deals\",\n",
    "    \"events_involved_deals\",\n",
    "    \"calls_involved_deals\",\n",
    "    \"desconto_total_propostas\",\n",
    "                 \n",
    "   ]\n",
    "\n",
    "src_tbl = \"sc_gold.Features_Table\"\n",
    "\n",
    "# compute keep list dynamically from live schema\n",
    "all_cols = spark.table(src_tbl).columns\n",
    "keep_cols = [c for c in all_cols if c not in cols_to_delete]\n",
    "keep_sql = \", \".join([f\"`{c}`\" for c in keep_cols])  # safe quoting\n",
    "\n",
    "# snapshot and recreate table with only keep_cols\n",
    "spark.sql(f\"CREATE OR REPLACE TEMP VIEW _src AS SELECT * FROM {src_tbl}\")\n",
    "\n",
    "spark.sql(f\"\"\"\n",
    "CREATE OR REPLACE TABLE {src_tbl}\n",
    "USING DELTA AS\n",
    "SELECT {keep_sql} FROM _src\n",
    "\"\"\")\n",
    "\n",
    "spark.sql(\"DROP VIEW _src\")"
   ]
  },
  {
   "cell_type": "code",
   "execution_count": 0,
   "metadata": {
    "application/vnd.databricks.v1+cell": {
     "cellMetadata": {
      "byteLimit": 2048000,
      "rowLimit": 10000
     },
     "inputWidgets": {},
     "nuid": "4802e8ef-484f-43c4-92f0-cab74ceda634",
     "showTitle": false,
     "tableResultSettingsMap": {},
     "title": ""
    }
   },
   "outputs": [],
   "source": [
    "from pyspark.sql import functions as F\n",
    "\n",
    "TBL = \"sc_gold.Features_Table\"\n",
    "CHECK_COLS = [\"modelo\", \"modelo_contactos\", \"modelo_propostas\", \"modelos_deals\"]\n",
    "\n",
    "df = spark.table(TBL)\n",
    "present = [c for c in CHECK_COLS if c in df.columns]\n",
    "missing = [c for c in CHECK_COLS if c not in df.columns]\n",
    "\n",
    "row_count = df.count()\n",
    "# null counts for present columns\n",
    "nulls = (df.agg(*[F.sum(F.when(F.col(c).isNull(), 1).otherwise(0)).alias(c) for c in present])\n",
    "           .collect()[0]\n",
    "           .asDict())\n",
    "\n",
    "# build result rows\n",
    "rows = []\n",
    "for c in present:\n",
    "    n_null = int(nulls.get(c, 0))\n",
    "    rows.append((c, row_count, n_null, f\"{(n_null/row_count)*100:.2f}%\"))\n",
    "\n",
    "out = spark.createDataFrame(rows, [\"column\", \"rows_total\", \"null_count\", \"null_pct\"])\n",
    "display(out.orderBy(\"column\"))\n",
    "\n",
    "if missing:\n",
    "    print(\"Not found in table (skipped):\", missing)\n"
   ]
  },
  {
   "cell_type": "code",
   "execution_count": 0,
   "metadata": {
    "application/vnd.databricks.v1+cell": {
     "cellMetadata": {
      "byteLimit": 2048000,
      "rowLimit": 10000
     },
     "inputWidgets": {},
     "nuid": "8a960154-8fde-45c8-80b1-7bf5cb31c5fb",
     "showTitle": false,
     "tableResultSettingsMap": {},
     "title": ""
    }
   },
   "outputs": [],
   "source": [
    "# === Replace your cols_to_delete with this one (excludes columns you already removed) ===\n",
    "cols_to_delete = [\n",
    "    # ----------------------------\n",
    "    # LEAKAGE (deal/post-outcome) — info not available at lead time\n",
    "    # ----------------------------\n",
    "    \n",
    "    \"modelo_propostas\",\n",
    "    \"modelos_deals\", \n",
    "    \"formulario\",\n",
    "    \"tasks_only_deals\",\n",
    "    \"events_only_deals\",\n",
    "    \"calls_only_deals\",\n",
    "    \"tasks_involved\",\n",
    "    \"events_involved\",\n",
    "    \"calls_involved\",\n",
    "               \n",
    "   ]\n",
    "\n",
    "src_tbl = \"sc_gold.Features_Table\"\n",
    "\n",
    "# compute keep list dynamically from live schema\n",
    "all_cols = spark.table(src_tbl).columns\n",
    "keep_cols = [c for c in all_cols if c not in cols_to_delete]\n",
    "keep_sql = \", \".join([f\"`{c}`\" for c in keep_cols])  # safe quoting\n",
    "\n",
    "# snapshot and recreate table with only keep_cols\n",
    "spark.sql(f\"CREATE OR REPLACE TEMP VIEW _src AS SELECT * FROM {src_tbl}\")\n",
    "\n",
    "spark.sql(f\"\"\"\n",
    "CREATE OR REPLACE TABLE {src_tbl}\n",
    "USING DELTA AS\n",
    "SELECT {keep_sql} FROM _src\n",
    "\"\"\")\n",
    "\n",
    "spark.sql(\"DROP VIEW _src\")"
   ]
  },
  {
   "cell_type": "code",
   "execution_count": 0,
   "metadata": {
    "application/vnd.databricks.v1+cell": {
     "cellMetadata": {
      "byteLimit": 2048000,
      "rowLimit": 10000
     },
     "inputWidgets": {},
     "nuid": "267bcd05-ee19-4397-a8af-a75fe02e3fac",
     "showTitle": false,
     "tableResultSettingsMap": {},
     "title": ""
    }
   },
   "outputs": [],
   "source": [
    "from pyspark.sql import functions as F\n",
    "\n",
    "TBL = \"sc_gold.Features_Table\"\n",
    "df = spark.table(TBL)\n",
    "\n",
    "row_count = df.count()\n",
    "dtypes = dict(df.dtypes)\n",
    "\n",
    "# --- STRICT NULLS ONLY (what you asked) ---\n",
    "null_aggs = [F.sum(F.when(F.col(c).isNull(), 1).otherwise(0)).alias(c) for c in df.columns]\n",
    "null_row = df.agg(*null_aggs).collect()[0].asDict()\n",
    "\n",
    "rows = []\n",
    "for c in df.columns:\n",
    "    n_null = int(null_row.get(c, 0))\n",
    "    rows.append((c, dtypes[c], n_null, row_count, f\"{(n_null/row_count)*100:.2f}%\"))\n",
    "\n",
    "out = spark.createDataFrame(rows, [\"column\", \"dtype\", \"null_count\", \"rows_total\", \"null_pct\"])\n",
    "display(out.orderBy(F.desc(\"null_pct\")))"
   ]
  },
  {
   "cell_type": "code",
   "execution_count": 0,
   "metadata": {
    "application/vnd.databricks.v1+cell": {
     "cellMetadata": {
      "byteLimit": 2048000,
      "rowLimit": 10000
     },
     "inputWidgets": {},
     "nuid": "344f3d25-3859-4c36-bdce-1e08adb520a5",
     "showTitle": false,
     "tableResultSettingsMap": {},
     "title": ""
    }
   },
   "outputs": [],
   "source": [
    "# === Replace your cols_to_delete with this one ===\n",
    "cols_to_delete = [\n",
    "    # ----------------------------\n",
    "    # DEAL / POST-OUTCOME LEAKAGE  (*_deals)\n",
    "    # ----------------------------\n",
    "    \"formulario_contactos\",\n",
    "    \"is_converted\",\n",
    "    \"tasks_involved\",\n",
    "    \"events_involved\",\n",
    "    \"calls_involded\",\n",
    "    \"tasks_involved_contactos\",\n",
    "    \"events_involved_contactos\",\n",
    "    \"calls_involded_contactos\",\n",
    "    \"activities_involved_contactos\",\n",
    "    \"email_opt_out_contactos\",\n",
    "    \"salutation_contactos\",\n",
    "    \"pais_contactos\",\n",
    "            \"tipo_cliente_propostas\",\n",
    "      \"isv_propostas\",\n",
    "    \"pintura_propostas\",\n",
    "    \"base_tributavel_propostas\",\n",
    "    \"legalizacao_propostas\",\n",
    "    \"iuc_propostas\",\n",
    "    \"preco_total_propostas\",\n",
    "    \"iva_propostas\",\n",
    "    \"sub_total_com_desconto_propostas\",\n",
    "    \"taxa_propostas\",\n",
    "    \"total_final_propostas\",\n",
    "    \"s_g_p_u__propostas\",\n",
    "     \"tasks_only_deals\",\n",
    "    \"events_only_deals\",\n",
    "    \"calls_only_deals\",\n",
    "    \"caracterizacao_contactos\",\n",
    "        \"caracterizacao_deals\",\n",
    "    \"n__matriculas_por_associar_deals\",\n",
    "    \"tipo_cliente_negocio_deals\",\n",
    "    \"sales_cycle_duration_deals\",\n",
    "    \"calls_involved_contactos\",\n",
    "    \"concessao\",\n",
    "    \"origem_contactos\",\n",
    "    \"proposta_realizada_stage_propostas\",\n",
    "    \"valor_base_propostas\",\n",
    "    \"preco_base_propostas\",\n",
    "    \"age_tier_deals\",\n",
    "    \"num_de_propostas_deals\",\n",
    "    \"qtd_viaturas_propostas\",\n",
    "    \"qtd_viaturas_deals\",\n",
    "    \"age_in_days_deals\",\n",
    "    \"modelo\",\n",
    "]\n",
    " \n",
    "\n",
    "\n",
    "src_tbl = \"sc_gold.Features_Table\"\n",
    "\n",
    "# compute keep list dynamically from live schema\n",
    "all_cols = spark.table(src_tbl).columns\n",
    "keep_cols = [c for c in all_cols if c not in cols_to_delete]\n",
    "keep_sql = \", \".join([f\"`{c}`\" for c in keep_cols])  # safe quoting\n",
    "\n",
    "# snapshot and recreate table with only keep_cols\n",
    "spark.sql(f\"CREATE OR REPLACE TEMP VIEW _src AS SELECT * FROM {src_tbl}\")\n",
    "spark.sql(f\"\"\"\n",
    "CREATE OR REPLACE TABLE {src_tbl}\n",
    "USING DELTA AS\n",
    "SELECT {keep_sql} FROM _src\n",
    "\"\"\")\n",
    "spark.sql(\"DROP VIEW _src\")\n"
   ]
  },
  {
   "cell_type": "code",
   "execution_count": 0,
   "metadata": {
    "application/vnd.databricks.v1+cell": {
     "cellMetadata": {
      "byteLimit": 2048000,
      "rowLimit": 10000
     },
     "inputWidgets": {},
     "nuid": "2530c400-abeb-4f1c-ad1d-f558e80ce072",
     "showTitle": false,
     "tableResultSettingsMap": {},
     "title": ""
    }
   },
   "outputs": [],
   "source": [
    "from pyspark.sql import functions as F\n",
    "\n",
    "TBL = \"sc_gold.Features_Table\"\n",
    "df = spark.table(TBL)\n",
    "\n",
    "row_count = df.count()\n",
    "dtypes = dict(df.dtypes)\n",
    "\n",
    "# --- STRICT NULLS ONLY (what you asked) ---\n",
    "null_aggs = [F.sum(F.when(F.col(c).isNull(), 1).otherwise(0)).alias(c) for c in df.columns]\n",
    "null_row = df.agg(*null_aggs).collect()[0].asDict()\n",
    "\n",
    "rows = []\n",
    "for c in df.columns:\n",
    "    n_null = int(null_row.get(c, 0))\n",
    "    rows.append((c, dtypes[c], n_null, row_count, f\"{(n_null/row_count)*100:.2f}%\"))\n",
    "\n",
    "out = spark.createDataFrame(rows, [\"column\", \"dtype\", \"null_count\", \"rows_total\", \"null_pct\"])\n",
    "display(out.orderBy(F.desc(\"null_pct\")))"
   ]
  },
  {
   "cell_type": "code",
   "execution_count": 0,
   "metadata": {
    "application/vnd.databricks.v1+cell": {
     "cellMetadata": {
      "byteLimit": 2048000,
      "implicitDf": true,
      "rowLimit": 10000
     },
     "inputWidgets": {},
     "nuid": "fcf90b7a-ca82-4cbd-8881-be403fe3c2cc",
     "showTitle": false,
     "tableResultSettingsMap": {},
     "title": ""
    }
   },
   "outputs": [],
   "source": [
    "%sql\n",
    "\n",
    "SELECT * FROM sc_gold.features_table"
   ]
  },
  {
   "cell_type": "code",
   "execution_count": 0,
   "metadata": {
    "application/vnd.databricks.v1+cell": {
     "cellMetadata": {
      "byteLimit": 2048000,
      "rowLimit": 10000
     },
     "inputWidgets": {},
     "nuid": "87cb7a20-ed55-411d-93d6-640ea4fe9815",
     "showTitle": false,
     "tableResultSettingsMap": {},
     "title": ""
    }
   },
   "outputs": [],
   "source": [
    "from pyspark.sql import functions as F\n",
    "\n",
    "TBL = \"sc_gold.Features_Table\"\n",
    "df = spark.table(TBL)\n",
    "\n",
    "row_count = df.count()\n",
    "dtypes = dict(df.dtypes)\n",
    "\n",
    "# --- STRICT NULLS ONLY (what you asked) ---\n",
    "null_aggs = [F.sum(F.when(F.col(c).isNull(), 1).otherwise(0)).alias(c) for c in df.columns]\n",
    "null_row = df.agg(*null_aggs).collect()[0].asDict()\n",
    "\n",
    "rows = []\n",
    "for c in df.columns:\n",
    "    n_null = int(null_row.get(c, 0))\n",
    "    rows.append((c, dtypes[c], n_null, row_count, f\"{(n_null/row_count)*100:.2f}%\"))\n",
    "\n",
    "out = spark.createDataFrame(rows, [\"column\", \"dtype\", \"null_count\", \"rows_total\", \"null_pct\"])\n",
    "display(out.orderBy(F.desc(\"null_pct\")))"
   ]
  },
  {
   "cell_type": "code",
   "execution_count": 0,
   "metadata": {
    "application/vnd.databricks.v1+cell": {
     "cellMetadata": {
      "byteLimit": 2048000,
      "rowLimit": 10000
     },
     "inputWidgets": {},
     "nuid": "775873ab-10b8-48ff-83d5-5c46d7d89824",
     "showTitle": false,
     "tableResultSettingsMap": {},
     "title": ""
    }
   },
   "outputs": [],
   "source": [
    "from pyspark.sql import functions as F\n",
    "\n",
    "TABLE = \"sc_gold.features_table\"\n",
    "DIFF_COL = \"lead_to_deal_days\"\n",
    "\n",
    "# Load table\n",
    "sdf = spark.table(TABLE)\n",
    "\n",
    "# ---- Counts ----\n",
    "total = sdf.count()\n",
    "neg_count = sdf.filter(F.col(DIFF_COL) < 0).count()\n",
    "pos_count = total - neg_count\n",
    "neg_pct = round(100 * neg_count / total, 1) if total else 0.0\n",
    "pos_pct = round(100 * pos_count / total, 1) if total else 0.0\n",
    "\n",
    "print(f\"Total rows: {total}\")\n",
    "print(f\"Positive count: {pos_count} ({pos_pct}%)\")\n",
    "print(f\"Negative count: {neg_count} ({neg_pct}%)\")\n",
    "\n",
    "# ---- Distribution buckets for positives ----\n",
    "pos = (\n",
    "    sdf.filter(F.col(DIFF_COL) >= 0)\n",
    "       .withColumn(\n",
    "           \"pos_bucket\",\n",
    "           F.when(F.col(DIFF_COL) < 1, \"0–1d\")\n",
    "            .when(F.col(DIFF_COL) < 7, \"1–7d\")\n",
    "            .when(F.col(DIFF_COL) < 30, \"7–30d\")\n",
    "            .when(F.col(DIFF_COL) < 90, \"30–90d\")\n",
    "            .when(F.col(DIFF_COL) < 180, \"90–180d\")\n",
    "            .when(F.col(DIFF_COL) < 365, \"180–365d\")\n",
    "            .otherwise(\">365d\")\n",
    "       )\n",
    ")\n",
    "print(\"\\nPositive distribution by bucket:\")\n",
    "pos.groupBy(\"pos_bucket\").count().orderBy(\"pos_bucket\").show(truncate=False)\n",
    "\n",
    "# ---- Distribution buckets for negatives ----\n",
    "neg = (\n",
    "    sdf.filter(F.col(DIFF_COL) < 0)\n",
    "       .withColumn(\n",
    "           \"neg_bucket\",\n",
    "           F.when(F.col(DIFF_COL) >= -1, \"<1d early\")\n",
    "            .when(F.col(DIFF_COL) >= -7, \"1–7d early\")\n",
    "            .when(F.col(DIFF_COL) >= -30, \"7–30d early\")\n",
    "            .when(F.col(DIFF_COL) >= -90, \"30–90d early\")\n",
    "            .when(F.col(DIFF_COL) >= -180, \"90–180d early\")\n",
    "            .when(F.col(DIFF_COL) >= -365, \"180–365d early\")\n",
    "            .otherwise(\">365d early\")\n",
    "       )\n",
    ")\n",
    "print(\"\\nNegative distribution by bucket:\")\n",
    "neg.groupBy(\"neg_bucket\").count().orderBy(\"neg_bucket\").show(truncate=False)\n",
    "\n"
   ]
  },
  {
   "cell_type": "code",
   "execution_count": 0,
   "metadata": {
    "application/vnd.databricks.v1+cell": {
     "cellMetadata": {
      "byteLimit": 2048000,
      "rowLimit": 10000
     },
     "inputWidgets": {},
     "nuid": "e8f09f73-823a-4bb0-9a6e-64381e2e34b8",
     "showTitle": false,
     "tableResultSettingsMap": {},
     "title": ""
    }
   },
   "outputs": [],
   "source": [
    "# Databricks / PySpark + matplotlib\n",
    "\n",
    "from pyspark.sql import functions as F\n",
    "import matplotlib.pyplot as plt\n",
    "\n",
    "TABLE   = \"sc_gold.features_table\"\n",
    "DIFF_COL = \"lead_to_deal_days\"\n",
    "\n",
    "# 1) Load and keep only numeric, non-null diffs\n",
    "sdf = spark.table(TABLE).select(F.col(DIFF_COL).cast(\"double\").alias(\"diff_days\")).na.drop()\n",
    "\n",
    "# 2) Counts / percentages\n",
    "total = sdf.count()\n",
    "neg_count = sdf.filter(\"diff_days < 0\").count()\n",
    "pos_count = total - neg_count\n",
    "\n",
    "neg_pct = round(100 * neg_count / total, 1) if total else 0.0\n",
    "pos_pct = round(100 * pos_count / total, 1) if total else 0.0\n",
    "\n",
    "print(f\"Total rows: {total}\")\n",
    "print(f\"Positive (>=0) count: {pos_count}  ({pos_pct}%)\")\n",
    "print(f\"Negative (<0) count: {neg_count}  ({neg_pct}%)\")\n",
    "\n",
    "# 3) Bring to Pandas for plotting\n",
    "pdf = sdf.toPandas()\n",
    "\n",
    "# 4) Distribution graph (two histograms overlaid)\n",
    "plt.figure(figsize=(10,5))\n",
    "plt.hist(pdf.loc[pdf[\"diff_days\"]>=0, \"diff_days\"], bins=60, alpha=0.7, label=\"Positives (deal after lead)\")\n",
    "plt.hist(pdf.loc[pdf[\"diff_days\"]<0,  \"diff_days\"], bins=60, alpha=0.7, label=\"Negatives (deal before lead)\")\n",
    "plt.xlabel(\"Days difference (deal_created - lead_created)\")\n",
    "plt.ylabel(\"Number of records\")\n",
    "plt.title(\"Distribution of lead_to_deal_days (positives vs negatives)\")\n",
    "plt.legend()\n",
    "plt.tight_layout()\n",
    "plt.show()\n",
    "\n",
    "# (Optional) Zoomed view for 0–100 days to see the main cluster clearly\n",
    "plt.figure(figsize=(10,5))\n",
    "subset = pdf[(pdf[\"diff_days\"] >= 0) & (pdf[\"diff_days\"] <= 100)]\n",
    "plt.hist(subset[\"diff_days\"], bins=50, alpha=0.9)\n",
    "plt.xlabel(\"Days difference (0–100 days)\")\n",
    "plt.ylabel(\"Number of records\")\n",
    "plt.title(\"Positive differences (0–100 days)\")\n",
    "plt.tight_layout()\n",
    "plt.show()\n"
   ]
  },
  {
   "cell_type": "code",
   "execution_count": 0,
   "metadata": {
    "application/vnd.databricks.v1+cell": {
     "cellMetadata": {
      "byteLimit": 2048000,
      "rowLimit": 10000
     },
     "inputWidgets": {},
     "nuid": "53a8cdb9-1a7c-4346-a081-3e04f884b59f",
     "showTitle": false,
     "tableResultSettingsMap": {},
     "title": ""
    }
   },
   "outputs": [],
   "source": [
    "from pyspark.sql import functions as F\n",
    "import matplotlib.pyplot as plt\n",
    "\n",
    "TABLE = \"sc_gold.features_table\"\n",
    "DIFF_COL = \"lead_to_deal_days\"\n",
    "\n",
    "# Load only negatives\n",
    "neg = spark.table(TABLE).select(F.col(DIFF_COL).cast(\"double\").alias(\"diff_days\")) \\\n",
    "         .filter(\"diff_days < 0\").na.drop()\n",
    "\n",
    "# Count how many\n",
    "neg_count = neg.count()\n",
    "print(f\"Negative rows: {neg_count}\")\n",
    "\n",
    "# Bring to pandas for plotting\n",
    "pdf_neg = neg.toPandas()\n",
    "\n",
    "# Histogram for negatives\n",
    "plt.figure(figsize=(10,5))\n",
    "plt.hist(pdf_neg[\"diff_days\"], bins=50, alpha=0.8, color=\"red\")\n",
    "plt.xlabel(\"Days difference (deal_created - lead_created)\")\n",
    "plt.ylabel(\"Number of records\")\n",
    "plt.title(\"Distribution of NEGATIVE lead_to_deal_days (deal before lead)\")\n",
    "plt.tight_layout()\n",
    "plt.show()\n"
   ]
  }
 ],
 "metadata": {
  "application/vnd.databricks.v1+notebook": {
   "computePreferences": {
    "hardware": {
     "accelerator": null,
     "gpuPoolId": null,
     "memory": "HIGH"
    }
   },
   "dashboards": [],
   "environmentMetadata": {
    "base_environment": "",
    "environment_version": "3"
   },
   "inputWidgetPreferences": null,
   "language": "python",
   "notebookMetadata": {
    "mostRecentlyExecutedCommandWithImplicitDF": {
     "commandId": 8221941608300438,
     "dataframes": [
      "_sqldf"
     ]
    },
    "pythonIndentUnit": 4
   },
   "notebookName": "(Clone) Gold_Models_Pedro_Base",
   "widgets": {}
  },
  "language_info": {
   "name": "python"
  }
 },
 "nbformat": 4,
 "nbformat_minor": 0
}
