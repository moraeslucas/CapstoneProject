{
 "cells": [
  {
   "cell_type": "code",
   "execution_count": 0,
   "metadata": {
    "application/vnd.databricks.v1+cell": {
     "cellMetadata": {
      "byteLimit": 2048000,
      "implicitDf": true,
      "rowLimit": 10000
     },
     "inputWidgets": {},
     "nuid": "df86d39f-a797-42c0-8263-4c3e5454cdb8",
     "showTitle": false,
     "tableResultSettingsMap": {},
     "title": ""
    }
   },
   "outputs": [],
   "source": [
    "%sql\n",
    "--To check if there are duplicates in table contactos before the join , just for security\n",
    "\n",
    "SELECT\n",
    "  id,\n",
    "  data_criacao_da_lead,\n",
    "  COUNT(*) AS cnt\n",
    "FROM sc_gold.contactos_pbs\n",
    "GROUP BY id, data_criacao_da_lead\n",
    "HAVING COUNT(*) > 1\n",
    "ORDER BY cnt DESC, id, data_criacao_da_lead;\n"
   ]
  },
  {
   "cell_type": "code",
   "execution_count": 0,
   "metadata": {
    "application/vnd.databricks.v1+cell": {
     "cellMetadata": {
      "byteLimit": 2048000,
      "implicitDf": true,
      "rowLimit": 10000
     },
     "inputWidgets": {},
     "nuid": "47d42b5d-8fb0-486f-9df7-8375592abeaa",
     "showTitle": false,
     "tableResultSettingsMap": {},
     "title": ""
    }
   },
   "outputs": [],
   "source": [
    "%sql\n",
    "DESCRIBE sc_gold.`leads_pbs`;\n",
    "-- or\n",
    "SHOW COLUMNS IN sc_gold.`leads_pbs`;\n"
   ]
  },
  {
   "cell_type": "code",
   "execution_count": 0,
   "metadata": {
    "application/vnd.databricks.v1+cell": {
     "cellMetadata": {
      "byteLimit": 2048000,
      "implicitDf": true,
      "rowLimit": 10000
     },
     "inputWidgets": {},
     "nuid": "21f35e18-59b4-4588-a1f4-00e4e75c0e9c",
     "showTitle": false,
     "tableResultSettingsMap": {},
     "title": ""
    }
   },
   "outputs": [],
   "source": [
    "%sql\n",
    "SELECT\n",
    "  created_time AS lead_created_time\n",
    "FROM sc_silver.leads_pbs\n",
    "LIMIT 50;\n"
   ]
  },
  {
   "cell_type": "code",
   "execution_count": 0,
   "metadata": {
    "application/vnd.databricks.v1+cell": {
     "cellMetadata": {
      "byteLimit": 2048000,
      "implicitDf": true,
      "rowLimit": 10000
     },
     "inputWidgets": {},
     "nuid": "e0e7d5ec-1780-42bf-8857-907dee087687",
     "showTitle": false,
     "tableResultSettingsMap": {},
     "title": ""
    }
   },
   "outputs": [],
   "source": [
    "%sql\n",
    "SELECT\n",
    "  data_criacao_da_lead\n",
    "FROM sc_silver.contactos_pbs\n",
    "LIMIT 50;"
   ]
  },
  {
   "cell_type": "code",
   "execution_count": 0,
   "metadata": {
    "application/vnd.databricks.v1+cell": {
     "cellMetadata": {
      "byteLimit": 2048000,
      "implicitDf": true,
      "rowLimit": 10000
     },
     "inputWidgets": {},
     "nuid": "722797fb-e955-4e72-a980-49e90d182f7d",
     "showTitle": false,
     "tableResultSettingsMap": {},
     "title": ""
    }
   },
   "outputs": [],
   "source": [
    "\n",
    "%sql\n",
    "\n",
    "SELECT * FROM sc_gold.campaigns             LIMIT 50;\n"
   ]
  },
  {
   "cell_type": "code",
   "execution_count": 0,
   "metadata": {
    "application/vnd.databricks.v1+cell": {
     "cellMetadata": {
      "byteLimit": 2048000,
      "implicitDf": true,
      "rowLimit": 10000
     },
     "inputWidgets": {},
     "nuid": "0a83bf42-5883-4081-bd46-59801fb7e35e",
     "showTitle": false,
     "tableResultSettingsMap": {},
     "title": ""
    }
   },
   "outputs": [],
   "source": [
    "%sql\n",
    "SELECT * FROM sc_gold.leads_pbs             LIMIT 50;\n"
   ]
  },
  {
   "cell_type": "code",
   "execution_count": 0,
   "metadata": {
    "application/vnd.databricks.v1+cell": {
     "cellMetadata": {
      "byteLimit": 2048000,
      "implicitDf": true,
      "rowLimit": 10000
     },
     "inputWidgets": {},
     "nuid": "a92a373b-c31d-4fb5-a69b-eb1ec4835b61",
     "showTitle": false,
     "tableResultSettingsMap": {},
     "title": ""
    }
   },
   "outputs": [],
   "source": [
    "%sql\n",
    "\n",
    "SELECT * FROM sc_gold.contactos_pbs         LIMIT 50;\n"
   ]
  },
  {
   "cell_type": "code",
   "execution_count": 0,
   "metadata": {
    "application/vnd.databricks.v1+cell": {
     "cellMetadata": {
      "byteLimit": 2048000,
      "implicitDf": true,
      "rowLimit": 10000
     },
     "inputWidgets": {},
     "nuid": "1eabf9ef-a305-4a84-869b-bec6ea220f71",
     "showTitle": false,
     "tableResultSettingsMap": {},
     "title": ""
    }
   },
   "outputs": [],
   "source": [
    "%sql\n",
    "SELECT * FROM sc_gold.propostas_realizadas  LIMIT 50;\n"
   ]
  },
  {
   "cell_type": "code",
   "execution_count": 0,
   "metadata": {
    "application/vnd.databricks.v1+cell": {
     "cellMetadata": {
      "byteLimit": 2048000,
      "implicitDf": true,
      "rowLimit": 10000
     },
     "inputWidgets": {},
     "nuid": "7d9a2714-e79b-4a59-9d70-fcd4575cc79e",
     "showTitle": false,
     "tableResultSettingsMap": {},
     "title": ""
    }
   },
   "outputs": [],
   "source": [
    "%sql\n",
    "SELECT * FROM sc_gold.deals                 LIMIT 50;"
   ]
  },
  {
   "cell_type": "code",
   "execution_count": 0,
   "metadata": {
    "application/vnd.databricks.v1+cell": {
     "cellMetadata": {
      "byteLimit": 2048000,
      "implicitDf": true,
      "rowLimit": 10000
     },
     "inputWidgets": {},
     "nuid": "0dfa7f30-b7b1-42b5-afff-e6b1edf03d78",
     "showTitle": false,
     "tableResultSettingsMap": {},
     "title": ""
    }
   },
   "outputs": [],
   "source": [
    "%sql\n",
    "SELECT * FROM sc_gold.contactos_pbs         LIMIT 50;"
   ]
  },
  {
   "cell_type": "code",
   "execution_count": 0,
   "metadata": {
    "application/vnd.databricks.v1+cell": {
     "cellMetadata": {
      "byteLimit": 2048000,
      "implicitDf": true,
      "rowLimit": 10000
     },
     "inputWidgets": {},
     "nuid": "7404c247-7710-45f4-8af6-8a32adb70f90",
     "showTitle": false,
     "tableResultSettingsMap": {},
     "title": ""
    }
   },
   "outputs": [],
   "source": [
    "# Build and run: CREATE OR REPLACE TABLE sc_gold.contactos_pbs_2 AS SELECT ... FROM sc_gold.contactos_pbs\n",
    "\n",
    "# 1) Read source columns in order\n",
    "cols = spark.sql(\"\"\"\n",
    "  SELECT column_name\n",
    "  FROM information_schema.columns\n",
    "  WHERE table_schema = 'sc_gold'\n",
    "    AND table_name   = 'contactos_pbs'\n",
    "  ORDER BY ordinal_position\n",
    "\"\"\").toPandas()['column_name'].tolist()\n",
    "\n",
    "# Optional: columns you do NOT want renamed (e.g., keep id as-is)\n",
    "skip = set()   # e.g., {'id'}\n",
    "\n",
    "# 2) Build the select list with aliases\n",
    "select_exprs = []\n",
    "for c in cols:\n",
    "    new = c if (c.endswith('_contactos') or c in skip) else f\"{c}_contactos\"\n",
    "    select_exprs.append(f\"`{c}` AS `{new}`\")\n",
    "\n",
    "select_sql = \", \".join(select_exprs)\n",
    "\n",
    "# 3) Build the full CREATE TABLE AS SELECT statement\n",
    "create_sql = f\"\"\"\n",
    "CREATE OR REPLACE TABLE sc_gold.contactos_pbs_2 AS\n",
    "SELECT {select_sql}\n",
    "FROM sc_gold.contactos_pbs\n",
    "\"\"\"\n",
    "\n",
    "print(create_sql)  # shows exactly what will run\n",
    "spark.sql(create_sql)\n",
    "\n",
    "# 4) Quick verification\n",
    "spark.sql(\"DESCRIBE TABLE sc_gold.contactos_pbs_2\").show(truncate=False)\n",
    "spark.sql(\"SELECT * FROM sc_gold.contactos_pbs_2 LIMIT 5\").show()\n"
   ]
  },
  {
   "cell_type": "code",
   "execution_count": 0,
   "metadata": {
    "application/vnd.databricks.v1+cell": {
     "cellMetadata": {
      "byteLimit": 2048000,
      "implicitDf": true,
      "rowLimit": 10000
     },
     "inputWidgets": {},
     "nuid": "432f8a4a-597b-4463-b7a9-53471c5de947",
     "showTitle": false,
     "tableResultSettingsMap": {},
     "title": ""
    }
   },
   "outputs": [],
   "source": [
    "%sql\n",
    "SELECT * FROM sc_gold.contactos_pbs_2"
   ]
  },
  {
   "cell_type": "code",
   "execution_count": 0,
   "metadata": {
    "application/vnd.databricks.v1+cell": {
     "cellMetadata": {
      "byteLimit": 2048000,
      "rowLimit": 10000
     },
     "inputWidgets": {},
     "nuid": "46b1cd2b-2e6a-4cef-9f08-ae524008923c",
     "showTitle": false,
     "tableResultSettingsMap": {},
     "title": ""
    }
   },
   "outputs": [],
   "source": [
    "# Source and target\n",
    "source_table = \"sc_gold.propostas_realizadas\"\n",
    "target_table = \"sc_gold.propostas_realizadas2\"\n",
    "\n",
    "# 1) Get columns\n",
    "cols = spark.sql(f\"\"\"\n",
    "  SELECT column_name\n",
    "  FROM information_schema.columns\n",
    "  WHERE table_schema = 'sc_gold'\n",
    "    AND table_name   = 'propostas_realizadas'\n",
    "  ORDER BY ordinal_position\n",
    "\"\"\").toPandas()['column_name'].tolist()\n",
    "\n",
    "# Optional: columns to keep unchanged\n",
    "skip = set()   # e.g., {'id'}\n",
    "\n",
    "# 2) Build select list with renamed aliases\n",
    "select_exprs = []\n",
    "for c in cols:\n",
    "    new = c if (c.endswith('_propostas') or c in skip) else f\"{c}_propostas\"\n",
    "    select_exprs.append(f\"`{c}` AS `{new}`\")\n",
    "\n",
    "select_sql = \", \".join(select_exprs)\n",
    "\n",
    "# 3) Build CREATE TABLE AS SELECT\n",
    "create_sql = f\"\"\"\n",
    "CREATE OR REPLACE TABLE {target_table} AS\n",
    "SELECT {select_sql}\n",
    "FROM {source_table}\n",
    "\"\"\"\n",
    "\n",
    "print(create_sql)   # Show what will run\n",
    "spark.sql(create_sql)\n",
    "\n",
    "# 4) Verify\n",
    "spark.sql(f\"DESCRIBE TABLE {target_table}\").show(truncate=False)\n",
    "spark.sql(f\"SELECT * FROM {target_table} LIMIT 5\").show()\n"
   ]
  },
  {
   "cell_type": "code",
   "execution_count": 0,
   "metadata": {
    "application/vnd.databricks.v1+cell": {
     "cellMetadata": {
      "byteLimit": 2048000,
      "implicitDf": true,
      "rowLimit": 10000
     },
     "inputWidgets": {},
     "nuid": "c7f58f63-0892-4b59-8c1c-b6829bc0c796",
     "showTitle": false,
     "tableResultSettingsMap": {
      "0": {
       "dataGridStateBlob": "{\"version\":1,\"tableState\":{\"columnPinning\":{\"left\":[\"#row_number#\"],\"right\":[]},\"columnSizing\":{\"created_time_propostas\":261,\"id_propostas\":218},\"columnVisibility\":{}},\"settings\":{\"columns\":{}},\"syncTimestamp\":1757282795618}",
       "filterBlob": null,
       "queryPlanFiltersBlob": null,
       "tableResultIndex": 0
      }
     },
     "title": ""
    }
   },
   "outputs": [],
   "source": [
    "%sql\n",
    "SELECT * FROM sc_gold.propostas_realizadas2"
   ]
  },
  {
   "cell_type": "code",
   "execution_count": 0,
   "metadata": {
    "application/vnd.databricks.v1+cell": {
     "cellMetadata": {
      "byteLimit": 2048000,
      "rowLimit": 10000
     },
     "inputWidgets": {},
     "nuid": "0ae47343-02f0-41d9-8cd3-2cab918d5090",
     "showTitle": false,
     "tableResultSettingsMap": {},
     "title": ""
    }
   },
   "outputs": [],
   "source": [
    "# Source and target\n",
    "source_table = \"sc_gold.deals\"\n",
    "target_table = \"sc_gold.deals2\"\n",
    "\n",
    "# 1) Get columns\n",
    "cols = spark.sql(f\"\"\"\n",
    "  SELECT column_name\n",
    "  FROM information_schema.columns\n",
    "  WHERE table_schema = 'sc_gold'\n",
    "    AND table_name   = 'deals'\n",
    "  ORDER BY ordinal_position\n",
    "\"\"\").toPandas()['column_name'].tolist()\n",
    "\n",
    "# Optional: columns to keep unchanged (e.g., primary keys)\n",
    "skip = set()   # Example: {'id'}\n",
    "\n",
    "# 2) Build select list with renamed aliases\n",
    "select_exprs = []\n",
    "for c in cols:\n",
    "    new = c if (c.endswith('_deals') or c in skip) else f\"{c}_deals\"\n",
    "    select_exprs.append(f\"`{c}` AS `{new}`\")\n",
    "\n",
    "select_sql = \", \".join(select_exprs)\n",
    "\n",
    "# 3) Build CREATE TABLE AS SELECT\n",
    "create_sql = f\"\"\"\n",
    "CREATE OR REPLACE TABLE {target_table} AS\n",
    "SELECT {select_sql}\n",
    "FROM {source_table}\n",
    "\"\"\"\n",
    "\n",
    "print(create_sql)   # Show generated SQL\n",
    "spark.sql(create_sql)\n",
    "\n",
    "# 4) Verify structure and sample data\n",
    "spark.sql(f\"DESCRIBE TABLE {target_table}\").show(truncate=False)\n",
    "spark.sql(f\"SELECT * FROM {target_table} LIMIT 5\").show()\n"
   ]
  },
  {
   "cell_type": "code",
   "execution_count": 0,
   "metadata": {
    "application/vnd.databricks.v1+cell": {
     "cellMetadata": {
      "byteLimit": 2048000,
      "implicitDf": true,
      "rowLimit": 10000
     },
     "inputWidgets": {},
     "nuid": "9770184b-84d8-4485-a093-1662d51c64c2",
     "showTitle": false,
     "tableResultSettingsMap": {},
     "title": ""
    }
   },
   "outputs": [],
   "source": [
    "%sql\n",
    "SELECT * FROM sc_gold.deals2"
   ]
  },
  {
   "cell_type": "code",
   "execution_count": 0,
   "metadata": {
    "application/vnd.databricks.v1+cell": {
     "cellMetadata": {
      "byteLimit": 2048000,
      "rowLimit": 10000
     },
     "inputWidgets": {},
     "nuid": "1d83ff6a-2dac-4227-a4cf-9b811b1142f4",
     "showTitle": false,
     "tableResultSettingsMap": {},
     "title": ""
    }
   },
   "outputs": [],
   "source": [
    "# Source and target\n",
    "source_table = \"sc_gold.campaigns\"\n",
    "target_table = \"sc_gold.campaigns2\"\n",
    "\n",
    "# 1) Get columns\n",
    "cols = spark.sql(f\"\"\"\n",
    "  SELECT column_name\n",
    "  FROM information_schema.columns\n",
    "  WHERE table_schema = 'sc_gold'\n",
    "    AND table_name   = 'campaigns'\n",
    "  ORDER BY ordinal_position\n",
    "\"\"\").toPandas()['column_name'].tolist()\n",
    "\n",
    "# Optional: columns to keep unchanged (like primary keys)\n",
    "skip = set()   # Example: {'id'}\n",
    "\n",
    "# 2) Build select list with renamed aliases\n",
    "select_exprs = []\n",
    "for c in cols:\n",
    "    new = c if (c.endswith('_campaigns') or c in skip) else f\"{c}_campaigns\"\n",
    "    select_exprs.append(f\"`{c}` AS `{new}`\")\n",
    "\n",
    "select_sql = \", \".join(select_exprs)\n",
    "\n",
    "# 3) Build CREATE TABLE AS SELECT\n",
    "create_sql = f\"\"\"\n",
    "CREATE OR REPLACE TABLE {target_table} AS\n",
    "SELECT {select_sql}\n",
    "FROM {source_table}\n",
    "\"\"\"\n",
    "\n",
    "print(create_sql)   # Preview generated SQL\n",
    "spark.sql(create_sql)\n",
    "\n",
    "# 4) Verify new table\n",
    "spark.sql(f\"DESCRIBE TABLE {target_table}\").show(truncate=False)\n",
    "spark.sql(f\"SELECT * FROM {target_table} LIMIT 5\").show()\n"
   ]
  },
  {
   "cell_type": "code",
   "execution_count": 0,
   "metadata": {
    "application/vnd.databricks.v1+cell": {
     "cellMetadata": {
      "byteLimit": 2048000,
      "implicitDf": true,
      "rowLimit": 10000
     },
     "inputWidgets": {},
     "nuid": "a55e47c4-a7f3-4c05-ad1f-dfe71a84c240",
     "showTitle": false,
     "tableResultSettingsMap": {},
     "title": ""
    }
   },
   "outputs": [],
   "source": [
    "%sql\n",
    "SELECT * FROM sc_gold.campaigns2"
   ]
  },
  {
   "cell_type": "code",
   "execution_count": 0,
   "metadata": {
    "application/vnd.databricks.v1+cell": {
     "cellMetadata": {
      "byteLimit": 2048000,
      "implicitDf": true,
      "rowLimit": 10000
     },
     "inputWidgets": {},
     "nuid": "23a30767-95aa-4496-aac3-c4c5e6be7ed4",
     "showTitle": false,
     "tableResultSettingsMap": {},
     "title": ""
    }
   },
   "outputs": [],
   "source": [
    "%sql\n",
    "SELECT COUNT(*) AS strict_matches\n",
    "FROM sc_gold.leads_pbs l\n",
    "JOIN sc_gold.contactos_pbs_2 c\n",
    "  ON  l.converted_contact = c.id_contactos\n",
    "  AND l.created_time      = c.data_criacao_da_lead_contactos;\n"
   ]
  },
  {
   "cell_type": "code",
   "execution_count": 0,
   "metadata": {
    "application/vnd.databricks.v1+cell": {
     "cellMetadata": {
      "byteLimit": 2048000,
      "implicitDf": true,
      "rowLimit": 10000
     },
     "inputWidgets": {},
     "nuid": "e0865170-1842-497b-9696-551f854c5da7",
     "showTitle": false,
     "tableResultSettingsMap": {},
     "title": ""
    }
   },
   "outputs": [],
   "source": [
    "%sql\n",
    "WITH joined AS (\n",
    "  SELECT\n",
    "    l.*,\n",
    "    c.*\n",
    "  FROM sc_gold.leads_pbs       AS l\n",
    "  JOIN sc_gold.contactos_pbs_2 AS c\n",
    "    ON  l.converted_contact = c.id_contactos\n",
    "   AND l.created_time      = c.data_criacao_da_lead_contactos\n",
    ")\n",
    "SELECT COUNT(*) AS check_count FROM joined;   -- should be ~118329\n"
   ]
  },
  {
   "cell_type": "code",
   "execution_count": 0,
   "metadata": {
    "application/vnd.databricks.v1+cell": {
     "cellMetadata": {
      "byteLimit": 2048000,
      "implicitDf": true,
      "rowLimit": 10000
     },
     "inputWidgets": {},
     "nuid": "62ef095e-3704-4379-b4d6-0cdb1792d368",
     "showTitle": false,
     "tableResultSettingsMap": {},
     "title": ""
    }
   },
   "outputs": [],
   "source": [
    "%sql\n",
    "-- (optional) ensure you're in the right place\n",
    "-- USE CATALOG workspace;\n",
    "-- USE SCHEMA sc_gold;\n",
    "\n",
    "CREATE OR REPLACE TABLE sc_gold.Features_Table\n",
    "USING DELTA\n",
    "AS\n",
    "SELECT\n",
    "  l.*,\n",
    "  c.*\n",
    "FROM sc_gold.leads_pbs       AS l\n",
    "JOIN sc_gold.contactos_pbs_2 AS c\n",
    "  ON  l.converted_contact = c.id_contactos\n",
    "  AND l.created_time      = c.data_criacao_da_lead_contactos;\n"
   ]
  },
  {
   "cell_type": "code",
   "execution_count": 0,
   "metadata": {
    "application/vnd.databricks.v1+cell": {
     "cellMetadata": {
      "byteLimit": 2048000,
      "implicitDf": true,
      "rowLimit": 10000
     },
     "inputWidgets": {},
     "nuid": "a3d674cd-2ce7-4a87-b60e-abe1b3f6833d",
     "showTitle": false,
     "tableResultSettingsMap": {},
     "title": ""
    }
   },
   "outputs": [],
   "source": [
    "%sql\n",
    "CREATE OR REPLACE TABLE sc_gold.Features_Table AS\n",
    "SELECT\n",
    "  f.*,\n",
    "  p.*   -- assumes Propostas columns are already suffixed (e.g., *_propostas)\n",
    "FROM sc_gold.Features_Table AS f\n",
    "LEFT JOIN sc_gold.propostas_realizadas2 AS p\n",
    "  ON f.id_contactos = p.id_contacto_propostas;   -- keep all Feature rows\n"
   ]
  },
  {
   "cell_type": "code",
   "execution_count": 0,
   "metadata": {
    "application/vnd.databricks.v1+cell": {
     "cellMetadata": {
      "byteLimit": 2048000,
      "implicitDf": true,
      "rowLimit": 10000
     },
     "inputWidgets": {},
     "nuid": "a780d349-2705-42de-938f-1b41e3b5e5ce",
     "showTitle": false,
     "tableResultSettingsMap": {},
     "title": ""
    }
   },
   "outputs": [],
   "source": [
    "%sql\n",
    "CREATE OR REPLACE TABLE sc_gold.Features_Table AS\n",
    "SELECT\n",
    "  f.*,\n",
    "  d.*   -- assumes Deals columns are already suffixed (e.g., *_deals)\n",
    "FROM sc_gold.Features_Table AS f\n",
    "LEFT JOIN sc_gold.deals2 AS d\n",
    "  ON f.id_contacto_propostas = d.id_contacto_deals;   -- keep all Feature rows\n"
   ]
  },
  {
   "cell_type": "code",
   "execution_count": 0,
   "metadata": {
    "application/vnd.databricks.v1+cell": {
     "cellMetadata": {
      "byteLimit": 2048000,
      "implicitDf": true,
      "rowLimit": 10000
     },
     "inputWidgets": {},
     "nuid": "56c51127-a90a-44b0-9f0e-cd9458ef8d73",
     "showTitle": false,
     "tableResultSettingsMap": {},
     "title": ""
    }
   },
   "outputs": [],
   "source": [
    "%sql\n",
    "CREATE OR REPLACE TABLE sc_gold.Features_Table AS\n",
    "SELECT\n",
    "  f.*,\n",
    "  cp.*   -- assumes campaigns columns are already suffixed (e.g., *_campaigns)\n",
    "FROM sc_gold.Features_Table AS f\n",
    "LEFT JOIN sc_gold.campaigns2 AS cp\n",
    "  ON f.campanha_deals = cp.id_campaigns;   -- join via Features_Table.campanha_deals -> campaigns.id_campaigns\n"
   ]
  },
  {
   "cell_type": "code",
   "execution_count": 0,
   "metadata": {
    "application/vnd.databricks.v1+cell": {
     "cellMetadata": {
      "byteLimit": 2048000,
      "implicitDf": true,
      "rowLimit": 10000
     },
     "inputWidgets": {},
     "nuid": "e9870b82-3a74-412b-8165-0c3fd24a36a2",
     "showTitle": false,
     "tableResultSettingsMap": {},
     "title": ""
    }
   },
   "outputs": [],
   "source": [
    "%%sql\n",
    "CREATE OR REPLACE TABLE sc_gold.fact_table AS\n",
    "SELECT\n",
    "    l.id,\n",
    "  l.converted_contact,\n",
    "  l.created_time,\n",
    "  c.id_contactos,\n",
    "  c.data_criacao_da_lead_contactos\n",
    "FROM sc_gold.leads_pbs AS l\n",
    "JOIN sc_gold.contactos_pbs_2 AS c\n",
    "  ON l.converted_contact = c.id_contactos\n",
    " AND l.created_time = c.data_criacao_da_lead_contactos;\n"
   ]
  },
  {
   "cell_type": "code",
   "execution_count": 0,
   "metadata": {
    "application/vnd.databricks.v1+cell": {
     "cellMetadata": {
      "byteLimit": 2048000,
      "implicitDf": true,
      "rowLimit": 10000
     },
     "inputWidgets": {},
     "nuid": "363d9117-13c3-492b-a5a4-0aecac0aae2d",
     "showTitle": false,
     "tableResultSettingsMap": {},
     "title": ""
    }
   },
   "outputs": [],
   "source": [
    "%%sql\n",
    "CREATE OR REPLACE TABLE sc_gold.fact_table AS\n",
    "SELECT\n",
    "  f.*,\n",
    " \n",
    "    p.id_contacto_propostas,\n",
    "  p.id_proposta_realizada_propostas\n",
    "\n",
    "FROM sc_gold.fact_table AS f\n",
    "LEFT JOIN sc_gold.propostas_realizadas2 AS p\n",
    "  ON p.id_contacto_propostas = f.id_contactos;\n"
   ]
  },
  {
   "cell_type": "code",
   "execution_count": 0,
   "metadata": {
    "application/vnd.databricks.v1+cell": {
     "cellMetadata": {
      "byteLimit": 2048000,
      "implicitDf": true,
      "rowLimit": 10000
     },
     "inputWidgets": {},
     "nuid": "57fc58b1-56bb-4230-a034-35a3e8e45345",
     "showTitle": false,
     "tableResultSettingsMap": {},
     "title": ""
    }
   },
   "outputs": [],
   "source": [
    "%sql\n",
    "CREATE OR REPLACE TABLE sc_gold.Fact_table AS\n",
    "SELECT\n",
    "  f.*,\n",
    "  d.id_deals,\n",
    "  d.id_contacto_deals,\n",
    "  d.campanha_deals\n",
    "FROM sc_gold.Fact_table AS f\n",
    "LEFT JOIN sc_gold.deals2 AS d\n",
    "  ON f.id_contacto_propostas = d.id_contacto_deals;\n"
   ]
  },
  {
   "cell_type": "code",
   "execution_count": 0,
   "metadata": {
    "application/vnd.databricks.v1+cell": {
     "cellMetadata": {
      "byteLimit": 2048000,
      "rowLimit": 10000
     },
     "inputWidgets": {},
     "nuid": "05d63b20-c30f-429d-8a99-f0100c51c67b",
     "showTitle": false,
     "tableResultSettingsMap": {},
     "title": ""
    }
   },
   "outputs": [],
   "source": [
    "# snapshot the current table to a temp view\n",
    "spark.sql(\"CREATE OR REPLACE TEMP VIEW _src AS SELECT * FROM sc_gold.fact_table\")\n",
    "\n",
    "to_drop = {'converted_contact','data_criacao_da_lead_contactos','id_contacto_propostas','id_contacto_deals'}\n",
    "cols = [f\"`{c}`\" for c in spark.table(\"sc_gold.fact_table\").columns if c not in to_drop]\n",
    "\n",
    "spark.sql(f\"\"\"\n",
    "CREATE OR REPLACE TABLE sc_gold.fact_table\n",
    "USING DELTA AS\n",
    "SELECT {', '.join(cols)} FROM _src\n",
    "\"\"\")\n",
    "\n",
    "spark.sql(\"DROP VIEW _src\")\n"
   ]
  },
  {
   "cell_type": "code",
   "execution_count": 0,
   "metadata": {
    "application/vnd.databricks.v1+cell": {
     "cellMetadata": {
      "byteLimit": 2048000,
      "implicitDf": true,
      "rowLimit": 10000
     },
     "inputWidgets": {},
     "nuid": "e8c24d33-8dfa-4150-8e7e-5b01aa17d823",
     "showTitle": false,
     "tableResultSettingsMap": {},
     "title": ""
    }
   },
   "outputs": [],
   "source": [
    "%sql\n",
    "-- 1) Summary counts of duplicates on (id, created_time)\n",
    "WITH d AS (\n",
    "  SELECT id, created_time, COUNT(*) AS cnt\n",
    "  FROM sc_gold.leads_pbs\n",
    "  GROUP BY id, created_time\n",
    "  HAVING COUNT(*) > 1\n",
    ")\n",
    "SELECT\n",
    "  COUNT(*)                    AS duplicated_keys,          -- number of (id,created_time) combos with >1 row\n",
    "  SUM(cnt)                    AS rows_in_duplicated_keys,  -- total rows participating in duplicates\n",
    "  SUM(cnt) - COUNT(*)         AS extra_rows_to_dedup       -- rows to drop if you keep 1 per key\n",
    "FROM d;\n",
    "\n",
    "-- 2) See the duplicated keys and their sizes (top 100)\n",
    "SELECT id, created_time, COUNT(*) AS cnt\n",
    "FROM sc_gold.leads_pbs\n",
    "GROUP BY id, created_time\n",
    "HAVING COUNT(*) > 1\n",
    "ORDER BY cnt DESC, id\n",
    "LIMIT 100;\n"
   ]
  },
  {
   "cell_type": "code",
   "execution_count": 0,
   "metadata": {
    "application/vnd.databricks.v1+cell": {
     "cellMetadata": {
      "byteLimit": 2048000,
      "implicitDf": true,
      "rowLimit": 10000
     },
     "inputWidgets": {},
     "nuid": "5feabc3e-6365-4c20-bd73-9825cc33590e",
     "showTitle": false,
     "tableResultSettingsMap": {
      "0": {
       "dataGridStateBlob": "{\"version\":1,\"tableState\":{\"columnPinning\":{\"left\":[\"#row_number#\"],\"right\":[]},\"columnSizing\":{\"_fivetran_id\":153},\"columnVisibility\":{}},\"settings\":{\"columns\":{\"link_centro_consentimento_contactos\":{\"format\":{\"preset\":\"string-preset-url\"}}}},\"syncTimestamp\":1757282068950}",
       "filterBlob": null,
       "queryPlanFiltersBlob": null,
       "tableResultIndex": 0
      }
     },
     "title": ""
    }
   },
   "outputs": [],
   "source": [
    "%sql\n",
    "-- SUMMARY: how many duplicate (id, created_time) keys exist in sc_gold.features ( this is normal , can have multiple proposals)\n",
    "WITH d AS (\n",
    "  SELECT id, created_time, COUNT(*) AS cnt\n",
    "  FROM sc_gold.features_table\n",
    "  GROUP BY id, created_time\n",
    "  HAVING COUNT(*) > 1\n",
    ")\n",
    "SELECT\n",
    "  COUNT(*)            AS duplicated_keys,\n",
    "  SUM(cnt)            AS rows_in_duplicated_keys,\n",
    "  SUM(cnt) - COUNT(*) AS extra_rows_to_dedup\n",
    "FROM d;\n"
   ]
  },
  {
   "cell_type": "code",
   "execution_count": 0,
   "metadata": {
    "application/vnd.databricks.v1+cell": {
     "cellMetadata": {
      "byteLimit": 2048000,
      "implicitDf": true,
      "rowLimit": 10000
     },
     "inputWidgets": {},
     "nuid": "8df364f7-ff68-4bd4-b302-064f4f1980ba",
     "showTitle": false,
     "tableResultSettingsMap": {},
     "title": ""
    }
   },
   "outputs": [],
   "source": [
    "%sql\n",
    "-- SUMMARY: how many duplicate (id_propostas, created_time) keys exist\n",
    "WITH d AS (\n",
    "  SELECT id, created_time, COUNT(*) AS cnt\n",
    "  FROM sc_gold.propostas_realizadas\n",
    "  GROUP BY id, created_time\n",
    "  HAVING COUNT(*) > 1\n",
    ")\n",
    "SELECT\n",
    "  COUNT(*)            AS duplicated_keys,          -- number of key pairs with >1 row\n",
    "  SUM(cnt)            AS rows_in_duplicated_keys,  -- total rows across those keys\n",
    "  SUM(cnt) - COUNT(*) AS extra_rows_to_dedup       -- rows you’d remove if keeping 1 per key\n",
    "FROM d;\n",
    "\n",
    "-- DETAILS: which keys are duplicated (top 100 by size)\n",
    "SELECT id, created_time, COUNT(*) AS cnt\n",
    "FROM sc_gold.propostas_realizadas\n",
    "GROUP BY id, created_time\n",
    "HAVING COUNT(*) > 1\n",
    "ORDER BY cnt DESC, id\n",
    "LIMIT 100;\n",
    "\n",
    "-- OPTIONAL: list the actual duplicate rows\n",
    "SELECT t.*\n",
    "FROM sc_gold.propostas_realizadas t\n",
    "JOIN (\n",
    "  SELECT id, created_time\n",
    "  FROM sc_gold.propostas_realizadas\n",
    "  GROUP BY id, created_time\n",
    "  HAVING COUNT(*) > 1\n",
    ") d\n",
    "ON t.id = d.id AND t.created_time = d.created_time\n",
    "ORDER BY t.id, t.created_time;\n"
   ]
  },
  {
   "cell_type": "code",
   "execution_count": 0,
   "metadata": {
    "application/vnd.databricks.v1+cell": {
     "cellMetadata": {
      "byteLimit": 2048000,
      "implicitDf": true,
      "rowLimit": 10000
     },
     "inputWidgets": {},
     "nuid": "00ec881c-6915-4158-9219-3e9ce2f54a06",
     "showTitle": false,
     "tableResultSettingsMap": {},
     "title": ""
    }
   },
   "outputs": [],
   "source": [
    "%sql\n",
    "WITH d AS (\n",
    "  SELECT\n",
    "    `id`,\n",
    "    `id_deals`,\n",
    "    `id_proposta_realizada_propostas`,\n",
    "    COUNT(*) AS cnt\n",
    "  FROM sc_gold.features_table\n",
    "  GROUP BY `id`, `id_deals`, `id_proposta_realizada_propostas`\n",
    "  HAVING COUNT(*) > 1\n",
    ")\n",
    "SELECT\n",
    "  COUNT(*)              AS duplicated_keys,\n",
    "  SUM(d.cnt)            AS rows_in_duplicated_keys,\n",
    "  SUM(d.cnt) - COUNT(*) AS extra_rows_to_dedup\n",
    "FROM d AS d;\n"
   ]
  },
  {
   "cell_type": "code",
   "execution_count": 0,
   "metadata": {
    "application/vnd.databricks.v1+cell": {
     "cellMetadata": {
      "byteLimit": 2048000,
      "implicitDf": true,
      "rowLimit": 10000
     },
     "inputWidgets": {},
     "nuid": "cd6c2d6d-4d0c-4752-be9d-3a6dc59b7811",
     "showTitle": false,
     "tableResultSettingsMap": {},
     "title": ""
    }
   },
   "outputs": [],
   "source": [
    "%sql\n",
    "WITH d AS (\n",
    "  SELECT\n",
    "    `id`,\n",
    "    `id_deals`,\n",
    "    `id_proposta_realizada_propostas`,\n",
    "    COUNT(*) AS cnt\n",
    "  FROM sc_gold.fact_table\n",
    "  GROUP BY `id`, `id_deals`, `id_proposta_realizada_propostas`\n",
    "  HAVING COUNT(*) > 1\n",
    ")\n",
    "SELECT\n",
    "  COUNT(*)              AS duplicated_keys,\n",
    "  SUM(d.cnt)            AS rows_in_duplicated_keys,\n",
    "  SUM(d.cnt) - COUNT(*) AS extra_rows_to_dedup\n",
    "FROM d AS d;\n"
   ]
  },
  {
   "cell_type": "code",
   "execution_count": 0,
   "metadata": {
    "application/vnd.databricks.v1+cell": {
     "cellMetadata": {
      "byteLimit": 2048000,
      "implicitDf": true,
      "rowLimit": 10000
     },
     "inputWidgets": {},
     "nuid": "f41e3eb5-8f18-463f-8493-cae7ef8c27d8",
     "showTitle": false,
     "tableResultSettingsMap": {
      "0": {
       "dataGridStateBlob": "{\"version\":1,\"tableState\":{\"columnPinning\":{\"left\":[\"#row_number#\"],\"right\":[]},\"columnSizing\":{\"created_time\":206},\"columnVisibility\":{}},\"settings\":{\"columns\":{}},\"syncTimestamp\":1757287190480}",
       "filterBlob": null,
       "queryPlanFiltersBlob": null,
       "tableResultIndex": 0
      }
     },
     "title": ""
    }
   },
   "outputs": [],
   "source": [
    "%sql\n",
    "SELECT * FROM sc_gold.Fact_table"
   ]
  },
  {
   "cell_type": "code",
   "execution_count": 0,
   "metadata": {
    "application/vnd.databricks.v1+cell": {
     "cellMetadata": {
      "byteLimit": 2048000,
      "implicitDf": true,
      "rowLimit": 10000
     },
     "inputWidgets": {},
     "nuid": "c5312eeb-6ba6-45c3-a9c2-46ccd98f3d13",
     "showTitle": false,
     "tableResultSettingsMap": {},
     "title": ""
    }
   },
   "outputs": [],
   "source": [
    "%sql\n",
    "SELECT * FROM sc_gold.Features_Table"
   ]
  },
  {
   "cell_type": "code",
   "execution_count": 0,
   "metadata": {
    "application/vnd.databricks.v1+cell": {
     "cellMetadata": {
      "byteLimit": 2048000,
      "implicitDf": true,
      "rowLimit": 10000
     },
     "inputWidgets": {},
     "nuid": "6f46215a-226d-4aca-80df-1de1d1be643b",
     "showTitle": false,
     "tableResultSettingsMap": {},
     "title": ""
    }
   },
   "outputs": [],
   "source": [
    "# 1) Build keep list to Ml Models\n",
    "cols_to_delete = [  # the  names we listed\n",
    "    \"_fivetran_id\",\"id\",\"lead_owner\",\"lead_owner_name\",\"consentimento\",\n",
    "    \"id_lead\",\"chave_instalacao_bd_rede\",\"chave_concessao_bd_rede\",\"chave_contrato_concessionario_bd_rede\",\n",
    "    \"chave_agrupamento_performance_vendas\",\"chave_agrupamento_cliente\",\n",
    "    \"data_de_validade_de_consentimento_hyundai\",\"lead_response_time\",\"converted_date_time\",\n",
    "    \"_fivetran_deleted\",\"_fivetran_synced\",\"_fivetran_id_contactos\",\"id_contactos\",\n",
    "    \"contacto_owner_contactos\",\"contacto_owner_name_contactos\",\"created_time_contactos\",\n",
    "    \"id_contacto_contactos\",\"consentimento_contactos\",\"id_lead_conversao_contactos\",\n",
    "    \"data_de_recolha_de_consentimento_hyundai_contactos\",\"chave_concessao_bd_rede_contactos\",\n",
    "    \"chave_instalacao_bd_rede_contactos\",\"chave_contrato_concessionario_bd_rede_contactos\",\n",
    "    \"chave_agrupamento_performance_vendas_contactos\",\"chave_agrupamento_cliente_contactos\",\n",
    "    \"link_centro_consentimento_contactos\",\"_fivetran_deleted_contactos\",\"_fivetran_synced_contactos\",\n",
    "    \"_fivetran_id_propostas\",\"id_propostas\",\"created_time_propostas\",\n",
    "    \"proposta_realizada_owner_propostas\",\"proposta_realizada_owner_name_propostas\",\n",
    "    \"modified_time_propostas\",\"conta_name_propostas\",\"id_contacto_propostas\",\"contacto_name_propostas\",\n",
    "    \"deal_name_propostas\",\"created_by_propostas\",\"modified_by_propostas\",\"descricao_apoio_propostas\",\n",
    "    \"codigo_da_proposta_propostas\",\"descricao_pintura_propostas\",\"data_de_criacao_da_proposta_propostas\",\n",
    "    \"data_de_entrega_da_proposta_propostas\",\"id_conta_propostas\",\"id_negocio_propostas\",\n",
    "    \"id_proposta_realizada_propostas\",\"data_de_validade_da_proposta_propostas\",\"codigo_modelo_propostas\",\n",
    "    \"sufixo_modelo_propostas\",\"codigo_cor_exterior_propostas\",\"codigo_cor_interior_propostas\",\n",
    "    \"concessionario_owner_propostas\",\"data_prevista_matricula_propostas\",\"data_prevista_de_entrega_propostas\",\n",
    "    \"data_da_conclusao_propostas\",\"instalacao_propostas\",\"chave_instalacao_bd_rede_propostas\",\n",
    "    \"chave_concessao_bd_rede_propostas\",\"cod_proposta_propostas\",\"codigo_fabricante_cor_interior_propostas\",\n",
    "    \"codigo_fabricante_cor_exterior_propostas\",\"_fivetran_deleted_propostas\",\"_fivetran_synced_propostas\",\n",
    "    \"_fivetran_id_deals\",\"deal_owner_name_deals\",\"id_contacto_deals\",\n",
    "    \"closing_date_deals\",\"deal_owner_deals\",\"conta_name_deals\",\"contacto_name_deals\",\"id_negocio_deals\",\n",
    "    \"data_prevista_de_reentrada_em_negocio_deals\",\"id_conta_deals\",\"codigo_negocio_deals\",\"data_venda_deals\",\n",
    "    \"nome_contacto_deals\",\"id_deals\",\"data_decisao_negocio_deals\",\"_fivetran_deleted_deals\",\n",
    "    \"_fivetran_synced_deals\",\"_fivetran_id_campaigns\",\"id_campaigns\",\n",
    "    \"campaign_owner_name_campaigns\",\"created_time_campaigns\",\"codigo_campanha_campaigns\",\n",
    "    \"_fivetran_deleted_campaigns\",\"_fivetran_synced_campaigns\"\n",
    "]\n",
    "\n",
    "src_tbl = \"sc_gold.Features_Table\"\n",
    "\n",
    "# compute keep list from live schema\n",
    "all_cols = spark.table(src_tbl).columns\n",
    "keep_cols = [c for c in all_cols if c not in cols_to_delete]\n",
    "keep_sql = \", \".join([f\"`{c}`\" for c in keep_cols])  # quote names safely\n",
    "\n",
    "# 2) Snapshot and recreate from projection\n",
    "spark.sql(f\"CREATE OR REPLACE TEMP VIEW _src AS SELECT * FROM {src_tbl}\")\n",
    "spark.sql(f\"\"\"\n",
    "CREATE OR REPLACE TABLE {src_tbl}\n",
    "USING DELTA AS\n",
    "SELECT {keep_sql} FROM _src\n",
    "\"\"\")\n",
    "spark.sql(\"DROP VIEW _src\")\n",
    "\n",
    "#You should generally remove columns that:\n",
    "#Are unique identifiers (e.g., _fivetran_id, id, id_lead, id_contactos, id_propostas, id_deals, id_campaigns).\n",
    "#Are timestamps or sync markers from ETL (_fivetran_synced, _fivetran_deleted, etc.).\n",
    "#Contain names of people or owners (lead_owner_name, campaign_owner_name_campaigns, etc.).\n",
    "#Are free-text codes or descriptive identifiers (codigo_campanha_campaigns, codigo_da_proposta_propostas, etc.).\n",
    "#Are internal foreign keys / lookup fields (chave_instalacao_bd_rede, chave_agrupamento_cliente, etc.).\n",
    "#Are emails / links (link_centro_consentimento_contactos).\n",
    "\n",
    "\n"
   ]
  },
  {
   "cell_type": "code",
   "execution_count": 0,
   "metadata": {
    "application/vnd.databricks.v1+cell": {
     "cellMetadata": {
      "byteLimit": 2048000,
      "rowLimit": 10000
     },
     "inputWidgets": {},
     "nuid": "ed1b6949-42ec-4c6a-9daa-809e5fdb04d0",
     "showTitle": false,
     "tableResultSettingsMap": {},
     "title": ""
    }
   },
   "outputs": [],
   "source": [
    "# 1) Built the second delete list after a better analysis \n",
    "cols_to_delete = [\n",
    "    # --- timestamps / dates ---\n",
    "  \n",
    "    \"data_criacao_da_lead_contactos\",\n",
    "    \"data_prevista_de_entrega_deals\",\n",
    "    \"data_prevista_matricula_deals\",\n",
    "    \"data_criacao_da_lead_deals\",\n",
    "\n",
    "    # --- IDs / keys ---\n",
    "    \"created_by\", \"modified_by\",\n",
    "    \"id_classe_propostas\", \"id_model_group_propostas\",\n",
    "    \"id_combustivel_propostas\", \"id_modelo_propostas\",\n",
    "    \"chave_agrupamento_cliente_propostas\",\n",
    "    \"tylacode_propostas\",\n",
    "    \"chave_concessao_bd_rede_deals\", \"chave_instalacao_bd_rede_deals\",\n",
    "    \"chave_contrato_concessionario_bd_rede_deals\",\n",
    "    \"chave_agrupamento_performance_vendas_deals\", \"chave_agrupamento_cliente_deals\",\"campanha_deals\",\n",
    "\n",
    "    # --- descriptive text ---\n",
    "    \"descricao_model_group_propostas\",\n",
    "    \n",
    "\n",
    "    # --- administrative fields ---\n",
    "     \"gestor_area_propostas\",\n",
    "\n",
    "    # --- duplicated / rarely useful flags ---\n",
    "    \"hubleads__nao_comunica_com_cc_\",\n",
    "    \"converted_contact\", \"converted_deal\", \"converted_from_lead_deals\",\n",
    "    \"ccupdated_contactos\", \"myhyundai_contactos\",\n",
    "    \"f2_deals\", \"modelovendaupdate_deals\"\n",
    "]\n",
    "\n",
    "src_tbl = \"sc_gold.Features_Table\"\n",
    "\n",
    "# compute keep list dynamically from live schema\n",
    "all_cols = spark.table(src_tbl).columns\n",
    "keep_cols = [c for c in all_cols if c not in cols_to_delete]\n",
    "keep_sql = \", \".join([f\"`{c}`\" for c in keep_cols])  # safe quoting\n",
    "\n",
    "# 2) Snapshot and recreate table with only keep_cols\n",
    "spark.sql(f\"CREATE OR REPLACE TEMP VIEW _src AS SELECT * FROM {src_tbl}\")\n",
    "\n",
    "spark.sql(f\"\"\"\n",
    "CREATE OR REPLACE TABLE {src_tbl}\n",
    "USING DELTA AS\n",
    "SELECT {keep_sql} FROM _src\n",
    "\"\"\")\n",
    "\n",
    "spark.sql(\"DROP VIEW _src\")\n"
   ]
  },
  {
   "cell_type": "code",
   "execution_count": 0,
   "metadata": {
    "application/vnd.databricks.v1+cell": {
     "cellMetadata": {
      "byteLimit": 2048000,
      "implicitDf": true,
      "rowLimit": 10000
     },
     "inputWidgets": {},
     "nuid": "df06f4c0-5120-47ed-8b15-8039e685a0fd",
     "showTitle": false,
     "tableResultSettingsMap": {},
     "title": ""
    }
   },
   "outputs": [],
   "source": [
    "%sql\n",
    "CREATE OR REPLACE TABLE sc_gold.Features_Table AS\n",
    "SELECT\n",
    "  *,\n",
    "  CASE\n",
    "    WHEN month(created_time) IN (12, 1, 2) THEN 'Winter'\n",
    "    WHEN month(created_time) IN (3, 4, 5) THEN 'Spring'\n",
    "    WHEN month(created_time) IN (6, 7, 8) THEN 'Summer'\n",
    "    ELSE 'Autumn'\n",
    "  END AS Season\n",
    "FROM sc_gold.Features_Table;\n",
    "\n",
    "--I created a Season for ML Models ( thinking in the prediction already)\n"
   ]
  },
  {
   "cell_type": "code",
   "execution_count": 0,
   "metadata": {
    "application/vnd.databricks.v1+cell": {
     "cellMetadata": {
      "byteLimit": 2048000,
      "implicitDf": true,
      "rowLimit": 10000
     },
     "inputWidgets": {},
     "nuid": "ff194c0e-c764-4706-a4ea-3c5e9d0455fb",
     "showTitle": false,
     "tableResultSettingsMap": {},
     "title": ""
    }
   },
   "outputs": [],
   "source": [
    "%sql\n",
    "CREATE OR REPLACE TABLE sc_gold.Features_Table AS\n",
    "SELECT\n",
    "  *,\n",
    "  datediff(created_time_deals, created_time) AS lead_to_deal_days\n",
    "FROM sc_gold.Features_Table;\n",
    "\n",
    "-- this is deals date- leads date to give the number of days that take , for my surprise there are negatives but can be typos or retroactive data entry → A deal was created manually before the lead was officially entered in the CRM.\n"
   ]
  },
  {
   "cell_type": "code",
   "execution_count": 0,
   "metadata": {
    "application/vnd.databricks.v1+cell": {
     "cellMetadata": {
      "byteLimit": 2048000,
      "implicitDf": true,
      "rowLimit": 10000
     },
     "inputWidgets": {},
     "nuid": "b9728670-19b5-4403-8aca-93b0f1a50999",
     "showTitle": false,
     "tableResultSettingsMap": {},
     "title": ""
    }
   },
   "outputs": [],
   "source": [
    "%sql\n",
    "CREATE OR REPLACE TABLE sc_gold.Features_Table AS\n",
    "SELECT\n",
    "  *,\n",
    "  CASE\n",
    "    WHEN datediff(created_time_deals, created_time) <= 7 THEN 'Fast'\n",
    "    WHEN datediff(created_time_deals, created_time) <= 30 THEN 'Medium'\n",
    "    ELSE 'Slow'\n",
    "  END AS deal_speed_category\n",
    "FROM sc_gold.Features_Table;\n",
    "\n"
   ]
  },
  {
   "cell_type": "code",
   "execution_count": 0,
   "metadata": {
    "application/vnd.databricks.v1+cell": {
     "cellMetadata": {
      "byteLimit": 2048000,
      "implicitDf": true,
      "rowLimit": 10000
     },
     "inputWidgets": {},
     "nuid": "352a5a3f-0cb8-4345-bb8f-9fc00111959b",
     "showTitle": false,
     "tableResultSettingsMap": {},
     "title": ""
    }
   },
   "outputs": [],
   "source": [
    "%sql\n",
    "CREATE OR REPLACE TABLE sc_gold.Features_Table AS\n",
    "SELECT\n",
    "  *,\n",
    "  CASE\n",
    "    WHEN created_time_deals < created_time THEN 1\n",
    "    ELSE 0\n",
    "  END AS deal_before_lead\n",
    "FROM sc_gold.Features_Table;\n"
   ]
  },
  {
   "cell_type": "code",
   "execution_count": 0,
   "metadata": {
    "application/vnd.databricks.v1+cell": {
     "cellMetadata": {
      "byteLimit": 2048000,
      "implicitDf": true,
      "rowLimit": 10000
     },
     "inputWidgets": {},
     "nuid": "090334ba-e4a9-4955-8a5c-5a9a59b0bb3a",
     "showTitle": false,
     "tableResultSettingsMap": {},
     "title": ""
    }
   },
   "outputs": [],
   "source": [
    "%sql\n",
    "CREATE OR REPLACE TABLE sc_gold.Features_Table AS\n",
    "SELECT\n",
    "  *,\n",
    "  CASE\n",
    "    WHEN dayofweek(created_time) IN (1,7) THEN 1\n",
    "    ELSE 0\n",
    "  END AS is_weekend_lead\n",
    "FROM sc_gold.Features_Table;\n"
   ]
  },
  {
   "cell_type": "code",
   "execution_count": 0,
   "metadata": {
    "application/vnd.databricks.v1+cell": {
     "cellMetadata": {
      "byteLimit": 2048000,
      "implicitDf": true,
      "rowLimit": 10000
     },
     "inputWidgets": {},
     "nuid": "2063a1bd-e3cd-4732-805c-548510bf3251",
     "showTitle": false,
     "tableResultSettingsMap": {},
     "title": ""
    }
   },
   "outputs": [],
   "source": [
    "%sql\n",
    "CREATE OR REPLACE TABLE sc_gold.Features_Table AS\n",
    "SELECT\n",
    "  *,\n",
    "  CASE\n",
    "    WHEN day(created_time_deals) >= 25 THEN 1\n",
    "    ELSE 0\n",
    "  END AS is_month_end_deal\n",
    "FROM sc_gold.Features_Table;\n"
   ]
  },
  {
   "cell_type": "code",
   "execution_count": 0,
   "metadata": {
    "application/vnd.databricks.v1+cell": {
     "cellMetadata": {
      "byteLimit": 2048000,
      "implicitDf": true,
      "rowLimit": 10000
     },
     "inputWidgets": {},
     "nuid": "d1562696-b36d-4a96-98af-2a7c2b70a9f4",
     "showTitle": false,
     "tableResultSettingsMap": {},
     "title": ""
    }
   },
   "outputs": [],
   "source": [
    "%sql\n",
    "CREATE OR REPLACE TABLE sc_gold.Features_Table\n",
    "SELECT \n",
    "    *,\n",
    "    CASE \n",
    "        WHEN qtd_viaturas_deals = 0 OR qtd_viaturas_deals IS NULL \n",
    "        THEN 0\n",
    "        ELSE num_de_propostas_deals / qtd_viaturas_deals\n",
    "    END AS proposals_per_vehicle\n",
    "FROM sc_gold.Features_Table;\n"
   ]
  },
  {
   "cell_type": "code",
   "execution_count": 0,
   "metadata": {
    "application/vnd.databricks.v1+cell": {
     "cellMetadata": {
      "byteLimit": 2048000,
      "implicitDf": true,
      "rowLimit": 10000
     },
     "inputWidgets": {},
     "nuid": "a27b647e-2347-410a-8f97-ef06aca63641",
     "showTitle": false,
     "tableResultSettingsMap": {},
     "title": ""
    }
   },
   "outputs": [],
   "source": [
    "%sql\n",
    "CREATE OR REPLACE TABLE sc_gold.Features_Table AS\n",
    "SELECT\n",
    "  *,\n",
    "  year(created_time)  AS lead_year,\n",
    "  month(created_time) AS lead_month\n",
    "FROM sc_gold.Features_Table;\n"
   ]
  },
  {
   "cell_type": "code",
   "execution_count": 0,
   "metadata": {
    "application/vnd.databricks.v1+cell": {
     "cellMetadata": {
      "byteLimit": 2048000,
      "implicitDf": true,
      "rowLimit": 10000
     },
     "inputWidgets": {},
     "nuid": "6075ba41-e551-469c-b104-b9db9b8c4982",
     "showTitle": false,
     "tableResultSettingsMap": {
      "0": {
       "dataGridStateBlob": "{\"version\":1,\"tableState\":{\"columnPinning\":{\"left\":[\"#row_number#\"],\"right\":[]},\"columnSizing\":{\"created_time_deals\":267},\"columnVisibility\":{}},\"settings\":{\"columns\":{}},\"syncTimestamp\":1757366252947}",
       "filterBlob": null,
       "queryPlanFiltersBlob": null,
       "tableResultIndex": 0
      }
     },
     "title": ""
    }
   },
   "outputs": [],
   "source": [
    "%sql\n",
    "SELECT * FROM sc_gold.Features_Table"
   ]
  },
  {
   "cell_type": "code",
   "execution_count": 0,
   "metadata": {
    "application/vnd.databricks.v1+cell": {
     "cellMetadata": {
      "byteLimit": 2048000,
      "implicitDf": true,
      "rowLimit": 10000
     },
     "inputWidgets": {},
     "nuid": "2ef8019f-41b0-46bf-9b3f-b042ccc74a1a",
     "showTitle": false,
     "tableResultSettingsMap": {},
     "title": ""
    }
   },
   "outputs": [],
   "source": [
    "%sql\n",
    "SELECT\n",
    "  is_converted,\n",
    "  COUNT(*) AS total_leads\n",
    "FROM sc_gold.leads_pbs\n",
    "GROUP BY is_converted\n",
    "ORDER BY is_converted;\n",
    "\n"
   ]
  },
  {
   "cell_type": "code",
   "execution_count": 0,
   "metadata": {
    "application/vnd.databricks.v1+cell": {
     "cellMetadata": {
      "byteLimit": 2048000,
      "implicitDf": true,
      "rowLimit": 10000
     },
     "inputWidgets": {},
     "nuid": "628e7ae7-9c36-461b-86be-060a14b4ddc4",
     "showTitle": false,
     "tableResultSettingsMap": {},
     "title": ""
    }
   },
   "outputs": [],
   "source": [
    "%sql\n",
    "SELECT\n",
    "  is_converted,\n",
    "  COUNT(*) AS total_leads\n",
    "FROM sc_silver.leads_pbs\n",
    "GROUP BY is_converted\n",
    "ORDER BY is_converted;"
   ]
  }
 ],
 "metadata": {
  "application/vnd.databricks.v1+notebook": {
   "computePreferences": null,
   "dashboards": [],
   "environmentMetadata": {
    "base_environment": "",
    "environment_version": "3"
   },
   "inputWidgetPreferences": null,
   "language": "python",
   "notebookMetadata": {
    "mostRecentlyExecutedCommandWithImplicitDF": {
     "commandId": 5798689607764486,
     "dataframes": [
      "_sqldf"
     ]
    },
    "pythonIndentUnit": 4
   },
   "notebookName": "Gold_Models_Pedro",
   "widgets": {}
  },
  "language_info": {
   "name": "python"
  }
 },
 "nbformat": 4,
 "nbformat_minor": 0
}
