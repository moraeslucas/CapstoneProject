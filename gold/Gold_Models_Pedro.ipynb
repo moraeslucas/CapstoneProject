{
 "cells": [
  {
   "cell_type": "code",
   "execution_count": 0,
   "metadata": {
    "application/vnd.databricks.v1+cell": {
     "cellMetadata": {
      "byteLimit": 2048000,
      "implicitDf": true,
      "rowLimit": 10000
     },
     "inputWidgets": {},
     "nuid": "df86d39f-a797-42c0-8263-4c3e5454cdb8",
     "showTitle": false,
     "tableResultSettingsMap": {},
     "title": ""
    }
   },
   "outputs": [],
   "source": [
    "%sql\n",
    "--To check if there are duplicates in table contactos before the join , just for security\n",
    "\n",
    "SELECT\n",
    "  id,\n",
    "  data_criacao_da_lead,\n",
    "  COUNT(*) AS cnt\n",
    "FROM sc_gold.contactos_pbs\n",
    "GROUP BY id, data_criacao_da_lead\n",
    "HAVING COUNT(*) > 1\n",
    "ORDER BY cnt DESC, id, data_criacao_da_lead;\n"
   ]
  },
  {
   "cell_type": "code",
   "execution_count": 0,
   "metadata": {
    "application/vnd.databricks.v1+cell": {
     "cellMetadata": {
      "byteLimit": 2048000,
      "implicitDf": true,
      "rowLimit": 10000
     },
     "inputWidgets": {},
     "nuid": "47d42b5d-8fb0-486f-9df7-8375592abeaa",
     "showTitle": false,
     "tableResultSettingsMap": {},
     "title": ""
    }
   },
   "outputs": [],
   "source": [
    "%sql\n",
    "DESCRIBE sc_gold.`leads_pbs`;\n",
    "-- or\n",
    "SHOW COLUMNS IN sc_gold.`leads_pbs`;\n"
   ]
  },
  {
   "cell_type": "code",
   "execution_count": 0,
   "metadata": {
    "application/vnd.databricks.v1+cell": {
     "cellMetadata": {
      "byteLimit": 2048000,
      "implicitDf": true,
      "rowLimit": 10000
     },
     "inputWidgets": {},
     "nuid": "21f35e18-59b4-4588-a1f4-00e4e75c0e9c",
     "showTitle": false,
     "tableResultSettingsMap": {},
     "title": ""
    }
   },
   "outputs": [],
   "source": [
    "%sql\n",
    "SELECT\n",
    "  created_time AS lead_created_time\n",
    "FROM sc_silver.leads_pbs\n",
    "LIMIT 50;\n"
   ]
  },
  {
   "cell_type": "code",
   "execution_count": 0,
   "metadata": {
    "application/vnd.databricks.v1+cell": {
     "cellMetadata": {
      "byteLimit": 2048000,
      "implicitDf": true,
      "rowLimit": 10000
     },
     "inputWidgets": {},
     "nuid": "e0e7d5ec-1780-42bf-8857-907dee087687",
     "showTitle": false,
     "tableResultSettingsMap": {},
     "title": ""
    }
   },
   "outputs": [],
   "source": [
    "%sql\n",
    "SELECT\n",
    "  data_criacao_da_lead\n",
    "FROM sc_silver.contactos_pbs\n",
    "LIMIT 50;"
   ]
  },
  {
   "cell_type": "code",
   "execution_count": 0,
   "metadata": {
    "application/vnd.databricks.v1+cell": {
     "cellMetadata": {
      "byteLimit": 2048000,
      "implicitDf": true,
      "rowLimit": 10000
     },
     "inputWidgets": {},
     "nuid": "722797fb-e955-4e72-a980-49e90d182f7d",
     "showTitle": false,
     "tableResultSettingsMap": {},
     "title": ""
    }
   },
   "outputs": [],
   "source": [
    "\n",
    "%sql\n",
    "\n",
    "SELECT * FROM sc_gold.campaigns             LIMIT 50;\n"
   ]
  },
  {
   "cell_type": "code",
   "execution_count": 0,
   "metadata": {
    "application/vnd.databricks.v1+cell": {
     "cellMetadata": {
      "byteLimit": 2048000,
      "implicitDf": true,
      "rowLimit": 10000
     },
     "inputWidgets": {},
     "nuid": "0a83bf42-5883-4081-bd46-59801fb7e35e",
     "showTitle": false,
     "tableResultSettingsMap": {},
     "title": ""
    }
   },
   "outputs": [],
   "source": [
    "%sql\n",
    "SELECT * FROM sc_gold.leads_pbs             LIMIT 50;\n"
   ]
  },
  {
   "cell_type": "code",
   "execution_count": 0,
   "metadata": {
    "application/vnd.databricks.v1+cell": {
     "cellMetadata": {
      "byteLimit": 2048000,
      "implicitDf": true,
      "rowLimit": 10000
     },
     "inputWidgets": {},
     "nuid": "a92a373b-c31d-4fb5-a69b-eb1ec4835b61",
     "showTitle": false,
     "tableResultSettingsMap": {},
     "title": ""
    }
   },
   "outputs": [],
   "source": [
    "%sql\n",
    "\n",
    "SELECT * FROM sc_gold.contactos_pbs         LIMIT 50;\n"
   ]
  },
  {
   "cell_type": "code",
   "execution_count": 0,
   "metadata": {
    "application/vnd.databricks.v1+cell": {
     "cellMetadata": {
      "byteLimit": 2048000,
      "implicitDf": true,
      "rowLimit": 10000
     },
     "inputWidgets": {},
     "nuid": "1eabf9ef-a305-4a84-869b-bec6ea220f71",
     "showTitle": false,
     "tableResultSettingsMap": {},
     "title": ""
    }
   },
   "outputs": [],
   "source": [
    "%sql\n",
    "SELECT * FROM sc_gold.propostas_realizadas  LIMIT 50;\n"
   ]
  },
  {
   "cell_type": "code",
   "execution_count": 0,
   "metadata": {
    "application/vnd.databricks.v1+cell": {
     "cellMetadata": {
      "byteLimit": 2048000,
      "implicitDf": true,
      "rowLimit": 10000
     },
     "inputWidgets": {},
     "nuid": "7d9a2714-e79b-4a59-9d70-fcd4575cc79e",
     "showTitle": false,
     "tableResultSettingsMap": {},
     "title": ""
    }
   },
   "outputs": [],
   "source": [
    "%sql\n",
    "SELECT * FROM sc_gold.deals                 LIMIT 50;"
   ]
  },
  {
   "cell_type": "code",
   "execution_count": 0,
   "metadata": {
    "application/vnd.databricks.v1+cell": {
     "cellMetadata": {
      "byteLimit": 2048000,
      "implicitDf": true,
      "rowLimit": 10000
     },
     "inputWidgets": {},
     "nuid": "0dfa7f30-b7b1-42b5-afff-e6b1edf03d78",
     "showTitle": false,
     "tableResultSettingsMap": {},
     "title": ""
    }
   },
   "outputs": [],
   "source": [
    "%sql\n",
    "SELECT * FROM sc_gold.contactos_pbs         LIMIT 50;"
   ]
  },
  {
   "cell_type": "code",
   "execution_count": 0,
   "metadata": {
    "application/vnd.databricks.v1+cell": {
     "cellMetadata": {
      "byteLimit": 2048000,
      "implicitDf": true,
      "rowLimit": 10000
     },
     "inputWidgets": {},
     "nuid": "7404c247-7710-45f4-8af6-8a32adb70f90",
     "showTitle": false,
     "tableResultSettingsMap": {},
     "title": ""
    }
   },
   "outputs": [],
   "source": [
    "# Build and run: CREATE OR REPLACE TABLE sc_gold.contactos_pbs_2 AS SELECT ... FROM sc_gold.contactos_pbs\n",
    "\n",
    "# 1) Read source columns in order\n",
    "cols = spark.sql(\"\"\"\n",
    "  SELECT column_name\n",
    "  FROM information_schema.columns\n",
    "  WHERE table_schema = 'sc_gold'\n",
    "    AND table_name   = 'contactos_pbs'\n",
    "  ORDER BY ordinal_position\n",
    "\"\"\").toPandas()['column_name'].tolist()\n",
    "\n",
    "# Optional: columns you do NOT want renamed (e.g., keep id as-is)\n",
    "skip = set()   # e.g., {'id'}\n",
    "\n",
    "# 2) Build the select list with aliases\n",
    "select_exprs = []\n",
    "for c in cols:\n",
    "    new = c if (c.endswith('_contactos') or c in skip) else f\"{c}_contactos\"\n",
    "    select_exprs.append(f\"`{c}` AS `{new}`\")\n",
    "\n",
    "select_sql = \", \".join(select_exprs)\n",
    "\n",
    "# 3) Build the full CREATE TABLE AS SELECT statement\n",
    "create_sql = f\"\"\"\n",
    "CREATE OR REPLACE TABLE sc_gold.contactos_pbs_2 AS\n",
    "SELECT {select_sql}\n",
    "FROM sc_gold.contactos_pbs\n",
    "\"\"\"\n",
    "\n",
    "print(create_sql)  # shows exactly what will run\n",
    "spark.sql(create_sql)\n",
    "\n",
    "# 4) Quick verification\n",
    "spark.sql(\"DESCRIBE TABLE sc_gold.contactos_pbs_2\").show(truncate=False)\n",
    "spark.sql(\"SELECT * FROM sc_gold.contactos_pbs_2 LIMIT 5\").show()\n"
   ]
  },
  {
   "cell_type": "code",
   "execution_count": 0,
   "metadata": {
    "application/vnd.databricks.v1+cell": {
     "cellMetadata": {
      "byteLimit": 2048000,
      "implicitDf": true,
      "rowLimit": 10000
     },
     "inputWidgets": {},
     "nuid": "432f8a4a-597b-4463-b7a9-53471c5de947",
     "showTitle": false,
     "tableResultSettingsMap": {},
     "title": ""
    }
   },
   "outputs": [],
   "source": [
    "%sql\n",
    "SELECT * FROM sc_gold.contactos_pbs_2"
   ]
  },
  {
   "cell_type": "code",
   "execution_count": 0,
   "metadata": {
    "application/vnd.databricks.v1+cell": {
     "cellMetadata": {
      "byteLimit": 2048000,
      "rowLimit": 10000
     },
     "inputWidgets": {},
     "nuid": "46b1cd2b-2e6a-4cef-9f08-ae524008923c",
     "showTitle": false,
     "tableResultSettingsMap": {},
     "title": ""
    }
   },
   "outputs": [],
   "source": [
    "# Source and target\n",
    "source_table = \"sc_gold.propostas_realizadas\"\n",
    "target_table = \"sc_gold.propostas_realizadas2\"\n",
    "\n",
    "# 1) Get columns\n",
    "cols = spark.sql(f\"\"\"\n",
    "  SELECT column_name\n",
    "  FROM information_schema.columns\n",
    "  WHERE table_schema = 'sc_gold'\n",
    "    AND table_name   = 'propostas_realizadas'\n",
    "  ORDER BY ordinal_position\n",
    "\"\"\").toPandas()['column_name'].tolist()\n",
    "\n",
    "# Optional: columns to keep unchanged\n",
    "skip = set()   # e.g., {'id'}\n",
    "\n",
    "# 2) Build select list with renamed aliases\n",
    "select_exprs = []\n",
    "for c in cols:\n",
    "    new = c if (c.endswith('_propostas') or c in skip) else f\"{c}_propostas\"\n",
    "    select_exprs.append(f\"`{c}` AS `{new}`\")\n",
    "\n",
    "select_sql = \", \".join(select_exprs)\n",
    "\n",
    "# 3) Build CREATE TABLE AS SELECT\n",
    "create_sql = f\"\"\"\n",
    "CREATE OR REPLACE TABLE {target_table} AS\n",
    "SELECT {select_sql}\n",
    "FROM {source_table}\n",
    "\"\"\"\n",
    "\n",
    "print(create_sql)   # Show what will run\n",
    "spark.sql(create_sql)\n",
    "\n",
    "# 4) Verify\n",
    "spark.sql(f\"DESCRIBE TABLE {target_table}\").show(truncate=False)\n",
    "spark.sql(f\"SELECT * FROM {target_table} LIMIT 5\").show()\n"
   ]
  },
  {
   "cell_type": "code",
   "execution_count": 0,
   "metadata": {
    "application/vnd.databricks.v1+cell": {
     "cellMetadata": {
      "byteLimit": 2048000,
      "implicitDf": true,
      "rowLimit": 10000
     },
     "inputWidgets": {},
     "nuid": "c7f58f63-0892-4b59-8c1c-b6829bc0c796",
     "showTitle": false,
     "tableResultSettingsMap": {},
     "title": ""
    }
   },
   "outputs": [],
   "source": [
    "%sql\n",
    "SELECT * FROM sc_gold.propostas_realizadas2"
   ]
  },
  {
   "cell_type": "code",
   "execution_count": 0,
   "metadata": {
    "application/vnd.databricks.v1+cell": {
     "cellMetadata": {
      "byteLimit": 2048000,
      "rowLimit": 10000
     },
     "inputWidgets": {},
     "nuid": "0ae47343-02f0-41d9-8cd3-2cab918d5090",
     "showTitle": false,
     "tableResultSettingsMap": {},
     "title": ""
    }
   },
   "outputs": [],
   "source": [
    "# Source and target\n",
    "source_table = \"sc_gold.deals\"\n",
    "target_table = \"sc_gold.deals2\"\n",
    "\n",
    "# 1) Get columns\n",
    "cols = spark.sql(f\"\"\"\n",
    "  SELECT column_name\n",
    "  FROM information_schema.columns\n",
    "  WHERE table_schema = 'sc_gold'\n",
    "    AND table_name   = 'deals'\n",
    "  ORDER BY ordinal_position\n",
    "\"\"\").toPandas()['column_name'].tolist()\n",
    "\n",
    "# Optional: columns to keep unchanged (e.g., primary keys)\n",
    "skip = set()   # Example: {'id'}\n",
    "\n",
    "# 2) Build select list with renamed aliases\n",
    "select_exprs = []\n",
    "for c in cols:\n",
    "    new = c if (c.endswith('_deals') or c in skip) else f\"{c}_deals\"\n",
    "    select_exprs.append(f\"`{c}` AS `{new}`\")\n",
    "\n",
    "select_sql = \", \".join(select_exprs)\n",
    "\n",
    "# 3) Build CREATE TABLE AS SELECT\n",
    "create_sql = f\"\"\"\n",
    "CREATE OR REPLACE TABLE {target_table} AS\n",
    "SELECT {select_sql}\n",
    "FROM {source_table}\n",
    "\"\"\"\n",
    "\n",
    "print(create_sql)   # Show generated SQL\n",
    "spark.sql(create_sql)\n",
    "\n",
    "# 4) Verify structure and sample data\n",
    "spark.sql(f\"DESCRIBE TABLE {target_table}\").show(truncate=False)\n",
    "spark.sql(f\"SELECT * FROM {target_table} LIMIT 5\").show()\n"
   ]
  },
  {
   "cell_type": "code",
   "execution_count": 0,
   "metadata": {
    "application/vnd.databricks.v1+cell": {
     "cellMetadata": {
      "byteLimit": 2048000,
      "implicitDf": true,
      "rowLimit": 10000
     },
     "inputWidgets": {},
     "nuid": "9770184b-84d8-4485-a093-1662d51c64c2",
     "showTitle": false,
     "tableResultSettingsMap": {},
     "title": ""
    }
   },
   "outputs": [],
   "source": [
    "%sql\n",
    "SELECT * FROM sc_gold.deals2"
   ]
  },
  {
   "cell_type": "code",
   "execution_count": 0,
   "metadata": {
    "application/vnd.databricks.v1+cell": {
     "cellMetadata": {
      "byteLimit": 2048000,
      "rowLimit": 10000
     },
     "inputWidgets": {},
     "nuid": "1d83ff6a-2dac-4227-a4cf-9b811b1142f4",
     "showTitle": false,
     "tableResultSettingsMap": {},
     "title": ""
    }
   },
   "outputs": [],
   "source": [
    "# Source and target\n",
    "source_table = \"sc_gold.campaigns\"\n",
    "target_table = \"sc_gold.campaigns2\"\n",
    "\n",
    "# 1) Get columns\n",
    "cols = spark.sql(f\"\"\"\n",
    "  SELECT column_name\n",
    "  FROM information_schema.columns\n",
    "  WHERE table_schema = 'sc_gold'\n",
    "    AND table_name   = 'campaigns'\n",
    "  ORDER BY ordinal_position\n",
    "\"\"\").toPandas()['column_name'].tolist()\n",
    "\n",
    "# Optional: columns to keep unchanged (like primary keys)\n",
    "skip = set()   # Example: {'id'}\n",
    "\n",
    "# 2) Build select list with renamed aliases\n",
    "select_exprs = []\n",
    "for c in cols:\n",
    "    new = c if (c.endswith('_campaigns') or c in skip) else f\"{c}_campaigns\"\n",
    "    select_exprs.append(f\"`{c}` AS `{new}`\")\n",
    "\n",
    "select_sql = \", \".join(select_exprs)\n",
    "\n",
    "# 3) Build CREATE TABLE AS SELECT\n",
    "create_sql = f\"\"\"\n",
    "CREATE OR REPLACE TABLE {target_table} AS\n",
    "SELECT {select_sql}\n",
    "FROM {source_table}\n",
    "\"\"\"\n",
    "\n",
    "print(create_sql)   # Preview generated SQL\n",
    "spark.sql(create_sql)\n",
    "\n",
    "# 4) Verify new table\n",
    "spark.sql(f\"DESCRIBE TABLE {target_table}\").show(truncate=False)\n",
    "spark.sql(f\"SELECT * FROM {target_table} LIMIT 5\").show()\n"
   ]
  },
  {
   "cell_type": "code",
   "execution_count": 0,
   "metadata": {
    "application/vnd.databricks.v1+cell": {
     "cellMetadata": {
      "byteLimit": 2048000,
      "implicitDf": true,
      "rowLimit": 10000
     },
     "inputWidgets": {},
     "nuid": "a55e47c4-a7f3-4c05-ad1f-dfe71a84c240",
     "showTitle": false,
     "tableResultSettingsMap": {},
     "title": ""
    }
   },
   "outputs": [],
   "source": [
    "%sql\n",
    "SELECT * FROM sc_gold.campaigns2"
   ]
  },
  {
   "cell_type": "code",
   "execution_count": 0,
   "metadata": {
    "application/vnd.databricks.v1+cell": {
     "cellMetadata": {
      "byteLimit": 2048000,
      "implicitDf": true,
      "rowLimit": 10000
     },
     "inputWidgets": {},
     "nuid": "23a30767-95aa-4496-aac3-c4c5e6be7ed4",
     "showTitle": false,
     "tableResultSettingsMap": {},
     "title": ""
    }
   },
   "outputs": [],
   "source": [
    "%sql\n",
    "SELECT COUNT(*) AS strict_matches\n",
    "FROM sc_gold.leads_pbs l\n",
    "JOIN sc_gold.contactos_pbs_2 c\n",
    "  ON  l.converted_contact = c.id_contactos\n",
    "  AND l.created_time      = c.data_criacao_da_lead_contactos;\n"
   ]
  },
  {
   "cell_type": "code",
   "execution_count": 0,
   "metadata": {
    "application/vnd.databricks.v1+cell": {
     "cellMetadata": {
      "byteLimit": 2048000,
      "implicitDf": true,
      "rowLimit": 10000
     },
     "inputWidgets": {},
     "nuid": "9a7d7432-9a33-4efe-991f-b4dd1e84bb92",
     "showTitle": false,
     "tableResultSettingsMap": {},
     "title": ""
    }
   },
   "outputs": [],
   "source": [
    "%sql\n",
    "CREATE OR REPLACE TABLE sc_gold.Features_Table AS\n",
    "SELECT\n",
    "  l.*,\n",
    "  c.*\n",
    "FROM sc_gold.leads_pbs       AS l\n",
    "JOIN sc_gold.contactos_pbs_2 AS c\n",
    "  ON  l.converted_contact = c.id_contactos\n",
    "  AND l.created_time      = c.data_criacao_da_lead_contactos;\n"
   ]
  },
  {
   "cell_type": "code",
   "execution_count": 0,
   "metadata": {
    "application/vnd.databricks.v1+cell": {
     "cellMetadata": {
      "byteLimit": 2048000,
      "implicitDf": true,
      "rowLimit": 10000
     },
     "inputWidgets": {},
     "nuid": "b6738553-9557-4be4-9c84-3d7089a7b90e",
     "showTitle": false,
     "tableResultSettingsMap": {},
     "title": ""
    }
   },
   "outputs": [],
   "source": [
    "%sql\n",
    "SELECT current_catalog()   AS catalog,\n",
    "       current_schema()    AS schema;\n",
    "\n"
   ]
  },
  {
   "cell_type": "code",
   "execution_count": 0,
   "metadata": {
    "application/vnd.databricks.v1+cell": {
     "cellMetadata": {
      "byteLimit": 2048000,
      "implicitDf": true,
      "rowLimit": 10000
     },
     "inputWidgets": {},
     "nuid": "66eb4b9b-b818-4891-b768-8d6164f36512",
     "showTitle": false,
     "tableResultSettingsMap": {},
     "title": ""
    }
   },
   "outputs": [],
   "source": [
    "%sql\n",
    "USE CATALOG workspace;\n",
    "USE SCHEMA sc_gold;\n",
    "\n",
    "SELECT current_catalog() AS catalog, current_schema() AS schema;  -- should show workspace / sc_gold\n"
   ]
  },
  {
   "cell_type": "code",
   "execution_count": 0,
   "metadata": {
    "application/vnd.databricks.v1+cell": {
     "cellMetadata": {
      "byteLimit": 2048000,
      "implicitDf": true,
      "rowLimit": 10000
     },
     "inputWidgets": {},
     "nuid": "e0865170-1842-497b-9696-551f854c5da7",
     "showTitle": false,
     "tableResultSettingsMap": {},
     "title": ""
    }
   },
   "outputs": [],
   "source": [
    "%sql\n",
    "WITH joined AS (\n",
    "  SELECT\n",
    "    l.*,\n",
    "    c.*\n",
    "  FROM sc_gold.leads_pbs       AS l\n",
    "  JOIN sc_gold.contactos_pbs_2 AS c\n",
    "    ON  l.converted_contact = c.id_contactos\n",
    "   AND l.created_time      = c.data_criacao_da_lead_contactos\n",
    ")\n",
    "SELECT COUNT(*) AS check_count FROM joined;   -- should be ~118329\n"
   ]
  },
  {
   "cell_type": "code",
   "execution_count": 0,
   "metadata": {
    "application/vnd.databricks.v1+cell": {
     "cellMetadata": {
      "byteLimit": 2048000,
      "implicitDf": true,
      "rowLimit": 10000
     },
     "inputWidgets": {},
     "nuid": "62ef095e-3704-4379-b4d6-0cdb1792d368",
     "showTitle": false,
     "tableResultSettingsMap": {},
     "title": ""
    }
   },
   "outputs": [],
   "source": [
    "%sql\n",
    "-- (optional) ensure you're in the right place\n",
    "-- USE CATALOG workspace;\n",
    "-- USE SCHEMA sc_gold;\n",
    "\n",
    "CREATE OR REPLACE TABLE sc_gold.Features_Table\n",
    "USING DELTA\n",
    "AS\n",
    "SELECT\n",
    "  l.*,\n",
    "  c.*\n",
    "FROM sc_gold.leads_pbs       AS l\n",
    "JOIN sc_gold.contactos_pbs_2 AS c\n",
    "  ON  l.converted_contact = c.id_contactos\n",
    "  AND l.created_time      = c.data_criacao_da_lead_contactos;\n"
   ]
  },
  {
   "cell_type": "code",
   "execution_count": 0,
   "metadata": {
    "application/vnd.databricks.v1+cell": {
     "cellMetadata": {
      "byteLimit": 2048000,
      "implicitDf": true,
      "rowLimit": 10000
     },
     "inputWidgets": {},
     "nuid": "4dd397e2-3373-4666-8f88-d239ba276d1d",
     "showTitle": false,
     "tableResultSettingsMap": {},
     "title": ""
    }
   },
   "outputs": [],
   "source": [
    "%sql\n",
    "SELECT * FROM sc_gold.Features_Table"
   ]
  }
 ],
 "metadata": {
  "application/vnd.databricks.v1+notebook": {
   "computePreferences": null,
   "dashboards": [],
   "environmentMetadata": {
    "base_environment": "",
    "environment_version": "3"
   },
   "inputWidgetPreferences": null,
   "language": "python",
   "notebookMetadata": {
    "mostRecentlyExecutedCommandWithImplicitDF": {
     "commandId": 7394239620140379,
     "dataframes": [
      "_sqldf"
     ]
    },
    "pythonIndentUnit": 4
   },
   "notebookName": "Gold_Models_Pedro",
   "widgets": {}
  },
  "language_info": {
   "name": "python"
  }
 },
 "nbformat": 4,
 "nbformat_minor": 0
}
