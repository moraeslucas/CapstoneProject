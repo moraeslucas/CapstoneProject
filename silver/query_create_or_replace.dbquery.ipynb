{
 "cells": [
  {
   "cell_type": "code",
   "execution_count": 0,
   "metadata": {
    "application/vnd.databricks.v1+cell": {
     "cellMetadata": {},
     "inputWidgets": {},
     "nuid": "ad9a839d-8a02-4602-973a-4dcf10085a10",
     "showTitle": false,
     "tableResultSettingsMap": {},
     "title": ""
    }
   },
   "outputs": [],
   "source": [
    "CREATE OR REPLACE TABLE workspace.sc_silver.bd_rede_hyundai \n",
    "SELECT * \n",
    "  FROM workspace.sc_bronze_pbs2025bacapstoneg2u2.bd_rede_hyundai;\n",
    "\n",
    "\n",
    "CREATE OR REPLACE TABLE workspace.sc_silver.campaigns \n",
    "SELECT * \n",
    "  FROM workspace.sc_bronze_pbs2025bacapstoneg2u2.campaigns;\n",
    "\n",
    "\n",
    "CREATE OR REPLACE TABLE workspace.sc_silver.campanha_vouchers\n",
    "SELECT * \n",
    "  FROM workspace.sc_bronze_pbs2025bacapstoneg2u2.campanha_vouchers; \n",
    "\n",
    "\n",
    "CREATE OR REPLACE TABLE workspace.sc_silver.campanhas_tecnicas \n",
    "SELECT * \n",
    "  FROM workspace.sc_bronze_pbs2025bacapstoneg2u2.campanhas_tecnicas;\n",
    "\n",
    "\n",
    "CREATE OR REPLACE TABLE workspace.sc_silver.contactos_importador_pbs \n",
    "SELECT * \n",
    "  FROM workspace.sc_bronze_pbs2025bacapstoneg2u2.contactos_importador_pbs;\n",
    "\n",
    "\n",
    "CREATE OR REPLACE TABLE workspace.sc_silver.contactos_pbs \n",
    "SELECT * \n",
    "  FROM workspace.sc_bronze_pbs2025bacapstoneg2u2.contactos_pbs;\n",
    "\n",
    "\n",
    "CREATE OR REPLACE TABLE workspace.sc_silver.contas_importador_pbs \n",
    "SELECT * \n",
    "  FROM workspace.sc_bronze_pbs2025bacapstoneg2u2.contas_importador_pbs;\n",
    "\n",
    "\n",
    "CREATE OR REPLACE TABLE workspace.sc_silver.contas_pbs \n",
    "SELECT * \n",
    "  FROM workspace.sc_bronze_pbs2025bacapstoneg2u2.contas_pbs;\n",
    "\n",
    "\n",
    "CREATE OR REPLACE TABLE workspace.sc_silver.contratos_financiamento \n",
    "SELECT * \n",
    "  FROM workspace.sc_bronze_pbs2025bacapstoneg2u2.contratos_financiamento;\n",
    "\n",
    "\n",
    "CREATE OR REPLACE TABLE workspace.sc_silver.deals \n",
    "SELECT * \n",
    "  FROM workspace.sc_bronze_pbs2025bacapstoneg2u2.deals;\n",
    "\n",
    "\n",
    "CREATE OR REPLACE TABLE workspace.sc_silver.historico_de_servicos \n",
    "SELECT * \n",
    "  FROM workspace.sc_bronze_pbs2025bacapstoneg2u2.historico_de_servicos;\n",
    "\n",
    "\n",
    "CREATE OR REPLACE TABLE workspace.sc_silver.leads_pbs \n",
    "SELECT * \n",
    "  FROM workspace.sc_bronze_pbs2025bacapstoneg2u2.leads_pbs;\n",
    "\n",
    "\n",
    "CREATE OR REPLACE TABLE workspace.sc_silver.propostas_realizadas \n",
    "SELECT * \n",
    "  FROM workspace.sc_bronze_pbs2025bacapstoneg2u2.propostas_realizadas;\n",
    "\n",
    "\n",
    "CREATE OR REPLACE TABLE workspace.sc_silver.viaturas \n",
    "SELECT * FROM workspace.sc_bronze_pbs2025bacapstoneg2u2.viaturas;\n",
    "\n",
    "\n",
    "CREATE OR REPLACE TABLE workspace.sc_silver.viaturas_demo \n",
    "SELECT * \n",
    "  FROM workspace.sc_bronze_pbs2025bacapstoneg2u2.viaturas_demo;"
   ]
  }
 ],
 "metadata": {
  "application/vnd.databricks.v1+notebook": {
   "computePreferences": null,
   "dashboards": [],
   "environmentMetadata": null,
   "inputWidgetPreferences": null,
   "language": "sql",
   "notebookMetadata": {
    "sqlQueryOptions": {
     "applyAutoLimit": true,
     "catalog": "workspace",
     "schema": "sc_silver"
    }
   },
   "notebookName": "query_create_or_replace.dbquery.ipynb",
   "widgets": {}
  },
  "language_info": {
   "name": "sql"
  }
 },
 "nbformat": 4,
 "nbformat_minor": 0
}
