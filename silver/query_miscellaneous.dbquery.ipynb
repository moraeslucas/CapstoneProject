{
 "cells": [
  {
   "cell_type": "code",
   "execution_count": 0,
   "metadata": {
    "application/vnd.databricks.v1+cell": {
     "cellMetadata": {},
     "inputWidgets": {},
     "nuid": "ac61ff26-04ca-4546-a3ba-380f8f148b0f",
     "showTitle": false,
     "tableResultSettingsMap": {},
     "title": ""
    }
   },
   "outputs": [],
   "source": [
    "SELECT *\n",
    "FROM sc_silver.campanha_vouchers\n",
    "WHERE `_fivetran_id` = 739019628320284935\n",
    "\n",
    "--UPDATE sc_bronze_pbs2025bacapstoneg2u2.campanha_vouchers \n",
    "--SET `comparticipacao` = 'Yes' --'Yes' is the original value\n",
    "--WHERE `_fivetran_id` = 739019628320284935\n",
    "\n",
    "--SHOW GRANTS ON SCHEMA sc_bronze_pbs2025bacapstoneg2u2;\n",
    "\n",
    "--REVOKE MODIFY ON SCHEMA sc_bronze_pbs2025bacapstoneg2u2 FROM `account users`;"
   ]
  }
 ],
 "metadata": {
  "application/vnd.databricks.v1+notebook": {
   "computePreferences": null,
   "dashboards": [],
   "environmentMetadata": null,
   "inputWidgetPreferences": null,
   "language": "sql",
   "notebookMetadata": {
    "sqlQueryOptions": {
     "applyAutoLimit": true,
     "catalog": "workspace",
     "schema": "sc_bronze_pbs2025bacapstoneg2u2"
    }
   },
   "notebookName": "query_miscellaneous.dbquery.ipynb",
   "widgets": {}
  },
  "language_info": {
   "name": "sql"
  }
 },
 "nbformat": 4,
 "nbformat_minor": 0
}
