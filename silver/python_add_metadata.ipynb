{
 "cells": [
  {
   "cell_type": "code",
   "execution_count": 0,
   "metadata": {
    "application/vnd.databricks.v1+cell": {
     "cellMetadata": {
      "byteLimit": 2048000,
      "rowLimit": 10000
     },
     "inputWidgets": {},
     "nuid": "542d29dd-19de-43c8-bfe1-1f41255bbe16",
     "showTitle": false,
     "tableResultSettingsMap": {},
     "title": ""
    }
   },
   "outputs": [],
   "source": [
    "%pip install pandas\n",
    "%pip install openpyxl\n",
    "%pip install rich"
   ]
  },
  {
   "cell_type": "code",
   "execution_count": 0,
   "metadata": {
    "application/vnd.databricks.v1+cell": {
     "cellMetadata": {
      "byteLimit": 2048000,
      "rowLimit": 10000
     },
     "inputWidgets": {},
     "nuid": "b05ce47b-10e8-4de4-a08a-ae3469a9a3dd",
     "showTitle": false,
     "tableResultSettingsMap": {},
     "title": ""
    }
   },
   "outputs": [],
   "source": [
    "import pandas as pd\n",
    "\n",
    "# Pandas is suitable when dealing with medium-size files\n",
    "df_pandas = pd.read_excel(\"/Workspace/Users/moraesit@outlook.com/tables_comments.xlsx\",\n",
    "                         engine='openpyxl', # When working with .xlsx files\n",
    "                         sheet_name='deals',\n",
    "                         header = 0)\n",
    "\n",
    "df_deals = spark.createDataFrame(df_pandas)\n",
    "df_deals.display()"
   ]
  },
  {
   "cell_type": "code",
   "execution_count": 0,
   "metadata": {
    "application/vnd.databricks.v1+cell": {
     "cellMetadata": {
      "byteLimit": 2048000,
      "rowLimit": 10000
     },
     "inputWidgets": {},
     "nuid": "5f47a5d4-b598-4959-ac53-6cd0d8443095",
     "showTitle": false,
     "tableResultSettingsMap": {},
     "title": ""
    }
   },
   "outputs": [],
   "source": [
    "from rich.console import Console\n",
    "\n",
    "'''\n",
    "Include the respective description inside each column's comments\n",
    "'''\n",
    "console = Console()\n",
    "existing_columns = [col.name for col in spark.table(\"workspace.sc_silver.deals\").schema]\n",
    "\n",
    "for row in df_deals.collect():\n",
    "    column = row['column_name']\n",
    "    comment = row['description'] \n",
    "\n",
    "    if column in existing_columns:\n",
    "        escaped_comment = comment.replace(\"'\", \"''\")  # Escape single quotes to avoid SQL syntax errors\n",
    "        spark.sql(f\"\"\"ALTER TABLE workspace.sc_silver.deals \n",
    "                      ALTER COLUMN {column} COMMENT '{escaped_comment}'\"\"\")\n",
    "    else:\n",
    "        console.print(f\"Column [bold cyan]{column}[/bold cyan] doesn't exist in the deals table. Skipping...\")"
   ]
  },
  {
   "cell_type": "code",
   "execution_count": 0,
   "metadata": {
    "application/vnd.databricks.v1+cell": {
     "cellMetadata": {
      "byteLimit": 2048000,
      "rowLimit": 10000
     },
     "inputWidgets": {},
     "nuid": "2b9aefb9-b3a4-4a36-8d2c-5a28f02693cb",
     "showTitle": false,
     "tableResultSettingsMap": {},
     "title": ""
    }
   },
   "outputs": [],
   "source": [
    "display(spark.sql(\"DESCRIBE workspace.sc_silver.deals\"))"
   ]
  }
 ],
 "metadata": {
  "application/vnd.databricks.v1+notebook": {
   "computePreferences": null,
   "dashboards": [],
   "environmentMetadata": {
    "base_environment": "",
    "environment_version": "2"
   },
   "inputWidgetPreferences": null,
   "language": "python",
   "notebookMetadata": {
    "mostRecentlyExecutedCommandWithImplicitDF": {
     "commandId": -1,
     "dataframes": [
      "_sqldf"
     ]
    },
    "pythonIndentUnit": 4
   },
   "notebookName": "python_add_metadata",
   "widgets": {}
  },
  "language_info": {
   "name": "python"
  }
 },
 "nbformat": 4,
 "nbformat_minor": 0
}
