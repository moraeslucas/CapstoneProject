{
 "cells": [
  {
   "cell_type": "code",
   "execution_count": 0,
   "metadata": {
    "application/vnd.databricks.v1+cell": {
     "cellMetadata": {
      "byteLimit": 2048000,
      "implicitDf": true,
      "rowLimit": 10000
     },
     "inputWidgets": {},
     "nuid": "9b53e2bf-ed09-4a91-b2af-f270bb28b0cc",
     "showTitle": false,
     "tableResultSettingsMap": {
      "0": {
       "dataGridStateBlob": "{\"version\":1,\"tableState\":{\"columnPinning\":{\"left\":[\"#row_number#\"],\"right\":[]},\"columnSizing\":{\"_fivetran_id\":154},\"columnVisibility\":{}},\"settings\":{\"columns\":{}},\"syncTimestamp\":1754139395473}",
       "filterBlob": null,
       "queryPlanFiltersBlob": null,
       "tableResultIndex": 0
      }
     },
     "title": ""
    }
   },
   "outputs": [],
   "source": [
    "%sql\n",
    "SELECT * FROM workspace.sc_silver.deals"
   ]
  },
  {
   "cell_type": "code",
   "execution_count": 0,
   "metadata": {
    "application/vnd.databricks.v1+cell": {
     "cellMetadata": {
      "byteLimit": 2048000,
      "implicitDf": true,
      "rowLimit": 10000
     },
     "inputWidgets": {},
     "nuid": "0da8bf4a-a505-4bf7-9e17-c832411f7933",
     "showTitle": false,
     "tableResultSettingsMap": {},
     "title": ""
    }
   },
   "outputs": [],
   "source": [
    "%sql\n",
    "SELECT * FROM workspace.sc_silver.leads_pbs"
   ]
  },
  {
   "cell_type": "code",
   "execution_count": 0,
   "metadata": {
    "application/vnd.databricks.v1+cell": {
     "cellMetadata": {
      "byteLimit": 2048000,
      "implicitDf": true,
      "rowLimit": 10000
     },
     "inputWidgets": {},
     "nuid": "71bc9969-8339-4915-bd60-165523838d28",
     "showTitle": false,
     "tableResultSettingsMap": {},
     "title": ""
    }
   },
   "outputs": [],
   "source": [
    "%sql\n",
    "SELECT * FROM workspace.sc_silver.campaigns"
   ]
  },
  {
   "cell_type": "code",
   "execution_count": 0,
   "metadata": {
    "application/vnd.databricks.v1+cell": {
     "cellMetadata": {
      "byteLimit": 2048000,
      "implicitDf": true,
      "rowLimit": 10000
     },
     "inputWidgets": {},
     "nuid": "baa46db1-f692-4d21-86a8-9384b294bd8e",
     "showTitle": false,
     "tableResultSettingsMap": {
      "0": {
       "dataGridStateBlob": "{\"version\":1,\"tableState\":{\"columnPinning\":{\"left\":[\"#row_number#\"],\"right\":[]},\"columnSizing\":{\"id\":244},\"columnVisibility\":{}},\"settings\":{\"columns\":{\"link_centro_consentimento\":{\"format\":{\"preset\":\"string-preset-url\"}}}},\"syncTimestamp\":1754140174321}",
       "filterBlob": null,
       "queryPlanFiltersBlob": null,
       "tableResultIndex": 0
      }
     },
     "title": ""
    }
   },
   "outputs": [],
   "source": [
    "%sql\n",
    "SELECT * FROM workspace.sc_silver.contactos_pbs"
   ]
  },
  {
   "cell_type": "code",
   "execution_count": 0,
   "metadata": {
    "application/vnd.databricks.v1+cell": {
     "cellMetadata": {
      "byteLimit": 2048000,
      "implicitDf": true,
      "rowLimit": 10000
     },
     "inputWidgets": {},
     "nuid": "7e2f838d-366b-40cc-85c6-d67b35f57139",
     "showTitle": false,
     "tableResultSettingsMap": {},
     "title": ""
    }
   },
   "outputs": [],
   "source": [
    "%sql\n",
    "CREATE OR REPLACE TABLE workspace.sc_silver.campaigns AS\n",
    "SELECT\n",
    "  _fivetran_synced,\n",
    "  _fivetran_deleted,\n",
    "  _fivetran_index,\n",
    "  layout,\n",
    "  codigo_campanha,\n",
    "  modified_time,\n",
    "  created_time,\n",
    "  campaign_owner_name,\n",
    "  campaign_name,\n",
    "  id,\n",
    "  _fivetran_id\n",
    "FROM workspace.sc_silver.campaigns;\n"
   ]
  },
  {
   "cell_type": "code",
   "execution_count": 0,
   "metadata": {
    "application/vnd.databricks.v1+cell": {
     "cellMetadata": {
      "byteLimit": 2048000,
      "implicitDf": true,
      "rowLimit": 10000
     },
     "inputWidgets": {},
     "nuid": "6e747fda-5d4a-41df-9e60-dc736b4bff86",
     "showTitle": false,
     "tableResultSettingsMap": {},
     "title": ""
    }
   },
   "outputs": [],
   "source": [
    "%sql\n",
    "SELECT COUNT(*) AS num_duplicate_ids\n",
    "FROM (\n",
    "  SELECT id\n",
    "  FROM workspace.sc_silver.contactos_pbs\n",
    "  GROUP BY id\n",
    "  HAVING COUNT(*) > 1\n",
    ");\n"
   ]
  },
  {
   "cell_type": "code",
   "execution_count": 0,
   "metadata": {
    "application/vnd.databricks.v1+cell": {
     "cellMetadata": {
      "byteLimit": 2048000,
      "implicitDf": true,
      "rowLimit": 10000
     },
     "inputWidgets": {},
     "nuid": "af68161b-a9ab-4168-a7ba-a5aa4be1fb93",
     "showTitle": false,
     "tableResultSettingsMap": {},
     "title": ""
    }
   },
   "outputs": [],
   "source": [
    "%sql\n",
    "SELECT COUNT(*) AS num_duplicate_converted_contacts\n",
    "FROM (\n",
    "  SELECT converted_contact\n",
    "  FROM workspace.sc_silver.leads_pbs\n",
    "  WHERE converted_contact IS NOT NULL\n",
    "  GROUP BY converted_contact\n",
    "  HAVING COUNT(*) > 1\n",
    ");\n"
   ]
  },
  {
   "cell_type": "code",
   "execution_count": 0,
   "metadata": {
    "application/vnd.databricks.v1+cell": {
     "cellMetadata": {
      "byteLimit": 2048000,
      "implicitDf": true,
      "rowLimit": 10000
     },
     "inputWidgets": {},
     "nuid": "040e55c4-4b4b-447c-ae5c-e971b59f8eb6",
     "showTitle": false,
     "tableResultSettingsMap": {},
     "title": ""
    }
   },
   "outputs": [],
   "source": [
    "%sql\n",
    "SELECT COUNT(*) AS total_rows\n",
    "FROM workspace.sc_silver.leads_pbs;\n"
   ]
  },
  {
   "cell_type": "code",
   "execution_count": 0,
   "metadata": {
    "application/vnd.databricks.v1+cell": {
     "cellMetadata": {
      "byteLimit": 2048000,
      "implicitDf": true,
      "rowLimit": 10000
     },
     "inputWidgets": {},
     "nuid": "85f3fdaf-be7d-4578-abfc-4fa407e5440b",
     "showTitle": false,
     "tableResultSettingsMap": {},
     "title": ""
    }
   },
   "outputs": [],
   "source": [
    "%sql\n",
    "SELECT COUNT(id) AS non_null_ids\n",
    "FROM workspace.sc_silver.contactos_pbs;\n"
   ]
  },
  {
   "cell_type": "code",
   "execution_count": 0,
   "metadata": {
    "application/vnd.databricks.v1+cell": {
     "cellMetadata": {
      "byteLimit": 2048000,
      "implicitDf": true,
      "rowLimit": 10000
     },
     "inputWidgets": {},
     "nuid": "770b89d9-3896-4cf0-8fbf-0d48da9d4698",
     "showTitle": false,
     "tableResultSettingsMap": {},
     "title": ""
    }
   },
   "outputs": [],
   "source": [
    "%sql\n",
    "SELECT COUNT(DISTINCT c.id) AS common_unique_ids\n",
    "FROM workspace.sc_silver.contactos_pbs c\n",
    "JOIN workspace.sc_silver.leads_pbs l\n",
    "  ON c.id = l.converted_contact;\n"
   ]
  },
  {
   "cell_type": "code",
   "execution_count": 0,
   "metadata": {
    "application/vnd.databricks.v1+cell": {
     "cellMetadata": {
      "byteLimit": 2048000,
      "implicitDf": true,
      "rowLimit": 10000
     },
     "inputWidgets": {},
     "nuid": "2dc00c9c-edee-462a-9076-05daa1e58f00",
     "showTitle": false,
     "tableResultSettingsMap": {},
     "title": ""
    }
   },
   "outputs": [],
   "source": [
    "%sql\n",
    "SELECT COUNT(DISTINCT leads_pbs.converted_contact) AS common_ids_between_leads_and_campaigns\n",
    "FROM workspace.sc_silver.leads_pbs\n",
    "JOIN workspace.sc_silver.campaigns\n",
    "  ON leads_pbs.converted_contact = campaigns.id\n",
    "WHERE leads_pbs.converted_contact IS NOT NULL;\n"
   ]
  },
  {
   "cell_type": "code",
   "execution_count": 0,
   "metadata": {
    "application/vnd.databricks.v1+cell": {
     "cellMetadata": {
      "byteLimit": 2048000,
      "implicitDf": true,
      "rowLimit": 10000
     },
     "inputWidgets": {},
     "nuid": "e4c2b4f1-6c32-4fbb-848f-d8ae5b6eda3f",
     "showTitle": false,
     "tableResultSettingsMap": {},
     "title": ""
    }
   },
   "outputs": [],
   "source": [
    "%sql\n",
    "-- Check which campaign IDs exist in leads.id\n",
    "SELECT DISTINCT id AS campaign_id_in_leads_id\n",
    "FROM workspace.sc_silver.campaigns\n",
    "WHERE id IN (\n",
    "  SELECT id FROM workspace.sc_silver.leads_pbs\n",
    ");\n"
   ]
  },
  {
   "cell_type": "code",
   "execution_count": 0,
   "metadata": {
    "application/vnd.databricks.v1+cell": {
     "cellMetadata": {
      "byteLimit": 2048000,
      "implicitDf": true,
      "rowLimit": 10000
     },
     "inputWidgets": {},
     "nuid": "0cf3642a-b177-4f6e-a306-efb5585eb957",
     "showTitle": false,
     "tableResultSettingsMap": {},
     "title": ""
    }
   },
   "outputs": [],
   "source": [
    "%sql\n",
    "SELECT\n",
    "  campaigns.id AS campaign_id,\n",
    "  CASE WHEN leads_by_id.id IS NOT NULL THEN 'Yes' ELSE 'No' END AS found_in_leads_id,\n",
    "  CASE WHEN leads_by_owner.lead_owner IS NOT NULL THEN 'Yes' ELSE 'No' END AS found_in_lead_owner\n",
    "FROM workspace.sc_silver.campaigns\n",
    "\n",
    "LEFT JOIN workspace.sc_silver.leads_pbs AS leads_by_id\n",
    "  ON campaigns.id = leads_by_id.id\n",
    "\n",
    "LEFT JOIN workspace.sc_silver.leads_pbs AS leads_by_owner\n",
    "  ON campaigns.id = leads_by_owner.lead_owner;\n"
   ]
  },
  {
   "cell_type": "code",
   "execution_count": 0,
   "metadata": {
    "application/vnd.databricks.v1+cell": {
     "cellMetadata": {
      "byteLimit": 2048000,
      "implicitDf": true,
      "rowLimit": 10000
     },
     "inputWidgets": {},
     "nuid": "b39a6f10-579b-4704-a6a2-1d214c441ffc",
     "showTitle": false,
     "tableResultSettingsMap": {},
     "title": ""
    }
   },
   "outputs": [],
   "source": [
    "%sql\n",
    "SELECT\n",
    "  campaigns.id AS campaign_id,\n",
    "  \n",
    "  -- Lookup flags\n",
    "  CASE WHEN leads_by_id.id IS NOT NULL THEN 'Yes' ELSE 'No' END AS found_in_leads_id,\n",
    "  CASE WHEN leads_by_owner.lead_owner IS NOT NULL THEN 'Yes' ELSE 'No' END AS found_in_lead_owner,\n",
    "\n",
    "  -- Add columns from leads_pbs\n",
    "  leads_by_id.id AS id_lead,\n",
    "  leads_by_id.converted_contact\n",
    "\n",
    "FROM workspace.sc_silver.campaigns\n",
    "\n",
    "-- Lookup campaigns.id in leads_pbs.id\n",
    "LEFT JOIN workspace.sc_silver.leads_pbs AS leads_by_id\n",
    "  ON campaigns.id = leads_by_id.id\n",
    "\n",
    "-- Lookup campaigns.id in leads_pbs.lead_owner\n",
    "LEFT JOIN workspace.sc_silver.leads_pbs AS leads_by_owner\n",
    "  ON campaigns.id = leads_by_owner.lead_owner;\n"
   ]
  },
  {
   "cell_type": "code",
   "execution_count": 0,
   "metadata": {
    "application/vnd.databricks.v1+cell": {
     "cellMetadata": {
      "byteLimit": 2048000,
      "implicitDf": true,
      "rowLimit": 10000
     },
     "inputWidgets": {},
     "nuid": "68d5417f-3ef9-4021-bedd-c6a5dd1014a0",
     "showTitle": false,
     "tableResultSettingsMap": {},
     "title": ""
    }
   },
   "outputs": [],
   "source": [
    "%sql\n",
    "SELECT\n",
    "  c.id AS contacto_id,\n",
    "\n",
    "  -- Flags de correspondência\n",
    "  CASE WHEN p1.id IS NOT NULL THEN 'Yes' ELSE 'No' END AS match_with_proposta_id,\n",
    "  CASE WHEN p2.proposta_realizada_owner IS NOT NULL THEN 'Yes' ELSE 'No' END AS match_with_proposta_owner,\n",
    "  CASE WHEN p3.id_contacto IS NOT NULL THEN 'Yes' ELSE 'No' END AS match_with_id_contacto\n",
    "\n",
    "FROM workspace.sc_silver.contactos_pbs c\n",
    "\n",
    "-- Join com propostas_realizadas.id\n",
    "LEFT JOIN workspace.sc_silver.propostas_realizadas p1\n",
    "  ON c.id = p1.id\n",
    "\n",
    "-- Join com propostas_realizadas.proposta_realizada_owner\n",
    "LEFT JOIN workspace.sc_silver.propostas_realizadas p2\n",
    "  ON c.id = p2.proposta_realizada_owner\n",
    "\n",
    "-- Join com propostas_realizadas.id_contacto\n",
    "LEFT JOIN workspace.sc_silver.propostas_realizadas p3\n",
    "  ON c.id = p3.id_contacto;\n"
   ]
  },
  {
   "cell_type": "code",
   "execution_count": 0,
   "metadata": {
    "application/vnd.databricks.v1+cell": {
     "cellMetadata": {
      "byteLimit": 2048000,
      "implicitDf": true,
      "rowLimit": 10000
     },
     "inputWidgets": {},
     "nuid": "5f4a4dfc-8185-40c9-b5b1-1ddceb8f72f4",
     "showTitle": false,
     "tableResultSettingsMap": {},
     "title": ""
    }
   },
   "outputs": [],
   "source": [
    "%sql\n",
    "SELECT COUNT(DISTINCT p3.id_contacto) AS matching_contact_ids\n",
    "FROM workspace.sc_silver.propostas_realizadas p3\n",
    "JOIN workspace.sc_silver.contactos_pbs c\n",
    "    ON p3.id_contacto = c.id\n",
    "WHERE p3.id_contacto IS NOT NULL;\n"
   ]
  },
  {
   "cell_type": "code",
   "execution_count": 0,
   "metadata": {
    "application/vnd.databricks.v1+cell": {
     "cellMetadata": {
      "byteLimit": 2048000,
      "implicitDf": true,
      "rowLimit": 10000
     },
     "inputWidgets": {},
     "nuid": "877f105a-15fc-425a-b8f8-7fb7cb97e399",
     "showTitle": false,
     "tableResultSettingsMap": {},
     "title": ""
    }
   },
   "outputs": [],
   "source": [
    "%sql\n",
    "SELECT COUNT(DISTINCT p.id_contacto) AS matching_contact_ids\n",
    "FROM workspace.sc_silver.propostas_realizadas p\n",
    "JOIN workspace.sc_silver.deals d\n",
    "  ON p.id_contacto = d.id_contacto\n",
    "WHERE p.id_contacto IS NOT NULL;\n"
   ]
  },
  {
   "cell_type": "code",
   "execution_count": 0,
   "metadata": {
    "application/vnd.databricks.v1+cell": {
     "cellMetadata": {
      "byteLimit": 2048000,
      "implicitDf": true,
      "rowLimit": 10000
     },
     "inputWidgets": {},
     "nuid": "7e2a089a-2524-46e6-8a26-967918e24647",
     "showTitle": false,
     "tableResultSettingsMap": {},
     "title": ""
    }
   },
   "outputs": [],
   "source": [
    "%sql\n",
    "DELETE FROM workspace.sc_silver.leads_pbs\n",
    "WHERE converted_contact IS NULL;\n"
   ]
  },
  {
   "cell_type": "code",
   "execution_count": 0,
   "metadata": {
    "application/vnd.databricks.v1+cell": {
     "cellMetadata": {
      "byteLimit": 2048000,
      "implicitDf": true,
      "rowLimit": 10000
     },
     "inputWidgets": {},
     "nuid": "40772d97-ca80-403b-9b8e-90775cc3df12",
     "showTitle": false,
     "tableResultSettingsMap": {},
     "title": ""
    }
   },
   "outputs": [],
   "source": [
    "%sql\n",
    "SELECT COUNT(*) AS total_rows\n",
    "FROM workspace.sc_silver.leads_pbs;\n"
   ]
  },
  {
   "cell_type": "code",
   "execution_count": 0,
   "metadata": {
    "application/vnd.databricks.v1+cell": {
     "cellMetadata": {
      "byteLimit": 2048000,
      "implicitDf": true,
      "rowLimit": 10000
     },
     "inputWidgets": {},
     "nuid": "efb312d8-bfa6-4333-afc2-0041125593b9",
     "showTitle": false,
     "tableResultSettingsMap": {},
     "title": ""
    }
   },
   "outputs": [],
   "source": [
    "%sql\n",
    "SELECT\n",
    "  l.converted_contact,\n",
    "  CASE WHEN d1.id IS NOT NULL THEN 'Yes' ELSE 'No' END AS match_in_deals_id,\n",
    "  CASE WHEN d2.converted_from_lead IS NOT NULL THEN 'Yes' ELSE 'No' END AS match_in_deals_converted_from_lead\n",
    "FROM workspace.sc_silver.leads_pbs l\n",
    "LEFT JOIN workspace.sc_silver.deals d1\n",
    "  ON l.converted_contact = d1.id\n",
    "LEFT JOIN workspace.sc_silver.deals d2\n",
    "  ON l.converted_contact = d2.converted_from_lead\n",
    "WHERE l.converted_contact IS NOT NULL;\n"
   ]
  },
  {
   "cell_type": "code",
   "execution_count": 0,
   "metadata": {
    "application/vnd.databricks.v1+cell": {
     "cellMetadata": {
      "byteLimit": 2048000,
      "implicitDf": true,
      "rowLimit": 10000
     },
     "inputWidgets": {},
     "nuid": "4c05c5c6-cea5-49dc-9c5b-227d505f9d71",
     "showTitle": false,
     "tableResultSettingsMap": {},
     "title": ""
    }
   },
   "outputs": [],
   "source": [
    "%sql\n",
    "-- How many leads match deals.id\n",
    "SELECT COUNT(DISTINCT l.id) AS leads_in_deals_id\n",
    "FROM workspace.sc_silver.leads_pbs l\n",
    "JOIN workspace.sc_silver.deals d ON l.id = d.id;\n",
    "\n",
    "-- How many leads match deals.converted_from_lead\n",
    "SELECT COUNT(DISTINCT l.id) AS leads_in_converted_from_lead\n",
    "FROM workspace.sc_silver.leads_pbs l\n",
    "JOIN workspace.sc_silver.deals d ON l.id = d.converted_from_lead;\n"
   ]
  },
  {
   "cell_type": "code",
   "execution_count": 0,
   "metadata": {
    "application/vnd.databricks.v1+cell": {
     "cellMetadata": {
      "byteLimit": 2048000,
      "implicitDf": true,
      "rowLimit": 10000
     },
     "inputWidgets": {},
     "nuid": "d9b158d9-eda8-40e5-82af-21251baa5423",
     "showTitle": false,
     "tableResultSettingsMap": {},
     "title": ""
    }
   },
   "outputs": [],
   "source": [
    "%sql\n",
    "SELECT COUNT(DISTINCT d.campanha) AS matched_campaigns_in_deals\n",
    "FROM workspace.sc_silver.deals d\n",
    "JOIN workspace.sc_silver.campaigns c\n",
    "  ON d.campanha = c.id\n",
    "WHERE d.campanha IS NOT NULL;\n"
   ]
  },
  {
   "cell_type": "code",
   "execution_count": 0,
   "metadata": {
    "application/vnd.databricks.v1+cell": {
     "cellMetadata": {
      "byteLimit": 2048000,
      "implicitDf": true,
      "rowLimit": 10000
     },
     "inputWidgets": {},
     "nuid": "752c11c7-5fbd-4a30-a5f1-c026300f4c72",
     "showTitle": false,
     "tableResultSettingsMap": {},
     "title": ""
    }
   },
   "outputs": [],
   "source": [
    "%sql\n",
    "SELECT COUNT(*) AS num_duplicate_converted_contacts\n",
    "FROM (\n",
    "  SELECT converted_contact\n",
    "  FROM workspace.sc_silver.leads_pbs\n",
    "  WHERE converted_contact IS NOT NULL\n",
    "  GROUP BY converted_contact\n",
    "  HAVING COUNT(*) > 1\n",
    ");\n"
   ]
  },
  {
   "cell_type": "code",
   "execution_count": 0,
   "metadata": {
    "application/vnd.databricks.v1+cell": {
     "cellMetadata": {
      "byteLimit": 2048000,
      "implicitDf": true,
      "rowLimit": 10000
     },
     "inputWidgets": {},
     "nuid": "cf3641f5-39a2-4882-b59e-0f1d6bbb9f44",
     "showTitle": false,
     "tableResultSettingsMap": {},
     "title": ""
    }
   },
   "outputs": [],
   "source": [
    "%sql\n",
    "SELECT\n",
    "  occurrences,\n",
    "  COUNT(*) AS num_contacts_with_this_occurrence\n",
    "FROM (\n",
    "  SELECT converted_contact, COUNT(*) AS occurrences\n",
    "  FROM workspace.sc_silver.leads_pbs\n",
    "  WHERE converted_contact IS NOT NULL\n",
    "  GROUP BY converted_contact\n",
    ") AS sub\n",
    "GROUP BY occurrences\n",
    "ORDER BY occurrences;\n"
   ]
  },
  {
   "cell_type": "code",
   "execution_count": 0,
   "metadata": {
    "application/vnd.databricks.v1+cell": {
     "cellMetadata": {
      "byteLimit": 2048000,
      "implicitDf": true,
      "rowLimit": 10000
     },
     "inputWidgets": {},
     "nuid": "1cbdfbd9-f695-40f9-b957-60f06ab2e32f",
     "showTitle": false,
     "tableResultSettingsMap": {},
     "title": ""
    }
   },
   "outputs": [],
   "source": [
    "%sql\n",
    "SELECT COUNT(*) AS num_duplicate_ids\n",
    "FROM (\n",
    "  SELECT id\n",
    "  FROM workspace.sc_silver.campaigns\n",
    "  GROUP BY id\n",
    "  HAVING COUNT(*) > 1\n",
    ");\n"
   ]
  },
  {
   "cell_type": "code",
   "execution_count": 0,
   "metadata": {
    "application/vnd.databricks.v1+cell": {
     "cellMetadata": {
      "byteLimit": 2048000,
      "implicitDf": true,
      "rowLimit": 10000
     },
     "inputWidgets": {},
     "nuid": "239fd20d-f91c-4e49-ab75-3d76e68d0e21",
     "showTitle": false,
     "tableResultSettingsMap": {
      "0": {
       "dataGridStateBlob": "{\"version\":1,\"tableState\":{\"columnPinning\":{\"left\":[\"#row_number#\"],\"right\":[]},\"columnSizing\":{\"id_contacto\":199},\"columnVisibility\":{}},\"settings\":{\"columns\":{}},\"syncTimestamp\":1754158993167}",
       "filterBlob": null,
       "queryPlanFiltersBlob": null,
       "tableResultIndex": 0
      }
     },
     "title": ""
    }
   },
   "outputs": [],
   "source": [
    "%sql\n",
    "SELECT \n",
    "  id_contacto, \n",
    "  COUNT(*) AS occurrences\n",
    "FROM workspace.sc_silver.deals\n",
    "WHERE id_contacto IS NOT NULL\n",
    "GROUP BY id_contacto\n",
    "HAVING COUNT(*) > 1\n",
    "ORDER BY occurrences DESC;\n"
   ]
  },
  {
   "cell_type": "code",
   "execution_count": 0,
   "metadata": {
    "application/vnd.databricks.v1+cell": {
     "cellMetadata": {
      "byteLimit": 2048000,
      "implicitDf": true,
      "rowLimit": 10000
     },
     "inputWidgets": {},
     "nuid": "4c635c88-131c-4748-a898-8cf952c06396",
     "showTitle": false,
     "tableResultSettingsMap": {},
     "title": ""
    }
   },
   "outputs": [],
   "source": [
    "%sql\n",
    "SELECT\n",
    "  COUNT(*) AS total_rows,\n",
    "  COUNT(CASE WHEN apoio_concessionario IS NULL THEN 1 END) * 100.0 / COUNT(*) AS pct_null_apoio_concessionario,\n",
    "  COUNT(CASE WHEN apoio_total IS NULL THEN 1 END) * 100.0 / COUNT(*) AS pct_null_apoio_total,\n",
    "  COUNT(CASE WHEN sub_total_com_extras IS NULL THEN 1 END) * 100.0 / COUNT(*) AS pct_null_sub_total_com_extras,\n",
    "  COUNT(CASE WHEN descricao_do_pedido_de_apoio IS NULL THEN 1 END) * 100.0 / COUNT(*) AS pct_null_descricao_do_pedido_de_apoio,\n",
    "  COUNT(CASE WHEN estado_do_pedido IS NULL THEN 1 END) * 100.0 / COUNT(*) AS pct_null_estado_do_pedido,\n",
    "  COUNT(CASE WHEN apoio_percentual IS NULL THEN 1 END) * 100.0 / COUNT(*) AS pct_null_apoio_percentual,\n",
    "  COUNT(CASE WHEN data_de_criacao_da_proposta IS NULL THEN 1 END) * 100.0 / COUNT(*) AS pct_null_data_de_criacao_da_proposta,\n",
    "  COUNT(CASE WHEN valor_campanhas_comerciais IS NULL THEN 1 END) * 100.0 / COUNT(*) AS pct_null_valor_campanhas_comerciais,\n",
    "  COUNT(CASE WHEN ofertas_de_campanha IS NULL THEN 1 END) * 100.0 / COUNT(*) AS pct_null_ofertas_de_campanha,\n",
    "  COUNT(CASE WHEN resposta_do_importador IS NULL THEN 1 END) * 100.0 / COUNT(*) AS pct_null_resposta_do_importador,\n",
    "  COUNT(CASE WHEN data_de_entrega_da_proposta IS NULL THEN 1 END) * 100.0 / COUNT(*) AS pct_null_data_de_entrega_da_proposta,\n",
    "  COUNT(CASE WHEN desconto_total__c__apoio_de_importador_ IS NULL THEN 1 END) * 100.0 / COUNT(*) AS pct_null_desconto_total__c__apoio_de_importador_,\n",
    "  COUNT(CASE WHEN codigo_cor_exterior IS NULL THEN 1 END) * 100.0 / COUNT(*) AS pct_null_codigo_cor_exterior,\n",
    "  COUNT(CASE WHEN codigo_cor_interior IS NULL THEN 1 END) * 100.0 / COUNT(*) AS pct_null_codigo_cor_interior,\n",
    "  COUNT(CASE WHEN concessionario_owner IS NULL THEN 1 END) * 100.0 / COUNT(*) AS pct_null_concessionario_owner,\n",
    "  COUNT(CASE WHEN valor_aprovado IS NULL THEN 1 END) * 100.0 / COUNT(*) AS pct_null_valor_aprovado,\n",
    "  COUNT(CASE WHEN estado_do_contrato IS NULL THEN 1 END) * 100.0 / COUNT(*) AS pct_null_estado_do_contrato,\n",
    "  COUNT(CASE WHEN data_prevista_matricula IS NULL THEN 1 END) * 100.0 / COUNT(*) AS pct_null_data_prevista_matricula,\n",
    "  COUNT(CASE WHEN data_prevista_de_entrega IS NULL THEN 1 END) * 100.0 / COUNT(*) AS pct_null_data_prevista_de_entrega,\n",
    "  COUNT(CASE WHEN data_da_conclusao IS NULL THEN 1 END) * 100.0 / COUNT(*) AS pct_null_data_da_conclusao,\n",
    "  COUNT(CASE WHEN id_classe IS NULL THEN 1 END) * 100.0 / COUNT(*) AS pct_null_id_classe,\n",
    "  COUNT(CASE WHEN descricao_classe IS NULL THEN 1 END) * 100.0 / COUNT(*) AS pct_null_descricao_classe,\n",
    "  COUNT(CASE WHEN id_model_group IS NULL THEN 1 END) * 100.0 / COUNT(*) AS pct_null_id_model_group,\n",
    "  COUNT(CASE WHEN descricao_model_group IS NULL THEN 1 END) * 100.0 / COUNT(*) AS pct_null_descricao_model_group,\n",
    "  COUNT(CASE WHEN valid_until IS NULL THEN 1 END) * 100.0 / COUNT(*) AS pct_null_valid_until,\n",
    "  COUNT(CASE WHEN forma_de_pagamento IS NULL THEN 1 END) * 100.0 / COUNT(*) AS pct_null_forma_de_pagamento,\n",
    "  COUNT(CASE WHEN nome_da_campanha IS NULL THEN 1 END) * 100.0 / COUNT(*) AS pct_null_nome_da_campanha,\n",
    "  COUNT(CASE WHEN _fivetran_index IS NULL THEN 1 END) * 100.0 / COUNT(*) AS pct_null_fivetran_index\n",
    "FROM workspace.sc_silver.propostas_realizadas;\n"
   ]
  },
  {
   "cell_type": "code",
   "execution_count": 0,
   "metadata": {
    "application/vnd.databricks.v1+cell": {
     "cellMetadata": {
      "byteLimit": 2048000,
      "implicitDf": true,
      "rowLimit": 10000
     },
     "inputWidgets": {},
     "nuid": "037950c4-e653-46dd-8c22-6437c6093b73",
     "showTitle": false,
     "tableResultSettingsMap": {},
     "title": ""
    }
   },
   "outputs": [],
   "source": [
    "%sql\n",
    "ALTER TABLE workspace.sc_silver.propostas_realizadas\n",
    "DROP COLUMNS (\n",
    "  descricao_do_pedido_de_apoio,\n",
    "  apoio_percentual,\n",
    "  valor_campanhas_comerciais,\n",
    "  ofertas_de_campanha,\n",
    "  resposta_do_importador,\n",
    "  valid_until,\n",
    "  nome_da_campanha\n",
    ");\n"
   ]
  },
  {
   "cell_type": "code",
   "execution_count": 0,
   "metadata": {
    "application/vnd.databricks.v1+cell": {
     "cellMetadata": {
      "byteLimit": 2048000,
      "implicitDf": true,
      "rowLimit": 10000
     },
     "inputWidgets": {},
     "nuid": "1042fa7d-a09b-4a88-acfa-1f0366c1a5bb",
     "showTitle": false,
     "tableResultSettingsMap": {},
     "title": ""
    }
   },
   "outputs": [],
   "source": [
    "%sql\n",
    "ALTER TABLE workspace.sc_silver.contactos_pbs\n",
    "DROP COLUMNS (\n",
    "  last_name,\n",
    "  row_names,\n",
    "  email,\n",
    "  mobile,\n",
    "  first_name,\n",
    "  phone,\n",
    "  date_of_birth,\n",
    "  email_opt_out,\n",
    "  salutation,\n",
    "  tag,\n",
    "  codigo_postal,\n",
    "  login_myhyundai,\n",
    "  full_name,\n",
    "  pioneiros_myhyundai,\n",
    "  lead_source,\n",
    "  nif,\n",
    "  modo_de_contacto_preferencial,\n",
    "  distrito,\n",
    "  pais,\n",
    "  sexo,\n",
    "  localidade,\n",
    "  morada,\n",
    "  concelho,\n",
    "  consentimento,\n",
    "  data_de_recolha_de_consentimento_hyundai,\n",
    "  description,\n",
    "  link_centro_consentimento,\n",
    "  ccupdated\n",
    ");\n"
   ]
  },
  {
   "cell_type": "code",
   "execution_count": 0,
   "metadata": {
    "application/vnd.databricks.v1+cell": {
     "cellMetadata": {
      "byteLimit": 2048000,
      "implicitDf": true,
      "rowLimit": 10000
     },
     "inputWidgets": {},
     "nuid": "2e76383c-0a3c-4bd5-a17b-964ccca4ec78",
     "showTitle": false,
     "tableResultSettingsMap": {},
     "title": ""
    }
   },
   "outputs": [],
   "source": [
    "%sql\n",
    "ALTER TABLE workspace.sc_silver.leads_pbs\n",
    "DROP COLUMNS (\n",
    "  last_name,\n",
    "  row_names,\n",
    "  email,\n",
    "  mobile,\n",
    "  telefone_empresa,\n",
    "  e_mail_empresa,\n",
    "  first_name,\n",
    "  zip_code,\n",
    "  description,\n",
    "  salutation,\n",
    "  motivo,\n",
    "  hmod___hcreat,\n",
    "  campaign_name,\n",
    "  campaign_medium,\n",
    "  campaign_term,\n",
    "  campaign_content,\n",
    "  campaignsource,\n",
    "  con,\n",
    "  caracterizacao,\n",
    "  test_check1,\n",
    "  test_check,\n",
    "  link_centro_consentimento,\n",
    "  industry,\n",
    "  login_myhyundai,\n",
    "  website,\n",
    "  full_name,\n",
    "  pontuacao,\n",
    "  data_de_recolha_de_consentimento_hyundai,\n",
    "  ccupdated\n",
    ");\n"
   ]
  },
  {
   "cell_type": "code",
   "execution_count": 0,
   "metadata": {
    "application/vnd.databricks.v1+cell": {
     "cellMetadata": {
      "byteLimit": 2048000,
      "implicitDf": true,
      "rowLimit": 10000
     },
     "inputWidgets": {},
     "nuid": "97c4d90c-0bf2-4957-8c39-d41d20ff480f",
     "showTitle": false,
     "tableResultSettingsMap": {},
     "title": ""
    }
   },
   "outputs": [],
   "source": [
    "%sql\n",
    "ALTER TABLE workspace.sc_silver.deals\n",
    "DROP COLUMNS (\n",
    "  row_names,\n",
    "  tag,\n",
    "  amount,\n",
    "  expected_revenue,\n",
    "  pioneiros_myhyundai,\n",
    "  lead_source,\n",
    "  login_myhyundai,\n",
    "  aprovacao_do_pedido_de_apoio,\n",
    "  `type`        -- quote reserved word\n",
    ");\n"
   ]
  },
  {
   "cell_type": "code",
   "execution_count": 0,
   "metadata": {
    "application/vnd.databricks.v1+cell": {
     "cellMetadata": {
      "byteLimit": 2048000,
      "implicitDf": true,
      "rowLimit": 10000
     },
     "inputWidgets": {},
     "nuid": "2534acf5-9eee-4212-bd29-c66fc8437f8a",
     "showTitle": false,
     "tableResultSettingsMap": {},
     "title": ""
    }
   },
   "outputs": [],
   "source": [
    "%sql\n",
    "ALTER TABLE workspace.sc_silver.propostas_realizadas\n",
    "DROP COLUMNS (\n",
    "  sales_status,\n",
    "  row_names,\n",
    "  tax,\n",
    "  discount,\n",
    "  adjustments,\n",
    "   estado_do_contrato\n",
    "  );\n",
    "\n"
   ]
  },
  {
   "cell_type": "code",
   "execution_count": 0,
   "metadata": {
    "application/vnd.databricks.v1+cell": {
     "cellMetadata": {
      "byteLimit": 2048000,
      "rowLimit": 10000
     },
     "inputWidgets": {},
     "nuid": "02870a86-ac8e-4fe6-8f62-074b6c622b7e",
     "showTitle": false,
     "tableResultSettingsMap": {},
     "title": ""
    }
   },
   "outputs": [],
   "source": [
    "from pyspark.sql import functions as F\n",
    "\n",
    "# ==== DEALS ====\n",
    "df_deals = spark.table(\"workspace.sc_silver.deals\")\n",
    "df_deals_renamed = df_deals.select(\n",
    "    *[F.col(c).alias(f\"{c}_deals\") for c in df_deals.columns]\n",
    ")\n",
    "df_deals_renamed.write.format(\"delta\").mode(\"overwrite\") \\\n",
    "    .saveAsTable(\"workspace.sc_silver.deals_renamed\")\n",
    "display(spark.table(\"workspace.sc_silver.deals_renamed\"))\n",
    "\n",
    "# ==== CAMPAIGNS ====\n",
    "df_campaigns = spark.table(\"workspace.sc_silver.campaigns\")\n",
    "df_campaigns_renamed = df_campaigns.select(\n",
    "    *[F.col(c).alias(f\"{c}_campaigns\") for c in df_campaigns.columns]\n",
    ")\n",
    "df_campaigns_renamed.write.format(\"delta\").mode(\"overwrite\") \\\n",
    "    .saveAsTable(\"workspace.sc_silver.campaigns_renamed\")\n",
    "display(spark.table(\"workspace.sc_silver.campaigns_renamed\"))\n"
   ]
  },
  {
   "cell_type": "code",
   "execution_count": 0,
   "metadata": {
    "application/vnd.databricks.v1+cell": {
     "cellMetadata": {
      "byteLimit": 2048000,
      "rowLimit": 10000
     },
     "inputWidgets": {},
     "nuid": "844e4763-6fb6-43a6-8268-166f97cc6192",
     "showTitle": false,
     "tableResultSettingsMap": {
      "0": {
       "dataGridStateBlob": "{\"version\":1,\"tableState\":{\"columnPinning\":{\"left\":[\"#row_number#\"],\"right\":[]},\"columnSizing\":{\"id_deals\":173},\"columnVisibility\":{}},\"settings\":{\"columns\":{}},\"syncTimestamp\":1754781198428}",
       "filterBlob": null,
       "queryPlanFiltersBlob": null,
       "tableResultIndex": 0
      }
     },
     "title": ""
    }
   },
   "outputs": [],
   "source": [
    "from pyspark.sql import functions as F\n",
    "\n",
    "# Load renamed tables\n",
    "df_deals_renamed = spark.table(\"workspace.sc_silver.deals_renamed\")\n",
    "df_campaigns_renamed = spark.table(\"workspace.sc_silver.campaigns_renamed\")\n",
    "\n",
    "# Join on campanha_deals = id_campaigns\n",
    "df_deals_with_campaigns = df_deals_renamed.join(\n",
    "    df_campaigns_renamed,\n",
    "    df_deals_renamed.campanha_deals == df_campaigns_renamed.id_campaigns,\n",
    "    \"left\"\n",
    ")\n",
    "\n",
    "# Save as permanent table\n",
    "df_deals_with_campaigns.write.format(\"delta\").mode(\"overwrite\") \\\n",
    "    .saveAsTable(\"workspace.sc_silver.deals_with_campaigns\")\n",
    "\n",
    "# Preview\n",
    "display(spark.table(\"workspace.sc_silver.deals_with_campaigns\"))\n"
   ]
  },
  {
   "cell_type": "code",
   "execution_count": 0,
   "metadata": {
    "application/vnd.databricks.v1+cell": {
     "cellMetadata": {
      "byteLimit": 2048000,
      "rowLimit": 10000
     },
     "inputWidgets": {},
     "nuid": "b1692a7c-cc66-43f2-85a4-7a8532afa851",
     "showTitle": false,
     "tableResultSettingsMap": {},
     "title": ""
    }
   },
   "outputs": [],
   "source": [
    "from pyspark.sql import functions as F\n",
    "\n",
    "# Load original table\n",
    "df = spark.table(\"workspace.sc_silver.propostas_realizadas\")\n",
    "\n",
    "# Build SELECT list with aliases (append _propostas_realizadas to each column)\n",
    "select_expr = [F.col(c).alias(f\"{c}_propostas_realizadas\") for c in df.columns]\n",
    "df_renamed = df.select(*select_expr)\n",
    "\n",
    "# Write to a NEW table so you don't overwrite original\n",
    "df_renamed.write.format(\"delta\").mode(\"overwrite\") \\\n",
    "    .saveAsTable(\"workspace.sc_silver.propostas_realizadas_renamed\")\n",
    "\n",
    "# Display the new table\n",
    "display(spark.table(\"workspace.sc_silver.propostas_realizadas_renamed\"))"
   ]
  },
  {
   "cell_type": "code",
   "execution_count": 0,
   "metadata": {
    "application/vnd.databricks.v1+cell": {
     "cellMetadata": {
      "byteLimit": 2048000,
      "rowLimit": 10000
     },
     "inputWidgets": {},
     "nuid": "2ad5d3fe-dec4-4fa8-b138-a61279acb433",
     "showTitle": false,
     "tableResultSettingsMap": {},
     "title": ""
    }
   },
   "outputs": [],
   "source": [
    "#  JOIN propostas_realizadas_renamed with deals_with_campaigns ====\n",
    "\n",
    "# Load both tables\n",
    "df_propostas_renamed = spark.table(\"workspace.sc_silver.propostas_realizadas_renamed\")\n",
    "df_deals_with_campaigns = spark.table(\"workspace.sc_silver.deals_with_campaigns\")\n",
    "\n",
    "# LEFT join from propostas to deals\n",
    "df_joined = df_propostas_renamed.join(\n",
    "    df_deals_with_campaigns,\n",
    "    df_propostas_renamed.id_contacto_propostas_realizadas == df_deals_with_campaigns.id_contacto_deals,\n",
    "    \"left\"\n",
    ")\n",
    "\n",
    "# Save as propostas_with_deals_with_campaigns\n",
    "df_joined.write.format(\"delta\").mode(\"overwrite\") \\\n",
    "    .saveAsTable(\"workspace.sc_silver.propostas_with_deals_with_campaigns\")\n",
    "\n",
    "# Display the result\n",
    "display(spark.table(\"workspace.sc_silver.propostas_with_deals_with_campaigns\"))"
   ]
  },
  {
   "cell_type": "code",
   "execution_count": 0,
   "metadata": {
    "application/vnd.databricks.v1+cell": {
     "cellMetadata": {
      "byteLimit": 2048000,
      "implicitDf": true,
      "rowLimit": 10000
     },
     "inputWidgets": {},
     "nuid": "c4a5ef66-b9ea-4e7e-96a6-21d1139834ac",
     "showTitle": false,
     "tableResultSettingsMap": {},
     "title": ""
    }
   },
   "outputs": [],
   "source": [
    "%sql\n",
    "SELECT *\n",
    "FROM workspace.sc_silver.leads_pbs\n",
    "LIMIT 100;\n"
   ]
  },
  {
   "cell_type": "code",
   "execution_count": 0,
   "metadata": {
    "application/vnd.databricks.v1+cell": {
     "cellMetadata": {
      "byteLimit": 2048000,
      "implicitDf": true,
      "rowLimit": 10000
     },
     "inputWidgets": {},
     "nuid": "0c082d25-b8cd-4e5f-ad04-10e078790e21",
     "showTitle": false,
     "tableResultSettingsMap": {},
     "title": ""
    }
   },
   "outputs": [],
   "source": [
    "%sql\n",
    "SELECT *\n",
    "FROM workspace.sc_silver.contactos_pbs\n",
    "LIMIT 100;\n"
   ]
  },
  {
   "cell_type": "code",
   "execution_count": 0,
   "metadata": {
    "application/vnd.databricks.v1+cell": {
     "cellMetadata": {
      "byteLimit": 2048000,
      "implicitDf": true,
      "rowLimit": 10000
     },
     "inputWidgets": {},
     "nuid": "e72d128a-d830-47bc-821b-06cfa6d6427e",
     "showTitle": false,
     "tableResultSettingsMap": {},
     "title": ""
    }
   },
   "outputs": [],
   "source": [
    "%sql\n",
    "SELECT COUNT(DISTINCT c.id) AS common_unique_ids\n",
    "FROM workspace.sc_silver.contactos_pbs c\n",
    "JOIN workspace.sc_silver.leads_pbs l\n",
    "  ON c.id = l.converted_contact;\n"
   ]
  },
  {
   "cell_type": "code",
   "execution_count": 0,
   "metadata": {
    "application/vnd.databricks.v1+cell": {
     "cellMetadata": {
      "byteLimit": 2048000,
      "implicitDf": true,
      "rowLimit": 10000
     },
     "inputWidgets": {},
     "nuid": "d6d5122c-68ca-4300-ae93-505c20107e88",
     "showTitle": false,
     "tableResultSettingsMap": {},
     "title": ""
    }
   },
   "outputs": [],
   "source": [
    "%sql\n",
    "SELECT \n",
    "  COUNT(DISTINCT c.id) AS common_unique_ids,\n",
    "  COUNT(DISTINCT CASE \n",
    "    WHEN c.data_criacao_da_lead = l.created_time THEN c.id\n",
    "  END) AS common_unique_ids_with_date\n",
    "FROM workspace.sc_silver.contactos_pbs c\n",
    "JOIN workspace.sc_silver.leads_pbs l\n",
    "  ON c.id = l.converted_contact;\n"
   ]
  },
  {
   "cell_type": "code",
   "execution_count": 0,
   "metadata": {
    "application/vnd.databricks.v1+cell": {
     "cellMetadata": {
      "byteLimit": 2048000,
      "rowLimit": 10000
     },
     "inputWidgets": {},
     "nuid": "fe852c52-3991-4d96-ad61-4a3da88ea11b",
     "showTitle": false,
     "tableResultSettingsMap": {},
     "title": ""
    }
   },
   "outputs": [],
   "source": [
    "from pyspark.sql import functions as F\n",
    "\n",
    "# ==== LEADS ====\n",
    "df_leads = spark.table(\"workspace.sc_silver.leads_pbs\")\n",
    "df_leads_renamed = df_leads.select(\n",
    "    *[F.col(c).alias(f\"{c}_leads\") for c in df_leads.columns]\n",
    ")\n",
    "df_leads_renamed.write.format(\"delta\").mode(\"overwrite\") \\\n",
    "    .saveAsTable(\"workspace.sc_silver.leads_renamed\")\n",
    "display(spark.table(\"workspace.sc_silver.leads_renamed\"))\n",
    "\n",
    "# ==== CONTACTOS ====\n",
    "df_contactos = spark.table(\"workspace.sc_silver.contactos_pbs\")\n",
    "df_contactos_renamed = df_contactos.select(\n",
    "    *[F.col(c).alias(f\"{c}_contactos\") for c in df_contactos.columns]\n",
    ")\n",
    "df_contactos_renamed.write.format(\"delta\").mode(\"overwrite\") \\\n",
    "    .saveAsTable(\"workspace.sc_silver.contactos_renamed\")\n",
    "display(spark.table(\"workspace.sc_silver.contactos_renamed\"))\n"
   ]
  },
  {
   "cell_type": "code",
   "execution_count": 0,
   "metadata": {
    "application/vnd.databricks.v1+cell": {
     "cellMetadata": {
      "byteLimit": 2048000,
      "rowLimit": 10000
     },
     "inputWidgets": {},
     "nuid": "4440fa21-9b05-4eb5-a138-2257f6489e94",
     "showTitle": false,
     "tableResultSettingsMap": {},
     "title": ""
    }
   },
   "outputs": [],
   "source": [
    "from pyspark.sql import functions as F\n",
    "\n",
    "# Load both renamed tables\n",
    "df_leads = spark.table(\"workspace.sc_silver.leads_renamed\")\n",
    "df_contactos = spark.table(\"workspace.sc_silver.contactos_renamed\")\n",
    "\n",
    "# LEFT join on both ID and date\n",
    "df_joined = df_leads.join(\n",
    "    df_contactos,\n",
    "    (df_leads.converted_contact_leads == df_contactos.id_contactos) &\n",
    "    (F.to_timestamp(df_leads.created_time_leads, \"dd-MM-yyyy HH:mm\") ==\n",
    "     F.to_timestamp(df_contactos.data_criacao_da_lead_contactos, \"dd-MM-yyyy HH:mm\")),\n",
    "    \"left\"\n",
    ")\n",
    "\n",
    "# Save as a new permanent table\n",
    "df_joined.write.format(\"delta\").mode(\"overwrite\") \\\n",
    "    .saveAsTable(\"workspace.sc_silver.leads_with_contactos\")\n",
    "\n",
    "# Display preview\n",
    "display(spark.table(\"workspace.sc_silver.leads_with_contactos\"))\n"
   ]
  },
  {
   "cell_type": "code",
   "execution_count": 0,
   "metadata": {
    "application/vnd.databricks.v1+cell": {
     "cellMetadata": {
      "byteLimit": 2048000,
      "rowLimit": 10000
     },
     "inputWidgets": {},
     "nuid": "9a41473d-e99b-4d97-ae11-a2e28f53b083",
     "showTitle": false,
     "tableResultSettingsMap": {},
     "title": ""
    }
   },
   "outputs": [],
   "source": [
    "from pyspark.sql import functions as F\n",
    "\n",
    "# Load the new table\n",
    "df_new = spark.table(\"workspace.sc_silver.leads_with_contactos\")\n",
    "\n",
    "# Calculate the counts\n",
    "df_counts = df_new.agg(\n",
    "    F.countDistinct(\"id_contactos\").alias(\"common_unique_ids\"),\n",
    "    F.countDistinct(\n",
    "        F.when(\n",
    "            F.to_timestamp(df_new.data_criacao_da_lead_contactos, \"dd-MM-yyyy HH:mm\") ==\n",
    "            F.to_timestamp(df_new.created_time_leads, \"dd-MM-yyyy HH:mm\"),\n",
    "            df_new.id_contactos\n",
    "        )\n",
    "    ).alias(\"common_unique_ids_with_date\")\n",
    ")\n",
    "\n",
    "df_counts.show()\n"
   ]
  },
  {
   "cell_type": "code",
   "execution_count": 0,
   "metadata": {
    "application/vnd.databricks.v1+cell": {
     "cellMetadata": {
      "byteLimit": 2048000,
      "implicitDf": true,
      "rowLimit": 10000
     },
     "inputWidgets": {},
     "nuid": "154578c7-4b4b-4d53-a7cf-748fc15df069",
     "showTitle": false,
     "tableResultSettingsMap": {
      "0": {
       "dataGridStateBlob": "{\"version\":1,\"tableState\":{\"columnPinning\":{\"left\":[\"#row_number#\"],\"right\":[]},\"columnSizing\":{},\"columnVisibility\":{}},\"settings\":{\"columns\":{}},\"syncTimestamp\":1754779373958}",
       "filterBlob": null,
       "queryPlanFiltersBlob": null,
       "tableResultIndex": 0
      }
     },
     "title": ""
    }
   },
   "outputs": [],
   "source": [
    "%sql\n",
    "\n",
    "SELECT *\n",
    "FROM workspace.sc_silver.propostas_with_deals_with_campaigns\n",
    "LIMIT 100;\n"
   ]
  },
  {
   "cell_type": "code",
   "execution_count": 0,
   "metadata": {
    "application/vnd.databricks.v1+cell": {
     "cellMetadata": {
      "byteLimit": 2048000,
      "implicitDf": true,
      "rowLimit": 10000
     },
     "inputWidgets": {},
     "nuid": "37e5de9d-af4b-41ba-b597-902b8cb138e2",
     "showTitle": false,
     "tableResultSettingsMap": {},
     "title": ""
    }
   },
   "outputs": [],
   "source": [
    "%sql\n",
    "-- First table\n",
    "SELECT *\n",
    "FROM workspace.sc_silver.leads_with_contactos\n",
    "LIMIT 100;\n"
   ]
  },
  {
   "cell_type": "code",
   "execution_count": 0,
   "metadata": {
    "application/vnd.databricks.v1+cell": {
     "cellMetadata": {
      "byteLimit": 2048000,
      "rowLimit": 10000
     },
     "inputWidgets": {},
     "nuid": "52c690d9-c762-4aa5-9458-80b8efe2b71b",
     "showTitle": false,
     "tableResultSettingsMap": {
      "0": {
       "dataGridStateBlob": "{\"version\":1,\"tableState\":{\"columnPinning\":{\"left\":[\"#row_number#\"],\"right\":[]},\"columnSizing\":{},\"columnVisibility\":{}},\"settings\":{\"columns\":{}},\"syncTimestamp\":1754779480970}",
       "filterBlob": null,
       "queryPlanFiltersBlob": null,
       "tableResultIndex": 0
      }
     },
     "title": ""
    }
   },
   "outputs": [],
   "source": [
    "from pyspark.sql import functions as F\n",
    "\n",
    "# Load both tables\n",
    "df_leads_contactos = spark.table(\"workspace.sc_silver.leads_with_contactos\")\n",
    "df_propostas = spark.table(\"workspace.sc_silver.propostas_with_deals_with_campaigns\")\n",
    "\n",
    "# LEFT join on id_contactos vs id_contacto_propostas_realizadas\n",
    "df_funil = df_leads_contactos.join(\n",
    "    df_propostas,\n",
    "    df_leads_contactos.id_contactos == df_propostas.id_contacto_propostas_realizadas,\n",
    "    \"left\"\n",
    ")\n",
    "\n",
    "# Save as permanent table\n",
    "df_funil.write.format(\"delta\").mode(\"overwrite\") \\\n",
    "    .saveAsTable(\"workspace.sc_silver.Funil\")\n",
    "\n",
    "# Preview\n",
    "display(spark.table(\"workspace.sc_silver.Funil\"))\n"
   ]
  },
  {
   "cell_type": "code",
   "execution_count": 0,
   "metadata": {
    "application/vnd.databricks.v1+cell": {
     "cellMetadata": {
      "byteLimit": 2048000,
      "implicitDf": true,
      "rowLimit": 10000
     },
     "inputWidgets": {},
     "nuid": "3512ab46-afb6-4fca-aad1-8d71f9677b5f",
     "showTitle": false,
     "tableResultSettingsMap": {
      "0": {
       "dataGridStateBlob": "{\"version\":1,\"tableState\":{\"columnPinning\":{\"left\":[\"#row_number#\"],\"right\":[]},\"columnSizing\":{\"tableName\":285},\"columnVisibility\":{}},\"settings\":{\"columns\":{}},\"syncTimestamp\":1754781317091}",
       "filterBlob": null,
       "queryPlanFiltersBlob": null,
       "tableResultIndex": 0
      }
     },
     "title": ""
    }
   },
   "outputs": [],
   "source": [
    "%sql\n",
    "SHOW TABLES IN workspace.sc_silver;"
   ]
  },
  {
   "cell_type": "code",
   "execution_count": 0,
   "metadata": {
    "application/vnd.databricks.v1+cell": {
     "cellMetadata": {
      "byteLimit": 2048000,
      "rowLimit": 10000
     },
     "inputWidgets": {},
     "nuid": "39f0a509-6f6a-4113-9824-5fd8c190a066",
     "showTitle": false,
     "tableResultSettingsMap": {},
     "title": ""
    }
   },
   "outputs": [],
   "source": [
    "from pyspark.sql import functions as F\n",
    "from pyspark.sql.types import (\n",
    "    StringType, DoubleType, FloatType\n",
    ")\n",
    "\n",
    "# Load table\n",
    "df = spark.table(\"sc_silver.funil\")\n",
    "\n",
    "total_rows = df.count()\n",
    "if total_rows == 0:\n",
    "    spark.createDataFrame([], \"column string, blank_pct double\").show()\n",
    "else:\n",
    "    # Build one aggregation per column\n",
    "    agg_exprs = []\n",
    "    col_names = []\n",
    "    for field in df.schema.fields:\n",
    "        c = field.name\n",
    "        dt = field.dataType\n",
    "\n",
    "        if isinstance(dt, StringType):\n",
    "            # NULL or empty/whitespace\n",
    "            cond = F.col(c).isNull() | (F.length(F.trim(F.col(c))) == 0)\n",
    "        elif isinstance(dt, (DoubleType, FloatType)):\n",
    "            # NULL or NaN\n",
    "            cond = F.col(c).isNull() | F.isnan(F.col(c))\n",
    "        else:\n",
    "            # Other types: only NULL counts as blank\n",
    "            cond = F.col(c).isNull()\n",
    "\n",
    "        agg_exprs.append(F.round(F.avg(F.when(cond, 1).otherwise(0)) * 100, 4).alias(c))\n",
    "        col_names.append(c)\n",
    "\n",
    "    # One row with % per column\n",
    "    pct_row = df.agg(*agg_exprs)\n",
    "\n",
    "    # Reshape to (column, blank_pct)\n",
    "    stack_expr = \", \".join([f\"'{c}', `{c}`\" for c in col_names])\n",
    "    tidy = pct_row.selectExpr(f\"stack({len(col_names)}, {stack_expr}) as (column, blank_pct)\")\n",
    "\n",
    "    tidy.orderBy(F.desc(\"blank_pct\")).show(truncate=False)\n"
   ]
  },
  {
   "cell_type": "code",
   "execution_count": 0,
   "metadata": {
    "application/vnd.databricks.v1+cell": {
     "cellMetadata": {
      "byteLimit": 2048000,
      "rowLimit": 10000
     },
     "inputWidgets": {},
     "nuid": "102ff5ee-7ba3-4546-bd56-42a865ad6231",
     "showTitle": false,
     "tableResultSettingsMap": {},
     "title": ""
    }
   },
   "outputs": [],
   "source": [
    "tidy.orderBy(F.desc(\"blank_pct\")).show(n=tidy.count(), truncate=False)\n"
   ]
  },
  {
   "cell_type": "code",
   "execution_count": 0,
   "metadata": {
    "application/vnd.databricks.v1+cell": {
     "cellMetadata": {
      "byteLimit": 2048000,
      "rowLimit": 10000
     },
     "inputWidgets": {},
     "nuid": "abd47814-4ddc-4912-94cb-48585ea718d6",
     "showTitle": false,
     "tableResultSettingsMap": {},
     "title": ""
    }
   },
   "outputs": [],
   "source": [
    "from pyspark.sql import functions as F\n",
    "from pyspark.sql.types import StringType, DoubleType, FloatType\n",
    "\n",
    "tables = [\n",
    "    \"bd_rede_hyundai\",\n",
    "    \"campanha_vouchers\",\n",
    "    \"campanhas_tecnicas\",\n",
    "    \"contactos_importador_pbs\",\n",
    "    \"contratos_financiamento\",\n",
    "    \"historico_de_servicos\",\n",
    "    \"viaturas\",\n",
    "    \"viaturas_demo\"\n",
    "]\n",
    "\n",
    "def blank_percentage_for_table(table_name):\n",
    "    print(f\"=== Processing table: {table_name} ===\")\n",
    "    df = spark.table(f\"sc_silver.{table_name}\")\n",
    "    total_rows = df.count()\n",
    "\n",
    "    if total_rows == 0:\n",
    "        print(f\"Table {table_name} is empty.\")\n",
    "        return spark.createDataFrame([], \"column string, blank_pct double\")\n",
    "\n",
    "    agg_exprs = []\n",
    "    col_names = []\n",
    "\n",
    "    for field in df.schema.fields:\n",
    "        c = field.name\n",
    "        dt = field.dataType\n",
    "\n",
    "        if isinstance(dt, StringType):\n",
    "            cond = F.col(c).isNull() | (F.length(F.trim(F.col(c))) == 0)\n",
    "        elif isinstance(dt, (DoubleType, FloatType)):\n",
    "            cond = F.col(c).isNull() | F.isnan(F.col(c))\n",
    "        else:\n",
    "            cond = F.col(c).isNull()\n",
    "\n",
    "        agg_exprs.append(F.round(F.avg(F.when(cond, 1).otherwise(0)) * 100, 4).alias(c))\n",
    "        col_names.append(c)\n",
    "\n",
    "    pct_row = df.agg(*agg_exprs)\n",
    "    stack_expr = \", \".join([f\"'{c}', `{c}`\" for c in col_names])\n",
    "    tidy = pct_row.selectExpr(f\"stack({len(col_names)}, {stack_expr}) as (column, blank_pct)\")\n",
    "\n",
    "    return tidy.orderBy(F.desc(\"blank_pct\"))\n",
    "\n",
    "# Loop through all tables and show results\n",
    "for tbl in tables:\n",
    "    result_df = blank_percentage_for_table(tbl)\n",
    "    result_df.show(n=result_df.count(), truncate=False)\n"
   ]
  },
  {
   "cell_type": "code",
   "execution_count": 0,
   "metadata": {
    "application/vnd.databricks.v1+cell": {
     "cellMetadata": {
      "byteLimit": 2048000,
      "implicitDf": true,
      "rowLimit": 10000
     },
     "inputWidgets": {},
     "nuid": "03435961-124c-42e1-baef-3a60a2b43d6d",
     "showTitle": false,
     "tableResultSettingsMap": {},
     "title": ""
    }
   },
   "outputs": [],
   "source": [
    "%sql\n",
    "-- bd_rede_hyundai\n",
    "ALTER TABLE sc_silver.bd_rede_hyundai\n",
    "DROP COLUMNS (\n",
    "  changed_by,\n",
    "  created_by,\n",
    "  tag,\n",
    "  dt_created,\n",
    "  dt_changed\n",
    ");\n",
    "\n",
    "-- campanha_vouchers\n",
    "ALTER TABLE sc_silver.campanha_vouchers\n",
    "DROP COLUMNS (\n",
    "  email,\n",
    "  unsubscribed_time,\n",
    "  tag,\n",
    "  secondary_email,\n",
    "  unsubscribed_mode\n",
    ");\n",
    "\n",
    "-- campanhas_tecnicas\n",
    "ALTER TABLE sc_silver.campanhas_tecnicas\n",
    "DROP COLUMNS (\n",
    "  email,\n",
    "  unsubscribed_mode,\n",
    "  tag,\n",
    "  unsubscribed_time,\n",
    "  secondary_email\n",
    ");\n",
    "\n",
    "-- contactos_importador_pbs\n",
    "ALTER TABLE sc_silver.contactos_importador_pbs\n",
    "DROP COLUMNS (\n",
    "  city,\n",
    "  chave_instalacao_bd_rede,\n",
    "  instalacao,\n",
    "  ticket_suporte,\n",
    "  tag,\n",
    "  region,\n",
    "  country,\n",
    "  pioneiros_myhyundai,\n",
    "  chave_concessao_bd_rede,\n",
    "  equipa,\n",
    "  formulario\n",
    ");\n",
    "\n",
    "-- contratos_financiamento\n",
    "ALTER TABLE sc_silver.contratos_financiamento\n",
    "DROP COLUMNS (\n",
    "  secondary_email,\n",
    "  unsubscribed_mode,\n",
    "  unsubscribed_time,\n",
    "  valor_residual_da_viatura,\n",
    "  tag\n",
    ");\n",
    "\n",
    "-- viaturas\n",
    "ALTER TABLE sc_silver.viaturas\n",
    "DROP COLUMNS (\n",
    "  description_dtc_5,\n",
    "  secondary_email,\n",
    "  description_dtc_1,\n",
    "  description_dtc_10,\n",
    "  description_dtc_4,\n",
    "  n__da_fatura,\n",
    "  description_dtc_7,\n",
    "  email,\n",
    "  preco_unit_venda,\n",
    "  description_dtc_6,\n",
    "  n__dav,\n",
    "  canal_de_venda,\n",
    "  financeira_da_viatura,\n",
    "  description_dtc_8,\n",
    "  description_dtc_3,\n",
    "  unsubscribed_time,\n",
    "  dealer_name,\n",
    "  description_dtc_9,\n",
    "  dealer_code,\n",
    "  origem_viatura,\n",
    "  cod_postal_concessao,\n",
    "  description_dtc_2,\n",
    "  endereco_concessao,\n",
    "  unsubscribed_mode,\n",
    "  tem_contrato_de_manutencao,\n",
    "  tag,\n",
    "  extensao_de_garantia\n",
    ");\n",
    "\n",
    "-- viaturas_demo\n",
    "ALTER TABLE sc_silver.viaturas_demo\n",
    "DROP COLUMNS (\n",
    "  preco_base,\n",
    "  email,\n",
    "  pintura,\n",
    "  secondary_email,\n",
    "  unsubscribed_mode,\n",
    "  iva,\n",
    "  isv,\n",
    "  unsubscribed_time,\n",
    "  motivo,\n",
    "  sgpu,\n",
    "  tag\n",
    ");\n"
   ]
  }
 ],
 "metadata": {
  "application/vnd.databricks.v1+notebook": {
   "computePreferences": null,
   "dashboards": [],
   "environmentMetadata": {
    "base_environment": "",
    "environment_version": "2"
   },
   "inputWidgetPreferences": null,
   "language": "python",
   "notebookMetadata": {
    "mostRecentlyExecutedCommandWithImplicitDF": {
     "commandId": 8289791321159026,
     "dataframes": [
      "_sqldf"
     ]
    },
    "pythonIndentUnit": 4
   },
   "notebookName": "Notebook_Pedro",
   "widgets": {}
  },
  "language_info": {
   "name": "python"
  }
 },
 "nbformat": 4,
 "nbformat_minor": 0
}
