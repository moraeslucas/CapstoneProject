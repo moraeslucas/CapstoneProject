{
 "cells": [
  {
   "cell_type": "code",
   "execution_count": 0,
   "metadata": {
    "application/vnd.databricks.v1+cell": {
     "cellMetadata": {
      "byteLimit": 2048000,
      "implicitDf": true,
      "rowLimit": 10000
     },
     "inputWidgets": {},
     "nuid": "9b53e2bf-ed09-4a91-b2af-f270bb28b0cc",
     "showTitle": false,
     "tableResultSettingsMap": {
      "0": {
       "dataGridStateBlob": "{\"version\":1,\"tableState\":{\"columnPinning\":{\"left\":[\"#row_number#\"],\"right\":[]},\"columnSizing\":{\"_fivetran_id\":154},\"columnVisibility\":{}},\"settings\":{\"columns\":{}},\"syncTimestamp\":1754139395473}",
       "filterBlob": null,
       "queryPlanFiltersBlob": null,
       "tableResultIndex": 0
      }
     },
     "title": ""
    }
   },
   "outputs": [],
   "source": [
    "%sql\n",
    "SELECT * FROM workspace.sc_silver.deals"
   ]
  },
  {
   "cell_type": "code",
   "execution_count": 0,
   "metadata": {
    "application/vnd.databricks.v1+cell": {
     "cellMetadata": {
      "byteLimit": 2048000,
      "implicitDf": true,
      "rowLimit": 10000
     },
     "inputWidgets": {},
     "nuid": "0da8bf4a-a505-4bf7-9e17-c832411f7933",
     "showTitle": false,
     "tableResultSettingsMap": {},
     "title": ""
    }
   },
   "outputs": [],
   "source": [
    "%sql\n",
    "SELECT * FROM workspace.sc_silver.leads_pbs"
   ]
  },
  {
   "cell_type": "code",
   "execution_count": 0,
   "metadata": {
    "application/vnd.databricks.v1+cell": {
     "cellMetadata": {
      "byteLimit": 2048000,
      "implicitDf": true,
      "rowLimit": 10000
     },
     "inputWidgets": {},
     "nuid": "71bc9969-8339-4915-bd60-165523838d28",
     "showTitle": false,
     "tableResultSettingsMap": {},
     "title": ""
    }
   },
   "outputs": [],
   "source": [
    "%sql\n",
    "SELECT * FROM workspace.sc_silver.campaigns"
   ]
  },
  {
   "cell_type": "code",
   "execution_count": 0,
   "metadata": {
    "application/vnd.databricks.v1+cell": {
     "cellMetadata": {
      "byteLimit": 2048000,
      "implicitDf": true,
      "rowLimit": 10000
     },
     "inputWidgets": {},
     "nuid": "baa46db1-f692-4d21-86a8-9384b294bd8e",
     "showTitle": false,
     "tableResultSettingsMap": {
      "0": {
       "dataGridStateBlob": "{\"version\":1,\"tableState\":{\"columnPinning\":{\"left\":[\"#row_number#\"],\"right\":[]},\"columnSizing\":{\"id\":244},\"columnVisibility\":{}},\"settings\":{\"columns\":{\"link_centro_consentimento\":{\"format\":{\"preset\":\"string-preset-url\"}}}},\"syncTimestamp\":1754140174321}",
       "filterBlob": null,
       "queryPlanFiltersBlob": null,
       "tableResultIndex": 0
      }
     },
     "title": ""
    }
   },
   "outputs": [],
   "source": [
    "%sql\n",
    "SELECT * FROM workspace.sc_silver.contactos_pbs"
   ]
  },
  {
   "cell_type": "code",
   "execution_count": 0,
   "metadata": {
    "application/vnd.databricks.v1+cell": {
     "cellMetadata": {
      "byteLimit": 2048000,
      "implicitDf": true,
      "rowLimit": 10000
     },
     "inputWidgets": {},
     "nuid": "7e2f838d-366b-40cc-85c6-d67b35f57139",
     "showTitle": false,
     "tableResultSettingsMap": {},
     "title": ""
    }
   },
   "outputs": [],
   "source": [
    "%sql\n",
    "CREATE OR REPLACE TABLE workspace.sc_silver.campaigns AS\n",
    "SELECT\n",
    "  _fivetran_synced,\n",
    "  _fivetran_deleted,\n",
    "  _fivetran_index,\n",
    "  layout,\n",
    "  codigo_campanha,\n",
    "  modified_time,\n",
    "  created_time,\n",
    "  campaign_owner_name,\n",
    "  campaign_name,\n",
    "  id,\n",
    "  _fivetran_id\n",
    "FROM workspace.sc_silver.campaigns;\n"
   ]
  },
  {
   "cell_type": "code",
   "execution_count": 0,
   "metadata": {
    "application/vnd.databricks.v1+cell": {
     "cellMetadata": {
      "byteLimit": 2048000,
      "implicitDf": true,
      "rowLimit": 10000
     },
     "inputWidgets": {},
     "nuid": "6e747fda-5d4a-41df-9e60-dc736b4bff86",
     "showTitle": false,
     "tableResultSettingsMap": {},
     "title": ""
    }
   },
   "outputs": [],
   "source": [
    "%sql\n",
    "SELECT COUNT(*) AS num_duplicate_ids\n",
    "FROM (\n",
    "  SELECT id\n",
    "  FROM workspace.sc_silver.contactos_pbs\n",
    "  GROUP BY id\n",
    "  HAVING COUNT(*) > 1\n",
    ");\n"
   ]
  },
  {
   "cell_type": "code",
   "execution_count": 0,
   "metadata": {
    "application/vnd.databricks.v1+cell": {
     "cellMetadata": {
      "byteLimit": 2048000,
      "implicitDf": true,
      "rowLimit": 10000
     },
     "inputWidgets": {},
     "nuid": "af68161b-a9ab-4168-a7ba-a5aa4be1fb93",
     "showTitle": false,
     "tableResultSettingsMap": {},
     "title": ""
    }
   },
   "outputs": [],
   "source": [
    "%sql\n",
    "SELECT COUNT(*) AS num_duplicate_converted_contacts\n",
    "FROM (\n",
    "  SELECT converted_contact\n",
    "  FROM workspace.sc_silver.leads_pbs\n",
    "  WHERE converted_contact IS NOT NULL\n",
    "  GROUP BY converted_contact\n",
    "  HAVING COUNT(*) > 1\n",
    ");\n"
   ]
  },
  {
   "cell_type": "code",
   "execution_count": 0,
   "metadata": {
    "application/vnd.databricks.v1+cell": {
     "cellMetadata": {
      "byteLimit": 2048000,
      "implicitDf": true,
      "rowLimit": 10000
     },
     "inputWidgets": {},
     "nuid": "040e55c4-4b4b-447c-ae5c-e971b59f8eb6",
     "showTitle": false,
     "tableResultSettingsMap": {},
     "title": ""
    }
   },
   "outputs": [],
   "source": [
    "%sql\n",
    "SELECT COUNT(*) AS total_rows\n",
    "FROM workspace.sc_silver.leads_pbs;\n"
   ]
  },
  {
   "cell_type": "code",
   "execution_count": 0,
   "metadata": {
    "application/vnd.databricks.v1+cell": {
     "cellMetadata": {
      "byteLimit": 2048000,
      "implicitDf": true,
      "rowLimit": 10000
     },
     "inputWidgets": {},
     "nuid": "85f3fdaf-be7d-4578-abfc-4fa407e5440b",
     "showTitle": false,
     "tableResultSettingsMap": {},
     "title": ""
    }
   },
   "outputs": [],
   "source": [
    "%sql\n",
    "SELECT COUNT(id) AS non_null_ids\n",
    "FROM workspace.sc_silver.contactos_pbs;\n"
   ]
  },
  {
   "cell_type": "code",
   "execution_count": 0,
   "metadata": {
    "application/vnd.databricks.v1+cell": {
     "cellMetadata": {
      "byteLimit": 2048000,
      "implicitDf": true,
      "rowLimit": 10000
     },
     "inputWidgets": {},
     "nuid": "770b89d9-3896-4cf0-8fbf-0d48da9d4698",
     "showTitle": false,
     "tableResultSettingsMap": {},
     "title": ""
    }
   },
   "outputs": [],
   "source": [
    "%sql\n",
    "SELECT COUNT(DISTINCT c.id) AS common_unique_ids\n",
    "FROM workspace.sc_silver.contactos_pbs c\n",
    "JOIN workspace.sc_silver.leads_pbs l\n",
    "  ON c.id = l.converted_contact;\n"
   ]
  },
  {
   "cell_type": "code",
   "execution_count": 0,
   "metadata": {
    "application/vnd.databricks.v1+cell": {
     "cellMetadata": {
      "byteLimit": 2048000,
      "implicitDf": true,
      "rowLimit": 10000
     },
     "inputWidgets": {},
     "nuid": "2dc00c9c-edee-462a-9076-05daa1e58f00",
     "showTitle": false,
     "tableResultSettingsMap": {},
     "title": ""
    }
   },
   "outputs": [],
   "source": [
    "%sql\n",
    "SELECT COUNT(DISTINCT leads_pbs.converted_contact) AS common_ids_between_leads_and_campaigns\n",
    "FROM workspace.sc_silver.leads_pbs\n",
    "JOIN workspace.sc_silver.campaigns\n",
    "  ON leads_pbs.converted_contact = campaigns.id\n",
    "WHERE leads_pbs.converted_contact IS NOT NULL;\n"
   ]
  },
  {
   "cell_type": "code",
   "execution_count": 0,
   "metadata": {
    "application/vnd.databricks.v1+cell": {
     "cellMetadata": {
      "byteLimit": 2048000,
      "implicitDf": true,
      "rowLimit": 10000
     },
     "inputWidgets": {},
     "nuid": "e4c2b4f1-6c32-4fbb-848f-d8ae5b6eda3f",
     "showTitle": false,
     "tableResultSettingsMap": {},
     "title": ""
    }
   },
   "outputs": [],
   "source": [
    "%sql\n",
    "-- Check which campaign IDs exist in leads.id\n",
    "SELECT DISTINCT id AS campaign_id_in_leads_id\n",
    "FROM workspace.sc_silver.campaigns\n",
    "WHERE id IN (\n",
    "  SELECT id FROM workspace.sc_silver.leads_pbs\n",
    ");\n"
   ]
  },
  {
   "cell_type": "code",
   "execution_count": 0,
   "metadata": {
    "application/vnd.databricks.v1+cell": {
     "cellMetadata": {
      "byteLimit": 2048000,
      "implicitDf": true,
      "rowLimit": 10000
     },
     "inputWidgets": {},
     "nuid": "0cf3642a-b177-4f6e-a306-efb5585eb957",
     "showTitle": false,
     "tableResultSettingsMap": {},
     "title": ""
    }
   },
   "outputs": [],
   "source": [
    "%sql\n",
    "SELECT\n",
    "  campaigns.id AS campaign_id,\n",
    "  CASE WHEN leads_by_id.id IS NOT NULL THEN 'Yes' ELSE 'No' END AS found_in_leads_id,\n",
    "  CASE WHEN leads_by_owner.lead_owner IS NOT NULL THEN 'Yes' ELSE 'No' END AS found_in_lead_owner\n",
    "FROM workspace.sc_silver.campaigns\n",
    "\n",
    "LEFT JOIN workspace.sc_silver.leads_pbs AS leads_by_id\n",
    "  ON campaigns.id = leads_by_id.id\n",
    "\n",
    "LEFT JOIN workspace.sc_silver.leads_pbs AS leads_by_owner\n",
    "  ON campaigns.id = leads_by_owner.lead_owner;\n"
   ]
  },
  {
   "cell_type": "code",
   "execution_count": 0,
   "metadata": {
    "application/vnd.databricks.v1+cell": {
     "cellMetadata": {
      "byteLimit": 2048000,
      "implicitDf": true,
      "rowLimit": 10000
     },
     "inputWidgets": {},
     "nuid": "b39a6f10-579b-4704-a6a2-1d214c441ffc",
     "showTitle": false,
     "tableResultSettingsMap": {},
     "title": ""
    }
   },
   "outputs": [],
   "source": [
    "%sql\n",
    "SELECT\n",
    "  campaigns.id AS campaign_id,\n",
    "  \n",
    "  -- Lookup flags\n",
    "  CASE WHEN leads_by_id.id IS NOT NULL THEN 'Yes' ELSE 'No' END AS found_in_leads_id,\n",
    "  CASE WHEN leads_by_owner.lead_owner IS NOT NULL THEN 'Yes' ELSE 'No' END AS found_in_lead_owner,\n",
    "\n",
    "  -- Add columns from leads_pbs\n",
    "  leads_by_id.id AS id_lead,\n",
    "  leads_by_id.converted_contact\n",
    "\n",
    "FROM workspace.sc_silver.campaigns\n",
    "\n",
    "-- Lookup campaigns.id in leads_pbs.id\n",
    "LEFT JOIN workspace.sc_silver.leads_pbs AS leads_by_id\n",
    "  ON campaigns.id = leads_by_id.id\n",
    "\n",
    "-- Lookup campaigns.id in leads_pbs.lead_owner\n",
    "LEFT JOIN workspace.sc_silver.leads_pbs AS leads_by_owner\n",
    "  ON campaigns.id = leads_by_owner.lead_owner;\n"
   ]
  },
  {
   "cell_type": "code",
   "execution_count": 0,
   "metadata": {
    "application/vnd.databricks.v1+cell": {
     "cellMetadata": {
      "byteLimit": 2048000,
      "implicitDf": true,
      "rowLimit": 10000
     },
     "inputWidgets": {},
     "nuid": "68d5417f-3ef9-4021-bedd-c6a5dd1014a0",
     "showTitle": false,
     "tableResultSettingsMap": {},
     "title": ""
    }
   },
   "outputs": [],
   "source": [
    "%sql\n",
    "SELECT\n",
    "  c.id AS contacto_id,\n",
    "\n",
    "  -- Flags de correspondência\n",
    "  CASE WHEN p1.id IS NOT NULL THEN 'Yes' ELSE 'No' END AS match_with_proposta_id,\n",
    "  CASE WHEN p2.proposta_realizada_owner IS NOT NULL THEN 'Yes' ELSE 'No' END AS match_with_proposta_owner,\n",
    "  CASE WHEN p3.id_contacto IS NOT NULL THEN 'Yes' ELSE 'No' END AS match_with_id_contacto\n",
    "\n",
    "FROM workspace.sc_silver.contactos_pbs c\n",
    "\n",
    "-- Join com propostas_realizadas.id\n",
    "LEFT JOIN workspace.sc_silver.propostas_realizadas p1\n",
    "  ON c.id = p1.id\n",
    "\n",
    "-- Join com propostas_realizadas.proposta_realizada_owner\n",
    "LEFT JOIN workspace.sc_silver.propostas_realizadas p2\n",
    "  ON c.id = p2.proposta_realizada_owner\n",
    "\n",
    "-- Join com propostas_realizadas.id_contacto\n",
    "LEFT JOIN workspace.sc_silver.propostas_realizadas p3\n",
    "  ON c.id = p3.id_contacto;\n"
   ]
  },
  {
   "cell_type": "code",
   "execution_count": 0,
   "metadata": {
    "application/vnd.databricks.v1+cell": {
     "cellMetadata": {
      "byteLimit": 2048000,
      "implicitDf": true,
      "rowLimit": 10000
     },
     "inputWidgets": {},
     "nuid": "5f4a4dfc-8185-40c9-b5b1-1ddceb8f72f4",
     "showTitle": false,
     "tableResultSettingsMap": {},
     "title": ""
    }
   },
   "outputs": [],
   "source": [
    "%sql\n",
    "SELECT COUNT(DISTINCT p3.id_contacto) AS matching_contact_ids\n",
    "FROM workspace.sc_silver.propostas_realizadas p3\n",
    "JOIN workspace.sc_silver.contactos_pbs c\n",
    "    ON p3.id_contacto = c.id\n",
    "WHERE p3.id_contacto IS NOT NULL;\n"
   ]
  },
  {
   "cell_type": "code",
   "execution_count": 0,
   "metadata": {
    "application/vnd.databricks.v1+cell": {
     "cellMetadata": {
      "byteLimit": 2048000,
      "implicitDf": true,
      "rowLimit": 10000
     },
     "inputWidgets": {},
     "nuid": "877f105a-15fc-425a-b8f8-7fb7cb97e399",
     "showTitle": false,
     "tableResultSettingsMap": {},
     "title": ""
    }
   },
   "outputs": [],
   "source": [
    "%sql\n",
    "SELECT COUNT(DISTINCT p.id_contacto) AS matching_contact_ids\n",
    "FROM workspace.sc_silver.propostas_realizadas p\n",
    "JOIN workspace.sc_silver.deals d\n",
    "  ON p.id_contacto = d.id_contacto\n",
    "WHERE p.id_contacto IS NOT NULL;\n"
   ]
  },
  {
   "cell_type": "code",
   "execution_count": 0,
   "metadata": {
    "application/vnd.databricks.v1+cell": {
     "cellMetadata": {
      "byteLimit": 2048000,
      "implicitDf": true,
      "rowLimit": 10000
     },
     "inputWidgets": {},
     "nuid": "7e2a089a-2524-46e6-8a26-967918e24647",
     "showTitle": false,
     "tableResultSettingsMap": {},
     "title": ""
    }
   },
   "outputs": [],
   "source": [
    "%sql\n",
    "DELETE FROM workspace.sc_silver.leads_pbs\n",
    "WHERE converted_contact IS NULL;\n"
   ]
  },
  {
   "cell_type": "code",
   "execution_count": 0,
   "metadata": {
    "application/vnd.databricks.v1+cell": {
     "cellMetadata": {
      "byteLimit": 2048000,
      "implicitDf": true,
      "rowLimit": 10000
     },
     "inputWidgets": {},
     "nuid": "40772d97-ca80-403b-9b8e-90775cc3df12",
     "showTitle": false,
     "tableResultSettingsMap": {},
     "title": ""
    }
   },
   "outputs": [],
   "source": [
    "%sql\n",
    "SELECT COUNT(*) AS total_rows\n",
    "FROM workspace.sc_silver.leads_pbs;\n"
   ]
  },
  {
   "cell_type": "code",
   "execution_count": 0,
   "metadata": {
    "application/vnd.databricks.v1+cell": {
     "cellMetadata": {
      "byteLimit": 2048000,
      "implicitDf": true,
      "rowLimit": 10000
     },
     "inputWidgets": {},
     "nuid": "efb312d8-bfa6-4333-afc2-0041125593b9",
     "showTitle": false,
     "tableResultSettingsMap": {},
     "title": ""
    }
   },
   "outputs": [],
   "source": [
    "%sql\n",
    "SELECT\n",
    "  l.converted_contact,\n",
    "  CASE WHEN d1.id IS NOT NULL THEN 'Yes' ELSE 'No' END AS match_in_deals_id,\n",
    "  CASE WHEN d2.converted_from_lead IS NOT NULL THEN 'Yes' ELSE 'No' END AS match_in_deals_converted_from_lead\n",
    "FROM workspace.sc_silver.leads_pbs l\n",
    "LEFT JOIN workspace.sc_silver.deals d1\n",
    "  ON l.converted_contact = d1.id\n",
    "LEFT JOIN workspace.sc_silver.deals d2\n",
    "  ON l.converted_contact = d2.converted_from_lead\n",
    "WHERE l.converted_contact IS NOT NULL;\n"
   ]
  },
  {
   "cell_type": "code",
   "execution_count": 0,
   "metadata": {
    "application/vnd.databricks.v1+cell": {
     "cellMetadata": {
      "byteLimit": 2048000,
      "implicitDf": true,
      "rowLimit": 10000
     },
     "inputWidgets": {},
     "nuid": "4c05c5c6-cea5-49dc-9c5b-227d505f9d71",
     "showTitle": false,
     "tableResultSettingsMap": {},
     "title": ""
    }
   },
   "outputs": [],
   "source": [
    "%sql\n",
    "-- How many leads match deals.id\n",
    "SELECT COUNT(DISTINCT l.id) AS leads_in_deals_id\n",
    "FROM workspace.sc_silver.leads_pbs l\n",
    "JOIN workspace.sc_silver.deals d ON l.id = d.id;\n",
    "\n",
    "-- How many leads match deals.converted_from_lead\n",
    "SELECT COUNT(DISTINCT l.id) AS leads_in_converted_from_lead\n",
    "FROM workspace.sc_silver.leads_pbs l\n",
    "JOIN workspace.sc_silver.deals d ON l.id = d.converted_from_lead;\n"
   ]
  },
  {
   "cell_type": "code",
   "execution_count": 0,
   "metadata": {
    "application/vnd.databricks.v1+cell": {
     "cellMetadata": {
      "byteLimit": 2048000,
      "implicitDf": true,
      "rowLimit": 10000
     },
     "inputWidgets": {},
     "nuid": "d9b158d9-eda8-40e5-82af-21251baa5423",
     "showTitle": false,
     "tableResultSettingsMap": {},
     "title": ""
    }
   },
   "outputs": [],
   "source": [
    "%sql\n",
    "SELECT COUNT(DISTINCT d.campanha) AS matched_campaigns_in_deals\n",
    "FROM workspace.sc_silver.deals d\n",
    "JOIN workspace.sc_silver.campaigns c\n",
    "  ON d.campanha = c.id\n",
    "WHERE d.campanha IS NOT NULL;\n"
   ]
  },
  {
   "cell_type": "code",
   "execution_count": 0,
   "metadata": {
    "application/vnd.databricks.v1+cell": {
     "cellMetadata": {
      "byteLimit": 2048000,
      "implicitDf": true,
      "rowLimit": 10000
     },
     "inputWidgets": {},
     "nuid": "752c11c7-5fbd-4a30-a5f1-c026300f4c72",
     "showTitle": false,
     "tableResultSettingsMap": {},
     "title": ""
    }
   },
   "outputs": [],
   "source": [
    "%sql\n",
    "SELECT COUNT(*) AS num_duplicate_converted_contacts\n",
    "FROM (\n",
    "  SELECT converted_contact\n",
    "  FROM workspace.sc_silver.leads_pbs\n",
    "  WHERE converted_contact IS NOT NULL\n",
    "  GROUP BY converted_contact\n",
    "  HAVING COUNT(*) > 1\n",
    ");\n"
   ]
  },
  {
   "cell_type": "code",
   "execution_count": 0,
   "metadata": {
    "application/vnd.databricks.v1+cell": {
     "cellMetadata": {
      "byteLimit": 2048000,
      "implicitDf": true,
      "rowLimit": 10000
     },
     "inputWidgets": {},
     "nuid": "cf3641f5-39a2-4882-b59e-0f1d6bbb9f44",
     "showTitle": false,
     "tableResultSettingsMap": {},
     "title": ""
    }
   },
   "outputs": [],
   "source": [
    "%sql\n",
    "SELECT\n",
    "  occurrences,\n",
    "  COUNT(*) AS num_contacts_with_this_occurrence\n",
    "FROM (\n",
    "  SELECT converted_contact, COUNT(*) AS occurrences\n",
    "  FROM workspace.sc_silver.leads_pbs\n",
    "  WHERE converted_contact IS NOT NULL\n",
    "  GROUP BY converted_contact\n",
    ") AS sub\n",
    "GROUP BY occurrences\n",
    "ORDER BY occurrences;\n"
   ]
  },
  {
   "cell_type": "code",
   "execution_count": 0,
   "metadata": {
    "application/vnd.databricks.v1+cell": {
     "cellMetadata": {
      "byteLimit": 2048000,
      "implicitDf": true,
      "rowLimit": 10000
     },
     "inputWidgets": {},
     "nuid": "1cbdfbd9-f695-40f9-b957-60f06ab2e32f",
     "showTitle": false,
     "tableResultSettingsMap": {},
     "title": ""
    }
   },
   "outputs": [],
   "source": [
    "%sql\n",
    "SELECT COUNT(*) AS num_duplicate_ids\n",
    "FROM (\n",
    "  SELECT id\n",
    "  FROM workspace.sc_silver.campaigns\n",
    "  GROUP BY id\n",
    "  HAVING COUNT(*) > 1\n",
    ");\n"
   ]
  },
  {
   "cell_type": "code",
   "execution_count": 0,
   "metadata": {
    "application/vnd.databricks.v1+cell": {
     "cellMetadata": {
      "byteLimit": 2048000,
      "implicitDf": true,
      "rowLimit": 10000
     },
     "inputWidgets": {},
     "nuid": "239fd20d-f91c-4e49-ab75-3d76e68d0e21",
     "showTitle": false,
     "tableResultSettingsMap": {
      "0": {
       "dataGridStateBlob": "{\"version\":1,\"tableState\":{\"columnPinning\":{\"left\":[\"#row_number#\"],\"right\":[]},\"columnSizing\":{\"id_contacto\":199},\"columnVisibility\":{}},\"settings\":{\"columns\":{}},\"syncTimestamp\":1754158993167}",
       "filterBlob": null,
       "queryPlanFiltersBlob": null,
       "tableResultIndex": 0
      }
     },
     "title": ""
    }
   },
   "outputs": [],
   "source": [
    "%sql\n",
    "SELECT \n",
    "  id_contacto, \n",
    "  COUNT(*) AS occurrences\n",
    "FROM workspace.sc_silver.deals\n",
    "WHERE id_contacto IS NOT NULL\n",
    "GROUP BY id_contacto\n",
    "HAVING COUNT(*) > 1\n",
    "ORDER BY occurrences DESC;\n"
   ]
  },
  {
   "cell_type": "code",
   "execution_count": 0,
   "metadata": {
    "application/vnd.databricks.v1+cell": {
     "cellMetadata": {
      "byteLimit": 2048000,
      "implicitDf": true,
      "rowLimit": 10000
     },
     "inputWidgets": {},
     "nuid": "4c635c88-131c-4748-a898-8cf952c06396",
     "showTitle": false,
     "tableResultSettingsMap": {},
     "title": ""
    }
   },
   "outputs": [],
   "source": [
    "%sql\n",
    "SELECT\n",
    "  COUNT(*) AS total_rows,\n",
    "  COUNT(CASE WHEN apoio_concessionario IS NULL THEN 1 END) * 100.0 / COUNT(*) AS pct_null_apoio_concessionario,\n",
    "  COUNT(CASE WHEN apoio_total IS NULL THEN 1 END) * 100.0 / COUNT(*) AS pct_null_apoio_total,\n",
    "  COUNT(CASE WHEN sub_total_com_extras IS NULL THEN 1 END) * 100.0 / COUNT(*) AS pct_null_sub_total_com_extras,\n",
    "  COUNT(CASE WHEN descricao_do_pedido_de_apoio IS NULL THEN 1 END) * 100.0 / COUNT(*) AS pct_null_descricao_do_pedido_de_apoio,\n",
    "  COUNT(CASE WHEN estado_do_pedido IS NULL THEN 1 END) * 100.0 / COUNT(*) AS pct_null_estado_do_pedido,\n",
    "  COUNT(CASE WHEN apoio_percentual IS NULL THEN 1 END) * 100.0 / COUNT(*) AS pct_null_apoio_percentual,\n",
    "  COUNT(CASE WHEN data_de_criacao_da_proposta IS NULL THEN 1 END) * 100.0 / COUNT(*) AS pct_null_data_de_criacao_da_proposta,\n",
    "  COUNT(CASE WHEN valor_campanhas_comerciais IS NULL THEN 1 END) * 100.0 / COUNT(*) AS pct_null_valor_campanhas_comerciais,\n",
    "  COUNT(CASE WHEN ofertas_de_campanha IS NULL THEN 1 END) * 100.0 / COUNT(*) AS pct_null_ofertas_de_campanha,\n",
    "  COUNT(CASE WHEN resposta_do_importador IS NULL THEN 1 END) * 100.0 / COUNT(*) AS pct_null_resposta_do_importador,\n",
    "  COUNT(CASE WHEN data_de_entrega_da_proposta IS NULL THEN 1 END) * 100.0 / COUNT(*) AS pct_null_data_de_entrega_da_proposta,\n",
    "  COUNT(CASE WHEN desconto_total__c__apoio_de_importador_ IS NULL THEN 1 END) * 100.0 / COUNT(*) AS pct_null_desconto_total__c__apoio_de_importador_,\n",
    "  COUNT(CASE WHEN codigo_cor_exterior IS NULL THEN 1 END) * 100.0 / COUNT(*) AS pct_null_codigo_cor_exterior,\n",
    "  COUNT(CASE WHEN codigo_cor_interior IS NULL THEN 1 END) * 100.0 / COUNT(*) AS pct_null_codigo_cor_interior,\n",
    "  COUNT(CASE WHEN concessionario_owner IS NULL THEN 1 END) * 100.0 / COUNT(*) AS pct_null_concessionario_owner,\n",
    "  COUNT(CASE WHEN valor_aprovado IS NULL THEN 1 END) * 100.0 / COUNT(*) AS pct_null_valor_aprovado,\n",
    "  COUNT(CASE WHEN estado_do_contrato IS NULL THEN 1 END) * 100.0 / COUNT(*) AS pct_null_estado_do_contrato,\n",
    "  COUNT(CASE WHEN data_prevista_matricula IS NULL THEN 1 END) * 100.0 / COUNT(*) AS pct_null_data_prevista_matricula,\n",
    "  COUNT(CASE WHEN data_prevista_de_entrega IS NULL THEN 1 END) * 100.0 / COUNT(*) AS pct_null_data_prevista_de_entrega,\n",
    "  COUNT(CASE WHEN data_da_conclusao IS NULL THEN 1 END) * 100.0 / COUNT(*) AS pct_null_data_da_conclusao,\n",
    "  COUNT(CASE WHEN id_classe IS NULL THEN 1 END) * 100.0 / COUNT(*) AS pct_null_id_classe,\n",
    "  COUNT(CASE WHEN descricao_classe IS NULL THEN 1 END) * 100.0 / COUNT(*) AS pct_null_descricao_classe,\n",
    "  COUNT(CASE WHEN id_model_group IS NULL THEN 1 END) * 100.0 / COUNT(*) AS pct_null_id_model_group,\n",
    "  COUNT(CASE WHEN descricao_model_group IS NULL THEN 1 END) * 100.0 / COUNT(*) AS pct_null_descricao_model_group,\n",
    "  COUNT(CASE WHEN valid_until IS NULL THEN 1 END) * 100.0 / COUNT(*) AS pct_null_valid_until,\n",
    "  COUNT(CASE WHEN forma_de_pagamento IS NULL THEN 1 END) * 100.0 / COUNT(*) AS pct_null_forma_de_pagamento,\n",
    "  COUNT(CASE WHEN nome_da_campanha IS NULL THEN 1 END) * 100.0 / COUNT(*) AS pct_null_nome_da_campanha,\n",
    "  COUNT(CASE WHEN _fivetran_index IS NULL THEN 1 END) * 100.0 / COUNT(*) AS pct_null_fivetran_index\n",
    "FROM workspace.sc_silver.propostas_realizadas;\n"
   ]
  },
  {
   "cell_type": "code",
   "execution_count": 0,
   "metadata": {
    "application/vnd.databricks.v1+cell": {
     "cellMetadata": {
      "byteLimit": 2048000,
      "implicitDf": true,
      "rowLimit": 10000
     },
     "inputWidgets": {},
     "nuid": "037950c4-e653-46dd-8c22-6437c6093b73",
     "showTitle": false,
     "tableResultSettingsMap": {},
     "title": ""
    }
   },
   "outputs": [],
   "source": [
    "%sql\n",
    "ALTER TABLE workspace.sc_silver.propostas_realizadas\n",
    "DROP COLUMNS (\n",
    "  descricao_do_pedido_de_apoio,\n",
    "  apoio_percentual,\n",
    "  valor_campanhas_comerciais,\n",
    "  ofertas_de_campanha,\n",
    "  resposta_do_importador,\n",
    "  valid_until,\n",
    "  nome_da_campanha\n",
    ");\n"
   ]
  },
  {
   "cell_type": "code",
   "execution_count": 0,
   "metadata": {
    "application/vnd.databricks.v1+cell": {
     "cellMetadata": {
      "byteLimit": 2048000,
      "implicitDf": true,
      "rowLimit": 10000
     },
     "inputWidgets": {},
     "nuid": "1042fa7d-a09b-4a88-acfa-1f0366c1a5bb",
     "showTitle": false,
     "tableResultSettingsMap": {},
     "title": ""
    }
   },
   "outputs": [],
   "source": [
    "%sql\n",
    "ALTER TABLE workspace.sc_silver.contactos_pbs\n",
    "DROP COLUMNS (\n",
    "  last_name,\n",
    "  row_names,\n",
    "  email,\n",
    "  mobile,\n",
    "  first_name,\n",
    "  phone,\n",
    "  date_of_birth,\n",
    "  email_opt_out,\n",
    "  salutation,\n",
    "  tag,\n",
    "  codigo_postal,\n",
    "  login_myhyundai,\n",
    "  full_name,\n",
    "  pioneiros_myhyundai,\n",
    "  lead_source,\n",
    "  nif,\n",
    "  modo_de_contacto_preferencial,\n",
    "  distrito,\n",
    "  pais,\n",
    "  sexo,\n",
    "  localidade,\n",
    "  morada,\n",
    "  concelho,\n",
    "  consentimento,\n",
    "  data_de_recolha_de_consentimento_hyundai,\n",
    "  description,\n",
    "  link_centro_consentimento,\n",
    "  ccupdated\n",
    ");\n"
   ]
  },
  {
   "cell_type": "code",
   "execution_count": 0,
   "metadata": {
    "application/vnd.databricks.v1+cell": {
     "cellMetadata": {
      "byteLimit": 2048000,
      "implicitDf": true,
      "rowLimit": 10000
     },
     "inputWidgets": {},
     "nuid": "2e76383c-0a3c-4bd5-a17b-964ccca4ec78",
     "showTitle": false,
     "tableResultSettingsMap": {},
     "title": ""
    }
   },
   "outputs": [],
   "source": [
    "%sql\n",
    "ALTER TABLE workspace.sc_silver.leads_pbs\n",
    "DROP COLUMNS (\n",
    "  last_name,\n",
    "  row_names,\n",
    "  email,\n",
    "  mobile,\n",
    "  telefone_empresa,\n",
    "  e_mail_empresa,\n",
    "  first_name,\n",
    "  zip_code,\n",
    "  description,\n",
    "  salutation,\n",
    "  motivo,\n",
    "  hmod___hcreat,\n",
    "  campaign_name,\n",
    "  campaign_medium,\n",
    "  campaign_term,\n",
    "  campaign_content,\n",
    "  campaignsource,\n",
    "  con,\n",
    "  caracterizacao,\n",
    "  test_check1,\n",
    "  test_check,\n",
    "  link_centro_consentimento,\n",
    "  industry,\n",
    "  login_myhyundai,\n",
    "  website,\n",
    "  full_name,\n",
    "  pontuacao,\n",
    "  data_de_recolha_de_consentimento_hyundai,\n",
    "  ccupdated\n",
    ");\n"
   ]
  },
  {
   "cell_type": "code",
   "execution_count": 0,
   "metadata": {
    "application/vnd.databricks.v1+cell": {
     "cellMetadata": {
      "byteLimit": 2048000,
      "implicitDf": true,
      "rowLimit": 10000
     },
     "inputWidgets": {},
     "nuid": "97c4d90c-0bf2-4957-8c39-d41d20ff480f",
     "showTitle": false,
     "tableResultSettingsMap": {},
     "title": ""
    }
   },
   "outputs": [],
   "source": [
    "%sql\n",
    "ALTER TABLE workspace.sc_silver.deals\n",
    "DROP COLUMNS (\n",
    "  row_names,\n",
    "  tag,\n",
    "  amount,\n",
    "  expected_revenue,\n",
    "  pioneiros_myhyundai,\n",
    "  lead_source,\n",
    "  login_myhyundai,\n",
    "  aprovacao_do_pedido_de_apoio,\n",
    "  `type`        -- quote reserved word\n",
    ");\n"
   ]
  },
  {
   "cell_type": "code",
   "execution_count": 0,
   "metadata": {
    "application/vnd.databricks.v1+cell": {
     "cellMetadata": {
      "byteLimit": 2048000,
      "implicitDf": true,
      "rowLimit": 10000
     },
     "inputWidgets": {},
     "nuid": "2534acf5-9eee-4212-bd29-c66fc8437f8a",
     "showTitle": false,
     "tableResultSettingsMap": {},
     "title": ""
    }
   },
   "outputs": [],
   "source": [
    "%sql\n",
    "ALTER TABLE workspace.sc_silver.propostas_realizadas\n",
    "DROP COLUMNS (\n",
    "  sales_status,\n",
    "  row_names,\n",
    "  tax,\n",
    "  discount,\n",
    "  adjustments,\n",
    "   estado_do_contrato\n",
    "  );\n",
    "\n"
   ]
  },
  {
   "cell_type": "code",
   "execution_count": 0,
   "metadata": {
    "application/vnd.databricks.v1+cell": {
     "cellMetadata": {
      "byteLimit": 2048000,
      "rowLimit": 10000
     },
     "inputWidgets": {},
     "nuid": "02870a86-ac8e-4fe6-8f62-074b6c622b7e",
     "showTitle": false,
     "tableResultSettingsMap": {},
     "title": ""
    }
   },
   "outputs": [],
   "source": [
    "from pyspark.sql import functions as F\n",
    "\n",
    "# ==== DEALS ====\n",
    "df_deals = spark.table(\"workspace.sc_silver.deals\")\n",
    "df_deals_renamed = df_deals.select(\n",
    "    *[F.col(c).alias(f\"{c}_deals\") for c in df_deals.columns]\n",
    ")\n",
    "df_deals_renamed.write.format(\"delta\").mode(\"overwrite\") \\\n",
    "    .saveAsTable(\"workspace.sc_silver.deals_renamed\")\n",
    "display(spark.table(\"workspace.sc_silver.deals_renamed\"))\n",
    "\n",
    "# ==== CAMPAIGNS ====\n",
    "df_campaigns = spark.table(\"workspace.sc_silver.campaigns\")\n",
    "df_campaigns_renamed = df_campaigns.select(\n",
    "    *[F.col(c).alias(f\"{c}_campaigns\") for c in df_campaigns.columns]\n",
    ")\n",
    "df_campaigns_renamed.write.format(\"delta\").mode(\"overwrite\") \\\n",
    "    .saveAsTable(\"workspace.sc_silver.campaigns_renamed\")\n",
    "display(spark.table(\"workspace.sc_silver.campaigns_renamed\"))\n"
   ]
  },
  {
   "cell_type": "code",
   "execution_count": 0,
   "metadata": {
    "application/vnd.databricks.v1+cell": {
     "cellMetadata": {
      "byteLimit": 2048000,
      "rowLimit": 10000
     },
     "inputWidgets": {},
     "nuid": "844e4763-6fb6-43a6-8268-166f97cc6192",
     "showTitle": false,
     "tableResultSettingsMap": {
      "0": {
       "dataGridStateBlob": "{\"version\":1,\"tableState\":{\"columnPinning\":{\"left\":[\"#row_number#\"],\"right\":[]},\"columnSizing\":{\"id_deals\":173},\"columnVisibility\":{}},\"settings\":{\"columns\":{}},\"syncTimestamp\":1754781198428}",
       "filterBlob": null,
       "queryPlanFiltersBlob": null,
       "tableResultIndex": 0
      }
     },
     "title": ""
    }
   },
   "outputs": [],
   "source": [
    "from pyspark.sql import functions as F\n",
    "\n",
    "# Load renamed tables\n",
    "df_deals_renamed = spark.table(\"workspace.sc_silver.deals_renamed\")\n",
    "df_campaigns_renamed = spark.table(\"workspace.sc_silver.campaigns_renamed\")\n",
    "\n",
    "# Join on campanha_deals = id_campaigns\n",
    "df_deals_with_campaigns = df_deals_renamed.join(\n",
    "    df_campaigns_renamed,\n",
    "    df_deals_renamed.campanha_deals == df_campaigns_renamed.id_campaigns,\n",
    "    \"left\"\n",
    ")\n",
    "\n",
    "# Save as permanent table\n",
    "df_deals_with_campaigns.write.format(\"delta\").mode(\"overwrite\") \\\n",
    "    .saveAsTable(\"workspace.sc_silver.deals_with_campaigns\")\n",
    "\n",
    "# Preview\n",
    "display(spark.table(\"workspace.sc_silver.deals_with_campaigns\"))\n"
   ]
  },
  {
   "cell_type": "code",
   "execution_count": 0,
   "metadata": {
    "application/vnd.databricks.v1+cell": {
     "cellMetadata": {
      "byteLimit": 2048000,
      "rowLimit": 10000
     },
     "inputWidgets": {},
     "nuid": "b1692a7c-cc66-43f2-85a4-7a8532afa851",
     "showTitle": false,
     "tableResultSettingsMap": {},
     "title": ""
    }
   },
   "outputs": [],
   "source": [
    "from pyspark.sql import functions as F\n",
    "\n",
    "# Load original table\n",
    "df = spark.table(\"workspace.sc_silver.propostas_realizadas\")\n",
    "\n",
    "# Build SELECT list with aliases (append _propostas_realizadas to each column)\n",
    "select_expr = [F.col(c).alias(f\"{c}_propostas_realizadas\") for c in df.columns]\n",
    "df_renamed = df.select(*select_expr)\n",
    "\n",
    "# Write to a NEW table so you don't overwrite original\n",
    "df_renamed.write.format(\"delta\").mode(\"overwrite\") \\\n",
    "    .saveAsTable(\"workspace.sc_silver.propostas_realizadas_renamed\")\n",
    "\n",
    "# Display the new table\n",
    "display(spark.table(\"workspace.sc_silver.propostas_realizadas_renamed\"))"
   ]
  },
  {
   "cell_type": "code",
   "execution_count": 0,
   "metadata": {
    "application/vnd.databricks.v1+cell": {
     "cellMetadata": {
      "byteLimit": 2048000,
      "rowLimit": 10000
     },
     "inputWidgets": {},
     "nuid": "2ad5d3fe-dec4-4fa8-b138-a61279acb433",
     "showTitle": false,
     "tableResultSettingsMap": {},
     "title": ""
    }
   },
   "outputs": [],
   "source": [
    "#  JOIN propostas_realizadas_renamed with deals_with_campaigns ====\n",
    "\n",
    "# Load both tables\n",
    "df_propostas_renamed = spark.table(\"workspace.sc_silver.propostas_realizadas_renamed\")\n",
    "df_deals_with_campaigns = spark.table(\"workspace.sc_silver.deals_with_campaigns\")\n",
    "\n",
    "# LEFT join from propostas to deals\n",
    "df_joined = df_propostas_renamed.join(\n",
    "    df_deals_with_campaigns,\n",
    "    df_propostas_renamed.id_contacto_propostas_realizadas == df_deals_with_campaigns.id_contacto_deals,\n",
    "    \"left\"\n",
    ")\n",
    "\n",
    "# Save as propostas_with_deals_with_campaigns\n",
    "df_joined.write.format(\"delta\").mode(\"overwrite\") \\\n",
    "    .saveAsTable(\"workspace.sc_silver.propostas_with_deals_with_campaigns\")\n",
    "\n",
    "# Display the result\n",
    "display(spark.table(\"workspace.sc_silver.propostas_with_deals_with_campaigns\"))"
   ]
  },
  {
   "cell_type": "code",
   "execution_count": 0,
   "metadata": {
    "application/vnd.databricks.v1+cell": {
     "cellMetadata": {
      "byteLimit": 2048000,
      "implicitDf": true,
      "rowLimit": 10000
     },
     "inputWidgets": {},
     "nuid": "c4a5ef66-b9ea-4e7e-96a6-21d1139834ac",
     "showTitle": false,
     "tableResultSettingsMap": {},
     "title": ""
    }
   },
   "outputs": [],
   "source": [
    "%sql\n",
    "SELECT *\n",
    "FROM workspace.sc_silver.leads_pbs\n",
    "LIMIT 100;\n"
   ]
  },
  {
   "cell_type": "code",
   "execution_count": 0,
   "metadata": {
    "application/vnd.databricks.v1+cell": {
     "cellMetadata": {
      "byteLimit": 2048000,
      "implicitDf": true,
      "rowLimit": 10000
     },
     "inputWidgets": {},
     "nuid": "0c082d25-b8cd-4e5f-ad04-10e078790e21",
     "showTitle": false,
     "tableResultSettingsMap": {},
     "title": ""
    }
   },
   "outputs": [],
   "source": [
    "%sql\n",
    "SELECT *\n",
    "FROM workspace.sc_silver.contactos_pbs\n",
    "LIMIT 100;\n"
   ]
  },
  {
   "cell_type": "code",
   "execution_count": 0,
   "metadata": {
    "application/vnd.databricks.v1+cell": {
     "cellMetadata": {
      "byteLimit": 2048000,
      "implicitDf": true,
      "rowLimit": 10000
     },
     "inputWidgets": {},
     "nuid": "e72d128a-d830-47bc-821b-06cfa6d6427e",
     "showTitle": false,
     "tableResultSettingsMap": {},
     "title": ""
    }
   },
   "outputs": [],
   "source": [
    "%sql\n",
    "SELECT COUNT(DISTINCT c.id) AS common_unique_ids\n",
    "FROM workspace.sc_silver.contactos_pbs c\n",
    "JOIN workspace.sc_silver.leads_pbs l\n",
    "  ON c.id = l.converted_contact;\n"
   ]
  },
  {
   "cell_type": "code",
   "execution_count": 0,
   "metadata": {
    "application/vnd.databricks.v1+cell": {
     "cellMetadata": {
      "byteLimit": 2048000,
      "implicitDf": true,
      "rowLimit": 10000
     },
     "inputWidgets": {},
     "nuid": "d6d5122c-68ca-4300-ae93-505c20107e88",
     "showTitle": false,
     "tableResultSettingsMap": {},
     "title": ""
    }
   },
   "outputs": [],
   "source": [
    "%sql\n",
    "SELECT \n",
    "  COUNT(DISTINCT c.id) AS common_unique_ids,\n",
    "  COUNT(DISTINCT CASE \n",
    "    WHEN c.data_criacao_da_lead = l.created_time THEN c.id\n",
    "  END) AS common_unique_ids_with_date\n",
    "FROM workspace.sc_silver.contactos_pbs c\n",
    "JOIN workspace.sc_silver.leads_pbs l\n",
    "  ON c.id = l.converted_contact;\n"
   ]
  },
  {
   "cell_type": "code",
   "execution_count": 0,
   "metadata": {
    "application/vnd.databricks.v1+cell": {
     "cellMetadata": {
      "byteLimit": 2048000,
      "rowLimit": 10000
     },
     "inputWidgets": {},
     "nuid": "fe852c52-3991-4d96-ad61-4a3da88ea11b",
     "showTitle": false,
     "tableResultSettingsMap": {},
     "title": ""
    }
   },
   "outputs": [],
   "source": [
    "from pyspark.sql import functions as F\n",
    "\n",
    "# ==== LEADS ====\n",
    "df_leads = spark.table(\"workspace.sc_silver.leads_pbs\")\n",
    "df_leads_renamed = df_leads.select(\n",
    "    *[F.col(c).alias(f\"{c}_leads\") for c in df_leads.columns]\n",
    ")\n",
    "df_leads_renamed.write.format(\"delta\").mode(\"overwrite\") \\\n",
    "    .saveAsTable(\"workspace.sc_silver.leads_renamed\")\n",
    "display(spark.table(\"workspace.sc_silver.leads_renamed\"))\n",
    "\n",
    "# ==== CONTACTOS ====\n",
    "df_contactos = spark.table(\"workspace.sc_silver.contactos_pbs\")\n",
    "df_contactos_renamed = df_contactos.select(\n",
    "    *[F.col(c).alias(f\"{c}_contactos\") for c in df_contactos.columns]\n",
    ")\n",
    "df_contactos_renamed.write.format(\"delta\").mode(\"overwrite\") \\\n",
    "    .saveAsTable(\"workspace.sc_silver.contactos_renamed\")\n",
    "display(spark.table(\"workspace.sc_silver.contactos_renamed\"))\n"
   ]
  },
  {
   "cell_type": "code",
   "execution_count": 0,
   "metadata": {
    "application/vnd.databricks.v1+cell": {
     "cellMetadata": {
      "byteLimit": 2048000,
      "rowLimit": 10000
     },
     "inputWidgets": {},
     "nuid": "4440fa21-9b05-4eb5-a138-2257f6489e94",
     "showTitle": false,
     "tableResultSettingsMap": {},
     "title": ""
    }
   },
   "outputs": [],
   "source": [
    "from pyspark.sql import functions as F\n",
    "\n",
    "# Load both renamed tables\n",
    "df_leads = spark.table(\"workspace.sc_silver.leads_renamed\")\n",
    "df_contactos = spark.table(\"workspace.sc_silver.contactos_renamed\")\n",
    "\n",
    "# LEFT join on both ID and date\n",
    "df_joined = df_leads.join(\n",
    "    df_contactos,\n",
    "    (df_leads.converted_contact_leads == df_contactos.id_contactos) &\n",
    "    (F.to_timestamp(df_leads.created_time_leads, \"dd-MM-yyyy HH:mm\") ==\n",
    "     F.to_timestamp(df_contactos.data_criacao_da_lead_contactos, \"dd-MM-yyyy HH:mm\")),\n",
    "    \"left\"\n",
    ")\n",
    "\n",
    "# Save as a new permanent table\n",
    "df_joined.write.format(\"delta\").mode(\"overwrite\") \\\n",
    "    .saveAsTable(\"workspace.sc_silver.leads_with_contactos\")\n",
    "\n",
    "# Display preview\n",
    "display(spark.table(\"workspace.sc_silver.leads_with_contactos\"))\n"
   ]
  },
  {
   "cell_type": "code",
   "execution_count": 0,
   "metadata": {
    "application/vnd.databricks.v1+cell": {
     "cellMetadata": {
      "byteLimit": 2048000,
      "rowLimit": 10000
     },
     "inputWidgets": {},
     "nuid": "9a41473d-e99b-4d97-ae11-a2e28f53b083",
     "showTitle": false,
     "tableResultSettingsMap": {},
     "title": ""
    }
   },
   "outputs": [],
   "source": [
    "from pyspark.sql import functions as F\n",
    "\n",
    "# Load the new table\n",
    "df_new = spark.table(\"workspace.sc_silver.leads_with_contactos\")\n",
    "\n",
    "# Calculate the counts\n",
    "df_counts = df_new.agg(\n",
    "    F.countDistinct(\"id_contactos\").alias(\"common_unique_ids\"),\n",
    "    F.countDistinct(\n",
    "        F.when(\n",
    "            F.to_timestamp(df_new.data_criacao_da_lead_contactos, \"dd-MM-yyyy HH:mm\") ==\n",
    "            F.to_timestamp(df_new.created_time_leads, \"dd-MM-yyyy HH:mm\"),\n",
    "            df_new.id_contactos\n",
    "        )\n",
    "    ).alias(\"common_unique_ids_with_date\")\n",
    ")\n",
    "\n",
    "df_counts.show()\n"
   ]
  },
  {
   "cell_type": "code",
   "execution_count": 0,
   "metadata": {
    "application/vnd.databricks.v1+cell": {
     "cellMetadata": {
      "byteLimit": 2048000,
      "implicitDf": true,
      "rowLimit": 10000
     },
     "inputWidgets": {},
     "nuid": "154578c7-4b4b-4d53-a7cf-748fc15df069",
     "showTitle": false,
     "tableResultSettingsMap": {
      "0": {
       "dataGridStateBlob": "{\"version\":1,\"tableState\":{\"columnPinning\":{\"left\":[\"#row_number#\"],\"right\":[]},\"columnSizing\":{},\"columnVisibility\":{}},\"settings\":{\"columns\":{}},\"syncTimestamp\":1754779373958}",
       "filterBlob": null,
       "queryPlanFiltersBlob": null,
       "tableResultIndex": 0
      }
     },
     "title": ""
    }
   },
   "outputs": [],
   "source": [
    "%sql\n",
    "\n",
    "SELECT *\n",
    "FROM workspace.sc_silver.propostas_with_deals_with_campaigns\n",
    "LIMIT 100;\n"
   ]
  },
  {
   "cell_type": "code",
   "execution_count": 0,
   "metadata": {
    "application/vnd.databricks.v1+cell": {
     "cellMetadata": {
      "byteLimit": 2048000,
      "implicitDf": true,
      "rowLimit": 10000
     },
     "inputWidgets": {},
     "nuid": "37e5de9d-af4b-41ba-b597-902b8cb138e2",
     "showTitle": false,
     "tableResultSettingsMap": {},
     "title": ""
    }
   },
   "outputs": [],
   "source": [
    "%sql\n",
    "-- First table\n",
    "SELECT *\n",
    "FROM workspace.sc_silver.leads_with_contactos\n",
    "LIMIT 100;\n"
   ]
  },
  {
   "cell_type": "code",
   "execution_count": 0,
   "metadata": {
    "application/vnd.databricks.v1+cell": {
     "cellMetadata": {
      "byteLimit": 2048000,
      "rowLimit": 10000
     },
     "inputWidgets": {},
     "nuid": "52c690d9-c762-4aa5-9458-80b8efe2b71b",
     "showTitle": false,
     "tableResultSettingsMap": {
      "0": {
       "dataGridStateBlob": "{\"version\":1,\"tableState\":{\"columnPinning\":{\"left\":[\"#row_number#\"],\"right\":[]},\"columnSizing\":{},\"columnVisibility\":{}},\"settings\":{\"columns\":{}},\"syncTimestamp\":1754779480970}",
       "filterBlob": null,
       "queryPlanFiltersBlob": null,
       "tableResultIndex": 0
      }
     },
     "title": ""
    }
   },
   "outputs": [],
   "source": [
    "from pyspark.sql import functions as F\n",
    "\n",
    "# Load both tables\n",
    "df_leads_contactos = spark.table(\"workspace.sc_silver.leads_with_contactos\")\n",
    "df_propostas = spark.table(\"workspace.sc_silver.propostas_with_deals_with_campaigns\")\n",
    "\n",
    "# LEFT join on id_contactos vs id_contacto_propostas_realizadas\n",
    "df_funil = df_leads_contactos.join(\n",
    "    df_propostas,\n",
    "    df_leads_contactos.id_contactos == df_propostas.id_contacto_propostas_realizadas,\n",
    "    \"left\"\n",
    ")\n",
    "\n",
    "# Save as permanent table\n",
    "df_funil.write.format(\"delta\").mode(\"overwrite\") \\\n",
    "    .saveAsTable(\"workspace.sc_silver.Funil\")\n",
    "\n",
    "# Preview\n",
    "display(spark.table(\"workspace.sc_silver.Funil\"))\n"
   ]
  },
  {
   "cell_type": "code",
   "execution_count": 0,
   "metadata": {
    "application/vnd.databricks.v1+cell": {
     "cellMetadata": {
      "byteLimit": 2048000,
      "implicitDf": true,
      "rowLimit": 10000
     },
     "inputWidgets": {},
     "nuid": "3512ab46-afb6-4fca-aad1-8d71f9677b5f",
     "showTitle": false,
     "tableResultSettingsMap": {
      "0": {
       "dataGridStateBlob": "{\"version\":1,\"tableState\":{\"columnPinning\":{\"left\":[\"#row_number#\"],\"right\":[]},\"columnSizing\":{\"tableName\":285},\"columnVisibility\":{}},\"settings\":{\"columns\":{}},\"syncTimestamp\":1754781317091}",
       "filterBlob": null,
       "queryPlanFiltersBlob": null,
       "tableResultIndex": 0
      }
     },
     "title": ""
    }
   },
   "outputs": [],
   "source": [
    "%sql\n",
    "SHOW TABLES IN workspace.sc_silver;"
   ]
  },
  {
   "cell_type": "code",
   "execution_count": 0,
   "metadata": {
    "application/vnd.databricks.v1+cell": {
     "cellMetadata": {
      "byteLimit": 2048000,
      "implicitDf": true,
      "rowLimit": 10000
     },
     "inputWidgets": {},
     "nuid": "c977a483-19bb-49ff-b247-6731de4ec0be",
     "showTitle": false,
     "tableResultSettingsMap": {},
     "title": ""
    }
   },
   "outputs": [],
   "source": [
    "%sql\n",
    "-- Drop specific tables\n",
    "DROP TABLE IF EXISTS sc_silver.funil;\n",
    "\n",
    "DROP TABLE IF EXISTS sc_silver.campaigns_renamed;\n",
    "DROP TABLE IF EXISTS sc_silver.contactos_renamed;\n",
    "DROP TABLE IF EXISTS sc_silver.deals_renamed;\n",
    "DROP TABLE IF EXISTS sc_silver.leads_renamed;\n",
    "DROP TABLE IF EXISTS sc_silver.propostas_realizadas_renamed;\n",
    "\n",
    "\n",
    "\n",
    "DROP TABLE IF EXISTS sc_silver.deals_with_campaigns;\n",
    "DROP TABLE IF EXISTS sc_silver.leads_with_contactos;\n",
    "DROP TABLE IF EXISTS sc_silver.propostas_with_deals_with_campaigns;\n"
   ]
  },
  {
   "cell_type": "code",
   "execution_count": 0,
   "metadata": {
    "application/vnd.databricks.v1+cell": {
     "cellMetadata": {
      "byteLimit": 2048000,
      "implicitDf": true,
      "rowLimit": 10000
     },
     "inputWidgets": {},
     "nuid": "96de7a31-4f7b-492c-b025-18e9d6f1e9c0",
     "showTitle": false,
     "tableResultSettingsMap": {},
     "title": ""
    }
   },
   "outputs": [],
   "source": [
    "%sql\n",
    "DROP TABLE IF EXISTS sc_silver.campaigns_cleaned;\n",
    "DROP TABLE IF EXISTS sc_silver.contactos_cleaned;\n",
    "DROP TABLE IF EXISTS sc_silver.deals_cleaned;\n",
    "DROP TABLE IF EXISTS sc_silver.leads_cleaned;\n",
    "DROP TABLE IF EXISTS sc_silver.propostas_realizadas_cleaned;"
   ]
  },
  {
   "cell_type": "code",
   "execution_count": 0,
   "metadata": {
    "application/vnd.databricks.v1+cell": {
     "cellMetadata": {
      "byteLimit": 2048000,
      "implicitDf": true,
      "rowLimit": 10000
     },
     "inputWidgets": {},
     "nuid": "b87722d8-b179-47e3-9ce2-27a9197501ec",
     "showTitle": false,
     "tableResultSettingsMap": {},
     "title": ""
    }
   },
   "outputs": [],
   "source": [
    "%sql\n",
    "DROP TABLE IF EXISTS sc_silver.bd_rede_hyundai_cleaned;\n",
    "DROP TABLE IF EXISTS sc_silver.campanha_vouchers_cleaned;\n",
    "DROP TABLE IF EXISTS sc_silver.campanhas_tecnicas_cleaned;\n",
    "DROP TABLE IF EXISTS sc_silver.contactos_importador_pbs_cleaned;\n",
    "DROP TABLE IF EXISTS sc_silver.contratos_financiamento_cleaned;\n",
    "DROP TABLE IF EXISTS sc_silver.viaturas_cleaned;\n",
    "DROP TABLE IF EXISTS sc_silver.viaturas_demo_cleaned;"
   ]
  },
  {
   "cell_type": "code",
   "execution_count": 0,
   "metadata": {
    "application/vnd.databricks.v1+cell": {
     "cellMetadata": {
      "byteLimit": 2048000,
      "rowLimit": 10000
     },
     "inputWidgets": {},
     "nuid": "39f0a509-6f6a-4113-9824-5fd8c190a066",
     "showTitle": false,
     "tableResultSettingsMap": {},
     "title": ""
    }
   },
   "outputs": [],
   "source": [
    "from pyspark.sql import functions as F\n",
    "from pyspark.sql.types import (\n",
    "    StringType, DoubleType, FloatType\n",
    ")\n",
    "\n",
    "# Load table\n",
    "df = spark.table(\"sc_silver.funil\")\n",
    "\n",
    "total_rows = df.count()\n",
    "if total_rows == 0:\n",
    "    spark.createDataFrame([], \"column string, blank_pct double\").show()\n",
    "else:\n",
    "    # Build one aggregation per column\n",
    "    agg_exprs = []\n",
    "    col_names = []\n",
    "    for field in df.schema.fields:\n",
    "        c = field.name\n",
    "        dt = field.dataType\n",
    "\n",
    "        if isinstance(dt, StringType):\n",
    "            # NULL or empty/whitespace\n",
    "            cond = F.col(c).isNull() | (F.length(F.trim(F.col(c))) == 0)\n",
    "        elif isinstance(dt, (DoubleType, FloatType)):\n",
    "            # NULL or NaN\n",
    "            cond = F.col(c).isNull() | F.isnan(F.col(c))\n",
    "        else:\n",
    "            # Other types: only NULL counts as blank\n",
    "            cond = F.col(c).isNull()\n",
    "\n",
    "        agg_exprs.append(F.round(F.avg(F.when(cond, 1).otherwise(0)) * 100, 4).alias(c))\n",
    "        col_names.append(c)\n",
    "\n",
    "    # One row with % per column\n",
    "    pct_row = df.agg(*agg_exprs)\n",
    "\n",
    "    # Reshape to (column, blank_pct)\n",
    "    stack_expr = \", \".join([f\"'{c}', `{c}`\" for c in col_names])\n",
    "    tidy = pct_row.selectExpr(f\"stack({len(col_names)}, {stack_expr}) as (column, blank_pct)\")\n",
    "\n",
    "    tidy.orderBy(F.desc(\"blank_pct\")).show(truncate=False)\n"
   ]
  },
  {
   "cell_type": "code",
   "execution_count": 0,
   "metadata": {
    "application/vnd.databricks.v1+cell": {
     "cellMetadata": {
      "byteLimit": 2048000,
      "rowLimit": 10000
     },
     "inputWidgets": {},
     "nuid": "102ff5ee-7ba3-4546-bd56-42a865ad6231",
     "showTitle": false,
     "tableResultSettingsMap": {},
     "title": ""
    }
   },
   "outputs": [],
   "source": [
    "tidy.orderBy(F.desc(\"blank_pct\")).show(n=tidy.count(), truncate=False)\n"
   ]
  },
  {
   "cell_type": "code",
   "execution_count": 0,
   "metadata": {
    "application/vnd.databricks.v1+cell": {
     "cellMetadata": {
      "byteLimit": 2048000,
      "rowLimit": 10000
     },
     "inputWidgets": {},
     "nuid": "abd47814-4ddc-4912-94cb-48585ea718d6",
     "showTitle": false,
     "tableResultSettingsMap": {},
     "title": ""
    }
   },
   "outputs": [],
   "source": [
    "from pyspark.sql import functions as F\n",
    "from pyspark.sql.types import StringType, DoubleType, FloatType\n",
    "\n",
    "tables = [\n",
    "    \"bd_rede_hyundai\",\n",
    "    \"campanha_vouchers\",\n",
    "    \"campanhas_tecnicas\",\n",
    "    \"contactos_importador_pbs\",\n",
    "    \"contratos_financiamento\",\n",
    "    \"historico_de_servicos\",\n",
    "    \"viaturas\",\n",
    "    \"viaturas_demo\"\n",
    "]\n",
    "\n",
    "def blank_percentage_for_table(table_name):\n",
    "    print(f\"=== Processing table: {table_name} ===\")\n",
    "    df = spark.table(f\"sc_silver.{table_name}\")\n",
    "    total_rows = df.count()\n",
    "\n",
    "    if total_rows == 0:\n",
    "        print(f\"Table {table_name} is empty.\")\n",
    "        return spark.createDataFrame([], \"column string, blank_pct double\")\n",
    "\n",
    "    agg_exprs = []\n",
    "    col_names = []\n",
    "\n",
    "    for field in df.schema.fields:\n",
    "        c = field.name\n",
    "        dt = field.dataType\n",
    "\n",
    "        if isinstance(dt, StringType):\n",
    "            cond = F.col(c).isNull() | (F.length(F.trim(F.col(c))) == 0)\n",
    "        elif isinstance(dt, (DoubleType, FloatType)):\n",
    "            cond = F.col(c).isNull() | F.isnan(F.col(c))\n",
    "        else:\n",
    "            cond = F.col(c).isNull()\n",
    "\n",
    "        agg_exprs.append(F.round(F.avg(F.when(cond, 1).otherwise(0)) * 100, 4).alias(c))\n",
    "        col_names.append(c)\n",
    "\n",
    "    pct_row = df.agg(*agg_exprs)\n",
    "    stack_expr = \", \".join([f\"'{c}', `{c}`\" for c in col_names])\n",
    "    tidy = pct_row.selectExpr(f\"stack({len(col_names)}, {stack_expr}) as (column, blank_pct)\")\n",
    "\n",
    "    return tidy.orderBy(F.desc(\"blank_pct\"))\n",
    "\n",
    "# Loop through all tables and show results\n",
    "for tbl in tables:\n",
    "    result_df = blank_percentage_for_table(tbl)\n",
    "    result_df.show(n=result_df.count(), truncate=False)\n"
   ]
  },
  {
   "cell_type": "code",
   "execution_count": 0,
   "metadata": {
    "application/vnd.databricks.v1+cell": {
     "cellMetadata": {
      "byteLimit": 2048000,
      "implicitDf": true,
      "rowLimit": 10000
     },
     "inputWidgets": {},
     "nuid": "b546f921-6dfc-415d-b098-7e6298743bc8",
     "showTitle": false,
     "tableResultSettingsMap": {},
     "title": ""
    }
   },
   "outputs": [],
   "source": [
    "%sql\n",
    "-- Step 1: Enable column mapping (only needs to be done once for this table)\n",
    "ALTER TABLE sc_silver.campanha_vouchers\n",
    "  SET TBLPROPERTIES ('delta.columnMapping.mode' = 'name');\n",
    "\n",
    "-- Optional: ensure minimum protocol version\n",
    "ALTER TABLE sc_silver.campanha_vouchers\n",
    "  SET TBLPROPERTIES ('delta.minReaderVersion'='2','delta.minWriterVersion'='5');\n",
    "\n",
    "-- Step 2: Drop the columns individually (with IF EXISTS to avoid errors)\n",
    "ALTER TABLE sc_silver.campanha_vouchers DROP COLUMN IF EXISTS email;\n",
    "ALTER TABLE sc_silver.campanha_vouchers DROP COLUMN IF EXISTS unsubscribed_time;\n",
    "ALTER TABLE sc_silver.campanha_vouchers DROP COLUMN IF EXISTS tag;\n",
    "ALTER TABLE sc_silver.campanha_vouchers DROP COLUMN IF EXISTS secondary_email;\n",
    "ALTER TABLE sc_silver.campanha_vouchers DROP COLUMN IF EXISTS unsubscribed_mode;\n"
   ]
  },
  {
   "cell_type": "code",
   "execution_count": 0,
   "metadata": {
    "application/vnd.databricks.v1+cell": {
     "cellMetadata": {
      "byteLimit": 2048000,
      "implicitDf": true,
      "rowLimit": 10000
     },
     "inputWidgets": {},
     "nuid": "bd06977a-4bec-4109-b166-d6f07ae65e8c",
     "showTitle": false,
     "tableResultSettingsMap": {},
     "title": ""
    }
   },
   "outputs": [],
   "source": [
    "%sql\n",
    "-- Step 1: Enable column mapping (only once per table)\n",
    "ALTER TABLE sc_silver.campanhas_tecnicas\n",
    "  SET TBLPROPERTIES ('delta.columnMapping.mode' = 'name');\n",
    "\n",
    "-- Optional: ensure minimum protocol version\n",
    "ALTER TABLE sc_silver.campanhas_tecnicas\n",
    "  SET TBLPROPERTIES ('delta.minReaderVersion'='2','delta.minWriterVersion'='5');\n",
    "\n",
    "-- Step 2: Drop columns individually (IF EXISTS avoids errors if missing)\n",
    "ALTER TABLE sc_silver.campanhas_tecnicas DROP COLUMN IF EXISTS email;\n",
    "ALTER TABLE sc_silver.campanhas_tecnicas DROP COLUMN IF EXISTS unsubscribed_mode;\n",
    "ALTER TABLE sc_silver.campanhas_tecnicas DROP COLUMN IF EXISTS tag;\n",
    "ALTER TABLE sc_silver.campanhas_tecnicas DROP COLUMN IF EXISTS unsubscribed_time;\n",
    "ALTER TABLE sc_silver.campanhas_tecnicas DROP COLUMN IF EXISTS secondary_email;\n"
   ]
  },
  {
   "cell_type": "code",
   "execution_count": 0,
   "metadata": {
    "application/vnd.databricks.v1+cell": {
     "cellMetadata": {
      "byteLimit": 2048000,
      "implicitDf": true,
      "rowLimit": 10000
     },
     "inputWidgets": {},
     "nuid": "8551050c-b736-4f8d-b37c-e5d9992d4c76",
     "showTitle": false,
     "tableResultSettingsMap": {},
     "title": ""
    }
   },
   "outputs": [],
   "source": [
    "%sql\n",
    "-- Step 1: Enable column mapping (only once for this table)\n",
    "ALTER TABLE sc_silver.contactos_importador_pbs\n",
    "  SET TBLPROPERTIES ('delta.columnMapping.mode' = 'name');\n",
    "\n",
    "-- Optional: ensure minimum protocol version\n",
    "ALTER TABLE sc_silver.contactos_importador_pbs\n",
    "  SET TBLPROPERTIES ('delta.minReaderVersion'='2','delta.minWriterVersion'='5');\n",
    "\n",
    "-- Step 2: Drop columns individually (use IF EXISTS to avoid errors if missing)\n",
    "ALTER TABLE sc_silver.contactos_importador_pbs DROP COLUMN IF EXISTS city;\n",
    "ALTER TABLE sc_silver.contactos_importador_pbs DROP COLUMN IF EXISTS chave_instalacao_bd_rede;\n",
    "ALTER TABLE sc_silver.contactos_importador_pbs DROP COLUMN IF EXISTS instalacao;\n",
    "ALTER TABLE sc_silver.contactos_importador_pbs DROP COLUMN IF EXISTS ticket_suporte;\n",
    "ALTER TABLE sc_silver.contactos_importador_pbs DROP COLUMN IF EXISTS tag;\n",
    "ALTER TABLE sc_silver.contactos_importador_pbs DROP COLUMN IF EXISTS region;\n",
    "ALTER TABLE sc_silver.contactos_importador_pbs DROP COLUMN IF EXISTS country;\n",
    "ALTER TABLE sc_silver.contactos_importador_pbs DROP COLUMN IF EXISTS pioneiros_myhyundai;\n",
    "ALTER TABLE sc_silver.contactos_importador_pbs DROP COLUMN IF EXISTS chave_concessao_bd_rede;\n",
    "ALTER TABLE sc_silver.contactos_importador_pbs DROP COLUMN IF EXISTS equipa;\n",
    "ALTER TABLE sc_silver.contactos_importador_pbs DROP COLUMN IF EXISTS formulario;\n"
   ]
  },
  {
   "cell_type": "code",
   "execution_count": 0,
   "metadata": {
    "application/vnd.databricks.v1+cell": {
     "cellMetadata": {
      "byteLimit": 2048000,
      "implicitDf": true,
      "rowLimit": 10000
     },
     "inputWidgets": {},
     "nuid": "54231200-2eba-4355-9bb5-7311146198fd",
     "showTitle": false,
     "tableResultSettingsMap": {},
     "title": ""
    }
   },
   "outputs": [],
   "source": [
    "%sql\n",
    "-- Step 1: Enable column mapping (only once for this table)\n",
    "ALTER TABLE sc_silver.contratos_financiamento\n",
    "  SET TBLPROPERTIES ('delta.columnMapping.mode' = 'name');\n",
    "\n",
    "-- Optional: ensure minimum protocol version\n",
    "ALTER TABLE sc_silver.contratos_financiamento\n",
    "  SET TBLPROPERTIES ('delta.minReaderVersion'='2','delta.minWriterVersion'='5');\n",
    "\n",
    "-- Step 2: Drop columns individually (use IF EXISTS to avoid errors if missing)\n",
    "ALTER TABLE sc_silver.contratos_financiamento DROP COLUMN IF EXISTS secondary_email;\n",
    "ALTER TABLE sc_silver.contratos_financiamento DROP COLUMN IF EXISTS unsubscribed_mode;\n",
    "ALTER TABLE sc_silver.contratos_financiamento DROP COLUMN IF EXISTS unsubscribed_time;\n",
    "ALTER TABLE sc_silver.contratos_financiamento DROP COLUMN IF EXISTS valor_residual_da_viatura;\n",
    "ALTER TABLE sc_silver.contratos_financiamento DROP COLUMN IF EXISTS tag;\n"
   ]
  },
  {
   "cell_type": "code",
   "execution_count": 0,
   "metadata": {
    "application/vnd.databricks.v1+cell": {
     "cellMetadata": {
      "byteLimit": 2048000,
      "implicitDf": true,
      "rowLimit": 10000
     },
     "inputWidgets": {},
     "nuid": "bf3daabb-787d-40e1-9cae-49046607b150",
     "showTitle": false,
     "tableResultSettingsMap": {},
     "title": ""
    }
   },
   "outputs": [],
   "source": [
    "%sql\n",
    "-- Step 1: Enable column mapping (only once for this table)\n",
    "ALTER TABLE sc_silver.viaturas\n",
    "  SET TBLPROPERTIES ('delta.columnMapping.mode' = 'name');\n",
    "\n",
    "-- Optional: ensure minimum protocol version\n",
    "ALTER TABLE sc_silver.viaturas\n",
    "  SET TBLPROPERTIES ('delta.minReaderVersion'='2','delta.minWriterVersion'='5');\n",
    "\n",
    "-- Step 2: Drop columns individually (use IF EXISTS to avoid errors if missing)\n",
    "ALTER TABLE sc_silver.viaturas DROP COLUMN IF EXISTS description_dtc_5;\n",
    "ALTER TABLE sc_silver.viaturas DROP COLUMN IF EXISTS secondary_email;\n",
    "ALTER TABLE sc_silver.viaturas DROP COLUMN IF EXISTS description_dtc_1;\n",
    "ALTER TABLE sc_silver.viaturas DROP COLUMN IF EXISTS description_dtc_10;\n",
    "ALTER TABLE sc_silver.viaturas DROP COLUMN IF EXISTS description_dtc_4;\n",
    "ALTER TABLE sc_silver.viaturas DROP COLUMN IF EXISTS n__da_fatura;\n",
    "ALTER TABLE sc_silver.viaturas DROP COLUMN IF EXISTS description_dtc_7;\n",
    "ALTER TABLE sc_silver.viaturas DROP COLUMN IF EXISTS email;\n",
    "ALTER TABLE sc_silver.viaturas DROP COLUMN IF EXISTS preco_unit_venda;\n",
    "ALTER TABLE sc_silver.viaturas DROP COLUMN IF EXISTS description_dtc_6;\n",
    "ALTER TABLE sc_silver.viaturas DROP COLUMN IF EXISTS n__dav;\n",
    "ALTER TABLE sc_silver.viaturas DROP COLUMN IF EXISTS canal_de_venda;\n",
    "ALTER TABLE sc_silver.viaturas DROP COLUMN IF EXISTS financeira_da_viatura;\n",
    "ALTER TABLE sc_silver.viaturas DROP COLUMN IF EXISTS description_dtc_8;\n",
    "ALTER TABLE sc_silver.viaturas DROP COLUMN IF EXISTS description_dtc_3;\n",
    "ALTER TABLE sc_silver.viaturas DROP COLUMN IF EXISTS unsubscribed_time;\n",
    "ALTER TABLE sc_silver.viaturas DROP COLUMN IF EXISTS dealer_name;\n",
    "ALTER TABLE sc_silver.viaturas DROP COLUMN IF EXISTS description_dtc_9;\n",
    "ALTER TABLE sc_silver.viaturas DROP COLUMN IF EXISTS dealer_code;\n",
    "ALTER TABLE sc_silver.viaturas DROP COLUMN IF EXISTS origem_viatura;\n",
    "ALTER TABLE sc_silver.viaturas DROP COLUMN IF EXISTS cod_postal_concessao;\n",
    "ALTER TABLE sc_silver.viaturas DROP COLUMN IF EXISTS description_dtc_2;\n",
    "ALTER TABLE sc_silver.viaturas DROP COLUMN IF EXISTS endereco_concessao;\n",
    "ALTER TABLE sc_silver.viaturas DROP COLUMN IF EXISTS unsubscribed_mode;\n",
    "ALTER TABLE sc_silver.viaturas DROP COLUMN IF EXISTS tem_contrato_de_manutencao;\n",
    "ALTER TABLE sc_silver.viaturas DROP COLUMN IF EXISTS tag;\n",
    "ALTER TABLE sc_silver.viaturas DROP COLUMN IF EXISTS extensao_de_garantia;\n"
   ]
  },
  {
   "cell_type": "code",
   "execution_count": 0,
   "metadata": {
    "application/vnd.databricks.v1+cell": {
     "cellMetadata": {
      "byteLimit": 2048000,
      "implicitDf": true,
      "rowLimit": 10000
     },
     "inputWidgets": {},
     "nuid": "158949d6-2900-497f-8c19-0540d5059c86",
     "showTitle": false,
     "tableResultSettingsMap": {},
     "title": ""
    }
   },
   "outputs": [],
   "source": [
    "%sql\n",
    "-- Step 1: Enable column mapping (only once for this table)\n",
    "ALTER TABLE sc_silver.viaturas_demo\n",
    "  SET TBLPROPERTIES ('delta.columnMapping.mode' = 'name');\n",
    "\n",
    "-- Optional: ensure minimum protocol version\n",
    "ALTER TABLE sc_silver.viaturas_demo\n",
    "  SET TBLPROPERTIES ('delta.minReaderVersion'='2','delta.minWriterVersion'='5');\n",
    "\n",
    "-- Step 2: Drop columns individually (use IF EXISTS to avoid errors if missing)\n",
    "ALTER TABLE sc_silver.viaturas_demo DROP COLUMN IF EXISTS preco_base;\n",
    "ALTER TABLE sc_silver.viaturas_demo DROP COLUMN IF EXISTS email;\n",
    "ALTER TABLE sc_silver.viaturas_demo DROP COLUMN IF EXISTS pintura;\n",
    "ALTER TABLE sc_silver.viaturas_demo DROP COLUMN IF EXISTS secondary_email;\n",
    "ALTER TABLE sc_silver.viaturas_demo DROP COLUMN IF EXISTS unsubscribed_mode;\n",
    "ALTER TABLE sc_silver.viaturas_demo DROP COLUMN IF EXISTS iva;\n",
    "ALTER TABLE sc_silver.viaturas_demo DROP COLUMN IF EXISTS isv;\n",
    "ALTER TABLE sc_silver.viaturas_demo DROP COLUMN IF EXISTS unsubscribed_time;\n",
    "ALTER TABLE sc_silver.viaturas_demo DROP COLUMN IF EXISTS motivo;\n",
    "ALTER TABLE sc_silver.viaturas_demo DROP COLUMN IF EXISTS sgpu;\n",
    "ALTER TABLE sc_silver.viaturas_demo DROP COLUMN IF EXISTS tag;\n"
   ]
  },
  {
   "cell_type": "code",
   "execution_count": 0,
   "metadata": {
    "application/vnd.databricks.v1+cell": {
     "cellMetadata": {
      "byteLimit": 2048000,
      "implicitDf": true,
      "rowLimit": 10000
     },
     "inputWidgets": {},
     "nuid": "3a09a8c8-ded9-4279-9734-87d0d1e462a5",
     "showTitle": false,
     "tableResultSettingsMap": {
      "0": {
       "dataGridStateBlob": "{\"version\":1,\"tableState\":{\"columnPinning\":{\"left\":[\"#row_number#\"],\"right\":[]},\"columnSizing\":{\"_fivetran_id\":115,\"row_names\":90,\"id\":204,\"aftersales_performance_grouping_dt_changed\":403,\"nif\":141,\"objectid____\":193},\"columnVisibility\":{}},\"settings\":{\"columns\":{}},\"syncTimestamp\":1755251121024}",
       "filterBlob": null,
       "queryPlanFiltersBlob": null,
       "tableResultIndex": 0
      }
     },
     "title": ""
    }
   },
   "outputs": [],
   "source": [
    "%sql\n",
    "SELECT * FROM sc_silver.bd_rede_hyundai;"
   ]
  },
  {
   "cell_type": "code",
   "execution_count": 0,
   "metadata": {
    "application/vnd.databricks.v1+cell": {
     "cellMetadata": {
      "byteLimit": 2048000,
      "implicitDf": true,
      "rowLimit": 10000
     },
     "inputWidgets": {},
     "nuid": "bf7db9c3-a6f3-4cbf-a3ac-de82e5302d28",
     "showTitle": false,
     "tableResultSettingsMap": {},
     "title": ""
    }
   },
   "outputs": [],
   "source": [
    "%sql\n",
    "SELECT * FROM sc_silver.campanha_vouchers;"
   ]
  },
  {
   "cell_type": "code",
   "execution_count": 0,
   "metadata": {
    "application/vnd.databricks.v1+cell": {
     "cellMetadata": {
      "byteLimit": 2048000,
      "implicitDf": true,
      "rowLimit": 10000
     },
     "inputWidgets": {},
     "nuid": "31860eda-6da3-46bd-8e9b-54db7ad5e38a",
     "showTitle": false,
     "tableResultSettingsMap": {},
     "title": ""
    }
   },
   "outputs": [],
   "source": [
    "%sql\n",
    "SELECT * FROM sc_silver.campanhas_tecnicas;"
   ]
  },
  {
   "cell_type": "code",
   "execution_count": 0,
   "metadata": {
    "application/vnd.databricks.v1+cell": {
     "cellMetadata": {
      "byteLimit": 2048000,
      "implicitDf": true,
      "rowLimit": 10000
     },
     "inputWidgets": {},
     "nuid": "e43bba88-1c6e-49f6-834c-327b281f2a99",
     "showTitle": false,
     "tableResultSettingsMap": {},
     "title": ""
    }
   },
   "outputs": [],
   "source": [
    "%sql\n",
    "SELECT * FROM sc_silver.contactos_importador_pbs;"
   ]
  },
  {
   "cell_type": "code",
   "execution_count": 0,
   "metadata": {
    "application/vnd.databricks.v1+cell": {
     "cellMetadata": {
      "byteLimit": 2048000,
      "implicitDf": true,
      "rowLimit": 10000
     },
     "inputWidgets": {},
     "nuid": "3df4acea-89f5-4076-ab58-07c0088a9eea",
     "showTitle": false,
     "tableResultSettingsMap": {},
     "title": ""
    }
   },
   "outputs": [],
   "source": [
    "%sql\n",
    "SELECT * FROM sc_silver.contactos_pbs;"
   ]
  },
  {
   "cell_type": "code",
   "execution_count": 0,
   "metadata": {
    "application/vnd.databricks.v1+cell": {
     "cellMetadata": {
      "byteLimit": 2048000,
      "implicitDf": true,
      "rowLimit": 10000
     },
     "inputWidgets": {},
     "nuid": "bd4486f1-6115-4ed0-971c-ea9588728174",
     "showTitle": false,
     "tableResultSettingsMap": {},
     "title": ""
    }
   },
   "outputs": [],
   "source": [
    "%sql\n",
    "SELECT * FROM sc_silver.contas_importador_pbs;"
   ]
  },
  {
   "cell_type": "code",
   "execution_count": 0,
   "metadata": {
    "application/vnd.databricks.v1+cell": {
     "cellMetadata": {
      "byteLimit": 2048000,
      "implicitDf": true,
      "rowLimit": 10000
     },
     "inputWidgets": {},
     "nuid": "e1bb6844-a80f-46fd-81cc-738937394b08",
     "showTitle": false,
     "tableResultSettingsMap": {},
     "title": ""
    }
   },
   "outputs": [],
   "source": [
    "%sql\n",
    "SELECT * FROM sc_silver.contas_pbs;"
   ]
  },
  {
   "cell_type": "code",
   "execution_count": 0,
   "metadata": {
    "application/vnd.databricks.v1+cell": {
     "cellMetadata": {
      "byteLimit": 2048000,
      "implicitDf": true,
      "rowLimit": 10000
     },
     "inputWidgets": {},
     "nuid": "382c3ef1-1c8b-496c-a458-38274e6a1e4a",
     "showTitle": false,
     "tableResultSettingsMap": {},
     "title": ""
    }
   },
   "outputs": [],
   "source": [
    "%sql\n",
    "SELECT * FROM sc_silver.contratos_financiamento;"
   ]
  },
  {
   "cell_type": "code",
   "execution_count": 0,
   "metadata": {
    "application/vnd.databricks.v1+cell": {
     "cellMetadata": {
      "byteLimit": 2048000,
      "implicitDf": true,
      "rowLimit": 10000
     },
     "inputWidgets": {},
     "nuid": "124e9bb7-2445-4d2f-957f-b186666d3d34",
     "showTitle": false,
     "tableResultSettingsMap": {},
     "title": ""
    }
   },
   "outputs": [],
   "source": [
    "%sql\n",
    "SELECT * FROM sc_silver.deals;"
   ]
  },
  {
   "cell_type": "code",
   "execution_count": 0,
   "metadata": {
    "application/vnd.databricks.v1+cell": {
     "cellMetadata": {
      "byteLimit": 2048000,
      "implicitDf": true,
      "rowLimit": 10000
     },
     "inputWidgets": {},
     "nuid": "23f63356-8a1d-4693-82f9-17cefe7884c9",
     "showTitle": false,
     "tableResultSettingsMap": {},
     "title": ""
    }
   },
   "outputs": [],
   "source": [
    "%sql\n",
    "SELECT * FROM sc_silver.historico_de_servicos;"
   ]
  },
  {
   "cell_type": "code",
   "execution_count": 0,
   "metadata": {
    "application/vnd.databricks.v1+cell": {
     "cellMetadata": {
      "byteLimit": 2048000,
      "implicitDf": true,
      "rowLimit": 10000
     },
     "inputWidgets": {},
     "nuid": "f83d8e43-9728-4a53-9e4e-9586871efb97",
     "showTitle": false,
     "tableResultSettingsMap": {
      "0": {
       "dataGridStateBlob": "{\"version\":1,\"tableState\":{\"columnPinning\":{\"left\":[\"#row_number#\"],\"right\":[]},\"columnSizing\":{\"tipo_de_lead\":184},\"columnVisibility\":{}},\"settings\":{\"columns\":{}},\"syncTimestamp\":1755257565839}",
       "filterBlob": null,
       "queryPlanFiltersBlob": null,
       "tableResultIndex": 0
      }
     },
     "title": ""
    }
   },
   "outputs": [],
   "source": [
    "%sql\n",
    "SELECT * FROM sc_silver.leads_pbs;"
   ]
  },
  {
   "cell_type": "code",
   "execution_count": 0,
   "metadata": {
    "application/vnd.databricks.v1+cell": {
     "cellMetadata": {
      "byteLimit": 2048000,
      "implicitDf": true,
      "rowLimit": 10000
     },
     "inputWidgets": {},
     "nuid": "3a6670a8-eaea-42ff-bdc7-03d3428f7a2b",
     "showTitle": false,
     "tableResultSettingsMap": {},
     "title": ""
    }
   },
   "outputs": [],
   "source": [
    "%sql\n",
    "SELECT * FROM sc_silver.propostas_realizadas;"
   ]
  },
  {
   "cell_type": "code",
   "execution_count": 0,
   "metadata": {
    "application/vnd.databricks.v1+cell": {
     "cellMetadata": {
      "byteLimit": 2048000,
      "implicitDf": true,
      "rowLimit": 10000
     },
     "inputWidgets": {},
     "nuid": "070c4055-aaae-4d1d-95a8-1f366ebb432b",
     "showTitle": false,
     "tableResultSettingsMap": {
      "0": {
       "dataGridStateBlob": "{\"version\":1,\"tableState\":{\"columnPinning\":{\"left\":[\"#row_number#\"],\"right\":[]},\"columnSizing\":{\"viatura_owner_name\":238},\"columnVisibility\":{}},\"settings\":{\"columns\":{}},\"syncTimestamp\":1755257914620}",
       "filterBlob": null,
       "queryPlanFiltersBlob": null,
       "tableResultIndex": 0
      }
     },
     "title": ""
    }
   },
   "outputs": [],
   "source": [
    "%sql\n",
    "SELECT * FROM sc_silver.viaturas;"
   ]
  },
  {
   "cell_type": "code",
   "execution_count": 0,
   "metadata": {
    "application/vnd.databricks.v1+cell": {
     "cellMetadata": {
      "byteLimit": 2048000,
      "implicitDf": true,
      "rowLimit": 10000
     },
     "inputWidgets": {},
     "nuid": "f626932f-3330-4a22-a3a6-5e55f7f11762",
     "showTitle": false,
     "tableResultSettingsMap": {
      "0": {
       "dataGridStateBlob": "{\"version\":1,\"tableState\":{\"columnPinning\":{\"left\":[\"#row_number#\"],\"right\":[]},\"columnSizing\":{},\"columnVisibility\":{}},\"settings\":{\"columns\":{}},\"syncTimestamp\":1755259697892}",
       "filterBlob": null,
       "queryPlanFiltersBlob": null,
       "tableResultIndex": 0
      }
     },
     "title": ""
    }
   },
   "outputs": [],
   "source": [
    "%sql\n",
    "SELECT * FROM sc_silver.viaturas_demo;"
   ]
  },
  {
   "cell_type": "code",
   "execution_count": 0,
   "metadata": {
    "application/vnd.databricks.v1+cell": {
     "cellMetadata": {
      "byteLimit": 2048000,
      "implicitDf": true,
      "rowLimit": 10000
     },
     "inputWidgets": {},
     "nuid": "13117a0f-2f9b-4713-affe-66401adc6da5",
     "showTitle": false,
     "tableResultSettingsMap": {},
     "title": ""
    }
   },
   "outputs": [],
   "source": [
    "%sql\n",
    "-- Step 1: Enable column mapping (only once for this table)\n",
    "ALTER TABLE sc_silver.bd_rede_hyundai\n",
    "  SET TBLPROPERTIES ('delta.columnMapping.mode' = 'name');\n",
    "\n",
    "-- Optional: ensure minimum protocol version\n",
    "ALTER TABLE sc_silver.bd_rede_hyundai\n",
    "  SET TBLPROPERTIES ('delta.minReaderVersion'='2','delta.minWriterVersion'='5');\n",
    "\n",
    "-- Step 2: Drop columns individually (use IF EXISTS to avoid errors if missing)\n",
    "ALTER TABLE sc_silver.bd_rede_hyundai DROP COLUMN IF EXISTS row_names;\n",
    "ALTER TABLE sc_silver.bd_rede_hyundai DROP COLUMN IF EXISTS aftersales_performance_grouping_dt_changed;\n",
    "ALTER TABLE sc_silver.bd_rede_hyundai DROP COLUMN IF EXISTS modified_time;\n",
    "ALTER TABLE sc_silver.bd_rede_hyundai DROP COLUMN IF EXISTS last_activity_time;\n",
    "ALTER TABLE sc_silver.bd_rede_hyundai DROP COLUMN IF EXISTS sales_area_manager_dt_changed;\n",
    "ALTER TABLE sc_silver.bd_rede_hyundai DROP COLUMN IF EXISTS aftersales_area_manager_code;\n",
    "ALTER TABLE sc_silver.bd_rede_hyundai DROP COLUMN IF EXISTS aftersales_area_manager_dt_changed;\n",
    "ALTER TABLE sc_silver.bd_rede_hyundai DROP COLUMN IF EXISTS sales_team_code;\n",
    "ALTER TABLE sc_silver.bd_rede_hyundai DROP COLUMN IF EXISTS aftersales_team_code;\n",
    "ALTER TABLE sc_silver.bd_rede_hyundai DROP COLUMN IF EXISTS sales_team_dt_changed;\n",
    "ALTER TABLE sc_silver.bd_rede_hyundai DROP COLUMN IF EXISTS billing_client_nav_code;\n",
    "ALTER TABLE sc_silver.bd_rede_hyundai DROP COLUMN IF EXISTS aftersales_team_dt_changed;\n",
    "ALTER TABLE sc_silver.bd_rede_hyundai DROP COLUMN IF EXISTS billing_client_nav_value;\n",
    "ALTER TABLE sc_silver.bd_rede_hyundai DROP COLUMN IF EXISTS nif_grouping_code;\n",
    "ALTER TABLE sc_silver.bd_rede_hyundai DROP COLUMN IF EXISTS nif_grouping_value;\n",
    "ALTER TABLE sc_silver.bd_rede_hyundai DROP COLUMN IF EXISTS nif_grouping_dt_changed;\n",
    "ALTER TABLE sc_silver.bd_rede_hyundai DROP COLUMN IF EXISTS nif;\n",
    "ALTER TABLE sc_silver.bd_rede_hyundai DROP COLUMN IF EXISTS billing_client_nav_dt_changed;\n",
    "ALTER TABLE sc_silver.bd_rede_hyundai DROP COLUMN IF EXISTS dealer_contract_code;\n",
    "ALTER TABLE sc_silver.bd_rede_hyundai DROP COLUMN IF EXISTS sales_performance_grouping_code;\n",
    "ALTER TABLE sc_silver.bd_rede_hyundai DROP COLUMN IF EXISTS dealer_contract_dt_changed;\n",
    "ALTER TABLE sc_silver.bd_rede_hyundai DROP COLUMN IF EXISTS aftersales_performance_grouping_code;\n",
    "ALTER TABLE sc_silver.bd_rede_hyundai DROP COLUMN IF EXISTS sales_performance_grouping_dt_changed;\n",
    "ALTER TABLE sc_silver.bd_rede_hyundai DROP COLUMN IF EXISTS cp3;\n",
    "ALTER TABLE sc_silver.bd_rede_hyundai DROP COLUMN IF EXISTS cp4;\n",
    "ALTER TABLE sc_silver.bd_rede_hyundai DROP COLUMN IF EXISTS client_group_code;\n",
    "ALTER TABLE sc_silver.bd_rede_hyundai DROP COLUMN IF EXISTS client_group_dt_changed;\n",
    "ALTER TABLE sc_silver.bd_rede_hyundai DROP COLUMN IF EXISTS _fivetran_index;\n"
   ]
  },
  {
   "cell_type": "code",
   "execution_count": 0,
   "metadata": {
    "application/vnd.databricks.v1+cell": {
     "cellMetadata": {
      "byteLimit": 2048000,
      "implicitDf": true,
      "rowLimit": 10000
     },
     "inputWidgets": {},
     "nuid": "84e33b12-ff09-4975-a79c-684f086ab68e",
     "showTitle": false,
     "tableResultSettingsMap": {},
     "title": ""
    }
   },
   "outputs": [],
   "source": [
    "%sql\n",
    "-- Step 1: Enable column mapping (only once for this table)\n",
    "ALTER TABLE sc_silver.campanha_vouchers\n",
    "  SET TBLPROPERTIES ('delta.columnMapping.mode' = 'name');\n",
    "\n",
    "-- Optional: ensure minimum protocol version\n",
    "ALTER TABLE sc_silver.campanha_vouchers\n",
    "  SET TBLPROPERTIES ('delta.minReaderVersion'='2','delta.minWriterVersion'='5');\n",
    "\n",
    "-- Step 2: Drop columns individually (use IF EXISTS to avoid errors if missing)\n",
    "ALTER TABLE sc_silver.campanha_vouchers DROP COLUMN IF EXISTS row_names;\n",
    "ALTER TABLE sc_silver.campanha_vouchers DROP COLUMN IF EXISTS email_opt_out;\n",
    "ALTER TABLE sc_silver.campanha_vouchers DROP COLUMN IF EXISTS last_activity_time;\n",
    "ALTER TABLE sc_silver.campanha_vouchers DROP COLUMN IF EXISTS modified_time;\n",
    "ALTER TABLE sc_silver.campanha_vouchers DROP COLUMN IF EXISTS _fivetran_index;\n"
   ]
  },
  {
   "cell_type": "code",
   "execution_count": 0,
   "metadata": {
    "application/vnd.databricks.v1+cell": {
     "cellMetadata": {
      "byteLimit": 2048000,
      "implicitDf": true,
      "rowLimit": 10000
     },
     "inputWidgets": {},
     "nuid": "a8aebd20-ac41-4344-a233-70e99dfee355",
     "showTitle": false,
     "tableResultSettingsMap": {},
     "title": ""
    }
   },
   "outputs": [],
   "source": [
    "%sql\n",
    "-- Step 1: Enable column mapping (only once for this table)\n",
    "ALTER TABLE sc_silver.campanhas_tecnicas\n",
    "  SET TBLPROPERTIES ('delta.columnMapping.mode' = 'name');\n",
    "\n",
    "-- Optional: ensure minimum protocol version\n",
    "ALTER TABLE sc_silver.campanhas_tecnicas\n",
    "  SET TBLPROPERTIES ('delta.minReaderVersion'='2','delta.minWriterVersion'='5');\n",
    "\n",
    "-- Step 2: Drop columns individually (use IF EXISTS to avoid errors if missing)\n",
    "ALTER TABLE sc_silver.campanhas_tecnicas DROP COLUMN IF EXISTS last_activity_time;\n",
    "ALTER TABLE sc_silver.campanhas_tecnicas DROP COLUMN IF EXISTS modified_time;\n",
    "ALTER TABLE sc_silver.campanhas_tecnicas DROP COLUMN IF EXISTS row_names;\n",
    "ALTER TABLE sc_silver.campanhas_tecnicas DROP COLUMN IF EXISTS _fivetran_index;\n",
    "ALTER TABLE sc_silver.campanhas_tecnicas DROP COLUMN IF EXISTS campanha_tecnica_owner_name;\n",
    "ALTER TABLE sc_silver.campanhas_tecnicas DROP COLUMN IF EXISTS atualizarlink;\n",
    "ALTER TABLE sc_silver.campanhas_tecnicas DROP COLUMN IF EXISTS ckd_plant;\n",
    "ALTER TABLE sc_silver.campanhas_tecnicas DROP COLUMN IF EXISTS email_opt_out;\n",
    "ALTER TABLE sc_silver.campanhas_tecnicas DROP COLUMN IF EXISTS visiting_owner;\n",
    "ALTER TABLE sc_silver.campanhas_tecnicas DROP COLUMN IF EXISTS odometer_type;\n"
   ]
  },
  {
   "cell_type": "code",
   "execution_count": 0,
   "metadata": {
    "application/vnd.databricks.v1+cell": {
     "cellMetadata": {
      "byteLimit": 2048000,
      "implicitDf": true,
      "rowLimit": 10000
     },
     "inputWidgets": {},
     "nuid": "3249fb8a-7c70-4dca-af75-ef3e5e3e0c90",
     "showTitle": false,
     "tableResultSettingsMap": {},
     "title": ""
    }
   },
   "outputs": [],
   "source": [
    "%sql\n",
    "-- Step 1: Enable column mapping (only once for this table)\n",
    "ALTER TABLE sc_silver.contactos_importador_pbs\n",
    "  SET TBLPROPERTIES ('delta.columnMapping.mode' = 'name');\n",
    "\n",
    "-- Optional: ensure minimum protocol version\n",
    "ALTER TABLE sc_silver.contactos_importador_pbs\n",
    "  SET TBLPROPERTIES ('delta.minReaderVersion'='2','delta.minWriterVersion'='5');\n",
    "\n",
    "-- Step 2: Drop columns individually (use IF EXISTS to avoid errors if missing)\n",
    "ALTER TABLE sc_silver.contactos_importador_pbs DROP COLUMN IF EXISTS row_names;\n",
    "ALTER TABLE sc_silver.contactos_importador_pbs DROP COLUMN IF EXISTS apelido;\n",
    "ALTER TABLE sc_silver.contactos_importador_pbs DROP COLUMN IF EXISTS contacto_importador_owner_name;\n",
    "ALTER TABLE sc_silver.contactos_importador_pbs DROP COLUMN IF EXISTS email;\n",
    "ALTER TABLE sc_silver.contactos_importador_pbs DROP COLUMN IF EXISTS secondary_email;\n",
    "ALTER TABLE sc_silver.contactos_importador_pbs DROP COLUMN IF EXISTS last_activity_time;\n",
    "ALTER TABLE sc_silver.contactos_importador_pbs DROP COLUMN IF EXISTS modified_time;\n",
    "ALTER TABLE sc_silver.contactos_importador_pbs DROP COLUMN IF EXISTS telemovel;\n",
    "ALTER TABLE sc_silver.contactos_importador_pbs DROP COLUMN IF EXISTS telefone;\n",
    "ALTER TABLE sc_silver.contactos_importador_pbs DROP COLUMN IF EXISTS nif;\n",
    "ALTER TABLE sc_silver.contactos_importador_pbs DROP COLUMN IF EXISTS morada;\n",
    "ALTER TABLE sc_silver.contactos_importador_pbs DROP COLUMN IF EXISTS codigo_postal;\n",
    "ALTER TABLE sc_silver.contactos_importador_pbs DROP COLUMN IF EXISTS localidade;\n",
    "ALTER TABLE sc_silver.contactos_importador_pbs DROP COLUMN IF EXISTS login_myhyundai;\n",
    "ALTER TABLE sc_silver.contactos_importador_pbs DROP COLUMN IF EXISTS cctemp;\n",
    "ALTER TABLE sc_silver.contactos_importador_pbs DROP COLUMN IF EXISTS atualizacao_cc_manual;\n",
    "ALTER TABLE sc_silver.contactos_importador_pbs DROP COLUMN IF EXISTS nao_atualizar_concessao;\n",
    "ALTER TABLE sc_silver.contactos_importador_pbs DROP COLUMN IF EXISTS ultimo_login;\n",
    "ALTER TABLE sc_silver.contactos_importador_pbs DROP COLUMN IF EXISTS unsubscribed_mode;\n",
    "ALTER TABLE sc_silver.contactos_importador_pbs DROP COLUMN IF EXISTS unsubscribed_time;\n",
    "ALTER TABLE sc_silver.contactos_importador_pbs DROP COLUMN IF EXISTS domain;\n",
    "ALTER TABLE sc_silver.contactos_importador_pbs DROP COLUMN IF EXISTS domain_age_days;\n",
    "ALTER TABLE sc_silver.contactos_importador_pbs DROP COLUMN IF EXISTS enviar_sms;\n",
    "ALTER TABLE sc_silver.contactos_importador_pbs DROP COLUMN IF EXISTS _fivetran_index;\n",
    "ALTER TABLE sc_silver.contactos_importador_pbs DROP COLUMN IF EXISTS sub_status;\n",
    "ALTER TABLE sc_silver.contactos_importador_pbs DROP COLUMN IF EXISTS smptp_provider;\n",
    "ALTER TABLE sc_silver.contactos_importador_pbs DROP COLUMN IF EXISTS rgpd_art_17;\n",
    "ALTER TABLE sc_silver.contactos_importador_pbs DROP COLUMN IF EXISTS mx_record;\n",
    "ALTER TABLE sc_silver.contactos_importador_pbs DROP COLUMN IF EXISTS tipo_de_pedido;\n",
    "ALTER TABLE sc_silver.contactos_importador_pbs DROP COLUMN IF EXISTS genero;\n",
    "ALTER TABLE sc_silver.contactos_importador_pbs DROP COLUMN IF EXISTS age;\n"
   ]
  },
  {
   "cell_type": "code",
   "execution_count": 0,
   "metadata": {
    "application/vnd.databricks.v1+cell": {
     "cellMetadata": {
      "byteLimit": 2048000,
      "implicitDf": true,
      "rowLimit": 10000
     },
     "inputWidgets": {},
     "nuid": "f85dfc59-1d74-4a31-b573-b942cc776f44",
     "showTitle": false,
     "tableResultSettingsMap": {},
     "title": ""
    }
   },
   "outputs": [],
   "source": [
    "%sql\n",
    "-- Step 1: Enable column mapping (only once for this table)\n",
    "ALTER TABLE sc_silver.contactos_pbs\n",
    "  SET TBLPROPERTIES ('delta.columnMapping.mode' = 'name');\n",
    "\n",
    "-- Optional: ensure minimum protocol version\n",
    "ALTER TABLE sc_silver.contactos_pbs\n",
    "  SET TBLPROPERTIES ('delta.minReaderVersion'='2','delta.minWriterVersion'='5');\n",
    "\n",
    "-- Step 2: Drop columns individually (use IF EXISTS to avoid errors if missing)\n",
    "ALTER TABLE sc_silver.contactos_pbs DROP COLUMN IF EXISTS last_activity_time;\n",
    "ALTER TABLE sc_silver.contactos_pbs DROP COLUMN IF EXISTS modified_time;\n",
    "ALTER TABLE sc_silver.contactos_pbs DROP COLUMN IF EXISTS data_de_validade_de_consentimento_hyundai;\n",
    "ALTER TABLE sc_silver.contactos_pbs DROP COLUMN IF EXISTS _fivetran_index;\n",
    "ALTER TABLE sc_silver.contactos_pbs DROP COLUMN IF EXISTS corporate;\n"
   ]
  },
  {
   "cell_type": "code",
   "execution_count": 0,
   "metadata": {
    "application/vnd.databricks.v1+cell": {
     "cellMetadata": {
      "byteLimit": 2048000,
      "implicitDf": true,
      "rowLimit": 10000
     },
     "inputWidgets": {},
     "nuid": "31a62171-9cc3-4d19-99e3-d5db7ab8cdad",
     "showTitle": false,
     "tableResultSettingsMap": {},
     "title": ""
    }
   },
   "outputs": [],
   "source": [
    "%sql\n",
    "-- Step 1: Enable column mapping (only once for this table)\n",
    "ALTER TABLE sc_silver.contas_importador_pbs\n",
    "  SET TBLPROPERTIES ('delta.columnMapping.mode' = 'name');\n",
    "\n",
    "-- Optional: ensure minimum protocol version\n",
    "ALTER TABLE sc_silver.contas_importador_pbs\n",
    "  SET TBLPROPERTIES ('delta.minReaderVersion'='2','delta.minWriterVersion'='5');\n",
    "\n",
    "-- Step 2: Drop columns individually (use IF EXISTS to avoid errors if missing)\n",
    "ALTER TABLE sc_silver.contas_importador_pbs DROP COLUMN IF EXISTS row_names;\n",
    "ALTER TABLE sc_silver.contas_importador_pbs DROP COLUMN IF EXISTS conta_importador_name;\n",
    "ALTER TABLE sc_silver.contas_importador_pbs DROP COLUMN IF EXISTS conta_importador_owner_name;\n",
    "ALTER TABLE sc_silver.contas_importador_pbs DROP COLUMN IF EXISTS modified_time;\n",
    "ALTER TABLE sc_silver.contas_importador_pbs DROP COLUMN IF EXISTS last_activity_time;\n",
    "ALTER TABLE sc_silver.contas_importador_pbs DROP COLUMN IF EXISTS tag;\n",
    "ALTER TABLE sc_silver.contas_importador_pbs DROP COLUMN IF EXISTS motivo;\n",
    "ALTER TABLE sc_silver.contas_importador_pbs DROP COLUMN IF EXISTS localidade;\n",
    "ALTER TABLE sc_silver.contas_importador_pbs DROP COLUMN IF EXISTS morada;\n",
    "ALTER TABLE sc_silver.contas_importador_pbs DROP COLUMN IF EXISTS concelho;\n",
    "ALTER TABLE sc_silver.contas_importador_pbs DROP COLUMN IF EXISTS codigo_postal;\n",
    "ALTER TABLE sc_silver.contas_importador_pbs DROP COLUMN IF EXISTS formulario;\n",
    "ALTER TABLE sc_silver.contas_importador_pbs DROP COLUMN IF EXISTS nipc;\n",
    "ALTER TABLE sc_silver.contas_importador_pbs DROP COLUMN IF EXISTS e_mail_da_empresa;\n",
    "ALTER TABLE sc_silver.contas_importador_pbs DROP COLUMN IF EXISTS telephone_da_empresa;\n",
    "ALTER TABLE sc_silver.contas_importador_pbs DROP COLUMN IF EXISTS _fivetran_index;\n"
   ]
  },
  {
   "cell_type": "code",
   "execution_count": 0,
   "metadata": {
    "application/vnd.databricks.v1+cell": {
     "cellMetadata": {
      "byteLimit": 2048000,
      "implicitDf": true,
      "rowLimit": 10000
     },
     "inputWidgets": {},
     "nuid": "78a4491f-3683-4647-963d-fd9b1880c179",
     "showTitle": false,
     "tableResultSettingsMap": {},
     "title": ""
    }
   },
   "outputs": [],
   "source": [
    "%sql\n",
    "-- Step 1: Enable column mapping (only once for this table)\n",
    "ALTER TABLE sc_silver.contas_pbs\n",
    "  SET TBLPROPERTIES ('delta.columnMapping.mode' = 'name');\n",
    "\n",
    "-- Optional: ensure minimum protocol version\n",
    "ALTER TABLE sc_silver.contas_pbs\n",
    "  SET TBLPROPERTIES ('delta.minReaderVersion'='2','delta.minWriterVersion'='5');\n",
    "\n",
    "-- Step 2: Drop columns individually (use IF EXISTS to avoid errors if missing)\n",
    "ALTER TABLE sc_silver.contas_pbs DROP COLUMN IF EXISTS _fivetran_index;\n",
    "ALTER TABLE sc_silver.contas_pbs DROP COLUMN IF EXISTS row_names;\n",
    "ALTER TABLE sc_silver.contas_pbs DROP COLUMN IF EXISTS conta_name;\n",
    "ALTER TABLE sc_silver.contas_pbs DROP COLUMN IF EXISTS nipc;\n",
    "ALTER TABLE sc_silver.contas_pbs DROP COLUMN IF EXISTS tag;\n",
    "ALTER TABLE sc_silver.contas_pbs DROP COLUMN IF EXISTS e_mail_da_empresa;\n",
    "ALTER TABLE sc_silver.contas_pbs DROP COLUMN IF EXISTS telefone_da_empresa;\n",
    "ALTER TABLE sc_silver.contas_pbs DROP COLUMN IF EXISTS morada;\n",
    "ALTER TABLE sc_silver.contas_pbs DROP COLUMN IF EXISTS corporate;\n"
   ]
  },
  {
   "cell_type": "code",
   "execution_count": 0,
   "metadata": {
    "application/vnd.databricks.v1+cell": {
     "cellMetadata": {
      "byteLimit": 2048000,
      "implicitDf": true,
      "rowLimit": 10000
     },
     "inputWidgets": {},
     "nuid": "c32bdb96-76f6-410b-b264-0b1dddccffbf",
     "showTitle": false,
     "tableResultSettingsMap": {},
     "title": ""
    }
   },
   "outputs": [],
   "source": [
    "%sql\n",
    "-- Step 1: Enable column mapping (only once for this table)\n",
    "ALTER TABLE sc_silver.contratos_financiamento\n",
    "  SET TBLPROPERTIES ('delta.columnMapping.mode' = 'name');\n",
    "\n",
    "-- Optional: ensure minimum protocol version\n",
    "ALTER TABLE sc_silver.contratos_financiamento\n",
    "  SET TBLPROPERTIES ('delta.minReaderVersion'='2','delta.minWriterVersion'='5');\n",
    "\n",
    "-- Step 2: Drop columns individually (use IF EXISTS to avoid errors if missing)\n",
    "ALTER TABLE sc_silver.contratos_financiamento DROP COLUMN IF EXISTS row_names;\n",
    "ALTER TABLE sc_silver.contratos_financiamento DROP COLUMN IF EXISTS modified_time;\n",
    "ALTER TABLE sc_silver.contratos_financiamento DROP COLUMN IF EXISTS email_opt_out;\n",
    "ALTER TABLE sc_silver.contratos_financiamento DROP COLUMN IF EXISTS last_activity_time;\n",
    "ALTER TABLE sc_silver.contratos_financiamento DROP COLUMN IF EXISTS contratos_financiamento_owner_name;\n",
    "ALTER TABLE sc_silver.contratos_financiamento DROP COLUMN IF EXISTS n_;\n",
    "ALTER TABLE sc_silver.contratos_financiamento DROP COLUMN IF EXISTS auto_lead;\n",
    "ALTER TABLE sc_silver.contratos_financiamento DROP COLUMN IF EXISTS vat_reclaimable;\n",
    "ALTER TABLE sc_silver.contratos_financiamento DROP COLUMN IF EXISTS _fivetran_index;\n"
   ]
  },
  {
   "cell_type": "code",
   "execution_count": 0,
   "metadata": {
    "application/vnd.databricks.v1+cell": {
     "cellMetadata": {
      "byteLimit": 2048000,
      "implicitDf": true,
      "rowLimit": 10000
     },
     "inputWidgets": {},
     "nuid": "554ee661-c229-498e-8228-413d26640c88",
     "showTitle": false,
     "tableResultSettingsMap": {},
     "title": ""
    }
   },
   "outputs": [],
   "source": [
    "%sql\n",
    "-- Step 1: Enable column mapping (only once for this table)\n",
    "ALTER TABLE sc_silver.deals\n",
    "  SET TBLPROPERTIES ('delta.columnMapping.mode' = 'name');\n",
    "\n",
    "-- Optional: ensure minimum protocol version\n",
    "ALTER TABLE sc_silver.deals\n",
    "  SET TBLPROPERTIES ('delta.minReaderVersion'='2','delta.minWriterVersion'='5');\n",
    "\n",
    "-- Step 2: Drop columns individually (use IF EXISTS to avoid errors if missing)\n",
    "ALTER TABLE sc_silver.deals DROP COLUMN IF EXISTS data_de_matricula;\n",
    "ALTER TABLE sc_silver.deals DROP COLUMN IF EXISTS task_created;\n",
    "ALTER TABLE sc_silver.deals DROP COLUMN IF EXISTS corporate;\n",
    "ALTER TABLE sc_silver.deals DROP COLUMN IF EXISTS _fivetran_index;\n"
   ]
  },
  {
   "cell_type": "code",
   "execution_count": 0,
   "metadata": {
    "application/vnd.databricks.v1+cell": {
     "cellMetadata": {
      "byteLimit": 2048000,
      "implicitDf": true,
      "rowLimit": 10000
     },
     "inputWidgets": {},
     "nuid": "8a38d278-7eee-4601-994e-9606f6c5818e",
     "showTitle": false,
     "tableResultSettingsMap": {},
     "title": ""
    }
   },
   "outputs": [],
   "source": [
    "%sql\n",
    "-- Step 1: Enable column mapping (only once for this table)\n",
    "ALTER TABLE sc_silver.historico_de_servicos\n",
    "  SET TBLPROPERTIES ('delta.columnMapping.mode' = 'name');\n",
    "\n",
    "-- Optional: ensure minimum protocol version\n",
    "ALTER TABLE sc_silver.historico_de_servicos\n",
    "  SET TBLPROPERTIES ('delta.minReaderVersion'='2','delta.minWriterVersion'='5');\n",
    "\n",
    "-- Step 2: Drop columns individually (use IF EXISTS to avoid errors if missing)\n",
    "ALTER TABLE sc_silver.historico_de_servicos DROP COLUMN IF EXISTS row_names;\n",
    "ALTER TABLE sc_silver.historico_de_servicos DROP COLUMN IF EXISTS servico_pos_venda_owner_name;\n",
    "ALTER TABLE sc_silver.historico_de_servicos DROP COLUMN IF EXISTS modified_time;\n",
    "ALTER TABLE sc_silver.historico_de_servicos DROP COLUMN IF EXISTS last_activity_time;\n",
    "ALTER TABLE sc_silver.historico_de_servicos DROP COLUMN IF EXISTS detalhe_spv;\n",
    "ALTER TABLE sc_silver.historico_de_servicos DROP COLUMN IF EXISTS email_opt_out;\n",
    "ALTER TABLE sc_silver.historico_de_servicos DROP COLUMN IF EXISTS spv_duplicado;\n",
    "ALTER TABLE sc_silver.historico_de_servicos DROP COLUMN IF EXISTS _fivetran_index;\n"
   ]
  },
  {
   "cell_type": "code",
   "execution_count": 0,
   "metadata": {
    "application/vnd.databricks.v1+cell": {
     "cellMetadata": {
      "byteLimit": 2048000,
      "implicitDf": true,
      "rowLimit": 10000
     },
     "inputWidgets": {},
     "nuid": "2a1b3748-9732-44bd-8b00-9102a478e62e",
     "showTitle": false,
     "tableResultSettingsMap": {},
     "title": ""
    }
   },
   "outputs": [],
   "source": [
    "%sql\n",
    "-- Step 1: Enable column mapping (only once for this table)\n",
    "ALTER TABLE sc_silver.leads_pbs\n",
    "  SET TBLPROPERTIES ('delta.columnMapping.mode' = 'name');\n",
    "\n",
    "-- Optional: ensure minimum protocol version\n",
    "ALTER TABLE sc_silver.leads_pbs\n",
    "  SET TBLPROPERTIES ('delta.minReaderVersion'='2','delta.minWriterVersion'='5');\n",
    "\n",
    "-- Step 2: Drop columns individually (use IF EXISTS to avoid errors if missing)\n",
    "ALTER TABLE sc_silver.leads_pbs DROP COLUMN IF EXISTS modified_time;\n",
    "ALTER TABLE sc_silver.leads_pbs DROP COLUMN IF EXISTS last_activity_time;\n",
    "ALTER TABLE sc_silver.leads_pbs DROP COLUMN IF EXISTS email_opt_out;\n",
    "ALTER TABLE sc_silver.leads_pbs DROP COLUMN IF EXISTS tipo_de_lead;\n",
    "ALTER TABLE sc_silver.leads_pbs DROP COLUMN IF EXISTS _fivetran_index;\n"
   ]
  },
  {
   "cell_type": "code",
   "execution_count": 0,
   "metadata": {
    "application/vnd.databricks.v1+cell": {
     "cellMetadata": {
      "byteLimit": 2048000,
      "implicitDf": true,
      "rowLimit": 10000
     },
     "inputWidgets": {},
     "nuid": "294846b3-a20f-4158-aea8-8196f00e8aa5",
     "showTitle": false,
     "tableResultSettingsMap": {},
     "title": ""
    }
   },
   "outputs": [],
   "source": [
    "%sql\n",
    "-- Step 1: Enable column mapping (only once for this table)\n",
    "ALTER TABLE sc_silver.propostas_realizadas\n",
    "  SET TBLPROPERTIES ('delta.columnMapping.mode' = 'name');\n",
    "\n",
    "-- Optional: ensure minimum protocol version\n",
    "ALTER TABLE sc_silver.propostas_realizadas\n",
    "  SET TBLPROPERTIES ('delta.minReaderVersion'='2','delta.minWriterVersion'='5');\n",
    "\n",
    "-- Step 2: Drop columns individually (use IF EXISTS to avoid errors if missing)\n",
    "ALTER TABLE sc_silver.propostas_realizadas DROP COLUMN IF EXISTS sub_total;\n",
    "ALTER TABLE sc_silver.propostas_realizadas DROP COLUMN IF EXISTS grand_total;\n",
    "ALTER TABLE sc_silver.propostas_realizadas DROP COLUMN IF EXISTS _fivetran_index;\n"
   ]
  },
  {
   "cell_type": "code",
   "execution_count": 0,
   "metadata": {
    "application/vnd.databricks.v1+cell": {
     "cellMetadata": {
      "byteLimit": 2048000,
      "implicitDf": true,
      "rowLimit": 10000
     },
     "inputWidgets": {},
     "nuid": "6a066fec-b92d-423d-8472-91f59318a087",
     "showTitle": false,
     "tableResultSettingsMap": {},
     "title": ""
    }
   },
   "outputs": [],
   "source": [
    "%sql\n",
    "-- Step 1: Enable column mapping (only once for this table)\n",
    "ALTER TABLE sc_silver.viaturas\n",
    "  SET TBLPROPERTIES ('delta.columnMapping.mode' = 'name');\n",
    "\n",
    "-- Optional: ensure minimum protocol version\n",
    "ALTER TABLE sc_silver.viaturas\n",
    "  SET TBLPROPERTIES ('delta.minReaderVersion'='2','delta.minWriterVersion'='5');\n",
    "\n",
    "-- Step 2: Drop columns individually (use IF EXISTS to avoid errors if missing)\n",
    "ALTER TABLE sc_silver.viaturas DROP COLUMN IF EXISTS row_names;\n",
    "ALTER TABLE sc_silver.viaturas DROP COLUMN IF EXISTS modified_time;\n",
    "ALTER TABLE sc_silver.viaturas DROP COLUMN IF EXISTS last_activity_time;\n",
    "ALTER TABLE sc_silver.viaturas DROP COLUMN IF EXISTS extensao_promocional;\n",
    "ALTER TABLE sc_silver.viaturas DROP COLUMN IF EXISTS check_test;\n",
    "ALTER TABLE sc_silver.viaturas DROP COLUMN IF EXISTS _fivetran_index;\n",
    "ALTER TABLE sc_silver.viaturas DROP COLUMN IF EXISTS gwms_verificado;\n",
    "ALTER TABLE sc_silver.viaturas DROP COLUMN IF EXISTS wltp_co2;\n"
   ]
  },
  {
   "cell_type": "code",
   "execution_count": 0,
   "metadata": {
    "application/vnd.databricks.v1+cell": {
     "cellMetadata": {
      "byteLimit": 2048000,
      "implicitDf": true,
      "rowLimit": 10000
     },
     "inputWidgets": {},
     "nuid": "c6b16235-5f48-4df9-8615-7f2dc787bd15",
     "showTitle": false,
     "tableResultSettingsMap": {},
     "title": ""
    }
   },
   "outputs": [],
   "source": [
    "%sql\n",
    "-- Step 1: Enable column mapping (only once for this table)\n",
    "ALTER TABLE sc_silver.viaturas_demo\n",
    "  SET TBLPROPERTIES ('delta.columnMapping.mode' = 'name');\n",
    "\n",
    "-- Optional: ensure minimum protocol version\n",
    "ALTER TABLE sc_silver.viaturas_demo\n",
    "  SET TBLPROPERTIES ('delta.minReaderVersion'='2','delta.minWriterVersion'='5');\n",
    "\n",
    "-- Step 2: Drop columns individually (use IF EXISTS to avoid errors if missing)\n",
    "ALTER TABLE sc_silver.viaturas_demo DROP COLUMN IF EXISTS row_names;\n",
    "ALTER TABLE sc_silver.viaturas_demo DROP COLUMN IF EXISTS email_opt_out;\n",
    "ALTER TABLE sc_silver.viaturas_demo DROP COLUMN IF EXISTS _fivetran_index;\n"
   ]
  },
  {
   "cell_type": "code",
   "execution_count": 0,
   "metadata": {
    "application/vnd.databricks.v1+cell": {
     "cellMetadata": {
      "byteLimit": 2048000,
      "rowLimit": 10000
     },
     "inputWidgets": {},
     "nuid": "a15386ac-ee50-42cd-be82-ddc5aed4d8f4",
     "showTitle": false,
     "tableResultSettingsMap": {},
     "title": ""
    }
   },
   "outputs": [],
   "source": [
    "from pyspark.sql import functions as F\n",
    "from pyspark.sql.types import (\n",
    "    StringType, DoubleType, FloatType\n",
    ")\n",
    "\n",
    "# Load table\n",
    "df = spark.table(\"sc_silver.bd_rede_hyundai\")\n",
    "\n",
    "total_rows = df.count()\n",
    "if total_rows == 0:\n",
    "    spark.createDataFrame([], \"column string, blank_pct double\").show()\n",
    "else:\n",
    "    # Build one aggregation per column\n",
    "    agg_exprs = []\n",
    "    col_names = []\n",
    "    for field in df.schema.fields:\n",
    "        c = field.name\n",
    "        dt = field.dataType\n",
    "\n",
    "        if isinstance(dt, StringType):\n",
    "            # NULL or empty/whitespace\n",
    "            cond = F.col(c).isNull() | (F.length(F.trim(F.col(c))) == 0)\n",
    "        elif isinstance(dt, (DoubleType, FloatType)):\n",
    "            # NULL or NaN\n",
    "            cond = F.col(c).isNull() | F.isnan(F.col(c))\n",
    "        else:\n",
    "            # Other types: only NULL counts as blank\n",
    "            cond = F.col(c).isNull()\n",
    "\n",
    "        agg_exprs.append(F.round(F.avg(F.when(cond, 1).otherwise(0)) * 100, 4).alias(c))\n",
    "        col_names.append(c)\n",
    "\n",
    "    # One row with % per column\n",
    "    pct_row = df.agg(*agg_exprs)\n",
    "\n",
    "    # Reshape to (column, blank_pct)\n",
    "    stack_expr = \", \".join([f\"'{c}', `{c}`\" for c in col_names])\n",
    "    tidy = pct_row.selectExpr(f\"stack({len(col_names)}, {stack_expr}) as (column, blank_pct)\")\n",
    "\n",
    "    tidy.orderBy(F.desc(\"blank_pct\")).show(truncate=False)\n"
   ]
  },
  {
   "cell_type": "code",
   "execution_count": 0,
   "metadata": {
    "application/vnd.databricks.v1+cell": {
     "cellMetadata": {
      "byteLimit": 2048000,
      "rowLimit": 10000
     },
     "inputWidgets": {},
     "nuid": "bf3e9639-7c53-42f4-a4a6-44345fb85ea2",
     "showTitle": false,
     "tableResultSettingsMap": {},
     "title": ""
    }
   },
   "outputs": [],
   "source": [
    "from pyspark.sql import functions as F\n",
    "from pyspark.sql.types import (\n",
    "    StringType, DoubleType, FloatType\n",
    ")\n",
    "\n",
    "# Load table\n",
    "df = spark.table(\"sc_silver.campaigns\")\n",
    "\n",
    "total_rows = df.count()\n",
    "if total_rows == 0:\n",
    "    spark.createDataFrame([], \"column string, blank_pct double\").show()\n",
    "else:\n",
    "    # Build one aggregation per column\n",
    "    agg_exprs = []\n",
    "    col_names = []\n",
    "    for field in df.schema.fields:\n",
    "        c = field.name\n",
    "        dt = field.dataType\n",
    "\n",
    "        if isinstance(dt, StringType):\n",
    "            # NULL or empty/whitespace\n",
    "            cond = F.col(c).isNull() | (F.length(F.trim(F.col(c))) == 0)\n",
    "        elif isinstance(dt, (DoubleType, FloatType)):\n",
    "            # NULL or NaN\n",
    "            cond = F.col(c).isNull() | F.isnan(F.col(c))\n",
    "        else:\n",
    "            # Other types: only NULL counts as blank\n",
    "            cond = F.col(c).isNull()\n",
    "\n",
    "        agg_exprs.append(F.round(F.avg(F.when(cond, 1).otherwise(0)) * 100, 4).alias(c))\n",
    "        col_names.append(c)\n",
    "\n",
    "    # One row with % per column\n",
    "    pct_row = df.agg(*agg_exprs)\n",
    "\n",
    "    # Reshape to (column, blank_pct)\n",
    "    stack_expr = \", \".join([f\"'{c}', `{c}`\" for c in col_names])\n",
    "    tidy = pct_row.selectExpr(f\"stack({len(col_names)}, {stack_expr}) as (column, blank_pct)\")\n",
    "\n",
    "    tidy.orderBy(F.desc(\"blank_pct\")).show(truncate=False)\n"
   ]
  },
  {
   "cell_type": "code",
   "execution_count": 0,
   "metadata": {
    "application/vnd.databricks.v1+cell": {
     "cellMetadata": {
      "byteLimit": 2048000,
      "implicitDf": true,
      "rowLimit": 10000
     },
     "inputWidgets": {},
     "nuid": "923732e3-eb4e-421a-9b4e-81711e0cc4c6",
     "showTitle": false,
     "tableResultSettingsMap": {},
     "title": ""
    }
   },
   "outputs": [],
   "source": [
    "%sql\n",
    "-- Step 1: Enable column mapping (only once for this table)\n",
    "ALTER TABLE sc_silver.campaigns\n",
    "  SET TBLPROPERTIES ('delta.columnMapping.mode' = 'name');\n",
    "\n",
    "-- Optional: ensure minimum protocol version\n",
    "ALTER TABLE  sc_silver.campaigns\n",
    "  SET TBLPROPERTIES ('delta.minReaderVersion'='2','delta.minWriterVersion'='5');\n",
    "\n",
    "-- Step 2: Drop columns individually (use IF EXISTS to avoid errors if missing)\n",
    "\n",
    "ALTER TABLE  sc_silver.campaigns DROP COLUMN IF EXISTS _fivetran_index;\n"
   ]
  },
  {
   "cell_type": "code",
   "execution_count": 0,
   "metadata": {
    "application/vnd.databricks.v1+cell": {
     "cellMetadata": {
      "byteLimit": 2048000,
      "rowLimit": 10000
     },
     "inputWidgets": {},
     "nuid": "b89a271b-db6c-43eb-8760-fe6d4afc056f",
     "showTitle": false,
     "tableResultSettingsMap": {},
     "title": ""
    }
   },
   "outputs": [],
   "source": [
    "from pyspark.sql import functions as F\n",
    "from pyspark.sql.types import (\n",
    "    StringType, DoubleType, FloatType\n",
    ")\n",
    "\n",
    "# Load table\n",
    "df = spark.table(\"sc_silver.campanha_vouchers\")\n",
    "\n",
    "total_rows = df.count()\n",
    "if total_rows == 0:\n",
    "    spark.createDataFrame([], \"column string, blank_pct double\").show()\n",
    "else:\n",
    "    # Build one aggregation per column\n",
    "    agg_exprs = []\n",
    "    col_names = []\n",
    "    for field in df.schema.fields:\n",
    "        c = field.name\n",
    "        dt = field.dataType\n",
    "\n",
    "        if isinstance(dt, StringType):\n",
    "            # NULL or empty/whitespace\n",
    "            cond = F.col(c).isNull() | (F.length(F.trim(F.col(c))) == 0)\n",
    "        elif isinstance(dt, (DoubleType, FloatType)):\n",
    "            # NULL or NaN\n",
    "            cond = F.col(c).isNull() | F.isnan(F.col(c))\n",
    "        else:\n",
    "            # Other types: only NULL counts as blank\n",
    "            cond = F.col(c).isNull()\n",
    "\n",
    "        agg_exprs.append(F.round(F.avg(F.when(cond, 1).otherwise(0)) * 100, 4).alias(c))\n",
    "        col_names.append(c)\n",
    "\n",
    "    # One row with % per column\n",
    "    pct_row = df.agg(*agg_exprs)\n",
    "\n",
    "    # Reshape to (column, blank_pct)\n",
    "    stack_expr = \", \".join([f\"'{c}', `{c}`\" for c in col_names])\n",
    "    tidy = pct_row.selectExpr(f\"stack({len(col_names)}, {stack_expr}) as (column, blank_pct)\")\n",
    "\n",
    "    tidy.orderBy(F.desc(\"blank_pct\")).show(truncate=False)\n"
   ]
  },
  {
   "cell_type": "code",
   "execution_count": 0,
   "metadata": {
    "application/vnd.databricks.v1+cell": {
     "cellMetadata": {
      "byteLimit": 2048000,
      "rowLimit": 10000
     },
     "inputWidgets": {},
     "nuid": "d2870097-89b6-442f-9a09-6c98bcc0cfa0",
     "showTitle": false,
     "tableResultSettingsMap": {},
     "title": ""
    }
   },
   "outputs": [],
   "source": [
    "from pyspark.sql import functions as F\n",
    "from pyspark.sql.types import (\n",
    "    StringType, DoubleType, FloatType\n",
    ")\n",
    "\n",
    "# Load table\n",
    "df = spark.table(\"sc_silver.campanhas_tecnicas\")\n",
    "\n",
    "total_rows = df.count()\n",
    "if total_rows == 0:\n",
    "    spark.createDataFrame([], \"column string, blank_pct double\").show()\n",
    "else:\n",
    "    # Build one aggregation per column\n",
    "    agg_exprs = []\n",
    "    col_names = []\n",
    "    for field in df.schema.fields:\n",
    "        c = field.name\n",
    "        dt = field.dataType\n",
    "\n",
    "        if isinstance(dt, StringType):\n",
    "            # NULL or empty/whitespace\n",
    "            cond = F.col(c).isNull() | (F.length(F.trim(F.col(c))) == 0)\n",
    "        elif isinstance(dt, (DoubleType, FloatType)):\n",
    "            # NULL or NaN\n",
    "            cond = F.col(c).isNull() | F.isnan(F.col(c))\n",
    "        else:\n",
    "            # Other types: only NULL counts as blank\n",
    "            cond = F.col(c).isNull()\n",
    "\n",
    "        agg_exprs.append(F.round(F.avg(F.when(cond, 1).otherwise(0)) * 100, 4).alias(c))\n",
    "        col_names.append(c)\n",
    "\n",
    "    # One row with % per column\n",
    "    pct_row = df.agg(*agg_exprs)\n",
    "\n",
    "    # Reshape to (column, blank_pct)\n",
    "    stack_expr = \", \".join([f\"'{c}', `{c}`\" for c in col_names])\n",
    "    tidy = pct_row.selectExpr(f\"stack({len(col_names)}, {stack_expr}) as (column, blank_pct)\")\n",
    "\n",
    "    tidy.orderBy(F.desc(\"blank_pct\")).show(truncate=False)\n"
   ]
  },
  {
   "cell_type": "code",
   "execution_count": 0,
   "metadata": {
    "application/vnd.databricks.v1+cell": {
     "cellMetadata": {
      "byteLimit": 2048000,
      "rowLimit": 10000
     },
     "inputWidgets": {},
     "nuid": "79f26b00-c99d-4c14-8b4c-21a78622ebaf",
     "showTitle": false,
     "tableResultSettingsMap": {},
     "title": ""
    }
   },
   "outputs": [],
   "source": [
    "from pyspark.sql import functions as F\n",
    "from pyspark.sql.types import StringType, DoubleType, FloatType\n",
    "\n",
    "# ---------- Config ----------\n",
    "table_name = \"sc_silver.contactos_importador_pbs\"  # <- change if needed\n",
    "only_above_pct = None  # e.g. set to 0 or 50 to filter; use None to show ALL\n",
    "# ----------------------------\n",
    "\n",
    "df = spark.table(table_name)\n",
    "\n",
    "total_rows = df.count()\n",
    "if total_rows == 0:\n",
    "    print(f\"{table_name} is empty.\")\n",
    "    spark.createDataFrame([], \"column string, blank_pct double\").show()\n",
    "else:\n",
    "    # Build one aggregation per column\n",
    "    agg_exprs, col_names = [], []\n",
    "    for field in df.schema.fields:\n",
    "        c = field.name\n",
    "        dt = field.dataType\n",
    "\n",
    "        if isinstance(dt, StringType):\n",
    "            # NULL or empty/whitespace\n",
    "            cond = F.col(c).isNull() | (F.length(F.trim(F.col(c))) == 0)\n",
    "        elif isinstance(dt, (DoubleType, FloatType)):\n",
    "            # NULL or NaN\n",
    "            cond = F.col(c).isNull() | F.isnan(F.col(c))\n",
    "        else:\n",
    "            # Other types: only NULL counts as blank\n",
    "            cond = F.col(c).isNull()\n",
    "\n",
    "        agg_exprs.append(F.round(F.avg(F.when(cond, 1).otherwise(0)) * 100, 4).alias(c))\n",
    "        col_names.append(c)\n",
    "\n",
    "    # One row with % per column\n",
    "    pct_row = df.agg(*agg_exprs)\n",
    "\n",
    "    # Reshape to (column, blank_pct)\n",
    "    stack_expr = \", \".join([f\"'{c}', `{c}`\" for c in col_names])\n",
    "    tidy = pct_row.selectExpr(f\"stack({len(col_names)}, {stack_expr}) as (column, blank_pct)\")\n",
    "\n",
    "    # Optional filter\n",
    "    if only_above_pct is not None:\n",
    "        tidy = tidy.filter(F.col(\"blank_pct\") > float(only_above_pct))\n",
    "\n",
    "    tidy = tidy.orderBy(F.desc(\"blank_pct\"))\n",
    "\n",
    "    # >>> Show ALL rows\n",
    "    tidy.show(tidy.count(), truncate=False)\n"
   ]
  },
  {
   "cell_type": "code",
   "execution_count": 0,
   "metadata": {
    "application/vnd.databricks.v1+cell": {
     "cellMetadata": {
      "byteLimit": 2048000,
      "implicitDf": true,
      "rowLimit": 10000
     },
     "inputWidgets": {},
     "nuid": "71e35146-885b-413f-899b-8935d5ecaf01",
     "showTitle": false,
     "tableResultSettingsMap": {},
     "title": ""
    }
   },
   "outputs": [],
   "source": [
    "%sql\n",
    "-- Step 1: Enable column mapping if not already set\n",
    "ALTER TABLE sc_silver.contactos_importador_pbs\n",
    "  SET TBLPROPERTIES ('delta.columnMapping.mode' = 'name');\n",
    "\n",
    "-- Optional: ensure protocol version supports DROP COLUMN\n",
    "ALTER TABLE sc_silver.contactos_importador_pbs\n",
    "  SET TBLPROPERTIES ('delta.minReaderVersion'='2', 'delta.minWriterVersion'='5');\n",
    "\n",
    "-- Step 2: Drop the specified columns individually (IF EXISTS avoids errors)\n",
    "ALTER TABLE sc_silver.contactos_importador_pbs DROP COLUMN IF EXISTS concelho;\n",
    "ALTER TABLE sc_silver.contactos_importador_pbs DROP COLUMN IF EXISTS gender;\n",
    "ALTER TABLE sc_silver.contactos_importador_pbs DROP COLUMN IF EXISTS firstname;\n",
    "ALTER TABLE sc_silver.contactos_importador_pbs DROP COLUMN IF EXISTS lastname;\n",
    "ALTER TABLE sc_silver.contactos_importador_pbs DROP COLUMN IF EXISTS data_de_nascimento;\n",
    "ALTER TABLE sc_silver.contactos_importador_pbs DROP COLUMN IF EXISTS distrito;\n",
    "ALTER TABLE sc_silver.contactos_importador_pbs DROP COLUMN IF EXISTS ativacao_conta_myhyundai;\n",
    "ALTER TABLE sc_silver.contactos_importador_pbs DROP COLUMN IF EXISTS origem_registo;\n",
    "ALTER TABLE sc_silver.contactos_importador_pbs DROP COLUMN IF EXISTS sexo;\n",
    "ALTER TABLE sc_silver.contactos_importador_pbs DROP COLUMN IF EXISTS data_de_validade_de_consentimento_hyundai;\n",
    "ALTER TABLE sc_silver.contactos_importador_pbs DROP COLUMN IF EXISTS link_centro_consentimento;\n",
    "ALTER TABLE sc_silver.contactos_importador_pbs DROP COLUMN IF EXISTS consentimento;\n",
    "ALTER TABLE sc_silver.contactos_importador_pbs DROP COLUMN IF EXISTS data_de_recolha_de_consentimento_hyundai;\n"
   ]
  },
  {
   "cell_type": "code",
   "execution_count": 0,
   "metadata": {
    "application/vnd.databricks.v1+cell": {
     "cellMetadata": {
      "byteLimit": 2048000,
      "rowLimit": 10000
     },
     "inputWidgets": {},
     "nuid": "d0632d8e-13c7-4556-b9e0-94d62c11b730",
     "showTitle": false,
     "tableResultSettingsMap": {},
     "title": ""
    }
   },
   "outputs": [],
   "source": [
    "spark.table(\"sc_silver.contactos_importador_pbs\") \\\n",
    "    .select(\"pais\") \\\n",
    "    .distinct() \\\n",
    "    .show(truncate=False)\n"
   ]
  },
  {
   "cell_type": "code",
   "execution_count": 0,
   "metadata": {
    "application/vnd.databricks.v1+cell": {
     "cellMetadata": {
      "byteLimit": 2048000,
      "rowLimit": 10000
     },
     "inputWidgets": {},
     "nuid": "fdd58d0d-ed34-4f63-b777-7370977ca6eb",
     "showTitle": false,
     "tableResultSettingsMap": {},
     "title": ""
    }
   },
   "outputs": [],
   "source": [
    "spark.table(\"sc_silver.contactos_importador_pbs\") \\\n",
    "    .groupBy(\"pais\") \\\n",
    "    .count() \\\n",
    "    .orderBy(F.desc(\"count\")) \\\n",
    "    .show(truncate=False)\n"
   ]
  },
  {
   "cell_type": "code",
   "execution_count": 0,
   "metadata": {
    "application/vnd.databricks.v1+cell": {
     "cellMetadata": {
      "byteLimit": 2048000,
      "implicitDf": true,
      "rowLimit": 10000
     },
     "inputWidgets": {},
     "nuid": "6681fea3-e955-43fc-b829-f7ed7e419568",
     "showTitle": false,
     "tableResultSettingsMap": {},
     "title": ""
    }
   },
   "outputs": [],
   "source": [
    "%sql\n",
    "-- Step 1: Enable column mapping if not already set\n",
    "ALTER TABLE sc_silver.contactos_importador_pbs\n",
    "  SET TBLPROPERTIES ('delta.columnMapping.mode' = 'name');\n",
    "\n",
    "-- Optional: ensure protocol version supports DROP COLUMN\n",
    "ALTER TABLE sc_silver.contactos_importador_pbs\n",
    "  SET TBLPROPERTIES ('delta.minReaderVersion'='2', 'delta.minWriterVersion'='5');\n",
    "\n",
    "-- Step 2: Drop the column (IF EXISTS avoids errors if already removed)\n",
    "ALTER TABLE sc_silver.contactos_importador_pbs DROP COLUMN IF EXISTS pais;\n"
   ]
  },
  {
   "cell_type": "code",
   "execution_count": 0,
   "metadata": {
    "application/vnd.databricks.v1+cell": {
     "cellMetadata": {
      "byteLimit": 2048000,
      "implicitDf": true,
      "rowLimit": 10000
     },
     "inputWidgets": {},
     "nuid": "34a20ed2-b583-4c12-92e2-0caeca277399",
     "showTitle": false,
     "tableResultSettingsMap": {},
     "title": ""
    }
   },
   "outputs": [],
   "source": [
    "%sql\n",
    "-- Step 1: Enable column mapping if not already set\n",
    "ALTER TABLE sc_silver.contactos_importador_pbs\n",
    "  SET TBLPROPERTIES ('delta.columnMapping.mode' = 'name');\n",
    "\n",
    "-- Optional: ensure protocol version supports DROP COLUMN\n",
    "ALTER TABLE sc_silver.contactos_importador_pbs\n",
    "  SET TBLPROPERTIES ('delta.minReaderVersion'='2', 'delta.minWriterVersion'='5');\n",
    "\n",
    "-- Step 2: Drop the specified columns (use IF EXISTS to avoid errors)\n",
    "ALTER TABLE sc_silver.contactos_importador_pbs DROP COLUMN IF EXISTS email_opt_out;\n",
    "ALTER TABLE sc_silver.contactos_importador_pbs DROP COLUMN IF EXISTS check;\n",
    "ALTER TABLE sc_silver.contactos_importador_pbs DROP COLUMN IF EXISTS free_email;\n",
    "ALTER TABLE sc_silver.contactos_importador_pbs DROP COLUMN IF EXISTS mx_found;\n",
    "ALTER TABLE sc_silver.contactos_importador_pbs DROP COLUMN IF EXISTS mx_founds;\n",
    "ALTER TABLE sc_silver.contactos_importador_pbs DROP COLUMN IF EXISTS rgdp_art_17;\n",
    "ALTER TABLE sc_silver.contactos_importador_pbs DROP COLUMN IF EXISTS smtp_provider;\n",
    "ALTER TABLE sc_silver.contactos_importador_pbs DROP COLUMN IF EXISTS status;\n",
    "ALTER TABLE sc_silver.contactos_importador_pbs DROP COLUMN IF EXISTS estado_email;\n",
    "ALTER TABLE sc_silver.contactos_importador_pbs DROP COLUMN IF EXISTS account;\n"
   ]
  },
  {
   "cell_type": "code",
   "execution_count": 0,
   "metadata": {
    "application/vnd.databricks.v1+cell": {
     "cellMetadata": {
      "byteLimit": 2048000,
      "rowLimit": 10000
     },
     "inputWidgets": {},
     "nuid": "3a7b16fc-1d6c-449f-8bf9-ad16479bb8ac",
     "showTitle": false,
     "tableResultSettingsMap": {},
     "title": ""
    }
   },
   "outputs": [],
   "source": [
    "from pyspark.sql import functions as F\n",
    "from pyspark.sql.types import StringType, DoubleType, FloatType\n",
    "\n",
    "# ---------- Config ----------\n",
    "table_name = \"sc_silver.contactos_pbs\"  # <- changed to contactos_pbs\n",
    "only_above_pct = None  # e.g. set to 0 or 50 to filter; use None to show ALL\n",
    "# ----------------------------\n",
    "\n",
    "df = spark.table(table_name)\n",
    "\n",
    "total_rows = df.count()\n",
    "if total_rows == 0:\n",
    "    print(f\"{table_name} is empty.\")\n",
    "    spark.createDataFrame([], \"column string, blank_pct double\").show()\n",
    "else:\n",
    "    # Build one aggregation per column\n",
    "    agg_exprs, col_names = [], []\n",
    "    for field in df.schema.fields:\n",
    "        c = field.name\n",
    "        dt = field.dataType\n",
    "\n",
    "        if isinstance(dt, StringType):\n",
    "            # NULL or empty/whitespace\n",
    "            cond = F.col(c).isNull() | (F.length(F.trim(F.col(c))) == 0)\n",
    "        elif isinstance(dt, (DoubleType, FloatType)):\n",
    "            # NULL or NaN\n",
    "            cond = F.col(c).isNull() | F.isnan(F.col(c))\n",
    "        else:\n",
    "            # Other types: only NULL counts as blank\n",
    "            cond = F.col(c).isNull()\n",
    "\n",
    "        agg_exprs.append(F.round(F.avg(F.when(cond, 1).otherwise(0)) * 100, 4).alias(c))\n",
    "        col_names.append(c)\n",
    "\n",
    "    # One row with % per column\n",
    "    pct_row = df.agg(*agg_exprs)\n",
    "\n",
    "    # Reshape to (column, blank_pct)\n",
    "    stack_expr = \", \".join([f\"'{c}', `{c}`\" for c in col_names])\n",
    "    tidy = pct_row.selectExpr(f\"stack({len(col_names)}, {stack_expr}) as (column, blank_pct)\")\n",
    "\n",
    "    # Optional filter\n",
    "    if only_above_pct is not None:\n",
    "        tidy = tidy.filter(F.col(\"blank_pct\") > float(only_above_pct))\n",
    "\n",
    "    tidy = tidy.orderBy(F.desc(\"blank_pct\"))\n",
    "\n",
    "    # >>> Show ALL rows\n",
    "    tidy.show(tidy.count(), truncate=False)\n"
   ]
  },
  {
   "cell_type": "code",
   "execution_count": 0,
   "metadata": {
    "application/vnd.databricks.v1+cell": {
     "cellMetadata": {
      "byteLimit": 2048000,
      "rowLimit": 10000
     },
     "inputWidgets": {},
     "nuid": "719ed1b5-0e14-42d6-a295-4cd9c973b393",
     "showTitle": false,
     "tableResultSettingsMap": {},
     "title": ""
    }
   },
   "outputs": [],
   "source": [
    "from pyspark.sql import functions as F\n",
    "from pyspark.sql.types import StringType, DoubleType, FloatType\n",
    "\n",
    "# ---------- Config ----------\n",
    "table_name = \"sc_silver.contas_importador_pbs\"  # <- changed to contas_importador_pbs\n",
    "only_above_pct = None  # e.g. set to 0 or 50 to filter; use None to show ALL\n",
    "# ----------------------------\n",
    "\n",
    "df = spark.table(table_name)\n",
    "\n",
    "total_rows = df.count()\n",
    "if total_rows == 0:\n",
    "    print(f\"{table_name} is empty.\")\n",
    "    spark.createDataFrame([], \"column string, blank_pct double\").show()\n",
    "else:\n",
    "    # Build one aggregation per column\n",
    "    agg_exprs, col_names = [], []\n",
    "    for field in df.schema.fields:\n",
    "        c = field.name\n",
    "        dt = field.dataType\n",
    "\n",
    "        if isinstance(dt, StringType):\n",
    "            # NULL or empty/whitespace\n",
    "            cond = F.col(c).isNull() | (F.length(F.trim(F.col(c))) == 0)\n",
    "        elif isinstance(dt, (DoubleType, FloatType)):\n",
    "            # NULL or NaN\n",
    "            cond = F.col(c).isNull() | F.isnan(F.col(c))\n",
    "        else:\n",
    "            # Other types: only NULL counts as blank\n",
    "            cond = F.col(c).isNull()\n",
    "\n",
    "        agg_exprs.append(F.round(F.avg(F.when(cond, 1).otherwise(0)) * 100, 4).alias(c))\n",
    "        col_names.append(c)\n",
    "\n",
    "    # One row with % per column\n",
    "    pct_row = df.agg(*agg_exprs)\n",
    "\n",
    "    # Reshape to (column, blank_pct)\n",
    "    stack_expr = \", \".join([f\"'{c}', `{c}`\" for c in col_names])\n",
    "    tidy = pct_row.selectExpr(f\"stack({len(col_names)}, {stack_expr}) as (column, blank_pct)\")\n",
    "\n",
    "    # Optional filter\n",
    "    if only_above_pct is not None:\n",
    "        tidy = tidy.filter(F.col(\"blank_pct\") > float(only_above_pct))\n",
    "\n",
    "    tidy = tidy.orderBy(F.desc(\"blank_pct\"))\n",
    "\n",
    "    # >>> Show ALL rows\n",
    "    tidy.show(tidy.count(), truncate=False)\n"
   ]
  },
  {
   "cell_type": "code",
   "execution_count": 0,
   "metadata": {
    "application/vnd.databricks.v1+cell": {
     "cellMetadata": {
      "byteLimit": 2048000,
      "implicitDf": true,
      "rowLimit": 10000
     },
     "inputWidgets": {},
     "nuid": "39a903b5-2321-457c-937e-2f223dfb2ca6",
     "showTitle": false,
     "tableResultSettingsMap": {},
     "title": ""
    }
   },
   "outputs": [],
   "source": [
    "%sql\n",
    "-- Enable column mapping (needed for DROP COLUMN)\n",
    "ALTER TABLE sc_silver.contas_importador_pbs\n",
    "  SET TBLPROPERTIES ('delta.columnMapping.mode' = 'name');\n",
    "\n",
    "-- Ensure protocol supports column drops\n",
    "ALTER TABLE sc_silver.contas_importador_pbs\n",
    "  SET TBLPROPERTIES ('delta.minReaderVersion'='2','delta.minWriterVersion'='5');\n",
    "\n",
    "-- Drop requested columns (safe with IF EXISTS)\n",
    "ALTER TABLE sc_silver.contas_importador_pbs DROP COLUMN IF EXISTS distrito;\n",
    "ALTER TABLE sc_silver.contas_importador_pbs DROP COLUMN IF EXISTS origem_registo;\n",
    "ALTER TABLE sc_silver.contas_importador_pbs DROP COLUMN IF EXISTS pais;\n",
    "ALTER TABLE sc_silver.contas_importador_pbs DROP COLUMN IF EXISTS telefone_da_empresa;\n"
   ]
  },
  {
   "cell_type": "code",
   "execution_count": 0,
   "metadata": {
    "application/vnd.databricks.v1+cell": {
     "cellMetadata": {
      "byteLimit": 2048000,
      "rowLimit": 10000
     },
     "inputWidgets": {},
     "nuid": "af09f545-056f-4e46-9b44-f1862c96d020",
     "showTitle": false,
     "tableResultSettingsMap": {},
     "title": ""
    }
   },
   "outputs": [],
   "source": [
    "from pyspark.sql import functions as F\n",
    "from pyspark.sql.types import StringType, DoubleType, FloatType\n",
    "\n",
    "# ---------- Config ----------\n",
    "table_name = \"sc_silver.contas_pbs\"  # <- changed to contas_pbs\n",
    "only_above_pct = None  # e.g. set to 0 or 50 to filter; use None to show ALL\n",
    "# ----------------------------\n",
    "\n",
    "df = spark.table(table_name)\n",
    "\n",
    "total_rows = df.count()\n",
    "if total_rows == 0:\n",
    "    print(f\"{table_name} is empty.\")\n",
    "    spark.createDataFrame([], \"column string, blank_pct double\").show()\n",
    "else:\n",
    "    # Build one aggregation per column\n",
    "    agg_exprs, col_names = [], []\n",
    "    for field in df.schema.fields:\n",
    "        c = field.name\n",
    "        dt = field.dataType\n",
    "\n",
    "        if isinstance(dt, StringType):\n",
    "            # NULL or empty/whitespace\n",
    "            cond = F.col(c).isNull() | (F.length(F.trim(F.col(c))) == 0)\n",
    "        elif isinstance(dt, (DoubleType, FloatType)):\n",
    "            # NULL or NaN\n",
    "            cond = F.col(c).isNull() | F.isnan(F.col(c))\n",
    "        else:\n",
    "            # Other types: only NULL counts as blank\n",
    "            cond = F.col(c).isNull()\n",
    "\n",
    "        agg_exprs.append(F.round(F.avg(F.when(cond, 1).otherwise(0)) * 100, 4).alias(c))\n",
    "        col_names.append(c)\n",
    "\n",
    "    # One row with % per column\n",
    "    pct_row = df.agg(*agg_exprs)\n",
    "\n",
    "    # Reshape to (column, blank_pct)\n",
    "    stack_expr = \", \".join([f\"'{c}', `{c}`\" for c in col_names])\n",
    "    tidy = pct_row.selectExpr(f\"stack({len(col_names)}, {stack_expr}) as (column, blank_pct)\")\n",
    "\n",
    "    # Optional filter\n",
    "    if only_above_pct is not None:\n",
    "        tidy = tidy.filter(F.col(\"blank_pct\") > float(only_above_pct))\n",
    "\n",
    "    tidy = tidy.orderBy(F.desc(\"blank_pct\"))\n",
    "\n",
    "    # >>> Show ALL rows\n",
    "    tidy.show(tidy.count(), truncate=False)\n"
   ]
  },
  {
   "cell_type": "code",
   "execution_count": 0,
   "metadata": {
    "application/vnd.databricks.v1+cell": {
     "cellMetadata": {
      "byteLimit": 2048000,
      "rowLimit": 10000
     },
     "inputWidgets": {},
     "nuid": "017c8a1a-d6c5-4fe3-822e-eec8cdfe2c9e",
     "showTitle": false,
     "tableResultSettingsMap": {},
     "title": ""
    }
   },
   "outputs": [],
   "source": [
    "from pyspark.sql import functions as F\n",
    "\n",
    "table = \"sc_silver.contas_pbs\"\n",
    "cols = [\"tasks_involved\", \"events_involved\", \"calls_involved\", \"rent_a_car\"]\n",
    "\n",
    "df = spark.table(table)\n",
    "total = df.count()\n",
    "\n",
    "# Only keep columns that actually exist (avoid errors)\n",
    "present = [c for c in cols if c in df.columns]\n",
    "missing = [c for c in cols if c not in df.columns]\n",
    "if missing:\n",
    "    print(\"Skipping missing columns:\", \", \".join(missing))\n",
    "\n",
    "for c in present:\n",
    "    print(f\"\\n=== {c} ===\")\n",
    "    # Treat NULLs explicitly so they show up in counts\n",
    "    out = (\n",
    "        df.groupBy(F.coalesce(F.col(c).cast(\"string\"), F.lit(\"<NULL>\")).alias(c))\n",
    "          .count()\n",
    "          .withColumn(\"pct\", F.round(F.col(\"count\") / F.lit(total) * 100, 2))\n",
    "          .orderBy(F.desc(\"count\"))\n",
    "    )\n",
    "    out.show(out.count(), truncate=False)  # show all rows for this column\n"
   ]
  },
  {
   "cell_type": "code",
   "execution_count": 0,
   "metadata": {
    "application/vnd.databricks.v1+cell": {
     "cellMetadata": {
      "byteLimit": 2048000,
      "implicitDf": true,
      "rowLimit": 10000
     },
     "inputWidgets": {},
     "nuid": "977bdde9-fdb7-4ea7-a283-8179b6e4cc37",
     "showTitle": false,
     "tableResultSettingsMap": {},
     "title": ""
    }
   },
   "outputs": [],
   "source": [
    "%sql\n",
    "-- Enable column mapping (needed for DROP COLUMN in Delta)\n",
    "ALTER TABLE sc_silver.contas_pbs\n",
    "  SET TBLPROPERTIES ('delta.columnMapping.mode' = 'name');\n",
    "\n",
    "-- Ensure protocol supports column drops (harmless if already set)\n",
    "ALTER TABLE sc_silver.contas_pbs\n",
    "  SET TBLPROPERTIES ('delta.minReaderVersion'='2','delta.minWriterVersion'='5');\n",
    "\n",
    "-- Drop the requested columns (IF EXISTS avoids errors if any are missing)\n",
    "ALTER TABLE sc_silver.contas_pbs DROP COLUMN IF EXISTS website;\n",
    "ALTER TABLE sc_silver.contas_pbs DROP COLUMN IF EXISTS industry;\n",
    "ALTER TABLE sc_silver.contas_pbs DROP COLUMN IF EXISTS pioneiros_myhyundai;\n",
    "ALTER TABLE sc_silver.contas_pbs DROP COLUMN IF EXISTS login_myhyundai;\n",
    "ALTER TABLE sc_silver.contas_pbs DROP COLUMN IF EXISTS cliente_hyundai;\n",
    "ALTER TABLE sc_silver.contas_pbs DROP COLUMN IF EXISTS conta_type;\n",
    "ALTER TABLE sc_silver.contas_pbs DROP COLUMN IF EXISTS motivo;\n",
    "ALTER TABLE sc_silver.contas_pbs DROP COLUMN IF EXISTS id_lead_conversao;\n",
    "ALTER TABLE sc_silver.contas_pbs DROP COLUMN IF EXISTS data_criacao_da_lead;\n",
    "ALTER TABLE sc_silver.contas_pbs DROP COLUMN IF EXISTS agrupamento_performance_vendas;\n",
    "ALTER TABLE sc_silver.contas_pbs DROP COLUMN IF EXISTS chave_agrupamento_performance_vendas;\n",
    "ALTER TABLE sc_silver.contas_pbs DROP COLUMN IF EXISTS modo_de_contacto_preferencial;\n",
    "ALTER TABLE sc_silver.contas_pbs DROP COLUMN IF EXISTS tipo_empresa;\n"
   ]
  },
  {
   "cell_type": "code",
   "execution_count": 0,
   "metadata": {
    "application/vnd.databricks.v1+cell": {
     "cellMetadata": {
      "byteLimit": 2048000,
      "rowLimit": 10000
     },
     "inputWidgets": {},
     "nuid": "8245677c-e538-4bdf-8d6f-c0b168cdac50",
     "showTitle": false,
     "tableResultSettingsMap": {},
     "title": ""
    }
   },
   "outputs": [],
   "source": [
    "from pyspark.sql import functions as F\n",
    "\n",
    "# Table to profile\n",
    "table_name = \"sc_silver.contratos_financiamento\"\n",
    "\n",
    "df = spark.table(table_name)\n",
    "total_rows = df.count()\n",
    "\n",
    "if total_rows == 0:\n",
    "    print(f\"{table_name} is empty.\")\n",
    "else:\n",
    "    cols = df.columns\n",
    "\n",
    "    # One pass: compute NULL counts for every column\n",
    "    agg_exprs = [\n",
    "        F.sum(F.when(F.col(c).isNull(), 1).otherwise(0)).alias(c) for c in cols\n",
    "    ]\n",
    "    null_counts_row = df.agg(*agg_exprs)\n",
    "\n",
    "    # Reshape to (column, null_count) and add percentage\n",
    "    stack_expr = \", \".join([f\"'{c}', `{c}`\" for c in cols])\n",
    "    out = (\n",
    "        null_counts_row.selectExpr(f\"stack({len(cols)}, {stack_expr}) as (column, null_count)\")\n",
    "        .withColumn(\"total_rows\", F.lit(total_rows))\n",
    "        .withColumn(\"null_pct\", F.round(F.col(\"null_count\") / F.col(\"total_rows\") * 100, 4))\n",
    "        .orderBy(F.desc(\"null_pct\"), F.desc(\"null_count\"))\n",
    "    )\n",
    "\n",
    "    # Show all rows\n",
    "    out.show(out.count(), truncate=False)\n"
   ]
  },
  {
   "cell_type": "code",
   "execution_count": 0,
   "metadata": {
    "application/vnd.databricks.v1+cell": {
     "cellMetadata": {
      "byteLimit": 2048000,
      "implicitDf": true,
      "rowLimit": 10000
     },
     "inputWidgets": {},
     "nuid": "479384ea-294b-4da0-9fc1-f3c3cfe76bde",
     "showTitle": false,
     "tableResultSettingsMap": {},
     "title": ""
    }
   },
   "outputs": [],
   "source": [
    "%sql\n",
    "-- Enable column mapping (safe to run again)\n",
    "ALTER TABLE sc_silver.contratos_financiamento\n",
    "  SET TBLPROPERTIES ('delta.columnMapping.mode' = 'name');\n",
    "\n",
    "-- Ensure protocol supports DROP COLUMN\n",
    "ALTER TABLE sc_silver.contratos_financiamento\n",
    "  SET TBLPROPERTIES ('delta.minReaderVersion'='2','delta.minWriterVersion'='5');\n",
    "\n",
    "-- Drop requested columns\n",
    "ALTER TABLE sc_silver.contratos_financiamento DROP COLUMN IF EXISTS contacto_vinculado_id;\n",
    "ALTER TABLE sc_silver.contratos_financiamento DROP COLUMN IF EXISTS data_criacao_da_lead;\n",
    "ALTER TABLE sc_silver.contratos_financiamento DROP COLUMN IF EXISTS data_criacao_lead_financial_swap;\n"
   ]
  },
  {
   "cell_type": "code",
   "execution_count": 0,
   "metadata": {
    "application/vnd.databricks.v1+cell": {
     "cellMetadata": {
      "byteLimit": 2048000,
      "rowLimit": 10000
     },
     "inputWidgets": {},
     "nuid": "676cc592-8b9a-4aa1-9d3e-fa40a569c39d",
     "showTitle": false,
     "tableResultSettingsMap": {},
     "title": ""
    }
   },
   "outputs": [],
   "source": [
    "from pyspark.sql import functions as F\n",
    "\n",
    "# Table to profile\n",
    "table_name = \"sc_silver.deals\"\n",
    "\n",
    "df = spark.table(table_name)\n",
    "total_rows = df.count()\n",
    "\n",
    "if total_rows == 0:\n",
    "    print(f\"{table_name} is empty.\")\n",
    "else:\n",
    "    cols = df.columns\n",
    "\n",
    "    # One pass: compute NULL counts for every column\n",
    "    agg_exprs = [F.sum(F.when(F.col(c).isNull(), 1).otherwise(0)).alias(c) for c in cols]\n",
    "    null_counts_row = df.agg(*agg_exprs)\n",
    "\n",
    "    # Reshape to (column, null_count) and add percentage\n",
    "    stack_expr = \", \".join([f\"'{c}', `{c}`\" for c in cols])\n",
    "    out = (\n",
    "        null_counts_row.selectExpr(f\"stack({len(cols)}, {stack_expr}) as (column, null_count)\")\n",
    "        .withColumn(\"total_rows\", F.lit(total_rows))\n",
    "        .withColumn(\"null_pct\", F.round(F.col(\"null_count\") / F.col(\"total_rows\") * 100, 4))\n",
    "        .orderBy(F.desc(\"null_pct\"), F.desc(\"null_count\"))\n",
    "    )\n",
    "\n",
    "    # Show all rows\n",
    "    out.show(out.count(), truncate=False)\n"
   ]
  },
  {
   "cell_type": "code",
   "execution_count": 0,
   "metadata": {
    "application/vnd.databricks.v1+cell": {
     "cellMetadata": {
      "byteLimit": 2048000,
      "rowLimit": 10000
     },
     "inputWidgets": {},
     "nuid": "3544be60-963d-4125-b75a-ba22a1fb0427",
     "showTitle": false,
     "tableResultSettingsMap": {},
     "title": ""
    }
   },
   "outputs": [],
   "source": [
    "from pyspark.sql import functions as F\n",
    "\n",
    "# Table to profile\n",
    "table_name = \"sc_silver.historico_de_servicos\"\n",
    "\n",
    "df = spark.table(table_name)\n",
    "total_rows = df.count()\n",
    "\n",
    "if total_rows == 0:\n",
    "    print(f\"{table_name} is empty.\")\n",
    "else:\n",
    "    cols = df.columns\n",
    "\n",
    "    # One pass: compute NULL counts for every column\n",
    "    agg_exprs = [F.sum(F.when(F.col(c).isNull(), 1).otherwise(0)).alias(c) for c in cols]\n",
    "    null_counts_row = df.agg(*agg_exprs)\n",
    "\n",
    "    # Reshape to (column, null_count) and add percentage\n",
    "    stack_expr = \", \".join([f\"'{c}', `{c}`\" for c in cols])\n",
    "    out = (\n",
    "        null_counts_row.selectExpr(f\"stack({len(cols)}, {stack_expr}) as (column, null_count)\")\n",
    "        .withColumn(\"total_rows\", F.lit(total_rows))\n",
    "        .withColumn(\"null_pct\", F.round(F.col(\"null_count\") / F.col(\"total_rows\") * 100, 4))\n",
    "        .orderBy(F.desc(\"null_pct\"), F.desc(\"null_count\"))\n",
    "    )\n",
    "\n",
    "    # Show all rows\n",
    "    out.show(out.count(), truncate=False)\n"
   ]
  },
  {
   "cell_type": "code",
   "execution_count": 0,
   "metadata": {
    "application/vnd.databricks.v1+cell": {
     "cellMetadata": {
      "byteLimit": 2048000,
      "rowLimit": 10000
     },
     "inputWidgets": {},
     "nuid": "e4c4de6c-0337-4a40-90c6-5d4b58ff66d0",
     "showTitle": false,
     "tableResultSettingsMap": {},
     "title": ""
    }
   },
   "outputs": [],
   "source": [
    "from pyspark.sql import functions as F\n",
    "\n",
    "table = \"sc_silver.historico_de_servicos\"\n",
    "cols = [\"ciclo_de_fidelizacao\", \"dadosconcessao\"]\n",
    "\n",
    "df = spark.table(table)\n",
    "total = df.count()\n",
    "\n",
    "# Only keep columns that actually exist (avoid errors)\n",
    "present = [c for c in cols if c in df.columns]\n",
    "missing = [c for c in cols if c not in df.columns]\n",
    "if missing:\n",
    "    print(\"Skipping missing columns:\", \", \".join(missing))\n",
    "\n",
    "for c in present:\n",
    "    print(f\"\\n=== {c} ===\")\n",
    "    # Treat NULLs explicitly so they show up in counts\n",
    "    out = (\n",
    "        df.groupBy(F.coalesce(F.col(c).cast(\"string\"), F.lit(\"<NULL>\")).alias(c))\n",
    "          .count()\n",
    "          .withColumn(\"pct\", F.round(F.col(\"count\") / F.lit(total) * 100, 2))\n",
    "          .orderBy(F.desc(\"count\"))\n",
    "    )\n",
    "    out.show(out.count(), truncate=False)  # show all rows for this column\n"
   ]
  },
  {
   "cell_type": "code",
   "execution_count": 0,
   "metadata": {
    "application/vnd.databricks.v1+cell": {
     "cellMetadata": {
      "byteLimit": 2048000,
      "rowLimit": 10000
     },
     "inputWidgets": {},
     "nuid": "e3613d99-64bc-4a49-a2cf-6010f4ec829f",
     "showTitle": false,
     "tableResultSettingsMap": {},
     "title": ""
    }
   },
   "outputs": [],
   "source": [
    "from pyspark.sql import functions as F\n",
    "\n",
    "# Table to profile\n",
    "table_name = \"sc_silver.leads_pbs\"\n",
    "\n",
    "df = spark.table(table_name)\n",
    "total_rows = df.count()\n",
    "\n",
    "if total_rows == 0:\n",
    "    print(f\"{table_name} is empty.\")\n",
    "else:\n",
    "    cols = df.columns\n",
    "\n",
    "    # One pass: compute NULL counts for every column\n",
    "    agg_exprs = [F.sum(F.when(F.col(c).isNull(), 1).otherwise(0)).alias(c) for c in cols]\n",
    "    null_counts_row = df.agg(*agg_exprs)\n",
    "\n",
    "    # Reshape to (column, null_count) and add percentage\n",
    "    stack_expr = \", \".join([f\"'{c}', `{c}`\" for c in cols])\n",
    "    out = (\n",
    "        null_counts_row.selectExpr(f\"stack({len(cols)}, {stack_expr}) as (column, null_count)\")\n",
    "        .withColumn(\"total_rows\", F.lit(total_rows))\n",
    "        .withColumn(\"null_pct\", F.round(F.col(\"null_count\") / F.col(\"total_rows\") * 100, 4))\n",
    "        .orderBy(F.desc(\"null_pct\"), F.desc(\"null_count\"))\n",
    "    )\n",
    "\n",
    "    # Show all rows\n",
    "    out.show(out.count(), truncate=False)\n"
   ]
  },
  {
   "cell_type": "code",
   "execution_count": 0,
   "metadata": {
    "application/vnd.databricks.v1+cell": {
     "cellMetadata": {
      "byteLimit": 2048000,
      "rowLimit": 10000
     },
     "inputWidgets": {},
     "nuid": "f0ea0436-0012-44bf-9eea-4ad40313176e",
     "showTitle": false,
     "tableResultSettingsMap": {},
     "title": ""
    }
   },
   "outputs": [],
   "source": [
    "from pyspark.sql import functions as F\n",
    "\n",
    "# Table to profile\n",
    "table_name = \"sc_silver.propostas_realizadas\"\n",
    "\n",
    "df = spark.table(table_name)\n",
    "total_rows = df.count()\n",
    "\n",
    "if total_rows == 0:\n",
    "    print(f\"{table_name} is empty.\")\n",
    "else:\n",
    "    cols = df.columns\n",
    "\n",
    "    # One pass: compute NULL counts for every column\n",
    "    agg_exprs = [F.sum(F.when(F.col(c).isNull(), 1).otherwise(0)).alias(c) for c in cols]\n",
    "    null_counts_row = df.agg(*agg_exprs)\n",
    "\n",
    "    # Reshape to (column, null_count) and add percentage\n",
    "    stack_expr = \", \".join([f\"'{c}', `{c}`\" for c in cols])\n",
    "    out = (\n",
    "        null_counts_row.selectExpr(f\"stack({len(cols)}, {stack_expr}) as (column, null_count)\")\n",
    "        .withColumn(\"total_rows\", F.lit(total_rows))\n",
    "        .withColumn(\"null_pct\", F.round(F.col(\"null_count\") / F.col(\"total_rows\") * 100, 4))\n",
    "        .orderBy(F.desc(\"null_pct\"), F.desc(\"null_count\"))\n",
    "    )\n",
    "\n",
    "    # Show all rows\n",
    "    out.show(out.count(), truncate=False)\n"
   ]
  },
  {
   "cell_type": "code",
   "execution_count": 0,
   "metadata": {
    "application/vnd.databricks.v1+cell": {
     "cellMetadata": {
      "byteLimit": 2048000,
      "rowLimit": 10000
     },
     "inputWidgets": {},
     "nuid": "df01964d-583b-4290-b91a-159b6d489258",
     "showTitle": false,
     "tableResultSettingsMap": {},
     "title": ""
    }
   },
   "outputs": [],
   "source": [
    "from pyspark.sql import functions as F\n",
    "\n",
    "# Table to profile\n",
    "table_name = \"sc_silver.viaturas\"\n",
    "\n",
    "df = spark.table(table_name)\n",
    "total_rows = df.count()\n",
    "\n",
    "if total_rows == 0:\n",
    "    print(f\"{table_name} is empty.\")\n",
    "else:\n",
    "    cols = df.columns\n",
    "\n",
    "    # One pass: compute NULL counts for every column\n",
    "    agg_exprs = [F.sum(F.when(F.col(c).isNull(), 1).otherwise(0)).alias(c) for c in cols]\n",
    "    null_counts_row = df.agg(*agg_exprs)\n",
    "\n",
    "    # Reshape to (column, null_count) and add percentage\n",
    "    stack_expr = \", \".join([f\"'{c}', `{c}`\" for c in cols])\n",
    "    out = (\n",
    "        null_counts_row.selectExpr(f\"stack({len(cols)}, {stack_expr}) as (column, null_count)\")\n",
    "        .withColumn(\"total_rows\", F.lit(total_rows))\n",
    "        .withColumn(\"null_pct\", F.round(F.col(\"null_count\") / F.col(\"total_rows\") * 100, 4))\n",
    "        .orderBy(F.desc(\"null_pct\"), F.desc(\"null_count\"))\n",
    "    )\n",
    "\n",
    "    # Show all rows\n",
    "    out.show(out.count(), truncate=False)\n"
   ]
  },
  {
   "cell_type": "code",
   "execution_count": 0,
   "metadata": {
    "application/vnd.databricks.v1+cell": {
     "cellMetadata": {
      "byteLimit": 2048000,
      "rowLimit": 10000
     },
     "inputWidgets": {},
     "nuid": "b9f15b26-8665-48d6-846b-aca482212573",
     "showTitle": false,
     "tableResultSettingsMap": {},
     "title": ""
    }
   },
   "outputs": [],
   "source": [
    "from pyspark.sql import functions as F\n",
    "\n",
    "# Table to profile\n",
    "table_name = \"sc_silver.viaturas\"\n",
    "\n",
    "df = spark.table(table_name)\n",
    "total_rows = df.count()\n",
    "\n",
    "if total_rows == 0:\n",
    "    print(f\"{table_name} is empty.\")\n",
    "else:\n",
    "    cols = df.columns\n",
    "\n",
    "    # One pass: compute NULL counts for every column\n",
    "    agg_exprs = [F.sum(F.when(F.col(c).isNull(), 1).otherwise(0)).alias(c) for c in cols]\n",
    "    null_counts_row = df.agg(*agg_exprs)\n",
    "\n",
    "    # Reshape to (column, null_count) and add percentage\n",
    "    stack_expr = \", \".join([f\"'{c}', `{c}`\" for c in cols])\n",
    "    out = (\n",
    "        null_counts_row.selectExpr(f\"stack({len(cols)}, {stack_expr}) as (column, null_count)\")\n",
    "        .withColumn(\"total_rows\", F.lit(total_rows))\n",
    "        .withColumn(\"null_pct\", F.round(F.col(\"null_count\") / F.col(\"total_rows\") * 100, 4))\n",
    "        .orderBy(F.desc(\"null_pct\"), F.desc(\"null_count\"))\n",
    "    )\n",
    "\n",
    "    # Show all rows\n",
    "    out.show(out.count(), truncate=False)\n"
   ]
  },
  {
   "cell_type": "code",
   "execution_count": 0,
   "metadata": {
    "application/vnd.databricks.v1+cell": {
     "cellMetadata": {
      "byteLimit": 2048000,
      "rowLimit": 10000
     },
     "inputWidgets": {},
     "nuid": "52c02e00-1a48-432b-aeac-526209af8d43",
     "showTitle": false,
     "tableResultSettingsMap": {},
     "title": ""
    }
   },
   "outputs": [],
   "source": [
    "from pyspark.sql import functions as F\n",
    "\n",
    "# Table to profile\n",
    "table_name = \"sc_silver.viaturas_demo\"\n",
    "\n",
    "df = spark.table(table_name)\n",
    "total_rows = df.count()\n",
    "\n",
    "if total_rows == 0:\n",
    "    print(f\"{table_name} is empty.\")\n",
    "else:\n",
    "    cols = df.columns\n",
    "\n",
    "    # Compute NULL counts for every column\n",
    "    agg_exprs = [F.sum(F.when(F.col(c).isNull(), 1).otherwise(0)).alias(c) for c in cols]\n",
    "    null_counts_row = df.agg(*agg_exprs)\n",
    "\n",
    "    # Reshape to (column, null_count) and add percentage\n",
    "    stack_expr = \", \".join([f\"'{c}', `{c}`\" for c in cols])\n",
    "    out = (\n",
    "        null_counts_row.selectExpr(f\"stack({len(cols)}, {stack_expr}) as (column, null_count)\")\n",
    "        .withColumn(\"total_rows\", F.lit(total_rows))\n",
    "        .withColumn(\"null_pct\", F.round(F.col(\"null_count\") / F.col(\"total_rows\") * 100, 4))\n",
    "        .orderBy(F.desc(\"null_pct\"), F.desc(\"null_count\"))\n",
    "    )\n",
    "\n",
    "    # Show all rows\n",
    "    out.show(out.count(), truncate=False)\n"
   ]
  },
  {
   "cell_type": "code",
   "execution_count": 0,
   "metadata": {
    "application/vnd.databricks.v1+cell": {
     "cellMetadata": {
      "byteLimit": 2048000,
      "implicitDf": true,
      "rowLimit": 10000
     },
     "inputWidgets": {},
     "nuid": "88966ace-c998-4f88-8a1c-72eb7dd138e9",
     "showTitle": false,
     "tableResultSettingsMap": {},
     "title": ""
    }
   },
   "outputs": [],
   "source": [
    "%sql\n",
    "-- =======================\n",
    "-- sc_silver.viaturas\n",
    "-- =======================\n",
    "-- Enable column mapping (needed for DROP COLUMN in Delta)\n",
    "ALTER TABLE sc_silver.viaturas\n",
    "  SET TBLPROPERTIES ('delta.columnMapping.mode' = 'name');\n",
    "\n",
    "-- Ensure protocol supports column drops (harmless if already set)\n",
    "ALTER TABLE sc_silver.viaturas\n",
    "  SET TBLPROPERTIES ('delta.minReaderVersion'='2','delta.minWriterVersion'='5');\n",
    "\n",
    "-- Drop the requested columns (IF EXISTS avoids errors if any are missing)\n",
    "ALTER TABLE sc_silver.viaturas DROP COLUMN IF EXISTS `prov_status`;\n",
    "ALTER TABLE sc_silver.viaturas DROP COLUMN IF EXISTS `model_year`;\n",
    "ALTER TABLE sc_silver.viaturas DROP COLUMN IF EXISTS `engine_type`;\n",
    "ALTER TABLE sc_silver.viaturas DROP COLUMN IF EXISTS `country`;\n",
    "ALTER TABLE sc_silver.viaturas DROP COLUMN IF EXISTS `no`;\n",
    "ALTER TABLE sc_silver.viaturas DROP COLUMN IF EXISTS `model`;\n"
   ]
  },
  {
   "cell_type": "code",
   "execution_count": 0,
   "metadata": {
    "application/vnd.databricks.v1+cell": {
     "cellMetadata": {
      "byteLimit": 2048000,
      "implicitDf": true,
      "rowLimit": 10000
     },
     "inputWidgets": {},
     "nuid": "34b9f932-aff7-45a0-8e46-cf9598df231b",
     "showTitle": false,
     "tableResultSettingsMap": {},
     "title": ""
    }
   },
   "outputs": [],
   "source": [
    "%sql\n",
    "-- =======================\n",
    "-- sc_silver.viaturas_demo\n",
    "-- =======================\n",
    "-- Enable column mapping (needed for DROP COLUMN in Delta)\n",
    "ALTER TABLE sc_silver.viaturas_demo\n",
    "  SET TBLPROPERTIES ('delta.columnMapping.mode' = 'name');\n",
    "\n",
    "-- Ensure protocol supports column drops (harmless if already set)\n",
    "ALTER TABLE sc_silver.viaturas_demo\n",
    "  SET TBLPROPERTIES ('delta.minReaderVersion'='2','delta.minWriterVersion'='5');\n",
    "\n",
    "-- Drop the requested column\n",
    "ALTER TABLE sc_silver.viaturas_demo DROP COLUMN IF EXISTS `origem_registo`;\n"
   ]
  },
  {
   "cell_type": "code",
   "execution_count": 0,
   "metadata": {
    "application/vnd.databricks.v1+cell": {
     "cellMetadata": {},
     "inputWidgets": {},
     "nuid": "4d4b3dc8-45c5-46cc-81e5-7d9c6f0b123c",
     "showTitle": false,
     "tableResultSettingsMap": {},
     "title": ""
    }
   },
   "outputs": [],
   "source": [
    "%sql\n",
    "SHOW TABLES IN workspace.sc_silver;"
   ]
  },
  {
   "cell_type": "code",
   "execution_count": 0,
   "metadata": {
    "application/vnd.databricks.v1+cell": {
     "cellMetadata": {
      "byteLimit": 2048000,
      "implicitDf": true,
      "rowLimit": 10000
     },
     "inputWidgets": {},
     "nuid": "2d04587f-6064-4821-8dc2-5540689d7309",
     "showTitle": false,
     "tableResultSettingsMap": {
      "0": {
       "dataGridStateBlob": "{\"version\":1,\"tableState\":{\"columnPinning\":{\"left\":[\"#row_number#\"],\"right\":[]},\"columnSizing\":{\"id\":246,\"conta_owner\":249},\"columnVisibility\":{}},\"settings\":{\"columns\":{}},\"syncTimestamp\":1755294443389}",
       "filterBlob": null,
       "queryPlanFiltersBlob": null,
       "tableResultIndex": 0
      }
     },
     "title": ""
    }
   },
   "outputs": [],
   "source": [
    "%sql\n",
    "SELECT * FROM sc_silver.contas_pbs;"
   ]
  },
  {
   "cell_type": "code",
   "execution_count": 0,
   "metadata": {
    "application/vnd.databricks.v1+cell": {
     "cellMetadata": {
      "byteLimit": 2048000,
      "implicitDf": true,
      "rowLimit": 10000
     },
     "inputWidgets": {},
     "nuid": "0dc9e9f9-ed17-4dc4-8f5c-f79180d924cc",
     "showTitle": false,
     "tableResultSettingsMap": {
      "0": {
       "dataGridStateBlob": "{\"version\":1,\"tableState\":{\"columnPinning\":{\"left\":[\"#row_number#\"],\"right\":[]},\"columnSizing\":{\"id\":217},\"columnVisibility\":{}},\"settings\":{\"columns\":{}},\"syncTimestamp\":1755294475420}",
       "filterBlob": null,
       "queryPlanFiltersBlob": null,
       "tableResultIndex": 0
      }
     },
     "title": ""
    }
   },
   "outputs": [],
   "source": [
    "%sql\n",
    "SELECT * FROM sc_silver.contas_importador_pbs;\n"
   ]
  },
  {
   "cell_type": "code",
   "execution_count": 0,
   "metadata": {
    "application/vnd.databricks.v1+cell": {
     "cellMetadata": {
      "byteLimit": 2048000,
      "implicitDf": true,
      "rowLimit": 10000
     },
     "inputWidgets": {},
     "nuid": "32cca8a9-6260-43d8-92b4-8a8fd158c45c",
     "showTitle": false,
     "tableResultSettingsMap": {},
     "title": ""
    }
   },
   "outputs": [],
   "source": [
    "%sql\n",
    "SELECT * FROM sc_silver.campanha_vouchers;"
   ]
  },
  {
   "cell_type": "code",
   "execution_count": 0,
   "metadata": {
    "application/vnd.databricks.v1+cell": {
     "cellMetadata": {
      "byteLimit": 2048000,
      "implicitDf": true,
      "rowLimit": 10000
     },
     "inputWidgets": {},
     "nuid": "6fb02c01-8220-45a8-be8a-7c386491f5eb",
     "showTitle": false,
     "tableResultSettingsMap": {},
     "title": ""
    }
   },
   "outputs": [],
   "source": [
    "%sql\n",
    "SELECT * FROM sc_silver.campaigns;"
   ]
  },
  {
   "cell_type": "code",
   "execution_count": 0,
   "metadata": {
    "application/vnd.databricks.v1+cell": {
     "cellMetadata": {
      "byteLimit": 2048000,
      "implicitDf": true,
      "rowLimit": 10000
     },
     "inputWidgets": {},
     "nuid": "8991480c-c1f3-4b1f-9d56-3d22c5adbded",
     "showTitle": true,
     "tableResultSettingsMap": {},
     "title": ""
    }
   },
   "outputs": [],
   "source": [
    "%sql\n",
    "SELECT * FROM sc_silver.bd_rede_hyundai;"
   ]
  },
  {
   "cell_type": "code",
   "execution_count": 0,
   "metadata": {
    "application/vnd.databricks.v1+cell": {
     "cellMetadata": {
      "byteLimit": 2048000,
      "implicitDf": true,
      "rowLimit": 10000
     },
     "inputWidgets": {},
     "nuid": "09521424-5d3e-4625-abf9-9c55c7a2a33b",
     "showTitle": false,
     "tableResultSettingsMap": {},
     "title": ""
    }
   },
   "outputs": [],
   "source": [
    "%sql\n",
    "SELECT * FROM sc_silver.campanhas_tecnicas;"
   ]
  },
  {
   "cell_type": "code",
   "execution_count": 0,
   "metadata": {
    "application/vnd.databricks.v1+cell": {
     "cellMetadata": {
      "byteLimit": 2048000,
      "implicitDf": true,
      "rowLimit": 10000
     },
     "inputWidgets": {},
     "nuid": "1fb058da-d6c6-4c62-9273-851a1fafdf43",
     "showTitle": false,
     "tableResultSettingsMap": {
      "0": {
       "dataGridStateBlob": "{\"version\":1,\"tableState\":{\"columnPinning\":{\"left\":[\"#row_number#\"],\"right\":[]},\"columnSizing\":{},\"columnVisibility\":{}},\"settings\":{\"columns\":{}},\"syncTimestamp\":1755265794919}",
       "filterBlob": null,
       "queryPlanFiltersBlob": null,
       "tableResultIndex": 0
      }
     },
     "title": ""
    }
   },
   "outputs": [],
   "source": [
    "%sql\n",
    "SELECT * FROM sc_silver.contactos_importador_pbs;"
   ]
  },
  {
   "cell_type": "code",
   "execution_count": 0,
   "metadata": {
    "application/vnd.databricks.v1+cell": {
     "cellMetadata": {
      "byteLimit": 2048000,
      "implicitDf": true,
      "rowLimit": 10000
     },
     "inputWidgets": {},
     "nuid": "dd540249-7f6c-41a7-a990-a9172331cfe6",
     "showTitle": false,
     "tableResultSettingsMap": {},
     "title": ""
    }
   },
   "outputs": [],
   "source": [
    "%sql\n",
    "SELECT * FROM sc_silver.contactos_pbs;"
   ]
  },
  {
   "cell_type": "code",
   "execution_count": 0,
   "metadata": {
    "application/vnd.databricks.v1+cell": {
     "cellMetadata": {
      "byteLimit": 2048000,
      "implicitDf": true,
      "rowLimit": 10000
     },
     "inputWidgets": {},
     "nuid": "9ba78fb0-6a1e-42dd-af4a-2cda9d9b5f48",
     "showTitle": false,
     "tableResultSettingsMap": {
      "0": {
       "dataGridStateBlob": "{\"version\":1,\"tableState\":{\"columnPinning\":{\"left\":[\"#row_number#\"],\"right\":[]},\"columnSizing\":{},\"columnVisibility\":{}},\"settings\":{\"columns\":{}},\"syncTimestamp\":1755272255622}",
       "filterBlob": null,
       "queryPlanFiltersBlob": null,
       "tableResultIndex": 0
      }
     },
     "title": ""
    }
   },
   "outputs": [],
   "source": [
    "%sql\n",
    "SELECT * FROM sc_silver.contratos_financiamento;"
   ]
  },
  {
   "cell_type": "code",
   "execution_count": 0,
   "metadata": {
    "application/vnd.databricks.v1+cell": {
     "cellMetadata": {
      "byteLimit": 2048000,
      "implicitDf": true,
      "rowLimit": 10000
     },
     "inputWidgets": {},
     "nuid": "7109e5ef-867e-498c-9a0d-a15023d5d051",
     "showTitle": false,
     "tableResultSettingsMap": {
      "0": {
       "dataGridStateBlob": "{\"version\":1,\"tableState\":{\"columnPinning\":{\"left\":[\"#row_number#\"],\"right\":[]},\"columnSizing\":{\"id_contacto\":178,\"id_negocio\":207,\"id\":212},\"columnVisibility\":{}},\"settings\":{\"columns\":{}},\"syncTimestamp\":1755293017551}",
       "filterBlob": null,
       "queryPlanFiltersBlob": null,
       "tableResultIndex": 0
      }
     },
     "title": ""
    }
   },
   "outputs": [],
   "source": [
    "%sql\n",
    "SELECT * FROM sc_silver.deals;"
   ]
  },
  {
   "cell_type": "code",
   "execution_count": 0,
   "metadata": {
    "application/vnd.databricks.v1+cell": {
     "cellMetadata": {
      "byteLimit": 2048000,
      "implicitDf": true,
      "rowLimit": 10000
     },
     "inputWidgets": {},
     "nuid": "0eff3552-d5d6-4d53-80a6-5997f4f1916a",
     "showTitle": false,
     "tableResultSettingsMap": {
      "0": {
       "dataGridStateBlob": "{\"version\":1,\"tableState\":{\"columnPinning\":{\"left\":[\"#row_number#\"],\"right\":[]},\"columnSizing\":{\"viatura\":285,\"id\":265},\"columnVisibility\":{}},\"settings\":{\"columns\":{}},\"syncTimestamp\":1755282961337}",
       "filterBlob": null,
       "queryPlanFiltersBlob": null,
       "tableResultIndex": 0
      }
     },
     "title": ""
    }
   },
   "outputs": [],
   "source": [
    "%sql\n",
    "SELECT * FROM sc_silver.historico_de_servicos;"
   ]
  },
  {
   "cell_type": "code",
   "execution_count": 0,
   "metadata": {
    "application/vnd.databricks.v1+cell": {
     "cellMetadata": {
      "byteLimit": 2048000,
      "implicitDf": true,
      "rowLimit": 10000
     },
     "inputWidgets": {},
     "nuid": "100abd51-30dd-4a46-a4eb-11ed763bdf88",
     "showTitle": false,
     "tableResultSettingsMap": {},
     "title": ""
    }
   },
   "outputs": [],
   "source": [
    "%sql\n",
    "SELECT * FROM sc_silver.leads_pbs;"
   ]
  },
  {
   "cell_type": "code",
   "execution_count": 0,
   "metadata": {
    "application/vnd.databricks.v1+cell": {
     "cellMetadata": {
      "byteLimit": 2048000,
      "implicitDf": true,
      "rowLimit": 10000
     },
     "inputWidgets": {},
     "nuid": "2c6b7bed-a607-4cea-91bc-f8dbd38660f1",
     "showTitle": false,
     "tableResultSettingsMap": {
      "0": {
       "dataGridStateBlob": "{\"version\":1,\"tableState\":{\"columnPinning\":{\"left\":[\"#row_number#\"],\"right\":[]},\"columnSizing\":{\"created_time\":271,\"id\":278,\"id_contacto\":237,\"created_by\":233,\"deal_name\":319,\"id_negocio\":245},\"columnVisibility\":{}},\"settings\":{\"columns\":{}},\"syncTimestamp\":1755292308968}",
       "filterBlob": null,
       "queryPlanFiltersBlob": null,
       "tableResultIndex": 0
      }
     },
     "title": ""
    }
   },
   "outputs": [],
   "source": [
    "%sql\n",
    "SELECT * FROM sc_silver.propostas_realizadas;"
   ]
  },
  {
   "cell_type": "code",
   "execution_count": 0,
   "metadata": {
    "application/vnd.databricks.v1+cell": {
     "cellMetadata": {
      "byteLimit": 2048000,
      "implicitDf": true,
      "rowLimit": 10000
     },
     "inputWidgets": {},
     "nuid": "9a6c7e68-0953-4c2f-afb1-5b1a63eca2a2",
     "showTitle": false,
     "tableResultSettingsMap": {
      "0": {
       "dataGridStateBlob": "{\"version\":1,\"tableState\":{\"columnPinning\":{\"left\":[\"#row_number#\"],\"right\":[]},\"columnSizing\":{},\"columnVisibility\":{}},\"settings\":{\"columns\":{}},\"syncTimestamp\":1755272323249}",
       "filterBlob": null,
       "queryPlanFiltersBlob": null,
       "tableResultIndex": 0
      }
     },
     "title": ""
    }
   },
   "outputs": [],
   "source": [
    "%sql\n",
    "SELECT * FROM sc_silver.viaturas;"
   ]
  },
  {
   "cell_type": "code",
   "execution_count": 0,
   "metadata": {
    "application/vnd.databricks.v1+cell": {
     "cellMetadata": {
      "byteLimit": 2048000,
      "implicitDf": true,
      "rowLimit": 10000
     },
     "inputWidgets": {},
     "nuid": "ebdc6a92-1f63-478e-9cca-d60a8e02e827",
     "showTitle": false,
     "tableResultSettingsMap": {
      "0": {
       "dataGridStateBlob": "{\"version\":1,\"tableState\":{\"columnPinning\":{\"left\":[\"#row_number#\"],\"right\":[]},\"columnSizing\":{},\"columnVisibility\":{}},\"settings\":{\"columns\":{}},\"syncTimestamp\":1755272351234}",
       "filterBlob": null,
       "queryPlanFiltersBlob": null,
       "tableResultIndex": 0
      }
     },
     "title": ""
    }
   },
   "outputs": [],
   "source": [
    "%sql\n",
    "\n",
    "SELECT * FROM sc_silver.viaturas_demo;"
   ]
  },
  {
   "cell_type": "code",
   "execution_count": 0,
   "metadata": {
    "application/vnd.databricks.v1+cell": {
     "cellMetadata": {
      "byteLimit": 2048000,
      "implicitDf": true,
      "rowLimit": 10000
     },
     "inputWidgets": {},
     "nuid": "0721f701-e742-4076-9309-201a6dab599a",
     "showTitle": false,
     "tableResultSettingsMap": {},
     "title": ""
    }
   },
   "outputs": [],
   "source": [
    "%sql\n",
    "-- 1) See each duplicate pair and how many times it appears\n",
    "SELECT id, created_time, COUNT(*) AS cnt\n",
    "FROM sc_silver.leads_pbs\n",
    "GROUP BY id, created_time\n",
    "HAVING COUNT(*) > 1\n",
    "ORDER BY cnt DESC;\n",
    "\n",
    "-- 2) Count total duplicate rows (excluding first occurrence in each group)\n",
    "WITH grouped AS (\n",
    "    SELECT id, created_time, COUNT(*) AS cnt\n",
    "    FROM sc_silver.leads_pbs\n",
    "    GROUP BY id, created_time\n",
    ")\n",
    "SELECT SUM(cnt - 1) AS total_duplicate_rows\n",
    "FROM grouped\n",
    "WHERE cnt > 1;\n"
   ]
  },
  {
   "cell_type": "code",
   "execution_count": 0,
   "metadata": {
    "application/vnd.databricks.v1+cell": {
     "cellMetadata": {
      "byteLimit": 2048000,
      "implicitDf": true,
      "rowLimit": 10000
     },
     "inputWidgets": {},
     "nuid": "e6086950-5896-4815-8da5-47d19cd4861b",
     "showTitle": false,
     "tableResultSettingsMap": {
      "0": {
       "dataGridStateBlob": "{\"version\":1,\"tableState\":{\"columnPinning\":{\"left\":[\"#row_number#\"],\"right\":[]},\"columnSizing\":{\"id\":221,\"_fivetran_id\":190},\"columnVisibility\":{}},\"settings\":{\"columns\":{}},\"syncTimestamp\":1755282394313}",
       "filterBlob": null,
       "queryPlanFiltersBlob": null,
       "tableResultIndex": 0
      }
     },
     "title": ""
    }
   },
   "outputs": [],
   "source": [
    "%sql\n",
    "SELECT *\n",
    "FROM (\n",
    "    SELECT *,\n",
    "           COUNT(*) OVER (PARTITION BY id, created_time) AS cnt\n",
    "    FROM sc_silver.leads_pbs\n",
    ") t\n",
    "WHERE cnt > 1\n",
    "ORDER BY id, created_time;\n"
   ]
  },
  {
   "cell_type": "code",
   "execution_count": 0,
   "metadata": {
    "application/vnd.databricks.v1+cell": {
     "cellMetadata": {
      "byteLimit": 2048000,
      "implicitDf": true,
      "rowLimit": 10000
     },
     "inputWidgets": {},
     "nuid": "a6407020-75a5-4b77-8332-00a1f9499f38",
     "showTitle": false,
     "tableResultSettingsMap": {
      "0": {
       "dataGridStateBlob": "{\"version\":1,\"tableState\":{\"columnPinning\":{\"left\":[\"#row_number#\"],\"right\":[]},\"columnSizing\":{\"id\":193,\"lead_owner\":251,\"_fivetran_id\":168},\"columnVisibility\":{}},\"settings\":{\"columns\":{}},\"syncTimestamp\":1755291548592}",
       "filterBlob": null,
       "queryPlanFiltersBlob": null,
       "tableResultIndex": 0
      }
     },
     "title": ""
    }
   },
   "outputs": [],
   "source": [
    "%sql\n",
    "SELECT a.*\n",
    "FROM sc_silver.leads_pbs a\n",
    "JOIN (\n",
    "  SELECT _fivetran_id, ROW_NUMBER() OVER (PARTITION BY id, created_time ORDER BY _fivetran_id) rn\n",
    "  FROM sc_silver.leads_pbs\n",
    ") b\n",
    "ON a._fivetran_id = b._fivetran_id\n",
    "WHERE b.rn > 1\n",
    "ORDER BY a.id, a.created_time;\n"
   ]
  },
  {
   "cell_type": "code",
   "execution_count": 0,
   "metadata": {
    "application/vnd.databricks.v1+cell": {
     "cellMetadata": {
      "byteLimit": 2048000,
      "implicitDf": true,
      "rowLimit": 10000
     },
     "inputWidgets": {},
     "nuid": "5104876c-9c32-4a36-be3b-df4315ffde39",
     "showTitle": false,
     "tableResultSettingsMap": {},
     "title": ""
    }
   },
   "outputs": [],
   "source": [
    "%sql\n",
    "-- Keep the first row per (id, created_time) and delete the rest\n",
    "WITH ranked AS (\n",
    "  SELECT\n",
    "      _fivetran_id,\n",
    "      ROW_NUMBER() OVER (\n",
    "        PARTITION BY id, created_time\n",
    "        ORDER BY _fivetran_id      -- any stable tiebreaker works\n",
    "      ) AS rn\n",
    "  FROM sc_silver.leads_pbs\n",
    ")\n",
    "DELETE FROM sc_silver.leads_pbs\n",
    "WHERE _fivetran_id IN (SELECT _fivetran_id FROM ranked WHERE rn > 1);\n"
   ]
  },
  {
   "cell_type": "code",
   "execution_count": 0,
   "metadata": {
    "application/vnd.databricks.v1+cell": {
     "cellMetadata": {
      "byteLimit": 2048000,
      "implicitDf": true,
      "rowLimit": 10000
     },
     "inputWidgets": {},
     "nuid": "562b45af-07d9-499e-8a15-6be0de27052e",
     "showTitle": false,
     "tableResultSettingsMap": {},
     "title": ""
    }
   },
   "outputs": [],
   "source": [
    "%sql\n",
    "-- 1) See each duplicate pair and how many times it appears\n",
    "SELECT id, created_time, COUNT(*) AS cnt\n",
    "FROM sc_silver.leads_pbs\n",
    "GROUP BY id, created_time\n",
    "HAVING COUNT(*) > 1\n",
    "ORDER BY cnt DESC;\n",
    "\n",
    "-- 2) Count total duplicate rows (excluding first occurrence in each group)\n",
    "WITH grouped AS (\n",
    "    SELECT id, created_time, COUNT(*) AS cnt\n",
    "    FROM sc_silver.leads_pbs\n",
    "    GROUP BY id, created_time\n",
    ")\n",
    "SELECT SUM(cnt - 1) AS total_duplicate_rows\n",
    "FROM grouped\n",
    "WHERE cnt > 1;"
   ]
  },
  {
   "cell_type": "code",
   "execution_count": 0,
   "metadata": {
    "application/vnd.databricks.v1+cell": {
     "cellMetadata": {
      "byteLimit": 2048000,
      "implicitDf": true,
      "rowLimit": 10000
     },
     "inputWidgets": {},
     "nuid": "326625fd-f464-4339-9559-f8faa554eda0",
     "showTitle": false,
     "tableResultSettingsMap": {},
     "title": ""
    }
   },
   "outputs": [],
   "source": [
    "%sql\n",
    "SELECT *\n",
    "FROM (\n",
    "    SELECT *,\n",
    "           COUNT(*) OVER (PARTITION BY id, created_time) AS cnt\n",
    "    FROM sc_silver.leads_pbs\n",
    ") t\n",
    "WHERE cnt > 1\n",
    "ORDER BY id, created_time;"
   ]
  },
  {
   "cell_type": "code",
   "execution_count": 0,
   "metadata": {
    "application/vnd.databricks.v1+cell": {
     "cellMetadata": {
      "byteLimit": 2048000,
      "implicitDf": true,
      "rowLimit": 10000
     },
     "inputWidgets": {},
     "nuid": "54040b50-db6e-4e59-bcaf-4591c9abe5d4",
     "showTitle": false,
     "tableResultSettingsMap": {},
     "title": ""
    }
   },
   "outputs": [],
   "source": [
    "%sql\n",
    "-- 1) Duplicate (id, data_criacao_da_lead) pairs and their counts\n",
    "SELECT id, data_criacao_da_lead, COUNT(*) AS cnt\n",
    "FROM sc_silver.Contactos_PBS\n",
    "GROUP BY id, data_criacao_da_lead\n",
    "HAVING COUNT(*) > 1\n",
    "ORDER BY cnt DESC;\n",
    "\n",
    "-- 2) Total number of duplicate rows (excluding the first in each pair)\n",
    "WITH grouped AS (\n",
    "  SELECT id, data_criacao_da_lead, COUNT(*) AS cnt\n",
    "  FROM sc_silver.Contactos_PBS\n",
    "  GROUP BY id, data_criacao_da_lead\n",
    ")\n",
    "SELECT COALESCE(SUM(cnt - 1), 0) AS total_duplicate_rows\n",
    "FROM grouped\n",
    "WHERE cnt > 1;\n"
   ]
  },
  {
   "cell_type": "code",
   "execution_count": 0,
   "metadata": {
    "application/vnd.databricks.v1+cell": {
     "cellMetadata": {
      "byteLimit": 2048000,
      "implicitDf": true,
      "rowLimit": 10000
     },
     "inputWidgets": {},
     "nuid": "eaa677f5-abc2-4cdf-ae27-ef3c4f6f5f9b",
     "showTitle": false,
     "tableResultSettingsMap": {
      "0": {
       "dataGridStateBlob": "{\"version\":1,\"tableState\":{\"columnPinning\":{\"left\":[\"#row_number#\"],\"right\":[]},\"columnSizing\":{\"id\":214},\"columnVisibility\":{}},\"settings\":{\"columns\":{}},\"syncTimestamp\":1755291041575}",
       "filterBlob": null,
       "queryPlanFiltersBlob": null,
       "tableResultIndex": 0
      }
     },
     "title": ""
    }
   },
   "outputs": [],
   "source": [
    "%sql\n",
    "SELECT *\n",
    "FROM (\n",
    "  SELECT *,\n",
    "         COUNT(*) OVER (PARTITION BY id, created_time) AS cnt\n",
    "  FROM sc_silver.contactos_pbs\n",
    ") t\n",
    "WHERE cnt > 1\n",
    "ORDER BY id, created_time;\n"
   ]
  },
  {
   "cell_type": "code",
   "execution_count": 0,
   "metadata": {
    "application/vnd.databricks.v1+cell": {
     "cellMetadata": {
      "byteLimit": 2048000,
      "implicitDf": true,
      "rowLimit": 10000
     },
     "inputWidgets": {},
     "nuid": "c9d50da6-0771-4db4-ac32-dc2ef99993fc",
     "showTitle": false,
     "tableResultSettingsMap": {},
     "title": ""
    }
   },
   "outputs": [],
   "source": [
    "%sql\n",
    "-- Keep the first row per (id, created_time) and delete the rest\n",
    "WITH ranked AS (\n",
    "  SELECT\n",
    "      _fivetran_id,\n",
    "      ROW_NUMBER() OVER (\n",
    "        PARTITION BY id, created_time\n",
    "        ORDER BY _fivetran_id          -- change this if you prefer a different keeper\n",
    "      ) AS rn\n",
    "  FROM sc_silver.contactos_pbs\n",
    ")\n",
    "DELETE FROM sc_silver.contactos_pbs\n",
    "WHERE _fivetran_id IN (SELECT _fivetran_id FROM ranked WHERE rn > 1);\n"
   ]
  },
  {
   "cell_type": "code",
   "execution_count": 0,
   "metadata": {
    "application/vnd.databricks.v1+cell": {
     "cellMetadata": {
      "byteLimit": 2048000,
      "implicitDf": true,
      "rowLimit": 10000
     },
     "inputWidgets": {},
     "nuid": "f4f05dc7-f23a-4aa0-81bb-55cb3c61d402",
     "showTitle": false,
     "tableResultSettingsMap": {},
     "title": ""
    }
   },
   "outputs": [],
   "source": [
    "%sql\n",
    "-- 1) Duplicate (id, created_time) pairs and their counts\n",
    "SELECT id, created_time, COUNT(*) AS cnt\n",
    "FROM sc_silver.contactos_pbs\n",
    "GROUP BY id, created_time\n",
    "HAVING COUNT(*) > 1\n",
    "ORDER BY cnt DESC, id, created_time;\n",
    "\n",
    "-- 2) Total duplicate rows (excluding the first in each pair)\n",
    "WITH grouped AS (\n",
    "  SELECT id, created_time, COUNT(*) AS cnt\n",
    "  FROM sc_silver.contactos_pbs\n",
    "  GROUP BY id, created_time\n",
    ")\n",
    "SELECT COALESCE(SUM(cnt - 1), 0) AS total_duplicate_rows\n",
    "FROM grouped\n",
    "WHERE cnt > 1;\n"
   ]
  },
  {
   "cell_type": "code",
   "execution_count": 0,
   "metadata": {
    "application/vnd.databricks.v1+cell": {
     "cellMetadata": {
      "byteLimit": 2048000,
      "implicitDf": true,
      "rowLimit": 10000
     },
     "inputWidgets": {},
     "nuid": "17ef3677-c926-4273-943c-3bfbaa63d6ff",
     "showTitle": false,
     "tableResultSettingsMap": {
      "0": {
       "dataGridStateBlob": "{\"version\":1,\"tableState\":{\"columnPinning\":{\"left\":[\"#row_number#\"],\"right\":[]},\"columnSizing\":{\"created_time\":271,\"id\":223,\"cnt\":142,\"proposta_ids\":286},\"columnVisibility\":{}},\"settings\":{\"columns\":{}},\"syncTimestamp\":1755292472689}",
       "filterBlob": null,
       "queryPlanFiltersBlob": null,
       "tableResultIndex": 0
      }
     },
     "title": ""
    }
   },
   "outputs": [],
   "source": [
    "%sql\n",
    "SELECT\n",
    "  id,\n",
    "  created_time,\n",
    "  COUNT(*) AS cnt,\n",
    "  COLLECT_SET(id_proposta_realizada) AS proposta_ids  -- use COLLECT_LIST if you want repeats\n",
    "FROM sc_silver.propostas_realizadas\n",
    "GROUP BY id, created_time\n",
    "HAVING COUNT(*) > 1\n",
    "ORDER BY cnt DESC, id, created_time;\n"
   ]
  },
  {
   "cell_type": "code",
   "execution_count": 0,
   "metadata": {
    "application/vnd.databricks.v1+cell": {
     "cellMetadata": {
      "byteLimit": 2048000,
      "implicitDf": true,
      "rowLimit": 10000
     },
     "inputWidgets": {},
     "nuid": "a280220c-5ae0-4d4e-9dc3-90eef05c88b7",
     "showTitle": false,
     "tableResultSettingsMap": {
      "0": {
       "dataGridStateBlob": "{\"version\":1,\"tableState\":{\"columnPinning\":{\"left\":[\"#row_number#\"],\"right\":[]},\"columnSizing\":{\"created_time\":327,\"id\":244},\"columnVisibility\":{}},\"settings\":{\"columns\":{}},\"syncTimestamp\":1755292673673}",
       "filterBlob": null,
       "queryPlanFiltersBlob": null,
       "tableResultIndex": 0
      }
     },
     "title": ""
    }
   },
   "outputs": [],
   "source": [
    "%sql\n",
    "SELECT\n",
    "  id,\n",
    "  created_time,\n",
    "  id_proposta_realizada,\n",
    "  subject,\n",
    "  proposta_realizada_owner,\n",
    "  proposta_realizada_owner_name,\n",
    "  cnt\n",
    "FROM (\n",
    "  SELECT *,\n",
    "         COUNT(*) OVER (PARTITION BY id, created_time) AS cnt\n",
    "  FROM sc_silver.propostas_realizadas\n",
    ") t\n",
    "WHERE cnt > 1\n",
    "ORDER BY id, created_time, id_proposta_realizada;\n"
   ]
  },
  {
   "cell_type": "code",
   "execution_count": 0,
   "metadata": {
    "application/vnd.databricks.v1+cell": {
     "cellMetadata": {
      "byteLimit": 2048000,
      "implicitDf": true,
      "rowLimit": 10000
     },
     "inputWidgets": {},
     "nuid": "dd836745-706b-4028-88c8-cdb38bb0f18c",
     "showTitle": false,
     "tableResultSettingsMap": {},
     "title": ""
    }
   },
   "outputs": [],
   "source": [
    "%sql\n",
    "WITH ranked AS (\n",
    "  SELECT\n",
    "      _fivetran_id,\n",
    "      ROW_NUMBER() OVER (\n",
    "        PARTITION BY id, created_time, id_proposta_realizada\n",
    "        ORDER BY _fivetran_id\n",
    "      ) AS rn\n",
    "  FROM sc_silver.propostas_realizadas\n",
    ")\n",
    "DELETE FROM sc_silver.propostas_realizadas\n",
    "WHERE _fivetran_id IN (SELECT _fivetran_id FROM ranked WHERE rn > 1);\n"
   ]
  },
  {
   "cell_type": "code",
   "execution_count": 0,
   "metadata": {
    "application/vnd.databricks.v1+cell": {
     "cellMetadata": {
      "byteLimit": 2048000,
      "implicitDf": true,
      "rowLimit": 10000
     },
     "inputWidgets": {},
     "nuid": "9072344b-43dc-4ad5-96f7-625e7d8d2dc9",
     "showTitle": false,
     "tableResultSettingsMap": {},
     "title": ""
    }
   },
   "outputs": [],
   "source": [
    "%sql\n",
    "SELECT *\n",
    "FROM (\n",
    "  SELECT *,\n",
    "         COUNT(*) OVER (PARTITION BY id, created_time) AS cnt\n",
    "  FROM sc_silver.contactos_pbs\n",
    ") t\n",
    "WHERE cnt > 1\n",
    "ORDER BY id, created_time;"
   ]
  },
  {
   "cell_type": "code",
   "execution_count": 0,
   "metadata": {
    "application/vnd.databricks.v1+cell": {
     "cellMetadata": {
      "byteLimit": 2048000,
      "implicitDf": true,
      "rowLimit": 10000
     },
     "inputWidgets": {},
     "nuid": "98a154f3-9772-4c79-8189-478d4d023be6",
     "showTitle": false,
     "tableResultSettingsMap": {
      "0": {
       "dataGridStateBlob": "{\"version\":1,\"tableState\":{\"columnPinning\":{\"left\":[\"#row_number#\"],\"right\":[]},\"columnSizing\":{\"id_contacto\":268},\"columnVisibility\":{}},\"settings\":{\"columns\":{}},\"syncTimestamp\":1755293231846}",
       "filterBlob": null,
       "queryPlanFiltersBlob": null,
       "tableResultIndex": 0
      }
     },
     "title": ""
    }
   },
   "outputs": [],
   "source": [
    "%sql\n",
    "-- Show the actual rows that belong to duplicated (id, created_time) pairs\n",
    "SELECT *\n",
    "FROM (\n",
    "  SELECT d.*,\n",
    "         COUNT(*) OVER (PARTITION BY id, created_time) AS cnt\n",
    "  FROM sc_silver.deals d\n",
    ") t\n",
    "WHERE cnt > 1\n",
    "ORDER BY id, created_time;\n"
   ]
  },
  {
   "cell_type": "code",
   "execution_count": 0,
   "metadata": {
    "application/vnd.databricks.v1+cell": {
     "cellMetadata": {
      "byteLimit": 2048000,
      "implicitDf": true,
      "rowLimit": 10000
     },
     "inputWidgets": {},
     "nuid": "fd549c64-0ce2-4583-9529-98bee1d74c3a",
     "showTitle": false,
     "tableResultSettingsMap": {
      "0": {
       "dataGridStateBlob": "{\"version\":1,\"tableState\":{\"columnPinning\":{\"left\":[\"#row_number#\"],\"right\":[]},\"columnSizing\":{\"id\":213},\"columnVisibility\":{}},\"settings\":{\"columns\":{}},\"syncTimestamp\":1755293256163}",
       "filterBlob": null,
       "queryPlanFiltersBlob": null,
       "tableResultIndex": 0
      }
     },
     "title": ""
    }
   },
   "outputs": [],
   "source": [
    "%sql\n",
    "SELECT id, created_time, COUNT(*) AS cnt\n",
    "FROM sc_silver.deals\n",
    "GROUP BY id, created_time\n",
    "HAVING COUNT(*) > 1\n",
    "ORDER BY cnt DESC, id, created_time;\n"
   ]
  },
  {
   "cell_type": "code",
   "execution_count": 0,
   "metadata": {
    "application/vnd.databricks.v1+cell": {
     "cellMetadata": {
      "byteLimit": 2048000,
      "implicitDf": true,
      "rowLimit": 10000
     },
     "inputWidgets": {},
     "nuid": "c072fad3-8330-4a63-be9e-5583110d73ed",
     "showTitle": false,
     "tableResultSettingsMap": {},
     "title": ""
    }
   },
   "outputs": [],
   "source": [
    "%sql\n",
    "-- (Optional) Preview rows that would be deleted\n",
    "SELECT a.*\n",
    "FROM sc_silver.deals a\n",
    "JOIN (\n",
    "  SELECT _fivetran_id,\n",
    "         ROW_NUMBER() OVER (\n",
    "           PARTITION BY id, created_time\n",
    "           ORDER BY _fivetran_id          -- pick your preferred tiebreaker\n",
    "         ) AS rn\n",
    "  FROM sc_silver.deals\n",
    ") r\n",
    "ON a._fivetran_id = r._fivetran_id\n",
    "WHERE r.rn > 1\n",
    "ORDER BY a.id, a.created_time, a._fivetran_id;\n"
   ]
  },
  {
   "cell_type": "code",
   "execution_count": 0,
   "metadata": {
    "application/vnd.databricks.v1+cell": {
     "cellMetadata": {
      "byteLimit": 2048000,
      "implicitDf": true,
      "rowLimit": 10000
     },
     "inputWidgets": {},
     "nuid": "ea75af04-9cab-4f80-93d0-f33a2b373934",
     "showTitle": false,
     "tableResultSettingsMap": {},
     "title": ""
    }
   },
   "outputs": [],
   "source": [
    "%sql\n",
    "-- Delete all but one row per (id, created_time)\n",
    "WITH ranked AS (\n",
    "  SELECT\n",
    "      _fivetran_id,\n",
    "      ROW_NUMBER() OVER (\n",
    "        PARTITION BY id, created_time\n",
    "        ORDER BY _fivetran_id          -- change if you want a different keeper\n",
    "      ) AS rn\n",
    "  FROM sc_silver.deals\n",
    ")\n",
    "DELETE FROM sc_silver.deals\n",
    "WHERE _fivetran_id IN (SELECT _fivetran_id FROM ranked WHERE rn > 1);\n"
   ]
  },
  {
   "cell_type": "code",
   "execution_count": 0,
   "metadata": {
    "application/vnd.databricks.v1+cell": {
     "cellMetadata": {
      "byteLimit": 2048000,
      "implicitDf": true,
      "rowLimit": 10000
     },
     "inputWidgets": {},
     "nuid": "3a559b41-35f9-4fbc-8518-d8eea97717e2",
     "showTitle": false,
     "tableResultSettingsMap": {},
     "title": ""
    }
   },
   "outputs": [],
   "source": [
    "%sql\n",
    "SELECT id, created_time, COUNT(*) AS cnt\n",
    "FROM sc_silver.deals\n",
    "GROUP BY id, created_time\n",
    "HAVING COUNT(*) > 1\n",
    "ORDER BY cnt DESC, id, created_time;"
   ]
  },
  {
   "cell_type": "code",
   "execution_count": 0,
   "metadata": {
    "application/vnd.databricks.v1+cell": {
     "cellMetadata": {
      "byteLimit": 2048000,
      "implicitDf": true,
      "rowLimit": 10000
     },
     "inputWidgets": {},
     "nuid": "de4ff887-f784-46db-8fb7-6f4786a9fedc",
     "showTitle": false,
     "tableResultSettingsMap": {
      "0": {
       "dataGridStateBlob": "{\"version\":1,\"tableState\":{\"columnPinning\":{\"left\":[\"#row_number#\"],\"right\":[]},\"columnSizing\":{\"id\":216},\"columnVisibility\":{}},\"settings\":{\"columns\":{}},\"syncTimestamp\":1755294794727}",
       "filterBlob": null,
       "queryPlanFiltersBlob": null,
       "tableResultIndex": 0
      }
     },
     "title": ""
    }
   },
   "outputs": [],
   "source": [
    "%sql\n",
    "-- sc_silver.contas_pbs\n",
    "SELECT *\n",
    "FROM (\n",
    "  SELECT t.*,\n",
    "         COUNT(*) OVER (PARTITION BY id, created_time) AS cnt\n",
    "  FROM sc_silver.contas_pbs t\n",
    ") t\n",
    "WHERE cnt > 1\n",
    "ORDER BY id, created_time;\n"
   ]
  },
  {
   "cell_type": "code",
   "execution_count": 0,
   "metadata": {
    "application/vnd.databricks.v1+cell": {
     "cellMetadata": {
      "byteLimit": 2048000,
      "implicitDf": true,
      "rowLimit": 10000
     },
     "inputWidgets": {},
     "nuid": "c224238a-f3f0-4b37-af29-201b0ac6f79d",
     "showTitle": false,
     "tableResultSettingsMap": {},
     "title": ""
    }
   },
   "outputs": [],
   "source": [
    "%sql\n",
    "-- Delete all but one row per (id, created_time)\n",
    "WITH ranked AS (\n",
    "  SELECT\n",
    "    _fivetran_id,\n",
    "    ROW_NUMBER() OVER (\n",
    "      PARTITION BY id, created_time\n",
    "      ORDER BY _fivetran_id          -- e.g., use updated_at DESC to keep newest\n",
    "    ) AS rn\n",
    "  FROM sc_silver.contas_pbs\n",
    ")\n",
    "DELETE FROM sc_silver.contas_pbs\n",
    "WHERE _fivetran_id IN (\n",
    "  SELECT _fivetran_id FROM ranked WHERE rn > 1\n",
    ");\n"
   ]
  },
  {
   "cell_type": "code",
   "execution_count": 0,
   "metadata": {
    "application/vnd.databricks.v1+cell": {
     "cellMetadata": {
      "byteLimit": 2048000,
      "implicitDf": true,
      "rowLimit": 10000
     },
     "inputWidgets": {},
     "nuid": "5c722822-f5a6-494d-b5ca-8bf4fe24d1e9",
     "showTitle": false,
     "tableResultSettingsMap": {},
     "title": ""
    }
   },
   "outputs": [],
   "source": [
    "%sql\n",
    "-- sc_silver.contas_importador_pbs\n",
    "SELECT *\n",
    "FROM (\n",
    "  SELECT t.*,\n",
    "         COUNT(*) OVER (PARTITION BY id, created_time) AS cnt\n",
    "  FROM sc_silver.contas_importador_pbs t\n",
    ") t\n",
    "WHERE cnt > 1\n",
    "ORDER BY id, created_time;\n"
   ]
  },
  {
   "cell_type": "code",
   "execution_count": 0,
   "metadata": {
    "application/vnd.databricks.v1+cell": {
     "cellMetadata": {
      "byteLimit": 2048000,
      "implicitDf": true,
      "rowLimit": 10000
     },
     "inputWidgets": {},
     "nuid": "e494f27d-5c3b-4daa-a67e-da9f820f70e8",
     "showTitle": false,
     "tableResultSettingsMap": {},
     "title": ""
    }
   },
   "outputs": [],
   "source": [
    "%sql\n",
    "-- Delete all but one row per (id, created_time)\n",
    "WITH ranked AS (\n",
    "  SELECT\n",
    "    _fivetran_id,\n",
    "    ROW_NUMBER() OVER (\n",
    "      PARTITION BY id, created_time\n",
    "      ORDER BY _fivetran_id            -- e.g., use updated_at DESC to keep newest\n",
    "    ) AS rn\n",
    "  FROM sc_silver.contas_importador_pbs\n",
    ")\n",
    "DELETE FROM sc_silver.contas_importador_pbs\n",
    "WHERE _fivetran_id IN (SELECT _fivetran_id FROM ranked WHERE rn > 1);\n"
   ]
  },
  {
   "cell_type": "code",
   "execution_count": 0,
   "metadata": {
    "application/vnd.databricks.v1+cell": {
     "cellMetadata": {
      "byteLimit": 2048000,
      "implicitDf": true,
      "rowLimit": 10000
     },
     "inputWidgets": {},
     "nuid": "ab91840b-467d-4a05-b0b5-f2d0ce6a0976",
     "showTitle": false,
     "tableResultSettingsMap": {},
     "title": ""
    }
   },
   "outputs": [],
   "source": [
    "%sql\n",
    "-- sc_silver.campanha_vouchers\n",
    "SELECT *\n",
    "FROM (\n",
    "  SELECT t.*,\n",
    "         COUNT(*) OVER (PARTITION BY id, created_time) AS cnt\n",
    "  FROM sc_silver.campanha_vouchers t\n",
    ") t\n",
    "WHERE cnt > 1\n",
    "ORDER BY id, created_time;\n"
   ]
  },
  {
   "cell_type": "code",
   "execution_count": 0,
   "metadata": {
    "application/vnd.databricks.v1+cell": {
     "cellMetadata": {
      "byteLimit": 2048000,
      "implicitDf": true,
      "rowLimit": 10000
     },
     "inputWidgets": {},
     "nuid": "409317cf-8f86-4472-859f-c68ae11baef2",
     "showTitle": false,
     "tableResultSettingsMap": {},
     "title": ""
    }
   },
   "outputs": [],
   "source": [
    "%sql\n",
    "-- sc_silver.bd_rede_hyundai\n",
    "SELECT *\n",
    "FROM (\n",
    "  SELECT t.*,\n",
    "         COUNT(*) OVER (PARTITION BY id, created_time) AS cnt\n",
    "  FROM sc_silver.bd_rede_hyundai t\n",
    ") t\n",
    "WHERE cnt > 1\n",
    "ORDER BY id, created_time;\n"
   ]
  },
  {
   "cell_type": "code",
   "execution_count": 0,
   "metadata": {
    "application/vnd.databricks.v1+cell": {
     "cellMetadata": {
      "byteLimit": 2048000,
      "implicitDf": true,
      "rowLimit": 10000
     },
     "inputWidgets": {},
     "nuid": "26afa282-0bd2-43ce-8ad1-ada4675df761",
     "showTitle": false,
     "tableResultSettingsMap": {},
     "title": ""
    }
   },
   "outputs": [],
   "source": [
    "%sql\n",
    "-- sc_silver.campanhas_tecnicas\n",
    "SELECT *\n",
    "FROM (\n",
    "  SELECT t.*,\n",
    "         COUNT(*) OVER (PARTITION BY id, created_time) AS cnt\n",
    "  FROM sc_silver.campanhas_tecnicas t\n",
    ") t\n",
    "WHERE cnt > 1\n",
    "ORDER BY id, created_time;\n"
   ]
  },
  {
   "cell_type": "code",
   "execution_count": 0,
   "metadata": {
    "application/vnd.databricks.v1+cell": {
     "cellMetadata": {
      "byteLimit": 2048000,
      "implicitDf": true,
      "rowLimit": 10000
     },
     "inputWidgets": {},
     "nuid": "5b4e5011-13dc-47ab-b16b-5ccc43c5e70b",
     "showTitle": false,
     "tableResultSettingsMap": {},
     "title": ""
    }
   },
   "outputs": [],
   "source": [
    "%sql\n",
    "-- sc_silver.contactos_importador_pbs\n",
    "SELECT *\n",
    "FROM (\n",
    "  SELECT t.*,\n",
    "         COUNT(*) OVER (PARTITION BY id, created_time) AS cnt\n",
    "  FROM sc_silver.contactos_importador_pbs t\n",
    ") t\n",
    "WHERE cnt > 1\n",
    "ORDER BY id, created_time;\n"
   ]
  },
  {
   "cell_type": "code",
   "execution_count": 0,
   "metadata": {
    "application/vnd.databricks.v1+cell": {
     "cellMetadata": {
      "byteLimit": 2048000,
      "implicitDf": true,
      "rowLimit": 10000
     },
     "inputWidgets": {},
     "nuid": "c3ddf3a6-9436-4f57-a821-6bbd4c35da02",
     "showTitle": false,
     "tableResultSettingsMap": {},
     "title": ""
    }
   },
   "outputs": [],
   "source": [
    "%sql\n",
    "-- Delete all but one row per (id, created_time)\n",
    "WITH ranked AS (\n",
    "  SELECT\n",
    "    _fivetran_id,\n",
    "    ROW_NUMBER() OVER (\n",
    "      PARTITION BY id, created_time\n",
    "      ORDER BY _fivetran_id          -- e.g., use updated_at DESC to keep newest\n",
    "    ) AS rn\n",
    "  FROM sc_silver.contactos_importador_pbs\n",
    ")\n",
    "DELETE FROM sc_silver.contactos_importador_pbs\n",
    "WHERE _fivetran_id IN (SELECT _fivetran_id FROM ranked WHERE rn > 1);\n"
   ]
  },
  {
   "cell_type": "code",
   "execution_count": 0,
   "metadata": {
    "application/vnd.databricks.v1+cell": {
     "cellMetadata": {
      "byteLimit": 2048000,
      "implicitDf": true,
      "rowLimit": 10000
     },
     "inputWidgets": {},
     "nuid": "686f44a0-4ecd-45cf-8195-b6e72244b970",
     "showTitle": false,
     "tableResultSettingsMap": {},
     "title": ""
    }
   },
   "outputs": [],
   "source": [
    "%sql\n",
    "-- sc_silver.contratos_financiamento\n",
    "SELECT *\n",
    "FROM (\n",
    "  SELECT t.*,\n",
    "         COUNT(*) OVER (PARTITION BY id, created_time) AS cnt\n",
    "  FROM sc_silver.contratos_financiamento t\n",
    ") t\n",
    "WHERE cnt > 1\n",
    "ORDER BY id, created_time;\n"
   ]
  },
  {
   "cell_type": "code",
   "execution_count": 0,
   "metadata": {
    "application/vnd.databricks.v1+cell": {
     "cellMetadata": {
      "byteLimit": 2048000,
      "implicitDf": true,
      "rowLimit": 10000
     },
     "inputWidgets": {},
     "nuid": "caeae908-e11c-4684-8c84-56b23ea61fdf",
     "showTitle": false,
     "tableResultSettingsMap": {},
     "title": ""
    }
   },
   "outputs": [],
   "source": [
    "%sql\n",
    "-- sc_silver.historico_de_servicos\n",
    "SELECT *\n",
    "FROM (\n",
    "  SELECT t.*,\n",
    "         COUNT(*) OVER (PARTITION BY id, created_time) AS cnt\n",
    "  FROM sc_silver.historico_de_servicos t\n",
    ") t\n",
    "WHERE cnt > 1\n",
    "ORDER BY id, created_time;\n"
   ]
  },
  {
   "cell_type": "code",
   "execution_count": 0,
   "metadata": {
    "application/vnd.databricks.v1+cell": {
     "cellMetadata": {
      "byteLimit": 2048000,
      "implicitDf": true,
      "rowLimit": 10000
     },
     "inputWidgets": {},
     "nuid": "204bf95b-d78d-4d7b-9c08-1a8b516ff701",
     "showTitle": false,
     "tableResultSettingsMap": {},
     "title": ""
    }
   },
   "outputs": [],
   "source": [
    "%sql\n",
    "-- sc_silver.viaturas\n",
    "SELECT *\n",
    "FROM (\n",
    "  SELECT t.*,\n",
    "         COUNT(*) OVER (PARTITION BY id, created_time) AS cnt\n",
    "  FROM sc_silver.viaturas t\n",
    ") t\n",
    "WHERE cnt > 1\n",
    "ORDER BY id, created_time;\n"
   ]
  },
  {
   "cell_type": "code",
   "execution_count": 0,
   "metadata": {
    "application/vnd.databricks.v1+cell": {
     "cellMetadata": {
      "byteLimit": 2048000,
      "implicitDf": true,
      "rowLimit": 10000
     },
     "inputWidgets": {},
     "nuid": "9b491ada-a988-48ba-b653-b6e2489159af",
     "showTitle": false,
     "tableResultSettingsMap": {},
     "title": ""
    }
   },
   "outputs": [],
   "source": [
    "%sql\n",
    "-- sc_silver.viaturas_demo\n",
    "SELECT *\n",
    "FROM (\n",
    "  SELECT t.*,\n",
    "         COUNT(*) OVER (PARTITION BY id, created_time) AS cnt\n",
    "  FROM sc_silver.viaturas_demo t\n",
    ") t\n",
    "WHERE cnt > 1\n",
    "ORDER BY id, created_time;\n"
   ]
  },
  {
   "cell_type": "code",
   "execution_count": 0,
   "metadata": {
    "application/vnd.databricks.v1+cell": {
     "cellMetadata": {
      "byteLimit": 2048000,
      "rowLimit": 10000
     },
     "inputWidgets": {},
     "nuid": "f259da9a-e54e-4f70-84d1-c3f7c679014a",
     "showTitle": false,
     "tableResultSettingsMap": {},
     "title": ""
    }
   },
   "outputs": [],
   "source": [
    "# Databricks: run as a Python cell\n",
    "from pyspark.sql import functions as F, types as T\n",
    "\n",
    "TABLES = [\n",
    "    \"sc_silver.bd_rede_hyundai\",\n",
    "    \"sc_silver.campaigns\",\n",
    "    \"sc_silver.campanha_vouchers\",\n",
    "    \"sc_silver.campanhas_tecnicas\",\n",
    "    \"sc_silver.contactos_importador_pbs\",\n",
    "    \"sc_silver.contactos_pbs\",\n",
    "    \"sc_silver.contas_importador_pbs\",\n",
    "    \"sc_silver.contas_pbs\",\n",
    "    \"sc_silver.contratos_financiamento\",\n",
    "    \"sc_silver.deals\",\n",
    "    \"sc_silver.historico_de_servicos\",\n",
    "    \"sc_silver.leads_pbs\",\n",
    "    \"sc_silver.propostas_realizadas\",\n",
    "    \"sc_silver.viaturas\",\n",
    "    \"sc_silver.viaturas_demo\",\n",
    "]\n",
    "\n",
    "def preserve_case(colname: str) -> bool:\n",
    "    \"\"\"\n",
    "    Columns to NOT proper-case (keep original case, only trim):\n",
    "    IDs, emails, URLs, VIN/IBAN, geo codes, date/time-like, etc.\n",
    "    \"\"\"\n",
    "    c = colname.lower()\n",
    "    if c == \"id\" or c.endswith(\"_id\") or c.endswith(\"id\"):\n",
    "        return True\n",
    "    sensitive_terms = [\n",
    "        \"email\", \"mail\", \"url\", \"http\", \"https\",\n",
    "        \"vin\", \"iban\", \"bic\", \"swift\", \"uuid\", \"guid\", \"imei\", \"ip\", \"mac\",\n",
    "        \"nif\", \"nipc\", \"niss\", \"vat\",\n",
    "        \"postal\", \"codigo_postal\", \"zip\", \"cep\",\n",
    "        \"matricula\", \"placa\", \"chassis\", \"plate\",\n",
    "        \"lat\", \"lng\", \"lon\", \"latitude\", \"longitude\",\n",
    "    ]\n",
    "    if any(term in c for term in sensitive_terms):\n",
    "        return True\n",
    "    # date/time-like names\n",
    "    if \"date\" in c or \"data\" in c or \"time\" in c or \"timestamp\" in c:\n",
    "        return True\n",
    "    return False\n",
    "\n",
    "def clean_string_col(name: str):\n",
    "    col = F.col(name)\n",
    "    # Trim ONLY ends; DO NOT normalize internal spaces or remove control chars; DO NOT map \"\" -> NULL\n",
    "    col = F.trim(col)\n",
    "    # Proper-case (per word) unless column should preserve case\n",
    "    if not preserve_case(name):\n",
    "        col = F.initcap(F.lower(col))  # e.g., \"JOÃO DA SILVA\" -> \"João Da Silva\"\n",
    "    return col.alias(name)\n",
    "\n",
    "def clean_df(df):\n",
    "    out = []\n",
    "    for f in df.schema.fields:\n",
    "        if isinstance(f.dataType, T.StringType):\n",
    "            out.append(clean_string_col(f.name))\n",
    "        else:\n",
    "            # non-string columns unchanged\n",
    "            out.append(F.col(f.name))\n",
    "    return df.select(*out)\n",
    "\n",
    "for full_name in TABLES:\n",
    "    df = spark.table(full_name)\n",
    "    df_clean = clean_df(df)\n",
    "    # Overwrite original table in place (Delta)\n",
    "    df_clean.write.mode(\"overwrite\").option(\"overwriteSchema\", \"true\").saveAsTable(full_name)\n",
    "    print(f\"Overwrote: {full_name}\")\n"
   ]
  }
 ],
 "metadata": {
  "application/vnd.databricks.v1+notebook": {
   "computePreferences": null,
   "dashboards": [],
   "environmentMetadata": {
    "base_environment": "",
    "environment_version": "2"
   },
   "inputWidgetPreferences": null,
   "language": "python",
   "notebookMetadata": {
    "mostRecentlyExecutedCommandWithImplicitDF": {
     "commandId": 4749263776272276,
     "dataframes": [
      "_sqldf"
     ]
    },
    "pythonIndentUnit": 4
   },
   "notebookName": "Notebook_Pedro",
   "widgets": {}
  },
  "language_info": {
   "name": "python"
  }
 },
 "nbformat": 4,
 "nbformat_minor": 0
}
