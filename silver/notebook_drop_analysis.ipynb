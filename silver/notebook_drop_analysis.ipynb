{
 "cells": [
  {
   "cell_type": "code",
   "execution_count": 0,
   "metadata": {
    "application/vnd.databricks.v1+cell": {
     "cellMetadata": {
      "byteLimit": 2048000,
      "implicitDf": true,
      "rowLimit": 10000
     },
     "inputWidgets": {},
     "nuid": "a221e5e9-3794-41f0-a103-bf1bcec77e27",
     "showTitle": false,
     "tableResultSettingsMap": {},
     "title": ""
    }
   },
   "outputs": [],
   "source": [
    "%sql\n",
    "\n",
    "/***********************\n",
    "Begining of the analysis\n",
    "***********************/\n",
    "\n",
    "SELECT\n",
    "  100 * SUM(CASE WHEN conta_name IS NULL THEN 1 ELSE 0 END) / COUNT(*) AS conta_name,\n",
    "  100 * SUM(CASE WHEN secondary_email IS NULL THEN 1 ELSE 0 END) / COUNT(*) AS secondary_email,\n",
    "  100 * SUM(CASE WHEN matricula IS NULL THEN 1 ELSE 0 END) / COUNT(*) AS matricula,\n",
    "  100 * SUM(CASE WHEN id_conta IS NULL THEN 1 ELSE 0 END) / COUNT(*) AS id_conta,\n",
    "  100 * SUM(CASE WHEN numero_de_cliente_dms IS NULL THEN 1 ELSE 0 END) / COUNT(*) AS numero_de_cliente_dms,\n",
    "  100 * SUM(CASE WHEN quando_prefere_ser_contactado IS NULL THEN 1 ELSE 0 END) / COUNT(*) AS quando_prefere_ser_contactado,\n",
    "  100 * SUM(CASE WHEN quando_necessita_carro_novo IS NULL THEN 1 ELSE 0 END) / COUNT(*) AS quando_necessita_carro_novo,\n",
    "  100 * SUM(CASE WHEN motivo_de_interesse IS NULL THEN 1 ELSE 0 END) / COUNT(*) AS motivo_de_interesse,\n",
    "  100 * SUM(CASE WHEN data_criacao_do_contacto IS NULL THEN 1 ELSE 0 END) / COUNT(*) AS data_criacao_do_contacto,\n",
    "  100 * SUM(CASE WHEN profissao IS NULL THEN 1 ELSE 0 END) / COUNT(*) AS profissao,\n",
    "  100 * SUM(CASE WHEN classificacao_do_contacto IS NULL THEN 1 ELSE 0 END) / COUNT(*) AS classificacao_do_contacto,\n",
    "  100 * SUM(CASE WHEN last_name IS NULL THEN 1 ELSE 0 END) / COUNT(*) AS last_name, --No NULLs\n",
    "  100 * SUM(CASE WHEN row_names IS NULL THEN 1 ELSE 0 END) / COUNT(*) AS row_names, --No NULLs\n",
    "  100 * SUM(CASE WHEN email IS NULL THEN 1 ELSE 0 END) / COUNT(*) AS email, --No NULLs\n",
    "  100 * SUM(CASE WHEN mobile IS NULL THEN 1 ELSE 0 END) / COUNT(*) AS mobile, --No NULLs\n",
    "  100 * SUM(CASE WHEN first_name IS NULL THEN 1 ELSE 0 END) / COUNT(*) AS first_name, --No NULLs\n",
    "  100 * SUM(CASE WHEN phone IS NULL THEN 1 ELSE 0 END) / COUNT(*) AS phone, --No NULLs\n",
    "  100 * SUM(CASE WHEN date_of_birth IS NULL THEN 1 ELSE 0 END) / COUNT(*) AS date_of_birth,\n",
    "  100 * SUM(CASE WHEN email_opt_out IS NULL THEN 1 ELSE 0 END) / COUNT(*) AS email_opt_out, --No NULLs\n",
    "  100 * SUM(CASE WHEN salutation IS NULL THEN 1 ELSE 0 END) / COUNT(*) AS salutation, --Only ~37 NULLs\n",
    "  100 * SUM(CASE WHEN tag IS NULL THEN 1 ELSE 0 END) / COUNT(*) AS tag,\n",
    "  100 * SUM(CASE WHEN codigo_postal IS NULL THEN 1 ELSE 0 END) / COUNT(*) AS codigo_postal, --Only ~38 NULLs\n",
    "  100 * SUM(CASE WHEN login_myhyundai IS NULL THEN 1 ELSE 0 END) / COUNT(*) AS login_myhyundai, --No NULLs\n",
    "  100 * SUM(CASE WHEN full_name IS NULL THEN 1 ELSE 0 END) / COUNT(*) AS full_name, --No NULLs\n",
    "  100 * SUM(CASE WHEN pioneiros_myhyundai IS NULL THEN 1 ELSE 0 END) / COUNT(*) AS pioneiros_myhyundai,\n",
    "  100 * SUM(CASE WHEN lead_source IS NULL THEN 1 ELSE 0 END) / COUNT(*) AS lead_source,\n",
    "  100 * SUM(CASE WHEN nif IS NULL THEN 1 ELSE 0 END) / COUNT(*) AS nif, --No NULLs\n",
    "  100 * SUM(CASE WHEN modo_de_contacto_preferencial IS NULL THEN 1 ELSE 0 END) / COUNT(*) AS modo_de_contacto_preferencial,\n",
    "  100 * SUM(CASE WHEN distrito IS NULL THEN 1 ELSE 0 END) / COUNT(*) AS distrito, --~82 NULLs\n",
    "  100 * SUM(CASE WHEN pais IS NULL THEN 1 ELSE 0 END) / COUNT(*) AS pais, --Only ~34 NULLs\n",
    "  100 * SUM(CASE WHEN sexo IS NULL THEN 1 ELSE 0 END) / COUNT(*) AS sexo,\n",
    "  100 * SUM(CASE WHEN localidade IS NULL THEN 1 ELSE 0 END) / COUNT(*) AS localidade,\n",
    "  100 * SUM(CASE WHEN morada IS NULL THEN 1 ELSE 0 END) / COUNT(*) AS morada, --No NULLs\n",
    "  100 * SUM(CASE WHEN concelho IS NULL THEN 1 ELSE 0 END) / COUNT(*) AS concelho,\n",
    "  100 * SUM(CASE WHEN consentimento IS NULL THEN 1 ELSE 0 END) / COUNT(*) AS consentimento, --~61 NULLs\n",
    "  100 * SUM(CASE WHEN data_de_recolha_de_consentimento_hyundai IS NULL THEN 1 ELSE 0 END) / COUNT(*) AS data_de_recolha_de_consentimento_hyundai, --~61 NULLs\n",
    "  100 * SUM(CASE WHEN description IS NULL THEN 1 ELSE 0 END) / COUNT(*) AS description,\n",
    "  100 * SUM(CASE WHEN link_centro_consentimento IS NULL THEN 1 ELSE 0 END) / COUNT(*) AS link_centro_consentimento, --~61 NULLs\n",
    "  100 * SUM(CASE WHEN ccupdated IS NULL THEN 1 ELSE 0 END) / COUNT(*) AS ccupdated --No NULLs\n",
    "FROM sc_bronze_pbs2025bacapstoneg2u2.contactos_pbs;"
   ]
  },
  {
   "cell_type": "code",
   "execution_count": 0,
   "metadata": {
    "application/vnd.databricks.v1+cell": {
     "cellMetadata": {
      "byteLimit": 2048000,
      "implicitDf": true,
      "rowLimit": 10000
     },
     "inputWidgets": {},
     "nuid": "52360526-b2e8-4aa5-90fa-72e9bacdc094",
     "showTitle": false,
     "tableResultSettingsMap": {
      "0": {
       "dataGridStateBlob": "{\"version\":1,\"tableState\":{\"columnPinning\":{\"left\":[\"#row_number#\"],\"right\":[]},\"columnSizing\":{},\"columnVisibility\":{}},\"settings\":{\"columns\":{\"link_centro_consentimento\":{\"format\":{\"preset\":\"string-preset-url\"}}}},\"syncTimestamp\":1755384843739}",
       "filterBlob": null,
       "queryPlanFiltersBlob": null,
       "tableResultIndex": 0
      }
     },
     "title": ""
    }
   },
   "outputs": [],
   "source": [
    "%sql\n",
    "\n",
    "/*********************************************************************\n",
    "After analysing the false positives below, these columns will be kept:\n",
    "•row_names\n",
    "•email_opt_out\n",
    "•salutation\n",
    "•distrito\n",
    "•pais\n",
    "•consentimento\n",
    "•data_de_recolha_de_consentimento_hyundai\n",
    "•link_centro_consentimento\n",
    "•ccupdated\n",
    "*********************************************************************/\n",
    "\n",
    "SELECT\n",
    "  last_name, --'X' instead\n",
    "  row_names, --No NULLs\n",
    "  email, --'X' instead\n",
    "  mobile, --'X' instead\n",
    "  first_name, --'X' instead\n",
    "  phone, --'X' instead \n",
    "  email_opt_out, --No NULLs\n",
    "  salutation, --Only ~37 NULLs\n",
    "  login_myhyundai, --'X' instead\n",
    "  full_name, --'X' instead\n",
    "  nif, --'X' instead\n",
    "  distrito, --~82 NULLs\n",
    "  pais, --Only ~34 NULLs\n",
    "  morada, --'X' instead\n",
    "  consentimento, --~61 NULLs\n",
    "  data_de_recolha_de_consentimento_hyundai, --~61 NULLs\n",
    "  link_centro_consentimento, --~61 NULLs\n",
    "  ccupdated --No NULLs\n",
    "FROM sc_bronze_pbs2025bacapstoneg2u2.contactos_pbs\n",
    "LIMIT 100"
   ]
  },
  {
   "cell_type": "code",
   "execution_count": 0,
   "metadata": {
    "application/vnd.databricks.v1+cell": {
     "cellMetadata": {
      "byteLimit": 2048000,
      "implicitDf": true,
      "rowLimit": 10000
     },
     "inputWidgets": {},
     "nuid": "b79d7c82-e988-47ab-a8d6-69c49435b3dc",
     "showTitle": false,
     "tableResultSettingsMap": {},
     "title": ""
    }
   },
   "outputs": [],
   "source": [
    "%sql\n",
    "SELECT\n",
    "  100 * SUM(CASE WHEN tsb IS NULL THEN 1 ELSE 0 END) / COUNT(*) AS tsb,\n",
    "  100 * SUM(CASE WHEN tsb_url1 IS NULL THEN 1 ELSE 0 END) / COUNT(*) AS tsb_url1\n",
    "FROM sc_bronze_pbs2025bacapstoneg2u2.campanhas_tecnicas;"
   ]
  },
  {
   "cell_type": "code",
   "execution_count": 0,
   "metadata": {
    "application/vnd.databricks.v1+cell": {
     "cellMetadata": {
      "byteLimit": 2048000,
      "implicitDf": true,
      "rowLimit": 10000
     },
     "inputWidgets": {},
     "nuid": "867e0173-5009-4818-b926-85d3149e438e",
     "showTitle": false,
     "tableResultSettingsMap": {},
     "title": ""
    }
   },
   "outputs": [],
   "source": [
    "%sql\n",
    "SELECT\n",
    "  100 * SUM(CASE WHEN matricula IS NULL THEN 1 ELSE 0 END) / COUNT(*) AS matricula,\n",
    "  100 * SUM(CASE WHEN modo_de_contacto_preferencial IS NULL THEN 1 ELSE 0 END) / COUNT(*) AS modo_de_contacto_preferencial,\n",
    "  100 * SUM(CASE WHEN numero_de_cliente_dms IS NULL THEN 1 ELSE 0 END) / COUNT(*) AS numero_de_cliente_dms,\n",
    "  100 * SUM(CASE WHEN quando_prefere_ser_contactado IS NULL THEN 1 ELSE 0 END) / COUNT(*) AS quando_prefere_ser_contactado,\n",
    "  100 * SUM(CASE WHEN quando_necessita_carro_novo IS NULL THEN 1 ELSE 0 END) / COUNT(*) AS quando_necessita_carro_novo,\n",
    "  100 * SUM(CASE WHEN motivo_de_interesse IS NULL THEN 1 ELSE 0 END) / COUNT(*) AS motivo_de_interesse,\n",
    "  100 * SUM(CASE WHEN concessao_preferida_myhyundai IS NULL THEN 1 ELSE 0 END) / COUNT(*) AS concessao_preferida_myhyundai,\n",
    "  100 * SUM(CASE WHEN concessao IS NULL THEN 1 ELSE 0 END) / COUNT(*) AS concessao,\n",
    "  100 * SUM(CASE WHEN did_you_mean IS NULL THEN 1 ELSE 0 END) / COUNT(*) AS did_you_mean,\n",
    "  100 * SUM(CASE WHEN zipcode IS NULL THEN 1 ELSE 0 END) / COUNT(*) AS zipcode,\n",
    "  100 * SUM(CASE WHEN city IS NULL THEN 1 ELSE 0 END) / COUNT(*) AS city,\n",
    "  100 * SUM(CASE WHEN chave_instalacao_bd_rede IS NULL THEN 1 ELSE 0 END) / COUNT(*) AS chave_instalacao_bd_rede,\n",
    "  100 * SUM(CASE WHEN instalacao IS NULL THEN 1 ELSE 0 END) / COUNT(*) AS instalacao,\n",
    "  100 * SUM(CASE WHEN ticket_suporte IS NULL THEN 1 ELSE 0 END) / COUNT(*) AS ticket_suporte,\n",
    "  100 * SUM(CASE WHEN tag IS NULL THEN 1 ELSE 0 END) / COUNT(*) AS tag,\n",
    "  100 * SUM(CASE WHEN region IS NULL THEN 1 ELSE 0 END) / COUNT(*) AS region,\n",
    "  100 * SUM(CASE WHEN country IS NULL THEN 1 ELSE 0 END) / COUNT(*) AS country,\n",
    "  100 * SUM(CASE WHEN pioneiros_myhyundai IS NULL THEN 1 ELSE 0 END) / COUNT(*) AS pioneiros_myhyundai,\n",
    "  100 * SUM(CASE WHEN chave_concessao_bd_rede IS NULL THEN 1 ELSE 0 END) / COUNT(*) AS chave_concessao_bd_rede,\n",
    "  100 * SUM(CASE WHEN equipa IS NULL THEN 1 ELSE 0 END) / COUNT(*) AS equipa,\n",
    "  100 * SUM(CASE WHEN formulario IS NULL THEN 1 ELSE 0 END) / COUNT(*) AS formulario\n",
    "FROM sc_bronze_pbs2025bacapstoneg2u2.contactos_importador_pbs;"
   ]
  },
  {
   "cell_type": "code",
   "execution_count": 0,
   "metadata": {
    "application/vnd.databricks.v1+cell": {
     "cellMetadata": {
      "byteLimit": 2048000,
      "implicitDf": true,
      "rowLimit": 10000
     },
     "inputWidgets": {},
     "nuid": "309b3b81-5353-4937-9249-c81520375dc5",
     "showTitle": false,
     "tableResultSettingsMap": {},
     "title": ""
    }
   },
   "outputs": [],
   "source": [
    "%sql\n",
    "SELECT\n",
    "  100 * SUM(CASE WHEN isencao IS NULL THEN 1 ELSE 0 END) / COUNT(*) AS isencao,\n",
    "  100 * SUM(CASE WHEN ofertas IS NULL THEN 1 ELSE 0 END) / COUNT(*) AS ofertas,\n",
    "  100 * SUM(CASE WHEN gestora_de_frota IS NULL THEN 1 ELSE 0 END) / COUNT(*) AS gestora_de_frota,\n",
    "  100 * SUM(CASE WHEN contra_entrega_do_veiculo IS NULL THEN 1 ELSE 0 END) / COUNT(*) AS contra_entrega_do_veiculo,\n",
    "  100 * SUM(CASE WHEN adiantamento IS NULL THEN 1 ELSE 0 END) / COUNT(*) AS adiantamento,\n",
    "  100 * SUM(CASE WHEN data_de_assinatura_contrato IS NULL THEN 1 ELSE 0 END) / COUNT(*) AS data_de_assinatura_contrato,\n",
    "  100 * SUM(CASE WHEN data_de_emissao_contrato IS NULL THEN 1 ELSE 0 END) / COUNT(*) AS data_de_emissao_contrato,\n",
    "  100 * SUM(CASE WHEN data_final_do_financiamento IS NULL THEN 1 ELSE 0 END) / COUNT(*) AS data_final_do_financiamento,\n",
    "  100 * SUM(CASE WHEN matricula IS NULL THEN 1 ELSE 0 END) / COUNT(*) AS matricula\n",
    "FROM sc_bronze_pbs2025bacapstoneg2u2.propostas_realizadas;"
   ]
  },
  {
   "cell_type": "code",
   "execution_count": 0,
   "metadata": {
    "application/vnd.databricks.v1+cell": {
     "cellMetadata": {
      "byteLimit": 2048000,
      "implicitDf": true,
      "rowLimit": 10000
     },
     "inputWidgets": {},
     "nuid": "5380ae2c-5fc1-4fdf-9b34-7a31aaa97cfa",
     "showTitle": false,
     "tableResultSettingsMap": {},
     "title": ""
    }
   },
   "outputs": [],
   "source": [
    "%sql\n",
    "SELECT\n",
    "  100 * SUM(CASE WHEN company IS NULL THEN 1 ELSE 0 END) / COUNT(*) AS company,\n",
    "  100 * SUM(CASE WHEN phone IS NULL THEN 1 ELSE 0 END) / COUNT(*) AS phone,\n",
    "  100 * SUM(CASE WHEN secondary_email IS NULL THEN 1 ELSE 0 END) / COUNT(*) AS secondary_email,\n",
    "  100 * SUM(CASE WHEN tag IS NULL THEN 1 ELSE 0 END) / COUNT(*) AS tag,\n",
    "  100 * SUM(CASE WHEN modo_de_contacto_preferencial IS NULL THEN 1 ELSE 0 END) / COUNT(*) AS modo_de_contacto_preferencial,\n",
    "  100 * SUM(CASE WHEN nif IS NULL THEN 1 ELSE 0 END) / COUNT(*) AS nif,\n",
    "  100 * SUM(CASE WHEN nipc IS NULL THEN 1 ELSE 0 END) / COUNT(*) AS nipc,\n",
    "  100 * SUM(CASE WHEN matricula IS NULL THEN 1 ELSE 0 END) / COUNT(*) AS matricula,\n",
    "  100 * SUM(CASE WHEN sexo IS NULL THEN 1 ELSE 0 END) / COUNT(*) AS sexo,\n",
    "  100 * SUM(CASE WHEN data_de_nascimento IS NULL THEN 1 ELSE 0 END) / COUNT(*) AS data_de_nascimento,\n",
    "  100 * SUM(CASE WHEN morada IS NULL THEN 1 ELSE 0 END) / COUNT(*) AS morada,\n",
    "  100 * SUM(CASE WHEN localidade IS NULL THEN 1 ELSE 0 END) / COUNT(*) AS localidade,\n",
    "  100 * SUM(CASE WHEN concelho IS NULL THEN 1 ELSE 0 END) / COUNT(*) AS concelho,\n",
    "  100 * SUM(CASE WHEN data_e_hora_de_atribuicao IS NULL THEN 1 ELSE 0 END) / COUNT(*) AS data_e_hora_de_atribuicao,\n",
    "  100 * SUM(CASE WHEN quando_prefere_ser_contactado IS NULL THEN 1 ELSE 0 END) / COUNT(*) AS quando_prefere_ser_contactado,\n",
    "  100 * SUM(CASE WHEN motivo_de_interesse IS NULL THEN 1 ELSE 0 END) / COUNT(*) AS motivo_de_interesse,\n",
    "  100 * SUM(CASE WHEN quando_necessita_carro_novo IS NULL THEN 1 ELSE 0 END) / COUNT(*) AS quando_necessita_carro_novo,\n",
    "  100 * SUM(CASE WHEN import_manual IS NULL THEN 1 ELSE 0 END) / COUNT(*) AS import_manual,\n",
    "  100 * SUM(CASE WHEN parque_empresa IS NULL THEN 1 ELSE 0 END) / COUNT(*) AS parque_empresa,\n",
    "  100 * SUM(CASE WHEN inserido_por IS NULL THEN 1 ELSE 0 END) / COUNT(*) AS inserido_por,\n",
    "  100 * SUM(CASE WHEN cliente_hyundai IS NULL THEN 1 ELSE 0 END) / COUNT(*) AS cliente_hyundai,\n",
    "  100 * SUM(CASE WHEN check_in IS NULL THEN 1 ELSE 0 END) / COUNT(*) AS check_in,\n",
    "  100 * SUM(CASE WHEN converted_account IS NULL THEN 1 ELSE 0 END) / COUNT(*) AS converted_account\n",
    "FROM sc_bronze_pbs2025bacapstoneg2u2.leads_pbs;"
   ]
  },
  {
   "cell_type": "code",
   "execution_count": 0,
   "metadata": {
    "application/vnd.databricks.v1+cell": {
     "cellMetadata": {},
     "inputWidgets": {},
     "nuid": "b147b65f-550b-49a4-8593-4dcb17081acd",
     "showTitle": false,
     "tableResultSettingsMap": {},
     "title": ""
    }
   },
   "outputs": [],
   "source": []
  },
  {
   "cell_type": "code",
   "execution_count": 0,
   "metadata": {
    "application/vnd.databricks.v1+cell": {
     "cellMetadata": {
      "byteLimit": 2048000,
      "implicitDf": true,
      "rowLimit": 10000
     },
     "inputWidgets": {},
     "nuid": "a4f96da6-abaa-4c0c-b485-0128114b21e6",
     "showTitle": false,
     "tableResultSettingsMap": {},
     "title": ""
    }
   },
   "outputs": [],
   "source": [
    "%sql\n",
    "SELECT\n",
    "  100 * SUM(CASE WHEN forma_de_pagamento IS NULL THEN 1 ELSE 0 END) / COUNT(*) AS forma_de_pagamento,\n",
    "  100 * SUM(CASE WHEN descritivo_financiamento IS NULL THEN 1 ELSE 0 END) / COUNT(*) AS descritivo_financiamento,\n",
    "  100 * SUM(CASE WHEN financiamento IS NULL THEN 1 ELSE 0 END) / COUNT(*) AS financiamento,\n",
    "  100 * SUM(CASE WHEN marca IS NULL THEN 1 ELSE 0 END) / COUNT(*) AS marca,\n",
    "  100 * SUM(CASE WHEN isencao IS NULL THEN 1 ELSE 0 END) / COUNT(*) AS isencao,\n",
    "  100 * SUM(CASE WHEN mensalidade IS NULL THEN 1 ELSE 0 END) / COUNT(*) AS mensalidade,\n",
    "  100 * SUM(CASE WHEN prazo__meses_ IS NULL THEN 1 ELSE 0 END) / COUNT(*) AS prazo__meses_,\n",
    "  100 * SUM(CASE WHEN taxa_de_juro IS NULL THEN 1 ELSE 0 END) / COUNT(*) AS taxa_de_juro,\n",
    "  100 * SUM(CASE WHEN data_final_do_financiamento IS NULL THEN 1 ELSE 0 END) / COUNT(*) AS data_final_do_financiamento,\n",
    "  100 * SUM(CASE WHEN modelo IS NULL THEN 1 ELSE 0 END) / COUNT(*) AS modelo,\n",
    "  100 * SUM(CASE WHEN aov IS NULL THEN 1 ELSE 0 END) / COUNT(*) AS aov,\n",
    "  100 * SUM(CASE WHEN pronto_pagamento IS NULL THEN 1 ELSE 0 END) / COUNT(*) AS pronto_pagamento,\n",
    "  100 * SUM(CASE WHEN hod IS NULL THEN 1 ELSE 0 END) / COUNT(*) AS hod,\n",
    "  100 * SUM(CASE WHEN credito IS NULL THEN 1 ELSE 0 END) / COUNT(*) AS credito,\n",
    "  100 * SUM(CASE WHEN ald IS NULL THEN 1 ELSE 0 END) / COUNT(*) AS ald,\n",
    "  100 * SUM(CASE WHEN leasing IS NULL THEN 1 ELSE 0 END) / COUNT(*) AS leasing,\n",
    "  100 * SUM(CASE WHEN descricao_negocio IS NULL THEN 1 ELSE 0 END) / COUNT(*) AS descricao_negocio,\n",
    "  100 * SUM(CASE WHEN adiantamento IS NULL THEN 1 ELSE 0 END) / COUNT(*) AS adiantamento,\n",
    "  100 * SUM(CASE WHEN data_de_chegada_a_concessao IS NULL THEN 1 ELSE 0 END) / COUNT(*) AS data_de_chegada_a_concessao,\n",
    "  100 * SUM(CASE WHEN data_de_entrega_ao_cliente IS NULL THEN 1 ELSE 0 END) / COUNT(*) AS data_de_entrega_ao_cliente,\n",
    "  100 * SUM(CASE WHEN cliente_hyundai IS NULL THEN 1 ELSE 0 END) / COUNT(*) AS cliente_hyundai,\n",
    "  100 * SUM(CASE WHEN negocio_aprovado IS NULL THEN 1 ELSE 0 END) / COUNT(*) AS negocio_aprovado,\n",
    "  100 * SUM(CASE WHEN data_real_de_entrega IS NULL THEN 1 ELSE 0 END) / COUNT(*) AS data_real_de_entrega\n",
    "FROM sc_bronze_pbs2025bacapstoneg2u2.deals;"
   ]
  },
  {
   "cell_type": "code",
   "execution_count": 0,
   "metadata": {
    "application/vnd.databricks.v1+cell": {
     "cellMetadata": {
      "byteLimit": 2048000,
      "implicitDf": true,
      "rowLimit": 10000
     },
     "inputWidgets": {},
     "nuid": "f4f2d609-07a3-45e2-99b1-c2573881741c",
     "showTitle": false,
     "tableResultSettingsMap": {},
     "title": ""
    }
   },
   "outputs": [],
   "source": [
    "%sql\n",
    "SELECT\n",
    "  100 * SUM(CASE WHEN data_decisao IS NULL THEN 1 ELSE 0 END) / COUNT(*) AS data_decisao,\n",
    "  100 * SUM(CASE WHEN descricao_da_viatura IS NULL THEN 1 ELSE 0 END) / COUNT(*) AS descricao_da_viatura,\n",
    "  100 * SUM(CASE WHEN duracao IS NULL THEN 1 ELSE 0 END) / COUNT(*) AS duracao,\n",
    "  100 * SUM(CASE WHEN nif IS NULL THEN 1 ELSE 0 END) / COUNT(*) AS nif,\n",
    "  100 * SUM(CASE WHEN nome IS NULL THEN 1 ELSE 0 END) / COUNT(*) AS nome,\n",
    "  100 * SUM(CASE WHEN nome_empresa IS NULL THEN 1 ELSE 0 END) / COUNT(*) AS nome_empresa,\n",
    "  100 * SUM(CASE WHEN nome_fornecedor IS NULL THEN 1 ELSE 0 END) / COUNT(*) AS nome_fornecedor,\n",
    "  100 * SUM(CASE WHEN no_ct IS NULL THEN 1 ELSE 0 END) / COUNT(*) AS no_ct,\n",
    "  100 * SUM(CASE WHEN tipo_de_aluguer IS NULL THEN 1 ELSE 0 END) / COUNT(*) AS tipo_de_aluguer,\n",
    "  100 * SUM(CASE WHEN tylacode IS NULL THEN 1 ELSE 0 END) / COUNT(*) AS tylacode,\n",
    "  100 * SUM(CASE WHEN data_seguro_auto IS NULL THEN 1 ELSE 0 END) / COUNT(*) AS data_seguro_auto,\n",
    "  100 * SUM(CASE WHEN ca IS NULL THEN 1 ELSE 0 END) / COUNT(*) AS ca,\n",
    "  100 * SUM(CASE WHEN co IS NULL THEN 1 ELSE 0 END) / COUNT(*) AS co,\n",
    "  100 * SUM(CASE WHEN gestao_de_combustivel IS NULL THEN 1 ELSE 0 END) / COUNT(*) AS gestao_de_combustivel,\n",
    "  100 * SUM(CASE WHEN gestao_de_via_verde IS NULL THEN 1 ELSE 0 END) / COUNT(*) AS gestao_de_via_verde,\n",
    "  100 * SUM(CASE WHEN km_contratados IS NULL THEN 1 ELSE 0 END) / COUNT(*) AS km_contratados,\n",
    "  100 * SUM(CASE WHEN manutencao IS NULL THEN 1 ELSE 0 END) / COUNT(*) AS manutencao,\n",
    "  100 * SUM(CASE WHEN pneus IS NULL THEN 1 ELSE 0 END) / COUNT(*) AS pneus,\n",
    "  100 * SUM(CASE WHEN renda_com_iva IS NULL THEN 1 ELSE 0 END) / COUNT(*) AS renda_com_iva,\n",
    "  100 * SUM(CASE WHEN renda_sem_iva IS NULL THEN 1 ELSE 0 END) / COUNT(*) AS renda_sem_iva,\n",
    "  100 * SUM(CASE WHEN viatura_de_substituicao_avarias IS NULL THEN 1 ELSE 0 END) / COUNT(*) AS viatura_de_substituicao_avarias,\n",
    "  100 * SUM(CASE WHEN viatura_de_substituicao_furto IS NULL THEN 1 ELSE 0 END) / COUNT(*) AS viatura_de_substituicao_furto,\n",
    "  100 * SUM(CASE WHEN viatura_de_substituicao_revisoes IS NULL THEN 1 ELSE 0 END) / COUNT(*) AS viatura_de_substituicao_revisoes,\n",
    "  100 * SUM(CASE WHEN viatura_de_substituicao_sinistro IS NULL THEN 1 ELSE 0 END) / COUNT(*) AS viatura_de_substituicao_sinistro\n",
    "FROM sc_bronze_pbs2025bacapstoneg2u2.contratos_financiamento;"
   ]
  },
  {
   "cell_type": "code",
   "execution_count": 0,
   "metadata": {
    "application/vnd.databricks.v1+cell": {
     "cellMetadata": {
      "byteLimit": 2048000,
      "implicitDf": true,
      "rowLimit": 10000
     },
     "inputWidgets": {},
     "nuid": "41ee5101-a6e2-4374-bc65-49831ea8c4c9",
     "showTitle": false,
     "tableResultSettingsMap": {},
     "title": ""
    }
   },
   "outputs": [],
   "source": [
    "%sql\n",
    "SELECT\n",
    "  100 * SUM(CASE WHEN previsao_de_entrega IS NULL THEN 1 ELSE 0 END) / COUNT(*) AS previsao_de_entrega,\n",
    "  100 * SUM(CASE WHEN utilizador_da_viatura IS NULL THEN 1 ELSE 0 END) / COUNT(*) AS utilizador_da_viatura,\n",
    "  100 * SUM(CASE WHEN comentario IS NULL THEN 1 ELSE 0 END) / COUNT(*) AS comentario,\n",
    "  100 * SUM(CASE WHEN estado_bluelink IS NULL THEN 1 ELSE 0 END) / COUNT(*) AS estado_bluelink,\n",
    "  100 * SUM(CASE WHEN motivo IS NULL THEN 1 ELSE 0 END) / COUNT(*) AS motivo,\n",
    "  100 * SUM(CASE WHEN battery IS NULL THEN 1 ELSE 0 END) / COUNT(*) AS battery,\n",
    "  100 * SUM(CASE WHEN battery_action IS NULL THEN 1 ELSE 0 END) / COUNT(*) AS battery_action,\n",
    "  100 * SUM(CASE WHEN battery_waring_level IS NULL THEN 1 ELSE 0 END) / COUNT(*) AS battery_waring_level,\n",
    "  100 * SUM(CASE WHEN dtc_1 IS NULL THEN 1 ELSE 0 END) / COUNT(*) AS dtc_1,\n",
    "  100 * SUM(CASE WHEN dtc_10 IS NULL THEN 1 ELSE 0 END) / COUNT(*) AS dtc_10,\n",
    "  100 * SUM(CASE WHEN dtc_2 IS NULL THEN 1 ELSE 0 END) / COUNT(*) AS dtc_2,\n",
    "  100 * SUM(CASE WHEN dtc_3 IS NULL THEN 1 ELSE 0 END) / COUNT(*) AS dtc_3,\n",
    "  100 * SUM(CASE WHEN dtc_4 IS NULL THEN 1 ELSE 0 END) / COUNT(*) AS dtc_4,\n",
    "  100 * SUM(CASE WHEN dtc_5 IS NULL THEN 1 ELSE 0 END) / COUNT(*) AS dtc_5,\n",
    "  100 * SUM(CASE WHEN dtc_6 IS NULL THEN 1 ELSE 0 END) / COUNT(*) AS dtc_6,\n",
    "  100 * SUM(CASE WHEN dtc_7 IS NULL THEN 1 ELSE 0 END) / COUNT(*) AS dtc_7,\n",
    "  100 * SUM(CASE WHEN dtc_8 IS NULL THEN 1 ELSE 0 END) / COUNT(*) AS dtc_8,\n",
    "  100 * SUM(CASE WHEN dtc_9 IS NULL THEN 1 ELSE 0 END) / COUNT(*) AS dtc_9,\n",
    "  100 * SUM(CASE WHEN dtc_date IS NULL THEN 1 ELSE 0 END) / COUNT(*) AS dtc_date,\n",
    "  100 * SUM(CASE WHEN dtc_status IS NULL THEN 1 ELSE 0 END) / COUNT(*) AS dtc_status,\n",
    "  100 * SUM(CASE WHEN map_sw_update_available IS NULL THEN 1 ELSE 0 END) / COUNT(*) AS map_sw_update_available,\n",
    "  100 * SUM(CASE WHEN map_sw_version IS NULL THEN 1 ELSE 0 END) / COUNT(*) AS map_sw_version,\n",
    "  100 * SUM(CASE WHEN mileage_unit IS NULL THEN 1 ELSE 0 END) / COUNT(*) AS mileage_unit,\n",
    "  100 * SUM(CASE WHEN sent_date IS NULL THEN 1 ELSE 0 END) / COUNT(*) AS sent_date,\n",
    "  100 * SUM(CASE WHEN soc____ IS NULL THEN 1 ELSE 0 END) / COUNT(*) AS soc____,\n",
    "  100 * SUM(CASE WHEN sold IS NULL THEN 1 ELSE 0 END) / COUNT(*) AS sold,\n",
    "  100 * SUM(CASE WHEN tms_start_dt IS NULL THEN 1 ELSE 0 END) / COUNT(*) AS tms_start_dt,\n",
    "  100 * SUM(CASE WHEN eliminar_duplicado IS NULL THEN 1 ELSE 0 END) / COUNT(*) AS eliminar_duplicado\n",
    "FROM sc_bronze_pbs2025bacapstoneg2u2.viaturas;"
   ]
  },
  {
   "cell_type": "code",
   "execution_count": 0,
   "metadata": {
    "application/vnd.databricks.v1+cell": {
     "cellMetadata": {
      "byteLimit": 2048000,
      "implicitDf": true,
      "rowLimit": 10000
     },
     "inputWidgets": {},
     "nuid": "92d6c55b-f085-4f15-ba27-2b2cfce6e8c5",
     "showTitle": false,
     "tableResultSettingsMap": {},
     "title": ""
    }
   },
   "outputs": [],
   "source": [
    "%sql\n",
    "SELECT\n",
    "  100 * SUM(CASE WHEN preco_base IS NULL THEN 1 ELSE 0 END) / COUNT(*) AS preco_base,\n",
    "  100 * SUM(CASE WHEN email IS NULL THEN 1 ELSE 0 END) / COUNT(*) AS email,\n",
    "  100 * SUM(CASE WHEN pintura IS NULL THEN 1 ELSE 0 END) / COUNT(*) AS pintura,\n",
    "  100 * SUM(CASE WHEN secondary_email IS NULL THEN 1 ELSE 0 END) / COUNT(*) AS secondary_email,\n",
    "  100 * SUM(CASE WHEN unsubscribed_mode IS NULL THEN 1 ELSE 0 END) / COUNT(*) AS unsubscribed_mode,\n",
    "  100 * SUM(CASE WHEN iva IS NULL THEN 1 ELSE 0 END) / COUNT(*) AS iva,\n",
    "  100 * SUM(CASE WHEN isv IS NULL THEN 1 ELSE 0 END) / COUNT(*) AS isv,\n",
    "  100 * SUM(CASE WHEN unsubscribed_time IS NULL THEN 1 ELSE 0 END) / COUNT(*) AS unsubscribed_time,\n",
    "  100 * SUM(CASE WHEN motivo IS NULL THEN 1 ELSE 0 END) / COUNT(*) AS motivo,\n",
    "  100 * SUM(CASE WHEN sgpu IS NULL THEN 1 ELSE 0 END) / COUNT(*) AS sgpu,\n",
    "  100 * SUM(CASE WHEN tag IS NULL THEN 1 ELSE 0 END) / COUNT(*) AS tag\n",
    "FROM sc_bronze_pbs2025bacapstoneg2u2.viaturas_demo;"
   ]
  },
  {
   "cell_type": "code",
   "execution_count": 0,
   "metadata": {
    "application/vnd.databricks.v1+cell": {
     "cellMetadata": {
      "byteLimit": 2048000,
      "implicitDf": true,
      "rowLimit": 10000
     },
     "inputWidgets": {},
     "nuid": "75b6d701-156b-4c7e-9a5c-85bc9c96ef9c",
     "showTitle": false,
     "tableResultSettingsMap": {},
     "title": ""
    }
   },
   "outputs": [],
   "source": [
    "%sql\n",
    "SELECT\n",
    "  100 * SUM(CASE WHEN numero_de_cliente_dms IS NULL THEN 1 ELSE 0 END) / COUNT(*) AS numero_de_cliente_dms,\n",
    "  100 * SUM(CASE WHEN tipo_de_pedido IS NULL THEN 1 ELSE 0 END) / COUNT(*) AS tipo_de_pedido,\n",
    "  100 * SUM(CASE WHEN modo_de_contacto_preferencial IS NULL THEN 1 ELSE 0 END) / COUNT(*) AS modo_de_contacto_preferencial,\n",
    "  100 * SUM(CASE WHEN estado IS NULL THEN 1 ELSE 0 END) / COUNT(*) AS estado,\n",
    "  100 * SUM(CASE WHEN quando_necessita_carro_novo IS NULL THEN 1 ELSE 0 END) / COUNT(*) AS quando_necessita_carro_novo,\n",
    "  100 * SUM(CASE WHEN motivo_de_interesse IS NULL THEN 1 ELSE 0 END) / COUNT(*) AS motivo_de_interesse,\n",
    "  100 * SUM(CASE WHEN matricula IS NULL THEN 1 ELSE 0 END) / COUNT(*) AS matricula,\n",
    "  100 * SUM(CASE WHEN quando_prefere_ser_contactado IS NULL THEN 1 ELSE 0 END) / COUNT(*) AS quando_prefere_ser_contactado\n",
    "FROM sc_bronze_pbs2025bacapstoneg2u2.contas_importador_pbs;"
   ]
  },
  {
   "cell_type": "code",
   "execution_count": 0,
   "metadata": {
    "application/vnd.databricks.v1+cell": {
     "cellMetadata": {
      "byteLimit": 2048000,
      "implicitDf": true,
      "rowLimit": 10000
     },
     "inputWidgets": {},
     "nuid": "6b4166e0-862a-4b5e-8d05-64d326954e20",
     "showTitle": false,
     "tableResultSettingsMap": {},
     "title": ""
    }
   },
   "outputs": [],
   "source": [
    "%sql\n",
    "SELECT\n",
    "  100 * SUM(CASE WHEN formulario IS NULL THEN 1 ELSE 0 END) / COUNT(*) AS formulario,\n",
    "  100 * SUM(CASE WHEN parent_conta IS NULL THEN 1 ELSE 0 END) / COUNT(*) AS parent_conta,\n",
    "  100 * SUM(CASE WHEN numero_de_cliente_dms IS NULL THEN 1 ELSE 0 END) / COUNT(*) AS numero_de_cliente_dms,\n",
    "  100 * SUM(CASE WHEN tipo_de_pedido IS NULL THEN 1 ELSE 0 END) / COUNT(*) AS tipo_de_pedido,\n",
    "  100 * SUM(CASE WHEN matricula IS NULL THEN 1 ELSE 0 END) / COUNT(*) AS matricula,\n",
    "  100 * SUM(CASE WHEN quando_necessita_carro_novo IS NULL THEN 1 ELSE 0 END) / COUNT(*) AS quando_necessita_carro_novo,\n",
    "  100 * SUM(CASE WHEN quando_prefere_ser_contactado IS NULL THEN 1 ELSE 0 END) / COUNT(*) AS quando_prefere_ser_contactado,\n",
    "  100 * SUM(CASE WHEN motivo_de_interesse IS NULL THEN 1 ELSE 0 END) / COUNT(*) AS motivo_de_interesse,\n",
    "  100 * SUM(CASE WHEN description IS NULL THEN 1 ELSE 0 END) / COUNT(*) AS description,\n",
    "  100 * SUM(CASE WHEN data_criacao_da_conta IS NULL THEN 1 ELSE 0 END) / COUNT(*) AS data_criacao_da_conta,\n",
    "  100 * SUM(CASE WHEN total_viaturas_hyundai IS NULL THEN 1 ELSE 0 END) / COUNT(*) AS total_viaturas_hyundai\n",
    "FROM sc_bronze_pbs2025bacapstoneg2u2.contas_pbs;"
   ]
  },
  {
   "cell_type": "code",
   "execution_count": 0,
   "metadata": {
    "application/vnd.databricks.v1+cell": {
     "cellMetadata": {
      "byteLimit": 2048000,
      "implicitDf": true,
      "rowLimit": 10000
     },
     "inputWidgets": {},
     "nuid": "9374c742-2b02-4cee-9e1b-036b736386b8",
     "showTitle": false,
     "tableResultSettingsMap": {},
     "title": ""
    }
   },
   "outputs": [],
   "source": [
    "%sql\n",
    "SELECT\n",
    "  100 * SUM(CASE WHEN billing_client_nav_description IS NULL THEN 1 ELSE 0 END) / COUNT(*) AS billing_client_nav_description\n",
    "FROM sc_bronze_pbs2025bacapstoneg2u2.bd_rede_hyundai;"
   ]
  },
  {
   "cell_type": "code",
   "execution_count": 0,
   "metadata": {
    "application/vnd.databricks.v1+cell": {
     "cellMetadata": {
      "byteLimit": 2048000,
      "implicitDf": true,
      "rowLimit": 10000
     },
     "inputWidgets": {},
     "nuid": "154f9166-bd66-42aa-8022-70ad37c98855",
     "showTitle": false,
     "tableResultSettingsMap": {},
     "title": ""
    }
   },
   "outputs": [],
   "source": [
    "%sql\n",
    "SELECT\n",
    "  100 * SUM(CASE WHEN email IS NULL THEN 1 ELSE 0 END) / COUNT(*) AS email,\n",
    "  100 * SUM(CASE WHEN unsubscribed_time IS NULL THEN 1 ELSE 0 END) / COUNT(*) AS unsubscribed_time,\n",
    "  100 * SUM(CASE WHEN tag IS NULL THEN 1 ELSE 0 END) / COUNT(*) AS tag,\n",
    "  100 * SUM(CASE WHEN secondary_email IS NULL THEN 1 ELSE 0 END) / COUNT(*) AS secondary_email,\n",
    "  100 * SUM(CASE WHEN unsubscribed_mode IS NULL THEN 1 ELSE 0 END) / COUNT(*) AS unsubscribed_mode\n",
    "FROM sc_bronze_pbs2025bacapstoneg2u2.campanha_vouchers;"
   ]
  },
  {
   "cell_type": "code",
   "execution_count": 0,
   "metadata": {
    "application/vnd.databricks.v1+cell": {
     "cellMetadata": {
      "byteLimit": 2048000,
      "implicitDf": true,
      "rowLimit": 10000
     },
     "inputWidgets": {},
     "nuid": "1bae1902-d46b-4d97-9552-cb38a8541626",
     "showTitle": false,
     "tableResultSettingsMap": {},
     "title": ""
    }
   },
   "outputs": [],
   "source": [
    "%sql\n",
    "SELECT\n",
    "  100 * SUM(CASE WHEN servico_pos_venda IS NULL THEN 1 ELSE 0 END) / COUNT(*) AS servico_pos_venda,\n",
    "  100 * SUM(CASE WHEN data_registo_pos_venda IS NULL THEN 1 ELSE 0 END) / COUNT(*) AS data_registo_pos_venda,\n",
    "  100 * SUM(CASE WHEN numero_de_linhas IS NULL THEN 1 ELSE 0 END) / COUNT(*) AS numero_de_linhas,\n",
    "  100 * SUM(CASE WHEN tag IS NULL THEN 1 ELSE 0 END) / COUNT(*) AS tag,\n",
    "  100 * SUM(CASE WHEN email IS NULL THEN 1 ELSE 0 END) / COUNT(*) AS email,\n",
    "  100 * SUM(CASE WHEN secondary_email IS NULL THEN 1 ELSE 0 END) / COUNT(*) AS secondary_email,\n",
    "  100 * SUM(CASE WHEN unsubscribed_mode IS NULL THEN 1 ELSE 0 END) / COUNT(*) AS unsubscribed_mode,\n",
    "  100 * SUM(CASE WHEN unsubscribed_time IS NULL THEN 1 ELSE 0 END) / COUNT(*) AS unsubscribed_time\n",
    "FROM sc_bronze_pbs2025bacapstoneg2u2.historico_de_servicos;"
   ]
  }
 ],
 "metadata": {
  "application/vnd.databricks.v1+notebook": {
   "computePreferences": null,
   "dashboards": [],
   "environmentMetadata": {
    "base_environment": "",
    "environment_version": "2"
   },
   "inputWidgetPreferences": null,
   "language": "python",
   "notebookMetadata": {
    "mostRecentlyExecutedCommandWithImplicitDF": {
     "commandId": 5516755583433506,
     "dataframes": [
      "_sqldf"
     ]
    },
    "pythonIndentUnit": 4
   },
   "notebookName": "notebook_drop_analysis",
   "widgets": {}
  },
  "language_info": {
   "name": "python"
  }
 },
 "nbformat": 4,
 "nbformat_minor": 0
}
