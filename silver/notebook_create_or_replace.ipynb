{
 "cells": [
  {
   "cell_type": "code",
   "execution_count": 0,
   "metadata": {
    "application/vnd.databricks.v1+cell": {
     "cellMetadata": {},
     "inputWidgets": {},
     "nuid": "90992852-01a6-4807-ac7a-c6f7d58ae97a",
     "showTitle": false,
     "tableResultSettingsMap": {},
     "title": ""
    }
   },
   "outputs": [],
   "source": [
    "%sql\n",
    "CREATE OR REPLACE TABLE workspace.sc_silver.bd_rede_hyundai \n",
    "SELECT * \n",
    "  FROM workspace.sc_bronze_pbs2025bacapstoneg2u2.bd_rede_hyundai;"
   ]
  },
  {
   "cell_type": "code",
   "execution_count": 0,
   "metadata": {
    "application/vnd.databricks.v1+cell": {
     "cellMetadata": {},
     "inputWidgets": {},
     "nuid": "edff2fde-ff35-4d3a-b99a-35f8f417ca01",
     "showTitle": false,
     "tableResultSettingsMap": {},
     "title": ""
    }
   },
   "outputs": [],
   "source": [
    "%sql\n",
    "CREATE OR REPLACE TABLE workspace.sc_silver.campaigns \n",
    "SELECT * \n",
    "  FROM workspace.sc_bronze_pbs2025bacapstoneg2u2.campaigns;"
   ]
  },
  {
   "cell_type": "code",
   "execution_count": 0,
   "metadata": {
    "application/vnd.databricks.v1+cell": {
     "cellMetadata": {},
     "inputWidgets": {},
     "nuid": "0a1def03-3c65-4fc6-ac42-35394dfb69f9",
     "showTitle": false,
     "tableResultSettingsMap": {},
     "title": ""
    }
   },
   "outputs": [],
   "source": [
    "%sql\n",
    "CREATE OR REPLACE TABLE workspace.sc_silver.campanha_vouchers\n",
    "SELECT * \n",
    "  FROM workspace.sc_bronze_pbs2025bacapstoneg2u2.campanha_vouchers; "
   ]
  },
  {
   "cell_type": "code",
   "execution_count": 0,
   "metadata": {
    "application/vnd.databricks.v1+cell": {
     "cellMetadata": {},
     "inputWidgets": {},
     "nuid": "e4d69eff-66d0-4972-adc6-91622718e096",
     "showTitle": false,
     "tableResultSettingsMap": {},
     "title": ""
    }
   },
   "outputs": [],
   "source": [
    "%sql\n",
    "CREATE OR REPLACE TABLE workspace.sc_silver.campanhas_tecnicas \n",
    "SELECT * \n",
    "  FROM workspace.sc_bronze_pbs2025bacapstoneg2u2.campanhas_tecnicas;"
   ]
  },
  {
   "cell_type": "code",
   "execution_count": 0,
   "metadata": {
    "application/vnd.databricks.v1+cell": {
     "cellMetadata": {},
     "inputWidgets": {},
     "nuid": "7fc41fbc-707f-40fc-a063-e62fe5446ede",
     "showTitle": false,
     "tableResultSettingsMap": {},
     "title": ""
    }
   },
   "outputs": [],
   "source": [
    "%sql\n",
    "CREATE OR REPLACE TABLE workspace.sc_silver.contactos_importador_pbs \n",
    "SELECT * \n",
    "  FROM workspace.sc_bronze_pbs2025bacapstoneg2u2.contactos_importador_pbs;"
   ]
  },
  {
   "cell_type": "code",
   "execution_count": 0,
   "metadata": {
    "application/vnd.databricks.v1+cell": {
     "cellMetadata": {},
     "inputWidgets": {},
     "nuid": "3a1fbe23-dea3-4c33-86d3-b94e46c945fb",
     "showTitle": false,
     "tableResultSettingsMap": {},
     "title": ""
    }
   },
   "outputs": [],
   "source": [
    "%sql\n",
    "CREATE OR REPLACE TABLE workspace.sc_silver.contactos_pbs \n",
    "SELECT * \n",
    "  FROM workspace.sc_bronze_pbs2025bacapstoneg2u2.contactos_pbs;"
   ]
  },
  {
   "cell_type": "code",
   "execution_count": 0,
   "metadata": {
    "application/vnd.databricks.v1+cell": {
     "cellMetadata": {},
     "inputWidgets": {},
     "nuid": "08fcc579-7212-407f-b40a-e17949070e52",
     "showTitle": false,
     "tableResultSettingsMap": {},
     "title": ""
    }
   },
   "outputs": [],
   "source": [
    "%sql\n",
    "CREATE OR REPLACE TABLE workspace.sc_silver.contas_importador_pbs \n",
    "SELECT * \n",
    "  FROM workspace.sc_bronze_pbs2025bacapstoneg2u2.contas_importador_pbs;"
   ]
  },
  {
   "cell_type": "code",
   "execution_count": 0,
   "metadata": {
    "application/vnd.databricks.v1+cell": {
     "cellMetadata": {},
     "inputWidgets": {},
     "nuid": "d150b743-440a-4991-882b-c8f96080d0de",
     "showTitle": false,
     "tableResultSettingsMap": {},
     "title": ""
    }
   },
   "outputs": [],
   "source": [
    "%sql\n",
    "CREATE OR REPLACE TABLE workspace.sc_silver.contas_pbs \n",
    "SELECT * \n",
    "  FROM workspace.sc_bronze_pbs2025bacapstoneg2u2.contas_pbs;"
   ]
  },
  {
   "cell_type": "code",
   "execution_count": 0,
   "metadata": {
    "application/vnd.databricks.v1+cell": {
     "cellMetadata": {},
     "inputWidgets": {},
     "nuid": "94b85c60-c322-453f-a26b-733ac9ca6d68",
     "showTitle": false,
     "tableResultSettingsMap": {},
     "title": ""
    }
   },
   "outputs": [],
   "source": [
    "%sql\n",
    "CREATE OR REPLACE TABLE workspace.sc_silver.contratos_financiamento \n",
    "SELECT * \n",
    "  FROM workspace.sc_bronze_pbs2025bacapstoneg2u2.contratos_financiamento;"
   ]
  },
  {
   "cell_type": "code",
   "execution_count": 0,
   "metadata": {
    "application/vnd.databricks.v1+cell": {
     "cellMetadata": {},
     "inputWidgets": {},
     "nuid": "97bd188a-54c5-4b1d-bc1d-2867f5f95b0d",
     "showTitle": false,
     "tableResultSettingsMap": {},
     "title": ""
    }
   },
   "outputs": [],
   "source": [
    "%sql\n",
    "CREATE OR REPLACE TABLE workspace.sc_silver.deals\n",
    "SELECT * EXCEPT(created_time),\n",
    "  \t\t to_timestamp(created_time, 'dd-MM-yyyy HH:mm') as created_time\n",
    "  FROM workspace.sc_bronze_pbs2025bacapstoneg2u2.deals;"
   ]
  },
  {
   "cell_type": "code",
   "execution_count": 0,
   "metadata": {
    "application/vnd.databricks.v1+cell": {
     "cellMetadata": {},
     "inputWidgets": {},
     "nuid": "873ec0d4-5448-40d6-bbe8-60a1e1ce9d48",
     "showTitle": false,
     "tableResultSettingsMap": {},
     "title": ""
    }
   },
   "outputs": [],
   "source": [
    "%sql\n",
    "CREATE OR REPLACE TABLE workspace.sc_silver.historico_de_servicos \n",
    "SELECT * \n",
    "  FROM workspace.sc_bronze_pbs2025bacapstoneg2u2.historico_de_servicos;"
   ]
  },
  {
   "cell_type": "code",
   "execution_count": 0,
   "metadata": {
    "application/vnd.databricks.v1+cell": {
     "cellMetadata": {},
     "inputWidgets": {},
     "nuid": "ecf5d060-edd9-4296-8ef8-b35c25b10b7c",
     "showTitle": false,
     "tableResultSettingsMap": {},
     "title": ""
    }
   },
   "outputs": [],
   "source": [
    "%sql\n",
    "CREATE OR REPLACE TABLE workspace.sc_silver.leads_pbs \n",
    "SELECT * \n",
    "  FROM workspace.sc_bronze_pbs2025bacapstoneg2u2.leads_pbs;"
   ]
  },
  {
   "cell_type": "code",
   "execution_count": 0,
   "metadata": {
    "application/vnd.databricks.v1+cell": {
     "cellMetadata": {
      "byteLimit": 2048000,
      "implicitDf": true,
      "rowLimit": 10000
     },
     "inputWidgets": {},
     "nuid": "b04bcf1b-b474-4310-870a-7976e642a918",
     "showTitle": false,
     "tableResultSettingsMap": {
      "0": {
       "dataGridStateBlob": "{\"version\":1,\"tableState\":{\"columnPinning\":{\"left\":[\"#row_number#\"],\"right\":[]},\"columnSizing\":{},\"columnVisibility\":{}},\"settings\":{\"columns\":{}},\"syncTimestamp\":1755973853217}",
       "filterBlob": null,
       "queryPlanFiltersBlob": null,
       "tableResultIndex": 0
      }
     },
     "title": ""
    },
    "jupyter": {
     "outputs_hidden": true
    }
   },
   "outputs": [],
   "source": [
    "%sql\n",
    "SELECT pvp as original_value,\n",
    "\n",
    "       regexp_replace(regexp_replace(regexp_replace(pvp, '[€%\\\\p{Z}]', ''),   --\\\\p{Z} matches every space/separator in Unicode\n",
    "                                                                           '[,.](?=.{3,})', ''),--Replaces any comma/period (with at least 3 characters afterwards) with empty string\n",
    "                                                                           ',([0-9]{2})$', '.\\1'--Replaces the matched comma (before the 2 digits at the end) with a period.\n",
    "                     ) AS cleaned_value,\n",
    "\n",
    "      cast(clean_for_decimal_type(pvp) AS DECIMAL(29,2)) as pvp,\n",
    "\n",
    "      COUNT(*) as occurrence_count\n",
    "\n",
    "FROM workspace.sc_bronze_pbs2025bacapstoneg2u2.propostas_realizadas\n",
    "\n",
    "WHERE pvp IS NOT NULL \n",
    "  AND regexp_replace(pvp, '[€%\\\\p{Z}]', '') not IN ('', 'null', 'NaN') \n",
    "  AND pvp NOT RLIKE '^[€%,.\\\\p{Z}]+$'\n",
    "\n",
    "GROUP BY pvp\n",
    "\n",
    "ORDER BY cleaned_value DESC;"
   ]
  },
  {
   "cell_type": "code",
   "execution_count": 0,
   "metadata": {
    "application/vnd.databricks.v1+cell": {
     "cellMetadata": {
      "byteLimit": 2048000,
      "implicitDf": true,
      "rowLimit": 10000
     },
     "inputWidgets": {},
     "nuid": "2391afe6-bc65-445e-9c2f-f14031187043",
     "showTitle": false,
     "tableResultSettingsMap": {},
     "title": ""
    }
   },
   "outputs": [],
   "source": [
    "%sql\n",
    "CREATE OR REPLACE FUNCTION clean_for_decimal_type(column_value string) RETURNS DECIMAL(29,2)\n",
    "\n",
    "RETURN CASE \n",
    "    WHEN column_value IS NULL THEN NULL\n",
    "    WHEN regexp_replace(column_value, '[€%\\\\p{Z}]', '') IN ('', 'null', 'NaN') --First, remove every space/separator in Unicode, in addition to % and €\n",
    "      OR column_value RLIKE '^[€%,.\\\\p{Z}]+$' THEN NULL --It consists of '[€%,.\\\\p{Z}]' and nothing else\n",
    "    \n",
    "    ELSE CAST(regexp_replace(regexp_replace(regexp_replace(column_value, '[€%\\\\p{Z}]', ''),\n",
    "                                                                         '[,.](?=.{3,})', ''),--Replaces any comma/period (with at least 3 characters afterwards) with empty string\n",
    "                                                                         ',([0-9]{2})$', '.\\1'--Replaces the matched comma (before the 2 digits at the end) with a period.\n",
    "             ) AS DECIMAL(29,2))\n",
    "END;\n"
   ]
  },
  {
   "cell_type": "code",
   "execution_count": 0,
   "metadata": {
    "application/vnd.databricks.v1+cell": {
     "cellMetadata": {
      "byteLimit": 2048000,
      "implicitDf": true,
      "rowLimit": 10000
     },
     "inputWidgets": {},
     "nuid": "20f0c697-20ab-42e0-ae0e-b3753d16c600",
     "showTitle": false,
     "tableResultSettingsMap": {},
     "title": ""
    }
   },
   "outputs": [],
   "source": [
    "%sql\n",
    "CREATE OR REPLACE FUNCTION clean_for_timestamp_type(column_value string) RETURNS TIMESTAMP\n",
    "\n",
    "RETURN CASE\n",
    "  WHEN column_value IS NULL THEN NULL\n",
    "  WHEN regexp_replace(column_value, '[€%\\\\p{Z}]', '') IN ('', 'null', 'NaN') --First, remove every space/separator in Unicode, in addition to % and €\n",
    "    OR column_value RLIKE '^[€%,.\\\\p{Z}]+$' THEN NULL --It consists of '[€%,.\\\\p{Z}]' and nothing else\n",
    "  \n",
    "\tWHEN column_value RLIKE '^\\\\d{4}-\\\\d{2}-\\\\d{2} \\\\d{2}:\\\\d{2}$' THEN try_to_timestamp(column_value, 'yyyy-MM-dd HH:mm') --try_to_timestamp() safely returns NULL for invalid dates\n",
    "\tWHEN column_value RLIKE '^\\\\d{2}-\\\\d{2}-\\\\d{4} \\\\d{2}:\\\\d{2}$' THEN try_to_timestamp(column_value, 'dd-MM-yyyy HH:mm')\n",
    "\t\n",
    "  ELSE NULL --No rows match this condition. PS: Since ELSE is mandatory, we always confirm beforehand\n",
    "END;"
   ]
  },
  {
   "cell_type": "code",
   "execution_count": 0,
   "metadata": {
    "application/vnd.databricks.v1+cell": {
     "cellMetadata": {
      "byteLimit": 2048000,
      "implicitDf": true,
      "rowLimit": 10000
     },
     "inputWidgets": {},
     "nuid": "957bea7d-2da8-4b28-8edf-cf21da2aa3a7",
     "showTitle": false,
     "tableResultSettingsMap": {},
     "title": ""
    }
   },
   "outputs": [],
   "source": [
    "%sql\n",
    "CREATE OR REPLACE FUNCTION clean_for_date_type(column_value string) RETURNS DATE\n",
    "\n",
    "RETURN CASE\n",
    "  WHEN column_value IS NULL THEN NULL\n",
    "  WHEN regexp_replace(column_value, '[€%\\\\p{Z}]', '') IN ('', 'null', 'NaN') --First, remove every space/separator in Unicode, in addition to % and €\n",
    "    OR column_value RLIKE '^[€%,.\\\\p{Z}]+$' THEN NULL --It consists of '[€%,.\\\\p{Z}]' and nothing else\n",
    "\n",
    "  WHEN column_value RLIKE '^\\\\d{4}-\\\\d{2}-\\\\d{2}$' THEN to_date(column_value, 'yyyy-MM-dd')\n",
    "\tWHEN column_value RLIKE '^\\\\d{2}-\\\\d{2}-\\\\d{4}$' THEN to_date(column_value, 'dd-MM-yyyy')\n",
    "\t\n",
    "  ELSE NULL\n",
    "END;"
   ]
  },
  {
   "cell_type": "code",
   "execution_count": 0,
   "metadata": {
    "application/vnd.databricks.v1+cell": {
     "cellMetadata": {
      "byteLimit": 2048000,
      "implicitDf": true,
      "rowLimit": 10000
     },
     "inputWidgets": {},
     "nuid": "4d88893c-b13f-49c1-8cc7-6732e7fad58e",
     "showTitle": false,
     "tableResultSettingsMap": {},
     "title": ""
    }
   },
   "outputs": [],
   "source": [
    "%sql\n",
    "CREATE OR REPLACE TABLE workspace.sc_silver.propostas_realizadas\n",
    "\n",
    "\t    -- ID columns\n",
    "SELECT  cast(_fivetran_id as bigint) as _fivetran_id,\n",
    "\t    cast(id as bigint) as id,\n",
    "\t    \n",
    "\t\t-- Basic info columns (containing Dates with validation)\n",
    "\t    cast(clean_for_timestamp_type(created_time) AS TIMESTAMP) AS created_time,\n",
    "\t\tcast(subject as string) as subject,\n",
    "\t\tcast(proposta_realizada_owner as bigint) as proposta_realizada_owner,\n",
    "\t\tcast(proposta_realizada_owner_name as string) as proposta_realizada_owner_name,\n",
    "\t\tcast(proposta_realizada_stage as string) as proposta_realizada_stage,\n",
    "\t\tcast(clean_for_timestamp_type(modified_time) AS TIMESTAMP) AS modified_time,\n",
    "\t\t\n",
    "\t\t-- Contact and account info\n",
    "\t\tcast(conta_name as string) as conta_name,\n",
    "\t\tcast(id_contacto as bigint) as id_contacto,\n",
    "\t\tcast(contacto_name as bigint) as contacto_name,\n",
    "\t\tcast(deal_name as bigint) as deal_name,\n",
    "\t\t\n",
    "\t\t-- Financial columns (removing € symbol, handling spaces in negative values, handling European decimal format)\n",
    "\t\tcast(clean_for_decimal_type(sub_total) AS DECIMAL(29,2)) AS sub_total,\n",
    "\t\tcast(clean_for_decimal_type(grand_total) AS DECIMAL(29,2)) AS grand_total,\n",
    "\t\tcast(created_by as bigint) as created_by,\n",
    "\t\tcast(modified_by as bigint) as modified_by,\n",
    "\t\tcast(concessao as string) as concessao,\n",
    "\t\tcast(clean_for_decimal_type(preco_base) AS DECIMAL(29,2)) AS preco_base,\n",
    "\t\tcast(clean_for_decimal_type(isv) AS DECIMAL(29,2)) AS isv,\n",
    "\t\tcast(clean_for_decimal_type(pintura) AS DECIMAL(29,2)) AS pintura,\n",
    "\t\tcast(clean_for_decimal_type(base_tributavel) AS DECIMAL(29,2)) AS base_tributavel,\n",
    "\t\tcast(clean_for_decimal_type(legalizacao) AS DECIMAL(29,2)) AS legalizacao,\n",
    "\t\tcast(clean_for_decimal_type(desconto_total) AS DECIMAL(29,2)) AS desconto_total,\n",
    "\t\tcast(clean_for_decimal_type(iuc) AS DECIMAL(29,2)) AS iuc,\n",
    "\t\tcast(clean_for_decimal_type(preco_total) AS DECIMAL(29,2)) AS preco_total,\n",
    "\t\tcast(iva as int) as iva,\n",
    "\t\t\n",
    "\t\t-- Vehicle info\n",
    "\t\tcast(modelo as string) as modelo,\n",
    "\t\tcast(descricao_apoio as string) as descricao_apoio,\n",
    "\t\t\n",
    "\t\tcast(clean_for_decimal_type(apoio_concessionario) as DECIMAL(29,2)) as apoio_concessionario,\n",
    "\t\t\n",
    "\t\tcast(clean_for_decimal_type(apoio_hyundai_portugal) AS DECIMAL(29,2)) AS apoio_hyundai_portugal,\n",
    "\t\tcast(clean_for_decimal_type(apoio_total) AS DECIMAL(29,2)) AS apoio_total,\n",
    "\t\tcast(clean_for_decimal_type(sub_total_com_extras) AS DECIMAL(29,2)) AS sub_total_com_extras,\n",
    "\t\tcast(clean_for_decimal_type(valor_extras) AS DECIMAL(29,2)) AS valor_extras,\n",
    "\t\tcast(clean_for_decimal_type(sub_total_com_desconto) AS DECIMAL(29,2)) AS sub_total_com_desconto,\n",
    "\t\tcast(clean_for_decimal_type(taxa) AS DECIMAL(29,2)) AS taxa,\n",
    "\t\tcast(clean_for_decimal_type(total_final) AS DECIMAL(29,2)) AS total_final,\n",
    "\t\t\n",
    "\t\t-- Status and proposal info\n",
    "\t\tcast(estado_do_pedido as string) as estado_do_pedido,\n",
    "\t\tcast(clean_for_date_type(data_de_criacao_da_proposta) AS DATE) AS data_de_criacao_da_proposta,\n",
    "\t\t\n",
    "\t\tcast(s_g_p_u_ as string) as s_g_p_u_,\n",
    "\t\tcast(codigo_da_proposta as string) as codigo_da_proposta,\n",
    "\t\tcast(descricao_pintura as string) as descricao_pintura,\n",
    "\t\t\n",
    "\t\tcast(clean_for_decimal_type(valor_do_apoio_pedido) AS DECIMAL(29,2)) as valor_do_apoio_pedido,\t\n",
    "\t\tcast(clean_for_decimal_type(pvp) AS DECIMAL(29,2)) as pvp,\n",
    "\n",
    "\t\tcast(clean_for_date_type(data_de_entrega_da_proposta) AS DATE) AS data_de_entrega_da_proposta,\n",
    "\t\tcast(id_conta as bigint) as id_conta,\n",
    "\t\tcast(id_negocio as bigint) as id_negocio,\n",
    "\t\tcast(id_proposta_realizada as bigint) as id_proposta_realizada,\n",
    "\t\t\n",
    "\t\t--TBD in Python\n",
    "\t\tcast(data_de_validade_da_proposta as string) as data_de_validade_da_proposta,\n",
    "\n",
    "\t\tcast(clean_for_decimal_type(desconto_total__c__apoio_de_importador_) AS DECIMAL(29,2)) as desconto_total__c__apoio_de_importador_,\n",
    "\n",
    "\t\t-- Vehicle specification codes\n",
    "\t\tcast(codigo_modelo as string) as codigo_modelo,\n",
    "\t\tcast(sufixo_modelo as string) as sufixo_modelo,\n",
    "\t\tcast(codigo_cor_exterior as bigint) as codigo_cor_exterior,\n",
    "\t\tcast(codigo_cor_interior as bigint) as codigo_cor_interior,\n",
    "\t\tcast(concessionario_owner as string) as concessionario_owner,\n",
    "\t\tcast(clean_for_decimal_type(valor_aprovado) AS DECIMAL(29,2)) AS valor_aprovado,\n",
    "\t\t\n",
    "\t\t-- Dates\n",
    "\t\tcast(clean_for_date_type(data_prevista_matricula) AS DATE) AS data_prevista_matricula,\n",
    "\t\tcast(clean_for_date_type(data_prevista_de_entrega) AS DATE) AS data_prevista_de_entrega,\n",
    "\t\tcast(clean_for_date_type(data_da_conclusao) AS DATE) AS data_da_conclusao,\n",
    "\t\t\n",
    "\t\t-- Installation and keys\n",
    "\t\tcast(instalacao as string) as instalacao,\n",
    "\t\tcast(chave_instalacao_bd_rede as string) as chave_instalacao_bd_rede,\n",
    "\t\tcast(chave_concessao_bd_rede as string) as chave_concessao_bd_rede,\n",
    "\t\tcast(qtd_viaturas as int) as qtd_viaturas,\n",
    "\t\tcast(versao as string) as versao,\n",
    "\t\tcast(cod_proposta as string) as cod_proposta,\n",
    "\t\tcast(codigo_fabricante_cor_interior as string) as codigo_fabricante_cor_interior,\n",
    "\t\tcast(codigo_fabricante_cor_exterior as string) as codigo_fabricante_cor_exterior,\n",
    "\t\tcast(estado_ordering as string) as estado_ordering,\n",
    "\t\t\n",
    "\t\t-- Classification info\n",
    "\t\tcast(id_classe as string) as id_classe,\n",
    "\t\tcast(descricao_classe as string) as descricao_classe,\n",
    "\t\tcast(id_model_group as string) as id_model_group,\n",
    "\t\tcast(descricao_model_group as string) as descricao_model_group,\n",
    "\t\tcast(chave_agrupamento_cliente as string) as chave_agrupamento_cliente,\n",
    "\t\tcast(tipo_cliente as string) as tipo_cliente,\n",
    "\t\tcast(combustivel as string) as combustivel,\n",
    "\t\tcast(id_combustivel as int) as id_combustivel,\n",
    "\t\tcast(id_modelo as int) as id_modelo,\n",
    "\t\tcast(tylacode as string) as tylacode,\n",
    "\t\t\n",
    "\t\t-- Campaign and support values\n",
    "\t\tcast(clean_for_decimal_type(valor_campanha) AS DECIMAL(29,2)) AS valor_campanha,\n",
    "\t\tcast(clean_for_decimal_type(apoio_campanha_hyundai) AS DECIMAL(29,2)) AS apoio_campanha_hyundai,\n",
    "\t\tcast(clean_for_decimal_type(apoio_financiamento_cetelem) AS DECIMAL(29,2)) AS apoio_financiamento_cetelem,\n",
    "\t\tcast(clean_for_decimal_type(apoio_retoma_hyundai) AS DECIMAL(29,2)) AS apoio_retoma_hyundai,\n",
    "\t\tcast(clean_for_decimal_type(comparticipacao_campanha_da_concessao) AS DECIMAL(29,2)) AS comparticipacao_campanha_da_concessao,\n",
    "\t\tcast(clean_for_decimal_type(comparticipacao_retoma_concessao) AS DECIMAL(29,2)) AS comparticipacao_retoma_concessao,\n",
    "\t\t\n",
    "\t\t-- Additional info\n",
    "\t\tcast(forma_de_pagamento as string) as forma_de_pagamento,\n",
    "\t\tcast(categoria_proposta as string) as categoria_proposta,\n",
    "\t\tcast(gestor_area as string) as gestor_area,\n",
    "\t\tcast(clean_for_decimal_type(margem_frota_eni) AS DECIMAL(29,2)) AS margem_frota_eni,\n",
    "\t\tcast(clean_for_decimal_type(valor_base) AS DECIMAL(29,2)) AS valor_base,\n",
    "\t\t\n",
    "\t\t-- Fivetran metadata\n",
    "\t\tcast(_fivetran_index as bigint) as _fivetran_index,\n",
    "\t\tcast(_fivetran_deleted as boolean) as _fivetran_deleted,\n",
    "\t\tcast(_fivetran_synced as timestamp) as _fivetran_synced\n",
    "\n",
    "FROM workspace.sc_bronze_pbs2025bacapstoneg2u2.propostas_realizadas;"
   ]
  },
  {
   "cell_type": "code",
   "execution_count": 0,
   "metadata": {
    "application/vnd.databricks.v1+cell": {
     "cellMetadata": {
      "byteLimit": 2048000,
      "rowLimit": 10000
     },
     "inputWidgets": {},
     "nuid": "e096297e-4dd1-4dc4-b8ac-23b7fbcac56a",
     "showTitle": false,
     "tableResultSettingsMap": {},
     "title": ""
    }
   },
   "outputs": [],
   "source": [
    "import pandas as pd\n",
    "\n",
    "def parse_date(date):\n",
    "    date_str = str(date).strip()\n",
    "    \n",
    "    formats_to_try = ['%d%m%Y',     # DDMMYYYY\n",
    "                      '%d/%m/%Y',   # DD/MM/YYYY\n",
    "                      '%d-%m-%Y',   # DD-MM-YYYY\n",
    "                      '%d.%m.%Y',   # DD.MM.YYYY\n",
    "                      '%Y-%m-%d',   # YYYY-MM-DD\n",
    "                      '%m/%d/%Y']   # MM/DD/YYYY\n",
    "    for fmt in formats_to_try:\n",
    "        try:\n",
    "            return pd.to_datetime(date_str, format=fmt)\n",
    "        except:\n",
    "            continue    \n",
    "    # If none work, try the general approach\n",
    "    try:\n",
    "        return pd.to_datetime(date,\n",
    "                              unit=date,\n",
    "                              infer_datetime_format=True, # inspect the 1st few date strings and try to guess the date format\n",
    "                              dayfirst=True, # It prefers to parse with day first (not strict)\n",
    "                              errors='coerce') # returns NaT if it fails\n",
    "    except Exception as e:\n",
    "        return None\n",
    "\n",
    "#Spark query runs/is distributed across the clusters, instead of Pandas (which runs on a single machine)\n",
    "df = spark.table(\"workspace.sc_silver.propostas_realizadas\") \\\n",
    "          .select(\"data_de_validade_da_proposta\") \\\n",
    "          .where(r\"NOT data_de_validade_da_proposta RLIKE '^\\\\d{4}-\\\\d{2}-\\\\d{2}$' \"\n",
    "                 r\"AND NOT data_de_validade_da_proposta RLIKE '^\\\\d{2}-\\\\d{2}-\\\\d{4}$' \"\n",
    "                 r\"AND data_de_validade_da_proposta IS NOT NULL\")\n",
    "\n",
    "pdf = df.toPandas()\n",
    "pdf[\"data_de_validade_da_proposta\"] = pdf[\"data_de_validade_da_proposta\"].apply(parse_date)\n",
    "#display(pdf[pdf[\"data_de_validade_da_proposta\"].isna()])\n",
    "display(pdf[\"data_de_validade_da_proposta\"])\n",
    "\n",
    "#pdf_excep = pdf[pdf[\"data_de_validade_da_proposta\"].astype(str).str.startswith(\"EXCEP\")]\n",
    "#display(pdf_excep)"
   ]
  },
  {
   "cell_type": "code",
   "execution_count": 0,
   "metadata": {
    "application/vnd.databricks.v1+cell": {
     "cellMetadata": {},
     "inputWidgets": {},
     "nuid": "200c20cf-c278-43ce-9808-d53db4180d80",
     "showTitle": false,
     "tableResultSettingsMap": {},
     "title": ""
    }
   },
   "outputs": [],
   "source": [
    "%sql\n",
    "CREATE OR REPLACE TABLE workspace.sc_silver.viaturas \n",
    "SELECT * FROM workspace.sc_bronze_pbs2025bacapstoneg2u2.viaturas;"
   ]
  },
  {
   "cell_type": "code",
   "execution_count": 0,
   "metadata": {
    "application/vnd.databricks.v1+cell": {
     "cellMetadata": {},
     "inputWidgets": {},
     "nuid": "ba8c0a6c-f6d1-41cc-a3ae-552efeeb9d8f",
     "showTitle": false,
     "tableResultSettingsMap": {},
     "title": ""
    }
   },
   "outputs": [],
   "source": [
    "%sql\n",
    "CREATE OR REPLACE TABLE workspace.sc_silver.viaturas_demo \n",
    "SELECT * \n",
    "  FROM workspace.sc_bronze_pbs2025bacapstoneg2u2.viaturas_demo;"
   ]
  }
 ],
 "metadata": {
  "application/vnd.databricks.v1+notebook": {
   "computePreferences": null,
   "dashboards": [],
   "environmentMetadata": {
    "base_environment": "",
    "environment_version": "3"
   },
   "inputWidgetPreferences": null,
   "language": "python",
   "notebookMetadata": {
    "mostRecentlyExecutedCommandWithImplicitDF": {
     "commandId": 4630231477971721,
     "dataframes": [
      "_sqldf"
     ]
    },
    "pythonIndentUnit": 4
   },
   "notebookName": "notebook_create_or_replace",
   "widgets": {}
  },
  "language_info": {
   "name": "python"
  }
 },
 "nbformat": 4,
 "nbformat_minor": 0
}
