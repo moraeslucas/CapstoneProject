{
 "cells": [
  {
   "cell_type": "code",
   "execution_count": 0,
   "metadata": {
    "application/vnd.databricks.v1+cell": {
     "cellMetadata": {
      "byteLimit": 2048000,
      "implicitDf": true,
      "rowLimit": 10000
     },
     "inputWidgets": {},
     "nuid": "6a0ca8d5-5843-40f6-aefc-97dd4577798f",
     "showTitle": false,
     "tableResultSettingsMap": {},
     "title": ""
    }
   },
   "outputs": [],
   "source": [
    "%sql\n",
    "CREATE OR REPLACE FUNCTION clean_with_null(column_value string) RETURNS STRING\n",
    "\n",
    "RETURN CASE\n",
    "  WHEN column_value IS NULL THEN NULL\n",
    "  WHEN regexp_replace(column_value, '[€%\\\\p{Z}]', '') IN ('', 'null', 'NaN') --First, remove every space/separator in Unicode, in addition to % and €\n",
    "    OR column_value RLIKE '^[€%,.\\\\p{Z}]+$' THEN NULL --It consists of '[€%,.\\\\p{Z}]' and nothing else\n",
    "\t\n",
    "  ELSE column_value\n",
    "END;"
   ]
  },
  {
   "cell_type": "code",
   "execution_count": 0,
   "metadata": {
    "application/vnd.databricks.v1+cell": {
     "cellMetadata": {
      "byteLimit": 2048000,
      "implicitDf": true,
      "rowLimit": 10000
     },
     "inputWidgets": {},
     "nuid": "2391afe6-bc65-445e-9c2f-f14031187043",
     "showTitle": false,
     "tableResultSettingsMap": {},
     "title": ""
    }
   },
   "outputs": [],
   "source": [
    "%sql\n",
    "CREATE OR REPLACE FUNCTION clean_for_decimal_type(column_value string) RETURNS DECIMAL(29,2)\n",
    "\n",
    "RETURN CASE \n",
    "    WHEN column_value IS NULL THEN NULL\n",
    "    WHEN regexp_replace(column_value, '[€%\\\\p{Z}]', '') IN ('', 'null', 'NaN') --First, remove every space/separator in Unicode, in addition to % and €\n",
    "      OR column_value RLIKE '^[€%,.\\\\p{Z}]+$' THEN NULL --It consists of '[€%,.\\\\p{Z}]' and nothing else\n",
    "    \n",
    "    ELSE CAST(regexp_replace(regexp_replace(regexp_replace(column_value, '[€%\\\\p{Z}]', ''),\n",
    "                                                                         '[,.](?=.{3,})', ''),--Replaces any comma/period (with at least 3 characters afterwards) with empty string\n",
    "                                                                         ',([0-9]{2})$', '.\\1'--Replaces the matched comma (before the 2 digits at the end) with a period.\n",
    "             ) AS DECIMAL(29,2))\n",
    "END;\n"
   ]
  },
  {
   "cell_type": "code",
   "execution_count": 0,
   "metadata": {
    "application/vnd.databricks.v1+cell": {
     "cellMetadata": {
      "byteLimit": 2048000,
      "implicitDf": true,
      "rowLimit": 10000
     },
     "inputWidgets": {},
     "nuid": "957bea7d-2da8-4b28-8edf-cf21da2aa3a7",
     "showTitle": false,
     "tableResultSettingsMap": {},
     "title": ""
    }
   },
   "outputs": [],
   "source": [
    "%sql\n",
    "CREATE OR REPLACE FUNCTION clean_for_date_type(column_value string) RETURNS DATE\n",
    "\n",
    "RETURN CASE\n",
    "  WHEN column_value IS NULL THEN NULL\n",
    "  WHEN regexp_replace(column_value, '[€%\\\\p{Z}]', '') IN ('', 'null', 'NaN') --First, remove every space/separator in Unicode, in addition to % and €\n",
    "    OR column_value RLIKE '^[€%,.\\\\p{Z}]+$' THEN NULL --It consists of '[€%,.\\\\p{Z}]' and nothing else\n",
    "  \n",
    "  --'d' accepts 1 or 2 digits for days\n",
    "  WHEN column_value RLIKE '-Jan-' THEN TO_DATE(column_value, 'd-MMM-yyyy')\n",
    "  --If it's already \"Fev\", REPLACE does nothing\n",
    "  WHEN column_value RLIKE '-F(eb|ev)-' THEN TO_DATE(REPLACE(column_value, 'Fev', 'Feb'), 'd-MMM-yyyy')\n",
    "  WHEN column_value RLIKE '-Mar-' THEN TO_DATE(column_value, 'd-MMM-yyyy')\n",
    "  WHEN column_value RLIKE '-A(br|pr)-'THEN TO_DATE(REPLACE(column_value, 'Abr', 'Apr'), 'd-MMM-yyyy')\n",
    "  WHEN column_value RLIKE '-M(ai|ay)-' THEN TO_DATE(REPLACE(column_value, 'Mai', 'May'), 'd-MMM-yyyy')\n",
    "  WHEN column_value RLIKE '-Jun-' THEN TO_DATE(column_value, 'd-MMM-yyyy')                        \n",
    "  WHEN column_value RLIKE '-Jul-' THEN TO_DATE(column_value, 'd-MMM-yyyy')\n",
    "  WHEN column_value RLIKE '-A(go|ug)-' THEN TO_DATE(REPLACE(column_value, 'Ago', 'Aug'), 'd-MMM-yyyy')\n",
    "  WHEN column_value RLIKE '-S(et|pt)-' THEN TO_DATE(REPLACE(column_value, 'Set', 'Sep'), 'd-MMM-yyyy')\n",
    "  WHEN column_value RLIKE '-O(ut|ct)-' THEN TO_DATE(REPLACE(column_value, 'Out', 'Oct'), 'd-MMM-yyyy')\n",
    "  WHEN column_value RLIKE '-Nov-' THEN TO_DATE(column_value, 'd-MMM-yyyy')\n",
    "  WHEN column_value RLIKE '-D(ec|ez)-' THEN TO_DATE(REPLACE(column_value, 'Dez', 'Dec'), 'd-MMM-yyyy')\n",
    "\n",
    "  WHEN column_value RLIKE '^\\\\d{4}-\\\\d{1,2}-\\\\d{1,2}$' THEN TO_DATE(column_value, 'yyyy-M-d')\n",
    "  WHEN column_value RLIKE '^\\\\d{1,2}-\\\\d{1,2}-\\\\d{4}$' THEN TO_DATE(column_value, 'd-M-yyyy')\n",
    "\t\n",
    "  ELSE try_cast(column_value AS DATE)\n",
    "END;"
   ]
  },
  {
   "cell_type": "code",
   "execution_count": 0,
   "metadata": {
    "application/vnd.databricks.v1+cell": {
     "cellMetadata": {
      "byteLimit": 2048000,
      "implicitDf": true,
      "rowLimit": 10000
     },
     "inputWidgets": {},
     "nuid": "20f0c697-20ab-42e0-ae0e-b3753d16c600",
     "showTitle": false,
     "tableResultSettingsMap": {},
     "title": ""
    }
   },
   "outputs": [],
   "source": [
    "%sql\n",
    "CREATE OR REPLACE FUNCTION clean_for_timestamp_type(column_value string) RETURNS TIMESTAMP\n",
    "\n",
    "RETURN CASE\n",
    "  WHEN column_value IS NULL THEN NULL\n",
    "  WHEN regexp_replace(column_value, '[€%\\\\p{Z}]', '') IN ('', 'null', 'NaN') --First, remove every space/separator in Unicode, in addition to % and €\n",
    "    OR column_value RLIKE '^[€%,.\\\\p{Z}]+$' THEN NULL --It consists of '[€%,.\\\\p{Z}]' and nothing else\n",
    "  \n",
    "--'d' accepts 1 or 2 digits for days\n",
    "  WHEN column_value RLIKE '-Jan-' THEN to_timestamp(column_value, 'd-MMM-yyyy H:m')\n",
    "  --If it's already \"Fev\", REPLACE does nothing\n",
    "  WHEN column_value RLIKE '-F(eb|ev)-' THEN to_timestamp(REPLACE(column_value, 'Fev', 'Feb'), 'd-MMM-yyyy H:m')\n",
    "  WHEN column_value RLIKE '-Mar-' THEN to_timestamp(column_value, 'd-MMM-yyyy H:m')\n",
    "  WHEN column_value RLIKE '-A(br|pr)-'THEN to_timestamp(REPLACE(column_value, 'Abr', 'Apr'), 'd-MMM-yyyy H:m')\n",
    "  WHEN column_value RLIKE '-M(ai|ay)-' THEN to_timestamp(REPLACE(column_value, 'Mai', 'May'), 'd-MMM-yyyy H:m')\n",
    "  WHEN column_value RLIKE '-Jun-' THEN to_timestamp(column_value, 'd-MMM-yyyy H:m')                        \n",
    "  WHEN column_value RLIKE '-Jul-' THEN to_timestamp(column_value, 'd-MMM-yyyy H:m')\n",
    "  WHEN column_value RLIKE '-A(go|ug)-' THEN to_timestamp(REPLACE(column_value, 'Ago', 'Aug'), 'd-MMM-yyyy H:m')\n",
    "  WHEN column_value RLIKE '-S(et|pt)-' THEN to_timestamp(REPLACE(column_value, 'Set', 'Sep'), 'd-MMM-yyyy H:m')\n",
    "  WHEN column_value RLIKE '-O(ut|ct)-' THEN to_timestamp(REPLACE(column_value, 'Out', 'Oct'), 'd-MMM-yyyy H:m')\n",
    "  WHEN column_value RLIKE '-Nov-' THEN to_timestamp(column_value, 'd-MMM-yyyy H:m')\n",
    "  WHEN column_value RLIKE '-D(ec|ez)-' THEN to_timestamp(REPLACE(column_value, 'Dez', 'Dec'), 'd-MMM-yyyy H:m')\n",
    "\n",
    "  WHEN column_value RLIKE '^\\\\d{4}-\\\\d{1,2}-\\\\d{1,2} \\\\d{2}:\\\\d{2}$' THEN to_timestamp(column_value, 'yyyy-M-d H:m') \n",
    "\tWHEN column_value RLIKE '^\\\\d{1,2}-\\\\d{1,2}-\\\\d{4} \\\\d{2}:\\\\d{2}$' THEN to_timestamp(column_value, 'd-M-yyyy H:m')\n",
    "\n",
    "  ELSE try_to_timestamp(column_value) \n",
    "END;"
   ]
  },
  {
   "cell_type": "code",
   "execution_count": 0,
   "metadata": {
    "application/vnd.databricks.v1+cell": {
     "cellMetadata": {},
     "inputWidgets": {},
     "nuid": "90992852-01a6-4807-ac7a-c6f7d58ae97a",
     "showTitle": false,
     "tableResultSettingsMap": {},
     "title": ""
    }
   },
   "outputs": [],
   "source": [
    "%sql\n",
    "CREATE OR REPLACE TABLE workspace.sc_silver.bd_rede_hyundai \n",
    "SELECT * \n",
    "  FROM workspace.sc_bronze_pbs2025bacapstoneg2u2.bd_rede_hyundai;"
   ]
  },
  {
   "cell_type": "code",
   "execution_count": 0,
   "metadata": {
    "application/vnd.databricks.v1+cell": {
     "cellMetadata": {},
     "inputWidgets": {},
     "nuid": "edff2fde-ff35-4d3a-b99a-35f8f417ca01",
     "showTitle": false,
     "tableResultSettingsMap": {},
     "title": ""
    }
   },
   "outputs": [],
   "source": [
    "%sql\n",
    "CREATE OR REPLACE TABLE workspace.sc_silver.campaigns \n",
    "SELECT * \n",
    "  FROM workspace.sc_bronze_pbs2025bacapstoneg2u2.campaigns;"
   ]
  },
  {
   "cell_type": "code",
   "execution_count": 0,
   "metadata": {
    "application/vnd.databricks.v1+cell": {
     "cellMetadata": {},
     "inputWidgets": {},
     "nuid": "0a1def03-3c65-4fc6-ac42-35394dfb69f9",
     "showTitle": false,
     "tableResultSettingsMap": {},
     "title": ""
    }
   },
   "outputs": [],
   "source": [
    "%sql\n",
    "CREATE OR REPLACE TABLE workspace.sc_silver.campanha_vouchers\n",
    "SELECT * \n",
    "  FROM workspace.sc_bronze_pbs2025bacapstoneg2u2.campanha_vouchers; "
   ]
  },
  {
   "cell_type": "code",
   "execution_count": 0,
   "metadata": {
    "application/vnd.databricks.v1+cell": {
     "cellMetadata": {
      "byteLimit": 2048000,
      "implicitDf": true,
      "rowLimit": 10000
     },
     "inputWidgets": {},
     "nuid": "e4d69eff-66d0-4972-adc6-91622718e096",
     "showTitle": false,
     "tableResultSettingsMap": {},
     "title": ""
    }
   },
   "outputs": [],
   "source": [
    "%sql\n",
    "CREATE OR REPLACE TABLE workspace.sc_silver.campanhas_tecnicas \n",
    "SELECT  *  EXCEPT(_fivetran_id, \n",
    "                  created_time, \n",
    "                  modified_time,\n",
    "                  dist_claim_date,\n",
    "                  dlr_claim_date,\n",
    "                  last_activity_time,\n",
    "                  data_reparacao,\n",
    "                  unsubscribed_time,\n",
    "                  warranty_start_date,\n",
    "                  _fivetran_deleted,\n",
    "                  _fivetran_synced),\n",
    "\n",
    "        cast(_fivetran_id as bigint) as _fivetran_id,\n",
    "        \n",
    "        -- Dates\n",
    "        cast(clean_for_timestamp_type(created_time) AS TIMESTAMP) AS created_time,\n",
    "        cast(clean_for_timestamp_type(modified_time) AS TIMESTAMP) AS modified_time,\n",
    "        cast(clean_for_date_type(dist_claim_date) AS DATE) AS dist_claim_date,\n",
    "        cast(clean_for_date_type(dlr_claim_date) AS DATE) AS dlr_claim_date,\n",
    "        cast(clean_for_timestamp_type(last_activity_time) AS TIMESTAMP) AS last_activity_time,\n",
    "        cast(clean_for_date_type(data_reparacao) AS DATE) AS data_reparacao,\n",
    "        cast(clean_for_timestamp_type(unsubscribed_time) AS TIMESTAMP) AS unsubscribed_time,\n",
    "        cast(clean_for_date_type(warranty_start_date) AS DATE) AS warranty_start_date,\n",
    "       \n",
    "       -- Fivetran metadata\n",
    "       cast(_fivetran_deleted as boolean) as _fivetran_deleted,\n",
    "       cast(_fivetran_synced as timestamp) as _fivetran_synced\n",
    " \n",
    "  FROM workspace.sc_bronze_pbs2025bacapstoneg2u2.campanhas_tecnicas;"
   ]
  },
  {
   "cell_type": "code",
   "execution_count": 0,
   "metadata": {
    "application/vnd.databricks.v1+cell": {
     "cellMetadata": {
      "byteLimit": 2048000,
      "implicitDf": true,
      "rowLimit": 10000
     },
     "inputWidgets": {},
     "nuid": "7fc41fbc-707f-40fc-a063-e62fe5446ede",
     "showTitle": false,
     "tableResultSettingsMap": {},
     "title": ""
    }
   },
   "outputs": [],
   "source": [
    "%sql\n",
    "CREATE OR REPLACE TABLE workspace.sc_silver.contactos_importador_pbs \n",
    "SELECT cast(_fivetran_id as bigint) as _fivetran_id,\n",
    "       \n",
    "       cast(clean_for_timestamp_type(created_time) AS TIMESTAMP) AS created_time,\n",
    "       cast(origem as string) as origem,\n",
    "       cast(nome_proprio as string) as nome_proprio,\n",
    "       cast(modelo as string) as modelo,\n",
    "       cast(tipo_cliente as string) as tipo_cliente,\n",
    "       cast(id_contactos as string) as id_contactos,\n",
    "       cast(cliente_hyundai as string) as cliente_hyundai,\n",
    "       cast(tipo_viatura as string) as tipo_viatura,\n",
    "       cast(id as bigint) as id,\n",
    "       cast(clean_for_timestamp_type(processed_at) AS TIMESTAMP) AS processed_at,\n",
    "      \n",
    "      -- Fivetran metadata\n",
    "\tcast(_fivetran_deleted as boolean) as _fivetran_deleted,\n",
    "\tcast(_fivetran_synced as timestamp) as _fivetran_synced\n",
    "\n",
    "  FROM workspace.sc_bronze_pbs2025bacapstoneg2u2.contactos_importador_pbs;"
   ]
  },
  {
   "cell_type": "code",
   "execution_count": 0,
   "metadata": {
    "application/vnd.databricks.v1+cell": {
     "cellMetadata": {},
     "inputWidgets": {},
     "nuid": "3a1fbe23-dea3-4c33-86d3-b94e46c945fb",
     "showTitle": false,
     "tableResultSettingsMap": {},
     "title": ""
    }
   },
   "outputs": [],
   "source": [
    "%sql\n",
    "CREATE OR REPLACE TABLE workspace.sc_silver.contactos_pbs \n",
    "SELECT * \n",
    "  FROM workspace.sc_bronze_pbs2025bacapstoneg2u2.contactos_pbs;"
   ]
  },
  {
   "cell_type": "code",
   "execution_count": 0,
   "metadata": {
    "application/vnd.databricks.v1+cell": {
     "cellMetadata": {
      "byteLimit": 2048000,
      "implicitDf": true,
      "rowLimit": 10000
     },
     "inputWidgets": {},
     "nuid": "08fcc579-7212-407f-b40a-e17949070e52",
     "showTitle": false,
     "tableResultSettingsMap": {},
     "title": ""
    }
   },
   "outputs": [],
   "source": [
    "%sql\n",
    "CREATE OR REPLACE TABLE workspace.sc_silver.contas_importador_pbs \n",
    "SELECT cast(_fivetran_id as bigint) as _fivetran_id,\n",
    "       \n",
    "       cast(id as bigint) as id,\n",
    "       cast(clean_for_timestamp_type(created_time) AS TIMESTAMP) AS created_time,\n",
    "       cast(origem as string) as origem,\n",
    "       cast(id_contas as string) as id_contas,\n",
    "       cast(cliente_hyundai as string) as cliente_hyundai,\n",
    "       \n",
    "       -- Fivetran metadata\n",
    "       cast(_fivetran_deleted as boolean) as _fivetran_deleted,\n",
    "\t\t   cast(_fivetran_synced as timestamp) as _fivetran_synced\n",
    " \n",
    "  FROM workspace.sc_bronze_pbs2025bacapstoneg2u2.contas_importador_pbs;"
   ]
  },
  {
   "cell_type": "code",
   "execution_count": 0,
   "metadata": {
    "application/vnd.databricks.v1+cell": {
     "cellMetadata": {},
     "inputWidgets": {},
     "nuid": "d150b743-440a-4991-882b-c8f96080d0de",
     "showTitle": false,
     "tableResultSettingsMap": {},
     "title": ""
    }
   },
   "outputs": [],
   "source": [
    "%sql\n",
    "CREATE OR REPLACE TABLE workspace.sc_silver.contas_pbs \n",
    "SELECT *\n",
    "  FROM workspace.sc_bronze_pbs2025bacapstoneg2u2.contas_pbs;"
   ]
  },
  {
   "cell_type": "code",
   "execution_count": 0,
   "metadata": {
    "application/vnd.databricks.v1+cell": {
     "cellMetadata": {},
     "inputWidgets": {},
     "nuid": "94b85c60-c322-453f-a26b-733ac9ca6d68",
     "showTitle": false,
     "tableResultSettingsMap": {},
     "title": ""
    }
   },
   "outputs": [],
   "source": [
    "%sql\n",
    "CREATE OR REPLACE TABLE workspace.sc_silver.contratos_financiamento \n",
    "SELECT * \n",
    "  FROM workspace.sc_bronze_pbs2025bacapstoneg2u2.contratos_financiamento;"
   ]
  },
  {
   "cell_type": "code",
   "execution_count": 0,
   "metadata": {
    "application/vnd.databricks.v1+cell": {
     "cellMetadata": {
      "byteLimit": 2048000,
      "implicitDf": true,
      "rowLimit": 10000
     },
     "inputWidgets": {},
     "nuid": "97bd188a-54c5-4b1d-bc1d-2867f5f95b0d",
     "showTitle": false,
     "tableResultSettingsMap": {},
     "title": ""
    }
   },
   "outputs": [],
   "source": [
    "%sql\n",
    "CREATE OR REPLACE TABLE workspace.sc_silver.deals\n",
    "SELECT \n",
    "cast(_fivetran_id as bigint) as _fivetran_id,\n",
    "cast(deal_owner_name as string) as deal_owner_name,\n",
    "cast(id_contacto as bigint) as id_contacto,\n",
    "cast(clean_for_timestamp_type(created_time) AS TIMESTAMP) AS created_time,\n",
    "cast(clean_for_timestamp_type(closing_date) AS TIMESTAMP) AS closing_date,\n",
    "cast(deal_owner as bigint) as deal_owner,\n",
    "cast(stage as string) as stage,\n",
    "cast(forecast_type as string) as forecast_type,\n",
    "cast(conta_name as bigint) as conta_name,\n",
    "cast(age_in_days as int) as age_in_days,\n",
    "cast(age_tier as string) as age_tier,\n",
    "cast(tasks_involved as string) as tasks_involved,\n",
    "cast(events_involved as string) as events_involved,\n",
    "cast(calls_involved as string) as calls_involved,\n",
    "cast(activities_involved as string) as activities_involved,\n",
    "CAST(tasks_only AS BOOLEAN) as tasks_only,\n",
    "CAST(events_only AS BOOLEAN) as events_only,\n",
    "CAST(calls_only AS BOOLEAN) as calls_only,\n",
    "cast(origem_do_negocio as string) as origem_do_negocio,\n",
    "cast(contacto_name as string) as contacto_name,\n",
    "cast(modelos as string) as modelos,\n",
    "cast(qtd_viaturas as int) as qtd_viaturas,\n",
    "cast(lead_conversion_time AS INT) AS lead_conversion_time,\n",
    "cast(sales_cycle_duration as int) as sales_cycle_duration,\n",
    "cast(overall_sales_duration as int) as overall_sales_duration,\n",
    "cast(tipo_de_negocio as string) as tipo_de_negocio,\n",
    "cast(motivo_da_perda as string) as motivo_da_perda,\n",
    "cast(clean_for_date_type(data_prevista_de_entrega) AS DATE) AS data_prevista_de_entrega,\n",
    "cast(clean_for_date_type(data_prevista_matricula) AS DATE) AS data_prevista_matricula,\n",
    "cast(num_de_propostas as int) as num_de_propostas,\n",
    "cast(id_negocio as bigint) as id_negocio,\n",
    "cast(clean_for_date_type(data_prevista_de_reentrada_em_negocio) AS DATE) AS data_prevista_de_reentrada_em_negocio,\n",
    "cast(id_conta as bigint) as id_conta,\n",
    "cast(codigo_negocio as string) as codigo_negocio,\n",
    "cast(f2 as bigint) as f2,\n",
    "cast(concessao as string) as concessao,\n",
    "cast(clean_for_date_type(data_criacao_da_lead) AS DATE) AS data_criacao_da_lead,\n",
    "cast(formulario as string) as formulario,\n",
    "cast(instalacao as string) as instalacao,\n",
    "cast(chave_concessao_bd_rede as string) as chave_concessao_bd_rede,\n",
    "cast(chave_instalacao_bd_rede as string) as chave_instalacao_bd_rede,\n",
    "cast(chave_contrato_concessionario_bd_rede as string) as chave_contrato_concessionario_bd_rede,\n",
    "cast(contrato_concessionario as string) as contrato_concessionario,\n",
    "cast(clean_for_date_type(data_venda) AS DATE) AS data_venda,\n",
    "cast(chave_agrupamento_performance_vendas as string) as chave_agrupamento_performance_vendas,\n",
    "cast(agrupamento_performance_vendas as string) as agrupamento_performance_vendas,\n",
    "cast(chave_agrupamento_cliente as string) as chave_agrupamento_cliente,\n",
    "cast(agrupamento_cliente as string) as agrupamento_cliente,\n",
    "cast(caracterizacao as string) as caracterizacao,\n",
    "cast(nome_contacto as string) as nome_contacto,\n",
    "cast(n__matriculas_associadas as int) as n__matriculas_associadas,\n",
    "cast(n__matriculas_por_associar as int) as n__matriculas_por_associar,\n",
    "cast(modelo_de_venda as string) as modelo_de_venda,\n",
    "cast(campanha as bigint) as campanha,\n",
    "cast(modelovendaupdate as string) as modelovendaupdate,\n",
    "cast(clean_for_decimal_type(probability____) AS DECIMAL(29,2)) AS probability____,\n",
    "cast(tipo_cliente_negocio as string) as tipo_cliente_negocio,\n",
    "cast(clean_for_date_type(data_decisao_negocio) AS DATE) AS data_decisao_negocio,\n",
    "cast(categoria_negocio as string) as categoria_negocio,\n",
    "cast(categoria_negocio_venda as string) as categoria_negocio_venda,\n",
    "cast(converted_from_lead as bigint) as converted_from_lead,\n",
    "\n",
    "-- Fivetran metadata\n",
    "cast(_fivetran_deleted as boolean) as _fivetran_deleted,\n",
    "cast(_fivetran_synced as timestamp) as _fivetran_synced\n",
    "  \t\t \n",
    "FROM workspace.sc_bronze_pbs2025bacapstoneg2u2.deals;"
   ]
  },
  {
   "cell_type": "code",
   "execution_count": 0,
   "metadata": {
    "application/vnd.databricks.v1+cell": {
     "cellMetadata": {},
     "inputWidgets": {},
     "nuid": "873ec0d4-5448-40d6-bbe8-60a1e1ce9d48",
     "showTitle": false,
     "tableResultSettingsMap": {},
     "title": ""
    }
   },
   "outputs": [],
   "source": [
    "%sql\n",
    "CREATE OR REPLACE TABLE workspace.sc_silver.historico_de_servicos \n",
    "SELECT * \n",
    "  FROM workspace.sc_bronze_pbs2025bacapstoneg2u2.historico_de_servicos;"
   ]
  },
  {
   "cell_type": "code",
   "execution_count": 0,
   "metadata": {
    "application/vnd.databricks.v1+cell": {
     "cellMetadata": {
      "byteLimit": 2048000,
      "implicitDf": true,
      "rowLimit": 10000
     },
     "inputWidgets": {},
     "nuid": "ecf5d060-edd9-4296-8ef8-b35c25b10b7c",
     "showTitle": false,
     "tableResultSettingsMap": {},
     "title": ""
    }
   },
   "outputs": [],
   "source": [
    "%sql\n",
    "CREATE OR REPLACE TABLE workspace.sc_silver.leads_pbs \n",
    "SELECT  cast(_fivetran_id as bigint) as _fivetran_id,\n",
    "        \n",
    "        cast(id as bigint) as id,\n",
    "        cast(lead_owner as bigint) as lead_owner,\n",
    "        cast(lead_owner_name as string) as lead_owner_name,\n",
    "        cast(lead_source as string) as lead_source,\n",
    "        cast(lead_status as string) as lead_status,\n",
    "        cast(lead_status_2 as string) as lead_status_2,\n",
    "        cast(clean_for_timestamp_type(created_time) AS TIMESTAMP) AS created_time,\n",
    "        cast(is_converted as string) as is_converted,\n",
    "        cast(tasks_involved as string) as tasks_involved,\n",
    "        cast(events_involved as string) as events_involved,\n",
    "        cast(calls_involved as string) as calls_involved,\n",
    "        cast(activities_involved as int) as activities_involved,\n",
    "        cast(created_by as bigint) as created_by,\n",
    "        cast(distrito as string) as distrito,\n",
    "        cast(pais as string) as pais,\n",
    "        cast(formulario as string) as formulario,\n",
    "        cast(tipo_de_pedido as string) as tipo_de_pedido,\n",
    "        cast(modelo as string) as modelo,\n",
    "        cast(consentimento as string) as consentimento,\n",
    "        cast(concessao as string) as concessao,\n",
    "        cast(id_lead as bigint) as id_lead,\n",
    "        CAST(instalacao AS string) AS instalacao,\n",
    "        CAST(chave_instalacao_bd_rede AS string) AS chave_instalacao_bd_rede,\n",
    "        CAST(chave_concessao_bd_rede AS string) AS chave_concessao_bd_rede,\n",
    "        CAST(contrato_concessionario AS string) AS contrato_concessionario,\n",
    "        CAST(chave_contrato_concessionario_bd_rede AS string) AS chave_contrato_concessionario_bd_rede,\n",
    "        CAST(concessionario_escolhido AS string) AS concessionario_escolhido,\n",
    "        CAST(agrupamento_performance_vendas AS string) AS agrupamento_performance_vendas,\n",
    "        CAST(chave_agrupamento_performance_vendas AS string) AS chave_agrupamento_performance_vendas,\n",
    "        CAST(chave_agrupamento_cliente AS string) AS chave_agrupamento_cliente,\n",
    "        CAST(agrupamento_cliente AS string) AS agrupamento_cliente,\n",
    "        cast(modified_by as bigint) as modified_by,\n",
    "        cast(clean_for_date_type(data_de_validade_de_consentimento_hyundai) AS DATE) AS data_de_validade_de_consentimento_hyundai,\n",
    "        CAST(hubleads__nao_comunica_com_cc_ AS string) AS hubleads__nao_comunica_com_cc_,\n",
    "        cast(clean_for_decimal_type(lead_response_time) AS DECIMAL(29,2)) AS lead_response_time,\n",
    "        cast(converted_contact as bigint) as converted_contact,\n",
    "        cast(converted_deal as bigint) as converted_deal,\n",
    "        cast(clean_for_timestamp_type(converted_date_time) AS TIMESTAMP) AS converted_date_time,\n",
    "        \n",
    "        -- Fivetran metadata\n",
    "        cast(_fivetran_deleted as boolean) as _fivetran_deleted,\n",
    "\t\t    cast(_fivetran_synced as timestamp) as _fivetran_synced\n",
    " \n",
    "  FROM workspace.sc_bronze_pbs2025bacapstoneg2u2.leads_pbs;"
   ]
  },
  {
   "cell_type": "code",
   "execution_count": 0,
   "metadata": {
    "application/vnd.databricks.v1+cell": {
     "cellMetadata": {
      "byteLimit": 2048000,
      "implicitDf": true,
      "rowLimit": 10000
     },
     "inputWidgets": {},
     "nuid": "4d88893c-b13f-49c1-8cc7-6732e7fad58e",
     "showTitle": false,
     "tableResultSettingsMap": {},
     "title": ""
    }
   },
   "outputs": [],
   "source": [
    "%sql\n",
    "CREATE OR REPLACE TABLE workspace.sc_silver.propostas_realizadas\n",
    "\n",
    "\t    -- ID columns\n",
    "SELECT  cast(_fivetran_id as bigint) as _fivetran_id,\n",
    "\t    cast(id as bigint) as id,\n",
    "\t    \n",
    "\t\t-- Basic info columns (containing Dates with validation)\n",
    "\t  cast(clean_for_timestamp_type(created_time) AS TIMESTAMP) AS created_time,\n",
    "\t\tcast(subject as string) as subject,\n",
    "\t\tcast(proposta_realizada_owner as bigint) as proposta_realizada_owner,\n",
    "\t\tcast(proposta_realizada_owner_name as string) as proposta_realizada_owner_name,\n",
    "\t\tcast(proposta_realizada_stage as string) as proposta_realizada_stage,\n",
    "\t\tcast(clean_for_timestamp_type(modified_time) AS TIMESTAMP) AS modified_time,\n",
    "\t\t\n",
    "\t\t-- Contact and account info\n",
    "\t\tcast(conta_name as string) as conta_name,\n",
    "\t\tcast(id_contacto as bigint) as id_contacto,\n",
    "\t\tcast(contacto_name as bigint) as contacto_name,\n",
    "\t\tcast(deal_name as bigint) as deal_name,\n",
    "\t\t\n",
    "\t\t-- Financial columns (removing € symbol, handling spaces in negative values, handling European decimal format)\n",
    "\t\tcast(clean_for_decimal_type(sub_total) AS DECIMAL(29,2)) AS sub_total,\n",
    "\t\tcast(clean_for_decimal_type(grand_total) AS DECIMAL(29,2)) AS grand_total,\n",
    "\t\tcast(created_by as bigint) as created_by,\n",
    "\t\tcast(modified_by as bigint) as modified_by,\n",
    "\t\tcast(concessao as string) as concessao,\n",
    "\t\tcast(clean_for_decimal_type(preco_base) AS DECIMAL(29,2)) AS preco_base,\n",
    "\t\tcast(clean_for_decimal_type(isv) AS DECIMAL(29,2)) AS isv,\n",
    "\t\tcast(clean_for_decimal_type(pintura) AS DECIMAL(29,2)) AS pintura,\n",
    "\t\tcast(clean_for_decimal_type(base_tributavel) AS DECIMAL(29,2)) AS base_tributavel,\n",
    "\t\tcast(clean_for_decimal_type(legalizacao) AS DECIMAL(29,2)) AS legalizacao,\n",
    "\t\tcast(clean_for_decimal_type(desconto_total) AS DECIMAL(29,2)) AS desconto_total,\n",
    "\t\tcast(clean_for_decimal_type(iuc) AS DECIMAL(29,2)) AS iuc,\n",
    "\t\tcast(clean_for_decimal_type(preco_total) AS DECIMAL(29,2)) AS preco_total,\n",
    "\t\tcast(iva as int) as iva,\n",
    "\t\t\n",
    "\t\t-- Vehicle info\n",
    "\t\tcast(modelo as string) as modelo,\n",
    "\t\tcast(descricao_apoio as string) as descricao_apoio,\n",
    "\t\t\n",
    "\t\tcast(clean_for_decimal_type(apoio_concessionario) as DECIMAL(29,2)) as apoio_concessionario,\n",
    "\t\t\n",
    "\t\tcast(clean_for_decimal_type(apoio_hyundai_portugal) AS DECIMAL(29,2)) AS apoio_hyundai_portugal,\n",
    "\t\tcast(clean_for_decimal_type(apoio_total) AS DECIMAL(29,2)) AS apoio_total,\n",
    "\t\tcast(clean_for_decimal_type(sub_total_com_extras) AS DECIMAL(29,2)) AS sub_total_com_extras,\n",
    "\t\tcast(clean_for_decimal_type(valor_extras) AS DECIMAL(29,2)) AS valor_extras,\n",
    "\t\tcast(clean_for_decimal_type(sub_total_com_desconto) AS DECIMAL(29,2)) AS sub_total_com_desconto,\n",
    "\t\tcast(clean_for_decimal_type(taxa) AS DECIMAL(29,2)) AS taxa,\n",
    "\t\tcast(clean_for_decimal_type(total_final) AS DECIMAL(29,2)) AS total_final,\n",
    "\t\t\n",
    "\t\t-- Status and proposal info\n",
    "\t\tcast(estado_do_pedido as string) as estado_do_pedido,\n",
    "\t\tcast(clean_for_date_type(data_de_criacao_da_proposta) AS DATE) AS data_de_criacao_da_proposta,\n",
    "\t\t\n",
    "\t\tcast(s_g_p_u_ as string) as s_g_p_u_,\n",
    "\t\tcast(codigo_da_proposta as string) as codigo_da_proposta,\n",
    "\t\tcast(descricao_pintura as string) as descricao_pintura,\n",
    "\t\t\n",
    "\t\tcast(clean_for_decimal_type(valor_do_apoio_pedido) AS DECIMAL(29,2)) as valor_do_apoio_pedido,\t\n",
    "\t\tcast(clean_for_decimal_type(pvp) AS DECIMAL(29,2)) as pvp,\n",
    "\n",
    "\t\tcast(clean_for_date_type(data_de_entrega_da_proposta) AS DATE) AS data_de_entrega_da_proposta,\n",
    "\t\tcast(id_conta as bigint) as id_conta,\n",
    "\t\tcast(id_negocio as bigint) as id_negocio,\n",
    "\t\tcast(id_proposta_realizada as bigint) as id_proposta_realizada,\n",
    "\t\t\n",
    "\t\tcast(clean_with_null(data_de_validade_da_proposta) as string) as data_de_validade_da_proposta,\n",
    "\n",
    "\t\tcast(clean_for_decimal_type(desconto_total__c__apoio_de_importador_) AS DECIMAL(29,2)) as desconto_total__c__apoio_de_importador_,\n",
    "\n",
    "\t\t-- Vehicle specification codes\n",
    "\t\tcast(codigo_modelo as string) as codigo_modelo,\n",
    "\t\tcast(sufixo_modelo as string) as sufixo_modelo,\n",
    "\t\tcast(codigo_cor_exterior as bigint) as codigo_cor_exterior,\n",
    "\t\tcast(codigo_cor_interior as bigint) as codigo_cor_interior,\n",
    "\t\tcast(concessionario_owner as string) as concessionario_owner,\n",
    "\t\tcast(clean_for_decimal_type(valor_aprovado) AS DECIMAL(29,2)) AS valor_aprovado,\n",
    "\t\t\n",
    "\t\t-- Dates\n",
    "\t\tcast(clean_for_date_type(data_prevista_matricula) AS DATE) AS data_prevista_matricula,\n",
    "\t\tcast(clean_for_date_type(data_prevista_de_entrega) AS DATE) AS data_prevista_de_entrega,\n",
    "\t\tcast(clean_for_date_type(data_da_conclusao) AS DATE) AS data_da_conclusao,\n",
    "\t\t\n",
    "\t\t-- Installation and keys\n",
    "\t\tcast(instalacao as string) as instalacao,\n",
    "\t\tcast(chave_instalacao_bd_rede as string) as chave_instalacao_bd_rede,\n",
    "\t\tcast(chave_concessao_bd_rede as string) as chave_concessao_bd_rede,\n",
    "\t\tcast(qtd_viaturas as int) as qtd_viaturas,\n",
    "\t\tcast(versao as string) as versao,\n",
    "\t\tcast(cod_proposta as string) as cod_proposta,\n",
    "\t\tcast(codigo_fabricante_cor_interior as string) as codigo_fabricante_cor_interior,\n",
    "\t\tcast(codigo_fabricante_cor_exterior as string) as codigo_fabricante_cor_exterior,\n",
    "\t\tcast(estado_ordering as string) as estado_ordering,\n",
    "\t\t\n",
    "\t\t-- Classification info\n",
    "\t\tcast(id_classe as string) as id_classe,\n",
    "\t\tcast(descricao_classe as string) as descricao_classe,\n",
    "\t\tcast(id_model_group as string) as id_model_group,\n",
    "\t\tcast(descricao_model_group as string) as descricao_model_group,\n",
    "\t\tcast(chave_agrupamento_cliente as string) as chave_agrupamento_cliente,\n",
    "\t\tcast(tipo_cliente as string) as tipo_cliente,\n",
    "\t\tcast(combustivel as string) as combustivel,\n",
    "\t\tcast(id_combustivel as int) as id_combustivel,\n",
    "\t\tcast(id_modelo as int) as id_modelo,\n",
    "\t\tcast(tylacode as string) as tylacode,\n",
    "\t\t\n",
    "\t\t-- Campaign and support values\n",
    "\t\tcast(clean_for_decimal_type(valor_campanha) AS DECIMAL(29,2)) AS valor_campanha,\n",
    "\t\tcast(clean_for_decimal_type(apoio_campanha_hyundai) AS DECIMAL(29,2)) AS apoio_campanha_hyundai,\n",
    "\t\tcast(clean_for_decimal_type(apoio_financiamento_cetelem) AS DECIMAL(29,2)) AS apoio_financiamento_cetelem,\n",
    "\t\tcast(clean_for_decimal_type(apoio_retoma_hyundai) AS DECIMAL(29,2)) AS apoio_retoma_hyundai,\n",
    "\t\tcast(clean_for_decimal_type(comparticipacao_campanha_da_concessao) AS DECIMAL(29,2)) AS comparticipacao_campanha_da_concessao,\n",
    "\t\tcast(clean_for_decimal_type(comparticipacao_retoma_concessao) AS DECIMAL(29,2)) AS comparticipacao_retoma_concessao,\n",
    "\t\t\n",
    "\t\t-- Additional info\n",
    "\t\tcast(forma_de_pagamento as string) as forma_de_pagamento,\n",
    "\t\tcast(categoria_proposta as string) as categoria_proposta,\n",
    "\t\tcast(gestor_area as string) as gestor_area,\n",
    "\t\tcast(clean_for_decimal_type(margem_frota_eni) AS DECIMAL(29,2)) AS margem_frota_eni,\n",
    "\t\tcast(clean_for_decimal_type(valor_base) AS DECIMAL(29,2)) AS valor_base,\n",
    "\t\t\n",
    "\t\t-- Fivetran metadata\n",
    "\t\tcast(_fivetran_index as bigint) as _fivetran_index,\n",
    "\t\tcast(_fivetran_deleted as boolean) as _fivetran_deleted,\n",
    "\t\tcast(_fivetran_synced as timestamp) as _fivetran_synced\n",
    "\n",
    "FROM workspace.sc_bronze_pbs2025bacapstoneg2u2.propostas_realizadas;"
   ]
  },
  {
   "cell_type": "code",
   "execution_count": 0,
   "metadata": {
    "application/vnd.databricks.v1+cell": {
     "cellMetadata": {},
     "inputWidgets": {},
     "nuid": "200c20cf-c278-43ce-9808-d53db4180d80",
     "showTitle": false,
     "tableResultSettingsMap": {},
     "title": ""
    }
   },
   "outputs": [],
   "source": [
    "%sql\n",
    "CREATE OR REPLACE TABLE workspace.sc_silver.viaturas \n",
    "SELECT * FROM workspace.sc_bronze_pbs2025bacapstoneg2u2.viaturas;"
   ]
  },
  {
   "cell_type": "code",
   "execution_count": 0,
   "metadata": {
    "application/vnd.databricks.v1+cell": {
     "cellMetadata": {},
     "inputWidgets": {},
     "nuid": "ba8c0a6c-f6d1-41cc-a3ae-552efeeb9d8f",
     "showTitle": false,
     "tableResultSettingsMap": {},
     "title": ""
    }
   },
   "outputs": [],
   "source": [
    "%sql\n",
    "CREATE OR REPLACE TABLE workspace.sc_silver.viaturas_demo \n",
    "SELECT * \n",
    "  FROM workspace.sc_bronze_pbs2025bacapstoneg2u2.viaturas_demo;"
   ]
  }
 ],
 "metadata": {
  "application/vnd.databricks.v1+notebook": {
   "computePreferences": null,
   "dashboards": [],
   "environmentMetadata": {
    "base_environment": "",
    "environment_version": "3"
   },
   "inputWidgetPreferences": null,
   "language": "python",
   "notebookMetadata": {
    "mostRecentlyExecutedCommandWithImplicitDF": {
     "commandId": 4630231477971708,
     "dataframes": [
      "_sqldf"
     ]
    },
    "pythonIndentUnit": 4
   },
   "notebookName": "notebook_create_or_replace",
   "widgets": {}
  },
  "language_info": {
   "name": "python"
  }
 },
 "nbformat": 4,
 "nbformat_minor": 0
}
