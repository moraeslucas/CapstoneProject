{
 "cells": [
  {
   "cell_type": "code",
   "execution_count": 0,
   "metadata": {
    "application/vnd.databricks.v1+cell": {
     "cellMetadata": {
      "byteLimit": 2048000,
      "rowLimit": 10000
     },
     "inputWidgets": {},
     "nuid": "4e4dc5d5-80aa-462e-8b07-66db2f9cbc90",
     "showTitle": false,
     "tableResultSettingsMap": {},
     "title": ""
    }
   },
   "outputs": [],
   "source": [
    "%pip install sqlalchemy"
   ]
  },
  {
   "cell_type": "code",
   "execution_count": 0,
   "metadata": {
    "application/vnd.databricks.v1+cell": {
     "cellMetadata": {
      "byteLimit": 2048000,
      "rowLimit": 10000
     },
     "inputWidgets": {},
     "nuid": "b4cdf8af-dbb5-4166-9f85-54edb81394e1",
     "showTitle": false,
     "tableResultSettingsMap": {},
     "title": ""
    }
   },
   "outputs": [],
   "source": [
    "import pandas as pd\n",
    "\n",
    "# Load the table into a Spark DataFrame\n",
    "df = spark.table(\"workspace.sc_silver.leads_pbs\")\n",
    "\n",
    "# Convert the Spark DataFrame to a Pandas DataFrame\n",
    "pandas_df = df.toPandas()\n",
    "\n",
    "# Ensure all columns are strings\n",
    "pandas_df = pandas_df.astype(str)\n",
    "\n",
    "# Loop through columns and get stats\n",
    "for col in pandas_df.columns:\n",
    "    print(f\"\\n--- Column: {col} ---\")\n",
    "    print(f\"Unique values: {pandas_df[col].nunique()}\")\n",
    "    print(f\"Most common value: {pandas_df[col].mode().iloc[0]}\")\n",
    "    print(\"Top 5 most repeated values:\")\n",
    "    print(pandas_df[col].value_counts().head(5))"
   ]
  },
  {
   "cell_type": "code",
   "execution_count": 0,
   "metadata": {
    "application/vnd.databricks.v1+cell": {
     "cellMetadata": {
      "byteLimit": 2048000,
      "rowLimit": 10000
     },
     "inputWidgets": {},
     "nuid": "59220400-9419-4e31-8448-cded92ce9657",
     "showTitle": false,
     "tableResultSettingsMap": {},
     "title": ""
    }
   },
   "outputs": [],
   "source": [
    "# Load the table into a Spark DataFrame\n",
    "df = spark.table(\"workspace.sc_silver.deals\")\n",
    "\n",
    "# Convert the Spark DataFrame to a Pandas DataFrame\n",
    "pandas_df = df.toPandas()\n",
    "\n",
    "# Ensure all columns are strings\n",
    "pandas_df = pandas_df.astype(str)\n",
    "\n",
    "# Loop through columns and get stats\n",
    "for col in pandas_df.columns:\n",
    "    print(f\"\\n--- Column: {col} ---\")\n",
    "    print(f\"Unique values: {pandas_df[col].nunique()}\")\n",
    "    print(f\"Most common value: {pandas_df[col].mode().iloc[0]}\")\n",
    "    print(\"Top 5 most repeated values:\")\n",
    "    print(pandas_df[col].value_counts().head(5))"
   ]
  }
 ],
 "metadata": {
  "application/vnd.databricks.v1+notebook": {
   "computePreferences": null,
   "dashboards": [],
   "environmentMetadata": {
    "base_environment": "",
    "environment_version": "2"
   },
   "inputWidgetPreferences": null,
   "language": "python",
   "notebookMetadata": {
    "pythonIndentUnit": 4
   },
   "notebookName": "Testes JM 100825",
   "widgets": {}
  },
  "language_info": {
   "name": "python"
  }
 },
 "nbformat": 4,
 "nbformat_minor": 0
}
